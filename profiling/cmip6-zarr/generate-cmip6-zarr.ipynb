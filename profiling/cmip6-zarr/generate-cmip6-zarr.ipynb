{
 "cells": [
  {
   "cell_type": "code",
   "execution_count": 1,
   "id": "6376bec4",
   "metadata": {},
   "outputs": [],
   "source": [
    "import apache_beam as beam\n",
    "from cmip6_downscaling.methods.common.utils import calc_auspicious_chunks_dict\n",
    "import fsspec\n",
    "import os\n",
    "from pangeo_forge_recipes.patterns import FilePattern, ConcatDim, MergeDim\n",
    "from pangeo_forge_recipes.transforms import OpenURLWithFSSpec, OpenWithXarray, StoreToZarr\n",
    "import re\n",
    "import s3fs\n",
    "import xarray as xr"
   ]
  },
  {
   "attachments": {},
   "cell_type": "markdown",
   "id": "97280646",
   "metadata": {},
   "source": [
    "Note: This is adapted from https://github.com/carbonplan/benchmark-maps/blob/datasets/stores/01b_cmip6_netcdf_to_zarr.ipynb."
   ]
  },
  {
   "cell_type": "code",
   "execution_count": 2,
   "id": "6e2abcd8",
   "metadata": {
    "tags": [
     "parameters"
    ]
   },
   "outputs": [],
   "source": [
    "#parameters\n",
    "temporal_resolution = \"daily\"\n",
    "model = \"GISS-E2-1-G\"\n",
    "variable = \"tas\"\n",
    "anon=True"
   ]
  },
  {
   "cell_type": "code",
   "execution_count": 3,
   "id": "4d4b5504-7275-4949-9507-ef8c8efd55aa",
   "metadata": {},
   "outputs": [],
   "source": [
    "# Initiate fsspec filesystems for reading and writing\n",
    "s3_path = f\"s3://nex-gddp-cmip6/NEX-GDDP-CMIP6/{model}/historical/r1i1p1*/{variable}/*\"\n",
    "fs_read = fsspec.filesystem(\"s3\", anon=anon, skip_instance_cache=False)\n",
    "fs_write = fsspec.filesystem(\"\")"
   ]
  },
  {
   "cell_type": "code",
   "execution_count": 4,
   "id": "13e67843-b173-4d68-b045-9da28dd68eb6",
   "metadata": {},
   "outputs": [
    {
     "name": "stdout",
     "output_type": "stream",
     "text": [
      "65 discovered from s3://nex-gddp-cmip6/NEX-GDDP-CMIP6/GISS-E2-1-G/historical/r1i1p1*/tas/*\n"
     ]
    }
   ],
   "source": [
    "# Retrieve list of available months\n",
    "files_paths = fs_read.glob(s3_path)\n",
    "print(f\"{len(files_paths)} discovered from {s3_path}\")"
   ]
  },
  {
   "cell_type": "code",
   "execution_count": 5,
   "id": "af19a04e-77e6-4dc3-b023-7af0c19ca45f",
   "metadata": {},
   "outputs": [
    {
     "data": {
      "text/plain": [
       "'nex-gddp-cmip6/NEX-GDDP-CMIP6/GISS-E2-1-G/historical/r1i1p1f2/tas/tas_day_GISS-E2-1-G_historical_r1i1p1f2_gn_1950.nc'"
      ]
     },
     "execution_count": 5,
     "metadata": {},
     "output_type": "execute_result"
    }
   ],
   "source": [
    "files_paths[0]"
   ]
  },
  {
   "cell_type": "code",
   "execution_count": 6,
   "id": "af346f35",
   "metadata": {},
   "outputs": [],
   "source": [
    "fs_s3 = s3fs.S3FileSystem(anon=True)\n",
    "filepath = f's3://{files_paths[0]}'\n",
    "f = fs_s3.open(filepath, mode='rb')\n",
    "ds = xr.open_dataset(f)"
   ]
  },
  {
   "cell_type": "code",
   "execution_count": 7,
   "id": "839399e9",
   "metadata": {},
   "outputs": [
    {
     "name": "stdout",
     "output_type": "stream",
     "text": [
      "<xarray.Dataset>\n",
      "Dimensions:  (time: 365, lat: 600, lon: 1440)\n",
      "Coordinates:\n",
      "  * time     (time) object 1950-01-01 12:00:00 ... 1950-12-31 12:00:00\n",
      "  * lat      (lat) float64 -59.88 -59.62 -59.38 -59.12 ... 89.38 89.62 89.88\n",
      "  * lon      (lon) float64 0.125 0.375 0.625 0.875 ... 359.1 359.4 359.6 359.9\n",
      "Data variables:\n",
      "    tas      (time, lat, lon) float32 ...\n",
      "Attributes: (12/23)\n",
      "    downscalingModel:      BCSD\n",
      "    activity:              NEX-GDDP-CMIP6\n",
      "    contact:               Dr. Rama Nemani: rama.nemani@nasa.gov, Dr. Bridget...\n",
      "    Conventions:           CF-1.7\n",
      "    creation_date:         2021-10-04T18:41:40.796912+00:00\n",
      "    frequency:             day\n",
      "    ...                    ...\n",
      "    history:               2021-10-04T18:41:40.796912+00:00: install global a...\n",
      "    disclaimer:            This data is considered provisional and subject to...\n",
      "    external_variables:    areacella\n",
      "    cmip6_source_id:       GISS-E2-1-G\n",
      "    cmip6_institution_id:  NASA-GISS\n",
      "    cmip6_license:         CC-BY-SA 4.0\n"
     ]
    }
   ],
   "source": [
    "print(ds)"
   ]
  },
  {
   "cell_type": "code",
   "execution_count": 8,
   "id": "d03fbe5e",
   "metadata": {},
   "outputs": [],
   "source": [
    "target_chunks = calc_auspicious_chunks_dict(ds[variable], chunk_dims=('time',))\n",
    "\n",
    "def format_function(time):\n",
    "    pattern = r\"\\b\\d{4}\\b\"\n",
    "    return re.sub(pattern, str(time), filepath)\n",
    "\n",
    "years = list(range(1950, 1952))\n",
    "time_dim = ConcatDim(\"time\", keys=years)\n",
    "\n",
    "pattern = FilePattern(format_function, time_dim, file_type=\"netcdf4\")\n",
    "pattern = FilePattern.prune(pattern, nkeep=2)\n"
   ]
  },
  {
   "cell_type": "code",
   "execution_count": 9,
   "id": "25d9a095",
   "metadata": {},
   "outputs": [
    {
     "name": "stdout",
     "output_type": "stream",
     "text": [
      "Writing to s3://nasa-eodc-data-store/CMIP6_daily_GISS-E2-1-G_tas.zarr\n",
      "Using <generator object FilePattern.items at 0x13f2575f0>\n"
     ]
    }
   ],
   "source": [
    "bucket = 'nasa-eodc-data-store'\n",
    "target_root = f\"s3://{bucket}/\"\n",
    "store_name = f\"CMIP6_{temporal_resolution}_{model}_{variable}.zarr\"\n",
    "target_store = os.path.join(target_root, store_name)\n",
    "print(f\"Writing to {target_store}\")\n",
    "print(f\"Using {pattern.items()}\")"
   ]
  },
  {
   "cell_type": "code",
   "execution_count": 10,
   "id": "d8570ee3",
   "metadata": {},
   "outputs": [],
   "source": [
    "transforms = (\n",
    "    beam.Create(pattern.items())\n",
    "    | OpenURLWithFSSpec(open_kwargs={'anon': True})\n",
    "    | OpenWithXarray(file_type=pattern.file_type)\n",
    "    | StoreToZarr(\n",
    "        store_name=store_name,\n",
    "        target_root=target_root,\n",
    "        combine_dims=pattern.combine_dim_keys,\n",
    "        target_chunks=target_chunks,\n",
    "    )\n",
    ")"
   ]
  },
  {
   "cell_type": "code",
   "execution_count": 11,
   "id": "487a3ecf",
   "metadata": {},
   "outputs": [
    {
     "data": {
      "application/javascript": "\n        if (typeof window.interactive_beam_jquery == 'undefined') {\n          var jqueryScript = document.createElement('script');\n          jqueryScript.src = 'https://code.jquery.com/jquery-3.4.1.slim.min.js';\n          jqueryScript.type = 'text/javascript';\n          jqueryScript.onload = function() {\n            var datatableScript = document.createElement('script');\n            datatableScript.src = 'https://cdn.datatables.net/1.10.20/js/jquery.dataTables.min.js';\n            datatableScript.type = 'text/javascript';\n            datatableScript.onload = function() {\n              window.interactive_beam_jquery = jQuery.noConflict(true);\n              window.interactive_beam_jquery(document).ready(function($){\n                \n              });\n            }\n            document.head.appendChild(datatableScript);\n          };\n          document.head.appendChild(jqueryScript);\n        } else {\n          window.interactive_beam_jquery(document).ready(function($){\n            \n          });\n        }"
     },
     "metadata": {},
     "output_type": "display_data"
    }
   ],
   "source": [
    "with beam.Pipeline() as p:\n",
    "    p | transforms"
   ]
  },
  {
   "cell_type": "code",
   "execution_count": 12,
   "id": "bf229ec1",
   "metadata": {},
   "outputs": [
    {
     "name": "stdout",
     "output_type": "stream",
     "text": [
      "<xarray.Dataset>\n",
      "Dimensions:  (lat: 600, lon: 1440, time: 730)\n",
      "Coordinates:\n",
      "  * lat      (lat) float64 -59.88 -59.62 -59.38 -59.12 ... 89.38 89.62 89.88\n",
      "  * lon      (lon) float64 0.125 0.375 0.625 0.875 ... 359.1 359.4 359.6 359.9\n",
      "  * time     (time) object 1950-01-01 12:00:00 ... 1950-12-31 12:00:00\n",
      "Data variables:\n",
      "    tas      (time, lat, lon) float32 ...\n",
      "Attributes: (12/23)\n",
      "    Conventions:           CF-1.7\n",
      "    activity:              NEX-GDDP-CMIP6\n",
      "    cmip6_institution_id:  NASA-GISS\n",
      "    cmip6_license:         CC-BY-SA 4.0\n",
      "    cmip6_source_id:       GISS-E2-1-G\n",
      "    contact:               Dr. Rama Nemani: rama.nemani@nasa.gov, Dr. Bridget...\n",
      "    ...                    ...\n",
      "    scenario:              historical\n",
      "    source:                BCSD\n",
      "    title:                 GISS-E2-1-G, r1i1p1f2, historical, global downscal...\n",
      "    tracking_id:           25d6baa3-0404-4eba-a3f1-afddbf69d4cc\n",
      "    variant_label:         r1i1p1f2\n",
      "    version:               1.0\n"
     ]
    }
   ],
   "source": [
    "ds = xr.open_dataset(target_store, engine=\"zarr\")\n",
    "print(ds)"
   ]
  }
 ],
 "metadata": {
  "kernelspec": {
   "display_name": "venv-profiling",
   "language": "python",
   "name": "venv-profiling"
  },
  "language_info": {
   "codemirror_mode": {
    "name": "ipython",
    "version": 3
   },
   "file_extension": ".py",
   "mimetype": "text/x-python",
   "name": "python",
   "nbconvert_exporter": "python",
   "pygments_lexer": "ipython3",
   "version": "3.9.15"
  }
 },
 "nbformat": 4,
 "nbformat_minor": 5
}
