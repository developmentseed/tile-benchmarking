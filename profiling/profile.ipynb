{
 "cells": [
  {
   "cell_type": "code",
   "execution_count": 1,
   "id": "da1d3144",
   "metadata": {},
   "outputs": [],
   "source": [
    "# Import libraries\n",
    "## for profiling\n",
    "from profiler.main import profile\n",
    "\n",
    "# for titiler-xarray\n",
    "from typing import Any\n",
    "import morecantile\n",
    "\n",
    "# for titiler-pgstac\n",
    "from titiler.pgstac.mosaic import PGSTACBackend\n",
    "from typing import Any, Dict, List, Tuple\n",
    "from rio_tiler.mosaic import mosaic_reader\n",
    "from rio_tiler.models import ImageData\n",
    "from geojson_pydantic import Polygon\n",
    "\n",
    "# Only if wanting to see a picture\n",
    "import io\n",
    "from PIL import Image"
   ]
  },
  {
   "cell_type": "code",
   "execution_count": 2,
   "id": "1e0e7aeb",
   "metadata": {},
   "outputs": [],
   "source": [
    "import os\n",
    "os.environ['AWS_PROFILE'] = 'veda-dev'"
   ]
  },
  {
   "cell_type": "code",
   "execution_count": 3,
   "id": "a53106ea",
   "metadata": {},
   "outputs": [],
   "source": [
    "xyz_tile = (0,0,0)"
   ]
  },
  {
   "cell_type": "markdown",
   "id": "8a131851",
   "metadata": {},
   "source": [
    "## Profile titiler-pgstac"
   ]
  },
  {
   "cell_type": "code",
   "execution_count": 4,
   "id": "045ea6a0",
   "metadata": {},
   "outputs": [],
   "source": [
    "%load_ext autoreload\n",
    "%autoreload\n",
    "import pgstac.profile_pgstac as profile_pgstac "
   ]
  },
  {
   "cell_type": "markdown",
   "id": "08d15eaf",
   "metadata": {},
   "source": [
    "### We can also run profiling via tile bench"
   ]
  },
  {
   "cell_type": "code",
   "execution_count": 5,
   "id": "eec66f71",
   "metadata": {},
   "outputs": [],
   "source": [
    "#!pip install tilebench\n",
    "#!tilebench profile s3://climatedashboard-data/cmip6/monthly/CMIP6_ensemble_median/tas/tas_month_ensemble-median_historical_195004.tif \\\n",
    "#    --tile 0-0-0 --add-cprofile --add-stdout --config GDAL_DISABLE_READDIR_ON_OPEN=EMPTY_DIR --config CPL_TIMESTAMP=ON | jq"
   ]
  },
  {
   "cell_type": "code",
   "execution_count": 6,
   "id": "ed8b8d9f",
   "metadata": {},
   "outputs": [
    {
     "name": "stdout",
     "output_type": "stream",
     "text": [
      "Tile exists time: 4.04\n",
      "In rasterio WarpedVRT __ENTER__\n",
      "time reading WarpedVRT: 571.6\n",
      "time creating ImageData: 0.02\n",
      "time for reader.part: 1001.74\n",
      "{'pgstac-search': 71.41, 'get_tile': [[0.02, 3363.42]], 'mosaic': 3366.01}\n"
     ]
    },
    {
     "data": {
      "text/plain": [
       "{'cprofile': ['   ncalls  tottime  percall  cumtime  percall filename:lineno(function)',\n",
       "  \"       11    3.461    0.315    3.461    0.315 {method 'acquire' of '_thread.lock' objects}\",\n",
       "  '        4    0.084    0.021    0.086    0.021 connection.py:949(wait)',\n",
       "  '        2    0.001    0.000    0.001    0.000 core.py:3433(__setmask__)',\n",
       "  '        8    0.001    0.000    0.001    0.000 connection.py:434(_exec_command)']}"
      ]
     },
     "execution_count": 6,
     "metadata": {},
     "output_type": "execute_result"
    }
   ],
   "source": [
    "query = {\n",
    "  \"collections\": [\n",
    "    \"CMIP6_ensemble_median_TAS\"\n",
    "  ],\n",
    "  \"filter\": {\n",
    "    \"op\": \"t_intersects\",\n",
    "    \"args\": [\n",
    "      {\n",
    "        \"property\": \"datetime\"\n",
    "      },\n",
    "      {\n",
    "        \"interval\": [\n",
    "          \"1950-04-01T00:00:00Z\",\n",
    "          #\"1950-05-01T00:00:00Z\"\n",
    "        ]\n",
    "      }\n",
    "    ]\n",
    "  },\n",
    "  \"filter-lang\": \"cql2-json\"\n",
    "}\n",
    "\n",
    "image_and_assets, logs = profile_pgstac.tile(*xyz_tile, query=dict(query))\n",
    "logs"
   ]
  },
  {
   "cell_type": "markdown",
   "id": "6021ba14",
   "metadata": {},
   "source": [
    "## Profile titiler-xarray"
   ]
  },
  {
   "cell_type": "code",
   "execution_count": 7,
   "id": "d60aad91",
   "metadata": {},
   "outputs": [
    {
     "name": "stdout",
     "output_type": "stream",
     "text": [
      "The autoreload extension is already loaded. To reload it, use:\n",
      "  %reload_ext autoreload\n"
     ]
    }
   ],
   "source": [
    "%load_ext autoreload\n",
    "%autoreload\n",
    "import xarray_tile_reader"
   ]
  },
  {
   "cell_type": "code",
   "execution_count": 8,
   "id": "92cd9091",
   "metadata": {},
   "outputs": [
    {
     "name": "stderr",
     "output_type": "stream",
     "text": [
      "/Users/aimeebarciauskas/github/developmentseed/tile-benchmarking/profiling/zarr_reader.py:39: UserWarning: Variable(s) referenced in cell_measures not in variables: ['areacella']\n",
      "  ds = xarray.open_dataset(src_path, **xr_open_args)\n"
     ]
    },
    {
     "name": "stdout",
     "output_type": "stream",
     "text": [
      "Time elapsed for xarray.open_datset: 796.16\n",
      "Time elapsed for writing CRS: 4.64\n",
      "Time elapsed for time slice: 0.84829\n",
      "Time elapsed for dimension arrangement and array pre-processing: 19.35\n"
     ]
    },
    {
     "ename": "TileOutsideBounds",
     "evalue": "Tile 0/0/0 is outside bounds",
     "output_type": "error",
     "traceback": [
      "\u001b[0;31m---------------------------------------------------------------------------\u001b[0m",
      "\u001b[0;31mTileOutsideBounds\u001b[0m                         Traceback (most recent call last)",
      "Cell \u001b[0;32mIn[8], line 1\u001b[0m\n\u001b[0;32m----> 1\u001b[0m image_and_assets, logs \u001b[38;5;241m=\u001b[39m \u001b[43mxarray_tile_reader\u001b[49m\u001b[38;5;241;43m.\u001b[39;49m\u001b[43mtile\u001b[49m\u001b[43m(\u001b[49m\n\u001b[1;32m      2\u001b[0m \u001b[43m    \u001b[49m\u001b[38;5;124;43m\"\u001b[39;49m\u001b[38;5;124;43mcmip6-reference/combined_cmip6_kerchunk.json\u001b[39;49m\u001b[38;5;124;43m\"\u001b[39;49m\u001b[43m,\u001b[49m\u001b[43m \u001b[49m\n\u001b[1;32m      3\u001b[0m \u001b[43m    \u001b[49m\u001b[38;5;241;43m*\u001b[39;49m\u001b[43mxyz_tile\u001b[49m\u001b[43m,\u001b[49m\n\u001b[1;32m      4\u001b[0m \u001b[43m    \u001b[49m\u001b[43mreference\u001b[49m\u001b[38;5;241;43m=\u001b[39;49m\u001b[38;5;28;43;01mTrue\u001b[39;49;00m\u001b[43m,\u001b[49m\n\u001b[1;32m      5\u001b[0m \u001b[43m    \u001b[49m\u001b[43mvariable\u001b[49m\u001b[38;5;241;43m=\u001b[39;49m\u001b[38;5;124;43m\"\u001b[39;49m\u001b[38;5;124;43mtas\u001b[39;49m\u001b[38;5;124;43m\"\u001b[39;49m\u001b[43m,\u001b[49m\n\u001b[1;32m      6\u001b[0m \u001b[43m)\u001b[49m\n",
      "File \u001b[0;32m~/github/developmentseed/tile-benchmarking/profiling/profiler/main.py:90\u001b[0m, in \u001b[0;36mprofile.<locals>.wrapper.<locals>.wrapped_f\u001b[0;34m(*args, **kwargs)\u001b[0m\n\u001b[1;32m     87\u001b[0m \u001b[38;5;28;01mwith\u001b[39;00m Timer() \u001b[38;5;28;01mas\u001b[39;00m t:\n\u001b[1;32m     88\u001b[0m     \u001b[38;5;66;03m# cProfile is a simple Python profiling\u001b[39;00m\n\u001b[1;32m     89\u001b[0m     prof \u001b[38;5;241m=\u001b[39m cProfile\u001b[38;5;241m.\u001b[39mProfile()\n\u001b[0;32m---> 90\u001b[0m     retval \u001b[38;5;241m=\u001b[39m \u001b[43mprof\u001b[49m\u001b[38;5;241;43m.\u001b[39;49m\u001b[43mruncall\u001b[49m\u001b[43m(\u001b[49m\u001b[43mfunc\u001b[49m\u001b[43m,\u001b[49m\u001b[43m \u001b[49m\u001b[38;5;241;43m*\u001b[39;49m\u001b[43margs\u001b[49m\u001b[43m,\u001b[49m\u001b[43m \u001b[49m\u001b[38;5;241;43m*\u001b[39;49m\u001b[38;5;241;43m*\u001b[39;49m\u001b[43mkwargs\u001b[49m\u001b[43m)\u001b[49m\n\u001b[1;32m     91\u001b[0m     profile_stream \u001b[38;5;241m=\u001b[39m StringIO()\n\u001b[1;32m     92\u001b[0m     ps \u001b[38;5;241m=\u001b[39m pstats\u001b[38;5;241m.\u001b[39mStats(prof, stream\u001b[38;5;241m=\u001b[39mprofile_stream)\n",
      "File \u001b[0;32m~/miniconda3/lib/python3.9/cProfile.py:109\u001b[0m, in \u001b[0;36mProfile.runcall\u001b[0;34m(self, func, *args, **kw)\u001b[0m\n\u001b[1;32m    107\u001b[0m \u001b[38;5;28mself\u001b[39m\u001b[38;5;241m.\u001b[39menable()\n\u001b[1;32m    108\u001b[0m \u001b[38;5;28;01mtry\u001b[39;00m:\n\u001b[0;32m--> 109\u001b[0m     \u001b[38;5;28;01mreturn\u001b[39;00m \u001b[43mfunc\u001b[49m\u001b[43m(\u001b[49m\u001b[38;5;241;43m*\u001b[39;49m\u001b[43margs\u001b[49m\u001b[43m,\u001b[49m\u001b[43m \u001b[49m\u001b[38;5;241;43m*\u001b[39;49m\u001b[38;5;241;43m*\u001b[39;49m\u001b[43mkw\u001b[49m\u001b[43m)\u001b[49m\n\u001b[1;32m    110\u001b[0m \u001b[38;5;28;01mfinally\u001b[39;00m:\n\u001b[1;32m    111\u001b[0m     \u001b[38;5;28mself\u001b[39m\u001b[38;5;241m.\u001b[39mdisable()\n",
      "File \u001b[0;32m~/github/developmentseed/tile-benchmarking/profiling/xarray_tile_reader.py:111\u001b[0m, in \u001b[0;36mtile\u001b[0;34m(src_path, x, y, z, variable, time_slice, **kwargs)\u001b[0m\n\u001b[1;32m    108\u001b[0m \u001b[38;5;28mprint\u001b[39m(\u001b[38;5;124mf\u001b[39m\u001b[38;5;124m\"\u001b[39m\u001b[38;5;124mTime elapsed for dimension arrangement and array pre-processing: \u001b[39m\u001b[38;5;132;01m{\u001b[39;00m\u001b[38;5;28mround\u001b[39m(t\u001b[38;5;241m.\u001b[39melapsed\u001b[38;5;250m \u001b[39m\u001b[38;5;241m*\u001b[39m\u001b[38;5;250m \u001b[39m\u001b[38;5;241m1000\u001b[39m,\u001b[38;5;250m \u001b[39m\u001b[38;5;241m2\u001b[39m)\u001b[38;5;132;01m}\u001b[39;00m\u001b[38;5;124m\"\u001b[39m)\n\u001b[1;32m    110\u001b[0m \u001b[38;5;28;01mwith\u001b[39;00m XarrayTileReader(dataarray) \u001b[38;5;28;01mas\u001b[39;00m src_dst:\n\u001b[0;32m--> 111\u001b[0m     \u001b[38;5;28;01mreturn\u001b[39;00m \u001b[43msrc_dst\u001b[49m\u001b[38;5;241;43m.\u001b[39;49m\u001b[43mtile\u001b[49m\u001b[43m(\u001b[49m\u001b[43mx\u001b[49m\u001b[43m,\u001b[49m\u001b[43m \u001b[49m\u001b[43my\u001b[49m\u001b[43m,\u001b[49m\u001b[43m \u001b[49m\u001b[43mz\u001b[49m\u001b[43m)\u001b[49m\n",
      "File \u001b[0;32m~/github/developmentseed/tile-benchmarking/profiling/xarray_tile_reader.py:54\u001b[0m, in \u001b[0;36mXarrayTileReader.tile\u001b[0;34m(self, tile_x, tile_y, tile_z, tilesize, resampling_method, auto_expand)\u001b[0m\n\u001b[1;32m     39\u001b[0m \u001b[38;5;250m\u001b[39m\u001b[38;5;124;03m\"\"\"Read a Web Map tile from a dataset.\u001b[39;00m\n\u001b[1;32m     40\u001b[0m \n\u001b[1;32m     41\u001b[0m \u001b[38;5;124;03mArgs:\u001b[39;00m\n\u001b[0;32m   (...)\u001b[0m\n\u001b[1;32m     51\u001b[0m \n\u001b[1;32m     52\u001b[0m \u001b[38;5;124;03m\"\"\"\u001b[39;00m\n\u001b[1;32m     53\u001b[0m \u001b[38;5;28;01mif\u001b[39;00m \u001b[38;5;129;01mnot\u001b[39;00m \u001b[38;5;28mself\u001b[39m\u001b[38;5;241m.\u001b[39mtile_exists(tile_x, tile_y, tile_z):\n\u001b[0;32m---> 54\u001b[0m     \u001b[38;5;28;01mraise\u001b[39;00m TileOutsideBounds(\n\u001b[1;32m     55\u001b[0m         \u001b[38;5;124mf\u001b[39m\u001b[38;5;124m\"\u001b[39m\u001b[38;5;124mTile \u001b[39m\u001b[38;5;132;01m{\u001b[39;00mtile_z\u001b[38;5;132;01m}\u001b[39;00m\u001b[38;5;124m/\u001b[39m\u001b[38;5;132;01m{\u001b[39;00mtile_x\u001b[38;5;132;01m}\u001b[39;00m\u001b[38;5;124m/\u001b[39m\u001b[38;5;132;01m{\u001b[39;00mtile_y\u001b[38;5;132;01m}\u001b[39;00m\u001b[38;5;124m is outside bounds\u001b[39m\u001b[38;5;124m\"\u001b[39m\n\u001b[1;32m     56\u001b[0m     )\n\u001b[1;32m     58\u001b[0m tile_bounds \u001b[38;5;241m=\u001b[39m \u001b[38;5;28mself\u001b[39m\u001b[38;5;241m.\u001b[39mtms\u001b[38;5;241m.\u001b[39mxy_bounds(Tile(x\u001b[38;5;241m=\u001b[39mtile_x, y\u001b[38;5;241m=\u001b[39mtile_y, z\u001b[38;5;241m=\u001b[39mtile_z))\n\u001b[1;32m     60\u001b[0m \u001b[38;5;66;03m# Create source array by clipping the xarray dataset to extent of the tile.\u001b[39;00m\n",
      "\u001b[0;31mTileOutsideBounds\u001b[0m: Tile 0/0/0 is outside bounds"
     ]
    }
   ],
   "source": [
    "image_and_assets, logs = xarray_tile_reader.tile(\n",
    "    \"cmip6-reference/combined_cmip6_kerchunk.json\", \n",
    "    *xyz_tile,\n",
    "    reference=True,\n",
    "    variable=\"tas\",\n",
    ")"
   ]
  },
  {
   "cell_type": "code",
   "execution_count": null,
   "id": "88451037",
   "metadata": {},
   "outputs": [],
   "source": [
    "content = image_and_assets.render(\n",
    "    img_format='PNG'\n",
    ")\n",
    "\n",
    "im = Image.open(io.BytesIO(content))\n",
    "im"
   ]
  },
  {
   "cell_type": "code",
   "execution_count": null,
   "id": "47759791",
   "metadata": {},
   "outputs": [],
   "source": []
  }
 ],
 "metadata": {
  "kernelspec": {
   "display_name": "venv-profiling",
   "language": "python",
   "name": "venv-profiling"
  },
  "language_info": {
   "codemirror_mode": {
    "name": "ipython",
    "version": 3
   },
   "file_extension": ".py",
   "mimetype": "text/x-python",
   "name": "python",
   "nbconvert_exporter": "python",
   "pygments_lexer": "ipython3",
   "version": "3.9.7"
  }
 },
 "nbformat": 4,
 "nbformat_minor": 5
}
