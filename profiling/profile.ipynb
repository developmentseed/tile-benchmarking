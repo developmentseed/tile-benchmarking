{
 "cells": [
  {
   "cell_type": "code",
   "execution_count": 1,
   "id": "da1d3144",
   "metadata": {},
   "outputs": [],
   "source": [
    "# Import libraries\n",
    "## for profiling\n",
    "from profiler.main import profile\n",
    "\n",
    "# for titiler-xarray\n",
    "from typing import Any\n",
    "import morecantile\n",
    "\n",
    "# for titiler-pgstac\n",
    "from titiler.pgstac.mosaic import PGSTACBackend\n",
    "from typing import Any, Dict, List, Tuple\n",
    "from rio_tiler.mosaic import mosaic_reader\n",
    "from rio_tiler.models import ImageData\n",
    "from geojson_pydantic import Polygon\n",
    "\n",
    "# Only if wanting to see a picture\n",
    "import io\n",
    "from PIL import Image"
   ]
  },
  {
   "cell_type": "code",
   "execution_count": 2,
   "id": "1e0e7aeb",
   "metadata": {},
   "outputs": [],
   "source": [
    "import os\n",
    "os.environ['AWS_PROFILE'] = 'veda-dev'"
   ]
  },
  {
   "cell_type": "code",
   "execution_count": 3,
   "id": "a53106ea",
   "metadata": {},
   "outputs": [],
   "source": [
    "xyz_tile = (0,0,0)"
   ]
  },
  {
   "cell_type": "markdown",
   "id": "8a131851",
   "metadata": {},
   "source": [
    "## Profile titiler-pgstac"
   ]
  },
  {
   "cell_type": "code",
   "execution_count": 4,
   "id": "045ea6a0",
   "metadata": {},
   "outputs": [],
   "source": [
    "%load_ext autoreload\n",
    "%autoreload\n",
    "import pgstac.profile_pgstac as profile_pgstac "
   ]
  },
  {
   "cell_type": "markdown",
   "id": "08d15eaf",
   "metadata": {},
   "source": [
    "### We can also run profiling via tile bench"
   ]
  },
  {
   "cell_type": "code",
   "execution_count": 5,
   "id": "eec66f71",
   "metadata": {},
   "outputs": [],
   "source": [
    "#!pip install tilebench\n",
    "#!tilebench profile s3://climatedashboard-data/cmip6/monthly/CMIP6_ensemble_median/tas/tas_month_ensemble-median_historical_195004.tif \\\n",
    "#    --tile 0-0-0 --add-cprofile --add-stdout --config GDAL_DISABLE_READDIR_ON_OPEN=EMPTY_DIR --config CPL_TIMESTAMP=ON | jq"
   ]
  },
  {
   "cell_type": "code",
   "execution_count": 11,
   "id": "ed8b8d9f",
   "metadata": {},
   "outputs": [
    {
     "name": "stdout",
     "output_type": "stream",
     "text": [
      "time calculating vrt_params: 1.09\n",
      "time initiating WarpedVRT: 394.2\n",
      "time reading WarpedVRT: 20.62\n",
      "time creating ImageData: 0.02\n",
      "time for reader.part: 417.04\n",
      "{'pgstac-search': 70.09, 'get_tile': [2533.81], 'mosaic': 2536.29}\n"
     ]
    },
    {
     "data": {
      "text/plain": [
       "{'cprofile': ['   ncalls  tottime  percall  cumtime  percall filename:lineno(function)',\n",
       "  \"        9    2.534    0.282    2.534    0.282 {method 'acquire' of '_thread.lock' objects}\",\n",
       "  '        4    0.084    0.021    0.085    0.021 connection.py:949(wait)',\n",
       "  '        2    0.001    0.000    0.001    0.000 core.py:3433(__setmask__)']}"
      ]
     },
     "execution_count": 11,
     "metadata": {},
     "output_type": "execute_result"
    }
   ],
   "source": [
    "query = {\n",
    "  \"collections\": [\n",
    "    \"CMIP6_ensemble_median_TAS\"\n",
    "  ],\n",
    "  \"filter\": {\n",
    "    \"op\": \"t_intersects\",\n",
    "    \"args\": [\n",
    "      {\n",
    "        \"property\": \"datetime\"\n",
    "      },\n",
    "      {\n",
    "        \"interval\": [\n",
    "          \"1950-04-01T00:00:00Z\",\n",
    "          #\"1950-05-01T00:00:00Z\"\n",
    "        ]\n",
    "      }\n",
    "    ]\n",
    "  },\n",
    "  \"filter-lang\": \"cql2-json\"\n",
    "}\n",
    "\n",
    "image_and_assets, cprofile = profile_pgstac.tile(*xyz_tile, query=dict(query))\n",
    "cprofile"
   ]
  },
  {
   "cell_type": "code",
   "execution_count": 7,
   "id": "73e79419",
   "metadata": {},
   "outputs": [
    {
     "name": "stderr",
     "output_type": "stream",
     "text": [
      "/Users/aimeebarciauskas/github/developmentseed/tile-benchmarking/profiling/venv-profiling/lib/python3.9/site-packages/rio_tiler/models.py:648: InvalidDatatypeWarning: Invalid type: `float64` for the `PNG` driver. Data will be rescaled using min/max type bounds or dataset_statistics.\n",
      "  warnings.warn(\n"
     ]
    },
    {
     "data": {
      "image/png": "[encoded data removed]",
      "text/plain": [
       "<PIL.PngImagePlugin.PngImageFile image mode=LA size=256x256>"
      ]
     },
     "execution_count": 7,
     "metadata": {},
     "output_type": "execute_result"
    }
   ],
   "source": [
    "content = image_and_assets[0].render(\n",
    "    img_format='PNG'\n",
    ")\n",
    "\n",
    "im = Image.open(io.BytesIO(content))\n",
    "im"
   ]
  },
  {
   "cell_type": "markdown",
   "id": "6021ba14",
   "metadata": {},
   "source": [
    "## Profile titiler-xarray"
   ]
  },
  {
   "cell_type": "code",
   "execution_count": 8,
   "id": "d60aad91",
   "metadata": {},
   "outputs": [
    {
     "name": "stdout",
     "output_type": "stream",
     "text": [
      "The autoreload extension is already loaded. To reload it, use:\n",
      "  %reload_ext autoreload\n"
     ]
    }
   ],
   "source": [
    "%load_ext autoreload\n",
    "%autoreload\n",
    "import xarray_tile_reader"
   ]
  },
  {
   "cell_type": "code",
   "execution_count": 9,
   "id": "92cd9091",
   "metadata": {},
   "outputs": [
    {
     "name": "stderr",
     "output_type": "stream",
     "text": [
      "/Users/aimeebarciauskas/github/developmentseed/tile-benchmarking/profiling/zarr_reader.py:40: UserWarning: Variable(s) referenced in cell_measures not in variables: ['areacella']\n",
      "  ds = xarray.open_dataset(src_path, **xr_open_args)\n"
     ]
    },
    {
     "name": "stdout",
     "output_type": "stream",
     "text": [
      "Time elapsed for xarray.open_datset: 1131.56\n",
      "Time elapsed for dimension arrangement and array pre-processing: 21.73\n",
      "Time elapsed for clipping data via rasterio: 17.60101\n",
      "IN REPROJECT\n",
      "Time elapsed for reproject: 585.54316\n",
      "Time elapsed for creating ImageData: 0.25702\n"
     ]
    },
    {
     "data": {
      "text/plain": [
       "{'cprofile': ['   ncalls  tottime  percall  cumtime  percall filename:lineno(function)',\n",
       "  \"       99    1.546    0.016    1.546    0.016 {method 'acquire' of '_thread.lock' objects}\",\n",
       "  \"      161    0.047    0.000    0.047    0.000 {method 'read' of '_io.BufferedReader' objects}\",\n",
       "  '    19/17    0.027    0.001    0.029    0.002 {built-in method _imp.create_dynamic}',\n",
       "  '      160    0.017    0.000    0.017    0.000 {built-in method marshal.loads}',\n",
       "  '      770    0.012    0.000    0.012    0.000 {built-in method posix.stat}',\n",
       "  '        4    0.010    0.002    0.023    0.006 core.py:1865(_process_chunk)',\n",
       "  '      157    0.010    0.000    0.010    0.000 {built-in method builtins.compile}',\n",
       "  '        1    0.009    0.009    0.009    0.009 {built-in method zlib.decompress}',\n",
       "  '    65792    0.009    0.000    0.009    0.000 http_websocket.py:124(<genexpr>)',\n",
       "  '        1    0.008    0.008    0.009    0.009 {rasterio._warp._reproject}',\n",
       "  '      160    0.008    0.000    0.008    0.000 {built-in method io.open_code}',\n",
       "  '        1    0.008    0.008    0.017    0.017 http_websocket.py:124(<listcomp>)',\n",
       "  '      460    0.007    0.000    0.028    0.000 {built-in method builtins.__build_class__}',\n",
       "  '    22421    0.004    0.000    0.007    0.000 {built-in method builtins.isinstance}',\n",
       "  '    18010    0.004    0.000    0.004    0.000 {built-in method builtins.getattr}',\n",
       "  '       12    0.004    0.000    0.004    0.000 crs.py:985(geodetic_crs)',\n",
       "  '        1    0.004    0.004    0.004    0.004 {built-in method numcodecs._shuffle._doUnshuffle}',\n",
       "  '      325    0.004    0.000    0.021    0.000 <frozen importlib._bootstrap_external>:1505(find_spec)',\n",
       "  '       15    0.003    0.000    0.004    0.000 crs.py:183(__init__)',\n",
       "  '        1    0.003    0.003    0.003    0.003 {built-in method _posixsubprocess.fork_exec}',\n",
       "  '    181/7    0.003    0.000    0.267    0.038 {built-in method builtins.exec}',\n",
       "  '   205/43    0.003    0.000    0.009    0.000 sre_parse.py:493(_parse)',\n",
       "  '      973    0.003    0.000    0.003    0.000 {built-in method __new__ of type object at 0x1056408d0}',\n",
       "  '1160/1025    0.003    0.000    0.019    0.000 typing.py:269(inner)',\n",
       "  \"      218    0.002    0.000    0.002    0.000 {method '__exit__' of '_io._IOBase' objects}\",\n",
       "  '      160    0.002    0.000    0.085    0.001 <frozen importlib._bootstrap_external>:916(get_code)',\n",
       "  '      610    0.002    0.000    0.002    0.000 glob.py:117(_iterdir)',\n",
       "  '        2    0.002    0.001    0.002    0.001 {rasterio._warp._transform_bounds}',\n",
       "  '      164    0.002    0.000    0.005    0.000 {built-in method io.open}',\n",
       "  '     2204    0.002    0.000    0.004    0.000 typing.py:708(__setattr__)',\n",
       "  '      195    0.002    0.000    0.028    0.000 <frozen importlib._bootstrap>:901(_find_spec)',\n",
       "  '   615/45    0.002    0.000    0.002    0.000 {built-in method _abc._abc_subclasscheck}',\n",
       "  '    19/16    0.002    0.000    0.017    0.001 {built-in method _imp.exec_dynamic}',\n",
       "  '      127    0.002    0.000    0.003    0.000 __init__.py:363(<setcomp>)',\n",
       "  '   313/31    0.002    0.000    0.004    0.000 sre_compile.py:71(_compile)',\n",
       "  '      127    0.002    0.000    0.002    0.000 {built-in method posix.open}',\n",
       "  '8994/8095    0.002    0.000    0.002    0.000 {built-in method builtins.len}',\n",
       "  '     1733    0.002    0.000    0.002    0.000 <frozen importlib._bootstrap_external>:123(<listcomp>)',\n",
       "  '      689    0.002    0.000    0.004    0.000 typing.py:137(_type_check)',\n",
       "  '     1733    0.002    0.000    0.004    0.000 <frozen importlib._bootstrap_external>:121(_path_join)',\n",
       "  '    188/6    0.001    0.000    0.278    0.046 <frozen importlib._bootstrap>:1002(_find_and_load)',\n",
       "  '      320    0.001    0.000    0.004    0.000 <frozen importlib._bootstrap_external>:361(cache_from_source)',\n",
       "  '      340    0.001    0.000    0.007    0.000 typing.py:734(__init__)',\n",
       "  '       28    0.001    0.000    0.003    0.000 configparser.py:996(_read)',\n",
       "  '       18    0.001    0.000    0.001    0.000 {built-in method posix.listdir}',\n",
       "  \"     3630    0.001    0.000    0.001    0.000 {method 'match' of 're.Pattern' objects}\",\n",
       "  '      160    0.001    0.000    0.059    0.000 <frozen importlib._bootstrap_external>:1036(get_data)',\n",
       "  '     2204    0.001    0.000    0.002    0.000 typing.py:660(_is_dunder)',\n",
       "  \"     2849    0.001    0.000    0.001    0.000 {method 'join' of 'str' objects}\",\n",
       "  '    180/7    0.001    0.000    0.274    0.039 <frozen importlib._bootstrap>:659(_load_unlocked)',\n",
       "  \"     7966    0.001    0.000    0.001    0.000 {method 'append' of 'list' objects}\",\n",
       "  '       30    0.001    0.000    0.001    0.000 {built-in method builtins.dir}',\n",
       "  '    188/6    0.001    0.000    0.278    0.046 <frozen importlib._bootstrap>:967(_find_and_load_unlocked)',\n",
       "  '      195    0.001    0.000    0.025    0.000 <frozen importlib._bootstrap_external>:1374(_get_spec)',\n",
       "  '     2401    0.001    0.000    0.001    0.000 sre_parse.py:233(__next)',\n",
       "  \"       26    0.001    0.000    0.001    0.000 {method 'send' of '_socket.socket' objects}\",\n",
       "  '      266    0.001    0.000    0.002    0.000 variable.py:241(as_compatible_data)',\n",
       "  \"     4270    0.001    0.000    0.001    0.000 {method 'startswith' of 'str' objects}\",\n",
       "  '      235    0.001    0.000    0.002    0.000 <frozen importlib._bootstrap>:166(_get_module_lock)',\n",
       "  '      180    0.001    0.000    0.006    0.000 <frozen importlib._bootstrap>:486(_init_module_attrs)',\n",
       "  '      127    0.001    0.000    0.001    0.000 {built-in method posix.lstat}',\n",
       "  '       32    0.001    0.000    0.001    0.000 {built-in method posix.getcwd}',\n",
       "  '       54    0.001    0.000    0.002    0.000 {built-in method numpy.core._multiarray_umath.implement_array_function}',\n",
       "  '  209/149    0.001    0.000    0.001    0.000 indexing.py:540(shape)',\n",
       "  '      124    0.001    0.000    0.001    0.000 sre_compile.py:276(_optimize_charset)',\n",
       "  '       23    0.001    0.000    0.001    0.000 _make.py:795(_create_slots_class)',\n",
       "  '     2263    0.001    0.000    0.001    0.000 sre_parse.py:164(__getitem__)',\n",
       "  '        2    0.001    0.000    0.002    0.001 variables.py:204(_apply_mask)',\n",
       "  '      320    0.001    0.000    0.002    0.000 <frozen importlib._bootstrap_external>:127(_path_split)',\n",
       "  '      360    0.001    0.000    0.002    0.000 typing_extensions.py:140(_collect_type_vars)',\n",
       "  '     2171    0.001    0.000    0.002    0.000 {built-in method builtins.hasattr}',\n",
       "  '      105    0.001    0.000    0.001    0.000 {built-in method _abc._abc_init}',\n",
       "  '     1849    0.001    0.000    0.001    0.000 <frozen importlib._bootstrap>:231(_verbose_message)',\n",
       "  '        1    0.001    0.001    0.001    0.001 v3.py:510(LRUStoreCacheV3)',\n",
       "  '       66    0.001    0.000    0.014    0.000 dataarray.py:1348(isel)',\n",
       "  '      235    0.001    0.000    0.001    0.000 <frozen importlib._bootstrap>:87(acquire)',\n",
       "  '   359/97    0.001    0.000    0.001    0.000 sre_parse.py:174(getwidth)',\n",
       "  '        3    0.001    0.000    0.011    0.004 rioxarray.py:437(write_crs)',\n",
       "  '      235    0.001    0.000    0.001    0.000 <frozen importlib._bootstrap>:112(release)',\n",
       "  '        4    0.001    0.000    0.168    0.042 __init__.py:2(<module>)',\n",
       "  '      160    0.001    0.000    0.001    0.000 <frozen importlib._bootstrap_external>:560(_classify_pyc)',\n",
       "  \"     2187    0.001    0.000    0.001    0.000 {method 'endswith' of 'str' objects}\",\n",
       "  '    160/7    0.001    0.000    0.274    0.039 <frozen importlib._bootstrap_external>:844(exec_module)',\n",
       "  '       28    0.001    0.000    0.002    0.000 configparser.py:1320(__init__)',\n",
       "  '     1747    0.001    0.000    0.001    0.000 sre_parse.py:254(get)',\n",
       "  '      122    0.001    0.000    0.001    0.000 {built-in method builtins.eval}',\n",
       "  \"     4138    0.001    0.000    0.001    0.000 {method 'rstrip' of 'str' objects}\",\n",
       "  '      180    0.001    0.000    0.001    0.000 <frozen importlib._bootstrap_external>:696(spec_from_file_location)',\n",
       "  '      126    0.001    0.000    0.003    0.000 dataarray.py:474(_replace_maybe_drop_dims)',\n",
       "  '      263    0.001    0.000    0.004    0.000 variable.py:346(__init__)',\n",
       "  '      132    0.001    0.000    0.003    0.000 variable.py:694(_broadcast_indexes)',\n",
       "  '      138    0.001    0.000    0.006    0.000 typing.py:431(Union)',\n",
       "  '        5    0.001    0.000    0.001    0.000 {rasterio.crs.from_wkt}',\n",
       "  '      127    0.001    0.000    0.006    0.000 __init__.py:830(read_text)',\n",
       "  '    61/20    0.001    0.000    0.002    0.000 typing.py:754(__getitem__)',\n",
       "  '      127    0.001    0.000    0.001    0.000 __init__.py:360(<setcomp>)',\n",
       "  '      760    0.001    0.000    0.013    0.000 <frozen importlib._bootstrap_external>:135(_path_stat)',\n",
       "  '   146/31    0.001    0.000    0.009    0.000 sre_parse.py:435(_parse_sub)',\n",
       "  '      299    0.001    0.000    0.001    0.000 posixpath.py:71(join)',\n",
       "  '      116    0.001    0.000    0.001    0.000 indexes.py:1488(filter_indexes_from_coords)',\n",
       "  '      160    0.001    0.000    0.018    0.000 <frozen importlib._bootstrap_external>:645(_compile_bytecode)',\n",
       "  \"     1409    0.001    0.000    0.001    0.000 {method 'rpartition' of 'str' objects}\",\n",
       "  '      670    0.001    0.000    0.002    0.000 utils.py:553(ndim)',\n",
       "  \"        1    0.001    0.001    0.001    0.001 {method 'start' of 'rasterio._env.GDALEnv' objects}\",\n",
       "  '  180/176    0.001    0.000    0.035    0.000 <frozen importlib._bootstrap>:558(module_from_spec)',\n",
       "  \"        8    0.001    0.000    0.001    0.000 {method 'to_wkt' of 'pyproj._crs.Base' objects}\",\n",
       "  '      480    0.001    0.000    0.001    0.000 <frozen importlib._bootstrap_external>:79(_unpack_uint32)']}"
      ]
     },
     "execution_count": 9,
     "metadata": {},
     "output_type": "execute_result"
    }
   ],
   "source": [
    "image_and_assets, cprofile = xarray_tile_reader.tile(\n",
    "    \"cmip6-reference/combined_cmip6_kerchunk.json\", \n",
    "    *xyz_tile,\n",
    "    reference=True,\n",
    "    anon=False,\n",
    "    variable=\"tas\",\n",
    ")\n",
    "cprofile"
   ]
  },
  {
   "cell_type": "code",
   "execution_count": 10,
   "id": "88451037",
   "metadata": {},
   "outputs": [
    {
     "name": "stderr",
     "output_type": "stream",
     "text": [
      "/Users/aimeebarciauskas/github/developmentseed/tile-benchmarking/profiling/venv-profiling/lib/python3.9/site-packages/rio_tiler/models.py:648: InvalidDatatypeWarning: Invalid type: `float32` for the `PNG` driver. Data will be rescaled using min/max type bounds or dataset_statistics.\n",
      "  warnings.warn(\n",
      "/Users/aimeebarciauskas/github/developmentseed/tile-benchmarking/profiling/venv-profiling/lib/python3.9/site-packages/rio_tiler/models.py:140: RuntimeWarning: invalid value encountered in cast\n",
      "  return data.astype(out_dtype)\n"
     ]
    },
    {
     "data": {
      "image/png": "[encoded data removed]",
      "text/plain": [
       "<PIL.PngImagePlugin.PngImageFile image mode=LA size=256x256>"
      ]
     },
     "execution_count": 10,
     "metadata": {},
     "output_type": "execute_result"
    }
   ],
   "source": [
    "content = image_and_assets.render(\n",
    "    img_format='PNG'\n",
    ")\n",
    "\n",
    "im = Image.open(io.BytesIO(content))\n",
    "im"
   ]
  },
  {
   "cell_type": "code",
   "execution_count": null,
   "id": "47759791",
   "metadata": {},
   "outputs": [],
   "source": []
  }
 ],
 "metadata": {
  "kernelspec": {
   "display_name": "venv-profiling",
   "language": "python",
   "name": "venv-profiling"
  },
  "language_info": {
   "codemirror_mode": {
    "name": "ipython",
    "version": 3
   },
   "file_extension": ".py",
   "mimetype": "text/x-python",
   "name": "python",
   "nbconvert_exporter": "python",
   "pygments_lexer": "ipython3",
   "version": "3.9.7"
  }
 },
 "nbformat": 4,
 "nbformat_minor": 5
}
