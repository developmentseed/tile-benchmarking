{
 "cells": [
  {
   "cell_type": "code",
   "execution_count": 1,
   "id": "1e0e7aeb",
   "metadata": {},
   "outputs": [],
   "source": [
    "# Import libraries\n",
    "## for profiling\n",
    "from profiler.main import profile\n",
    "\n",
    "# for titiler-xarray\n",
    "from typing import Any\n",
    "from zarr_reader import xarray_open_dataset, get_variable\n",
    "import morecantile\n",
    "from xarray_tile_reader import XarrayTileReader\n",
    "\n",
    "# for titiler-pgstac\n",
    "from titiler.pgstac.mosaic import PGSTACBackend\n",
    "from typing import Any, Dict, List, Tuple\n",
    "from rio_tiler.mosaic import mosaic_reader\n",
    "from rio_tiler.models import ImageData\n",
    "from geojson_pydantic import Polygon\n",
    "\n",
    "# Only if wanting to see a picture\n",
    "import io\n",
    "from PIL import Image"
   ]
  },
  {
   "cell_type": "code",
   "execution_count": 2,
   "id": "a53106ea",
   "metadata": {},
   "outputs": [],
   "source": [
    "search_dict: Dict[str, Any] = {\n",
    "    'collections': [\"CMIP6_ensemble_median_TAS\"],\n",
    "    'datetime': \"1951-01-01T00:00:00Z\",\n",
    "    'bbox': [-180, -90, 180, 90]\n",
    "}\n",
    "\n",
    "xyz_tile = (0,0,0)"
   ]
  },
  {
   "cell_type": "markdown",
   "id": "6021ba14",
   "metadata": {},
   "source": [
    "## Profile titiler-xarray"
   ]
  },
  {
   "cell_type": "code",
   "execution_count": null,
   "id": "d60aad91",
   "metadata": {},
   "outputs": [],
   "source": [
    "@profile(add_to_return=True, quiet=False, log_library='s3fs')\n",
    "def tile(src_path: str, x: int, y: int, z: int, *, variable: str, time_slice: str = None, **kwargs: Any):\n",
    "\n",
    "    with xarray_open_dataset(\n",
    "        src_path,\n",
    "        group=z,\n",
    "        decode_times=False,\n",
    "        **kwargs,\n",
    "    ) as dataset:\n",
    "        dataarray = get_variable(dataset, variable=variable, time_slice=time_slice)\n",
    "        \n",
    "        with XarrayTileReader(dataarray) as src_dst:\n",
    "            return src_dst.tile(x, y, z)"
   ]
  },
  {
   "cell_type": "code",
   "execution_count": null,
   "id": "92cd9091",
   "metadata": {},
   "outputs": [],
   "source": [
    "image_and_assets, logs = tile(\n",
    "    \"s3://power-analysis-ready-datastore/power_901_monthly_meteorology_utc.zarr\", \n",
    "    *xyz_tile,\n",
    "    reference=False,\n",
    "    variable=\"TS\",\n",
    ")\n",
    "# logs"
   ]
  },
  {
   "cell_type": "code",
   "execution_count": null,
   "id": "88451037",
   "metadata": {},
   "outputs": [],
   "source": [
    "content = image_and_assets.render(\n",
    "    img_format='PNG'\n",
    ")\n",
    "\n",
    "im = Image.open(io.BytesIO(content))\n",
    "im"
   ]
  },
  {
   "cell_type": "markdown",
   "id": "8a131851",
   "metadata": {},
   "source": [
    "## Profile titiler-pgstac"
   ]
  },
  {
   "cell_type": "code",
   "execution_count": 3,
   "id": "045ea6a0",
   "metadata": {},
   "outputs": [],
   "source": [
    "import pgstac.profile_pgstac as profile_pgstac "
   ]
  },
  {
   "cell_type": "code",
   "execution_count": 4,
   "id": "ed8b8d9f",
   "metadata": {},
   "outputs": [
    {
     "ename": "ValueError",
     "evalue": "not enough values to unpack (expected 2, got 1)",
     "output_type": "error",
     "traceback": [
      "\u001b[0;31m---------------------------------------------------------------------------\u001b[0m",
      "\u001b[0;31mValueError\u001b[0m                                Traceback (most recent call last)",
      "Cell \u001b[0;32mIn[4], line 1\u001b[0m\n\u001b[0;32m----> 1\u001b[0m image_and_assets, logs \u001b[38;5;241m=\u001b[39m \u001b[43mprofile_pgstac\u001b[49m\u001b[38;5;241;43m.\u001b[39;49m\u001b[43mtile\u001b[49m\u001b[43m(\u001b[49m\u001b[38;5;241;43m*\u001b[39;49m\u001b[43mxyz_tile\u001b[49m\u001b[43m)\u001b[49m\n\u001b[1;32m      2\u001b[0m logs\n",
      "File \u001b[0;32m~/github/developmentseed/tile-benchmarking/profiling/profiler/main.py:92\u001b[0m, in \u001b[0;36mprofile.<locals>.wrapper.<locals>.wrapped_f\u001b[0;34m(*args, **kwargs)\u001b[0m\n\u001b[1;32m     89\u001b[0m \u001b[38;5;28;01mwith\u001b[39;00m Timer() \u001b[38;5;28;01mas\u001b[39;00m t:\n\u001b[1;32m     90\u001b[0m     \u001b[38;5;66;03m# cProfile is a simple Python profiling\u001b[39;00m\n\u001b[1;32m     91\u001b[0m     prof \u001b[38;5;241m=\u001b[39m cProfile\u001b[38;5;241m.\u001b[39mProfile()\n\u001b[0;32m---> 92\u001b[0m     retval \u001b[38;5;241m=\u001b[39m \u001b[43mprof\u001b[49m\u001b[38;5;241;43m.\u001b[39;49m\u001b[43mruncall\u001b[49m\u001b[43m(\u001b[49m\u001b[43mfunc\u001b[49m\u001b[43m,\u001b[49m\u001b[43m \u001b[49m\u001b[38;5;241;43m*\u001b[39;49m\u001b[43margs\u001b[49m\u001b[43m,\u001b[49m\u001b[43m \u001b[49m\u001b[38;5;241;43m*\u001b[39;49m\u001b[38;5;241;43m*\u001b[39;49m\u001b[43mkwargs\u001b[49m\u001b[43m)\u001b[49m\n\u001b[1;32m     93\u001b[0m     profile_stream \u001b[38;5;241m=\u001b[39m StringIO()\n\u001b[1;32m     94\u001b[0m     ps \u001b[38;5;241m=\u001b[39m pstats\u001b[38;5;241m.\u001b[39mStats(prof, stream\u001b[38;5;241m=\u001b[39mprofile_stream)\n",
      "File \u001b[0;32m~/miniconda3/lib/python3.9/cProfile.py:109\u001b[0m, in \u001b[0;36mProfile.runcall\u001b[0;34m(self, func, *args, **kw)\u001b[0m\n\u001b[1;32m    107\u001b[0m \u001b[38;5;28mself\u001b[39m\u001b[38;5;241m.\u001b[39menable()\n\u001b[1;32m    108\u001b[0m \u001b[38;5;28;01mtry\u001b[39;00m:\n\u001b[0;32m--> 109\u001b[0m     \u001b[38;5;28;01mreturn\u001b[39;00m \u001b[43mfunc\u001b[49m\u001b[43m(\u001b[49m\u001b[38;5;241;43m*\u001b[39;49m\u001b[43margs\u001b[49m\u001b[43m,\u001b[49m\u001b[43m \u001b[49m\u001b[38;5;241;43m*\u001b[39;49m\u001b[38;5;241;43m*\u001b[39;49m\u001b[43mkw\u001b[49m\u001b[43m)\u001b[49m\n\u001b[1;32m    110\u001b[0m \u001b[38;5;28;01mfinally\u001b[39;00m:\n\u001b[1;32m    111\u001b[0m     \u001b[38;5;28mself\u001b[39m\u001b[38;5;241m.\u001b[39mdisable()\n",
      "File \u001b[0;32m~/github/developmentseed/tile-benchmarking/profiling/pgstac/profile_pgstac.py:175\u001b[0m, in \u001b[0;36mtile\u001b[0;34m(tile_x, tile_y, tile_z)\u001b[0m\n\u001b[1;32m    173\u001b[0m \u001b[38;5;66;03m# MOSAIC Timing\u001b[39;00m\n\u001b[1;32m    174\u001b[0m \u001b[38;5;28;01mwith\u001b[39;00m Timer() \u001b[38;5;28;01mas\u001b[39;00m t:\n\u001b[0;32m--> 175\u001b[0m     img, assets \u001b[38;5;241m=\u001b[39m \u001b[43mmosaic_reader\u001b[49m\u001b[43m(\u001b[49m\n\u001b[1;32m    176\u001b[0m \u001b[43m        \u001b[49m\u001b[43mmosaic_assets\u001b[49m\u001b[43m,\u001b[49m\u001b[43m \u001b[49m\u001b[43m_reader\u001b[49m\u001b[43m,\u001b[49m\u001b[43m \u001b[49m\u001b[43mtile_x\u001b[49m\u001b[43m,\u001b[49m\u001b[43m \u001b[49m\u001b[43mtile_y\u001b[49m\u001b[43m,\u001b[49m\u001b[43m \u001b[49m\u001b[43mtile_z\u001b[49m\u001b[43m,\u001b[49m\u001b[43m \u001b[49m\u001b[38;5;241;43m*\u001b[39;49m\u001b[38;5;241;43m*\u001b[39;49m\u001b[43m{\u001b[49m\u001b[38;5;124;43m\"\u001b[39;49m\u001b[38;5;124;43massets\u001b[39;49m\u001b[38;5;124;43m\"\u001b[39;49m\u001b[43m:\u001b[49m\u001b[43m \u001b[49m\u001b[43m[\u001b[49m\u001b[38;5;124;43m\"\u001b[39;49m\u001b[38;5;124;43mdata\u001b[39;49m\u001b[38;5;124;43m\"\u001b[39;49m\u001b[43m]\u001b[49m\u001b[43m}\u001b[49m\n\u001b[1;32m    177\u001b[0m \u001b[43m    \u001b[49m\u001b[43m)\u001b[49m\n\u001b[1;32m    178\u001b[0m timings[\u001b[38;5;124m\"\u001b[39m\u001b[38;5;124mget_tile\u001b[39m\u001b[38;5;124m\"\u001b[39m] \u001b[38;5;241m=\u001b[39m img\u001b[38;5;241m.\u001b[39mmetadata[\u001b[38;5;124m\"\u001b[39m\u001b[38;5;124mget_tile_timings\u001b[39m\u001b[38;5;124m\"\u001b[39m]\n\u001b[1;32m    179\u001b[0m timings[\u001b[38;5;124m\"\u001b[39m\u001b[38;5;124mmosaic\u001b[39m\u001b[38;5;124m\"\u001b[39m] \u001b[38;5;241m=\u001b[39m \u001b[38;5;28mround\u001b[39m(t\u001b[38;5;241m.\u001b[39melapsed \u001b[38;5;241m*\u001b[39m \u001b[38;5;241m1000\u001b[39m, \u001b[38;5;241m2\u001b[39m)\n",
      "File \u001b[0;32m~/github/developmentseed/tile-benchmarking/profiling/pgstac/profile_pgstac.py:98\u001b[0m, in \u001b[0;36mmosaic_reader\u001b[0;34m(mosaic_assets, reader, chunk_size, threads, allowed_exceptions, *args, **kwargs)\u001b[0m\n\u001b[1;32m     83\u001b[0m             data, mask \u001b[38;5;241m=\u001b[39m pixel_selection\u001b[38;5;241m.\u001b[39mdata\n\u001b[1;32m     84\u001b[0m             \u001b[38;5;28;01mreturn\u001b[39;00m (\n\u001b[1;32m     85\u001b[0m                 ImageData(\n\u001b[1;32m     86\u001b[0m                     data,\n\u001b[0;32m   (...)\u001b[0m\n\u001b[1;32m     95\u001b[0m                 assets_used,\n\u001b[1;32m     96\u001b[0m             )\n\u001b[0;32m---> 98\u001b[0m data, mask \u001b[38;5;241m=\u001b[39m pixel_selection\u001b[38;5;241m.\u001b[39mdata\n\u001b[1;32m     99\u001b[0m \u001b[38;5;28;01mif\u001b[39;00m data \u001b[38;5;129;01mis\u001b[39;00m \u001b[38;5;28;01mNone\u001b[39;00m:\n\u001b[1;32m    100\u001b[0m     \u001b[38;5;28;01mraise\u001b[39;00m EmptyMosaicError(\u001b[38;5;124m\"\u001b[39m\u001b[38;5;124mMethod returned an empty array\u001b[39m\u001b[38;5;124m\"\u001b[39m)\n",
      "\u001b[0;31mValueError\u001b[0m: not enough values to unpack (expected 2, got 1)"
     ]
    }
   ],
   "source": [
    "image_and_assets, logs = profile_pgstac.tile(*xyz_tile)\n",
    "logs"
   ]
  },
  {
   "cell_type": "code",
   "execution_count": null,
   "id": "51dc2c6e",
   "metadata": {},
   "outputs": [],
   "source": [
    "content = image_and_assets[0].render(\n",
    "    img_format='PNG'\n",
    ")\n",
    "\n",
    "im = Image.open(io.BytesIO(content))\n",
    "im"
   ]
  }
 ],
 "metadata": {
  "kernelspec": {
   "display_name": "venv-profiling",
   "language": "python",
   "name": "venv-profiling"
  },
  "language_info": {
   "codemirror_mode": {
    "name": "ipython",
    "version": 3
   },
   "file_extension": ".py",
   "mimetype": "text/x-python",
   "name": "python",
   "nbconvert_exporter": "python",
   "pygments_lexer": "ipython3",
   "version": "3.9.7"
  }
 },
 "nbformat": 4,
 "nbformat_minor": 5
}
