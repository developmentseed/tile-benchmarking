{
 "cells": [
  {
   "cell_type": "markdown",
   "id": "330dc8cc",
   "metadata": {},
   "source": [
    "# Profiling tiling of titiler-pgstac and titiler-xarray\n",
    "\n",
    "This notebook profiles code for tiling CMIP6 data via 2 methods:\n",
    "\n",
    "1. pgSTAC + COGs: The first method uses a (local) pgSTAC database for storing metadata about COGs on S3. The libraries used are pgstac for reading STAC metadata and rio_tiler's rasterio for reading COGs on S3.\n",
    "2. kerchunk + netCDF: The second method uses a (local) kerchunk reference file for NetCDF files stored on S3. The libraries used are xarray for reading the Zarr metadata and rio_tiler's XarrayReader for reading data from the NetCDFs on S3.\n",
    "\n",
    "In the future, the following improvements and additions to this profiling code will be made:\n",
    "\n",
    "1. Store metadata in AWS: Right now, metadata is being generated and accessed locally. A pgSTAC RDS instance will be used to store metadata and a kerchunk reference file will be stored in S3.\n",
    "2. Execute on AWS: A JupyterHub in us-west-2 will be used to run the profiling code.\n",
    "3. Test more tiles: The profiling code will be run on different tiles to get a sense of the performance at different zoom levels.\n",
    "4. Test with a Zarr store. The profiling code will be run on a Zarr store to compare the performance of reading from a Zarr store vs. reading from a NetCDF via kerchunk.\n",
    "5. Test different chunking strategies: The profiling code will be run on a few different Zarr stores with different chunking schemes.\n",
    "6. Test a higher resolution dataset."
   ]
  },
  {
   "cell_type": "code",
   "execution_count": 1,
   "id": "da1d3144",
   "metadata": {},
   "outputs": [],
   "source": [
    "import io\n",
    "from PIL import Image\n",
    "import os\n",
    "\n",
    "# At this time, this profiling code uses files stored in s3://climatedashboard-data, which is a protected bucket.\n",
    "os.environ['AWS_PROFILE'] = 'veda-dev'\n",
    "os.environ['GDAL_INGESTED_BYTES_AT_OPEN'] = '32768'\n",
    "os.environ['GDAL_DISABLE_READDIR_ON_OPEN'] = 'EMPTY_DIR'\n",
    "os.environ['GDAL_HTTP_MERGE_CONSECUTIVE_RANGES'] = 'YES'\n",
    "os.environ['GDAL_HTTP_MULTIPLEX'] = 'YES'\n",
    "os.environ['GDAL_HTTP_VERSION'] = '2'\n",
    "os.environ['VSI_CACHE'] = 'TRUE'"
   ]
  },
  {
   "cell_type": "code",
   "execution_count": 2,
   "id": "a53106ea",
   "metadata": {},
   "outputs": [],
   "source": [
    "xyz_tile = (0,0,0)"
   ]
  },
  {
   "cell_type": "markdown",
   "id": "8a131851",
   "metadata": {},
   "source": [
    "## Profile titiler-pgstac"
   ]
  },
  {
   "cell_type": "code",
   "execution_count": 3,
   "id": "045ea6a0",
   "metadata": {},
   "outputs": [],
   "source": [
    "%load_ext autoreload\n",
    "%autoreload\n",
    "import pgstac.profile_pgstac as profile_pgstac "
   ]
  },
  {
   "cell_type": "markdown",
   "id": "08d15eaf",
   "metadata": {},
   "source": [
    "### We can also run profiling via tile bench"
   ]
  },
  {
   "cell_type": "code",
   "execution_count": 4,
   "id": "eec66f71",
   "metadata": {},
   "outputs": [],
   "source": [
    "#!pip install tilebench\n",
    "#!tilebench profile s3://climatedashboard-data/cmip6/monthly/CMIP6_ensemble_median/tas/tas_month_ensemble-median_historical_195004.tif \\\n",
    "#    --tile 0-0-0 --add-cprofile --add-stdout --config GDAL_DISABLE_READDIR_ON_OPEN=EMPTY_DIR --config CPL_TIMESTAMP=ON | jq"
   ]
  },
  {
   "cell_type": "code",
   "execution_count": 5,
   "id": "ed8b8d9f",
   "metadata": {},
   "outputs": [
    {
     "name": "stdout",
     "output_type": "stream",
     "text": [
      "time in rasterio.open: 932.08\n",
      "time initiating WarpedVRT: 1.16\n",
      "time reading WarpedVRT: 544.41\n",
      "time creating ImageData: 0.02\n",
      "time in rasterio.io.reader#part: 551.52\n",
      "time in MultiBaseReader#tile.tile: 556.48\n",
      "{'pgstac-search': 68.92, 'get_tile': [1498.16], 'mosaic': 1500.51}\n"
     ]
    },
    {
     "data": {
      "text/plain": [
       "{'cprofile': ['   ncalls  tottime  percall  cumtime  percall filename:lineno(function)',\n",
       "  \"       11    1.547    0.141    1.547    0.141 {method 'acquire' of '_thread.lock' objects}\",\n",
       "  '        4    0.084    0.021    0.085    0.021 connection.py:949(wait)',\n",
       "  '        2    0.001    0.000    0.001    0.000 core.py:3433(__setmask__)']}"
      ]
     },
     "execution_count": 5,
     "metadata": {},
     "output_type": "execute_result"
    }
   ],
   "source": [
    "query = {\n",
    "  \"collections\": [\n",
    "    \"CMIP6_ensemble_median_TAS\"\n",
    "  ],\n",
    "  \"filter\": {\n",
    "    \"op\": \"t_intersects\",\n",
    "    \"args\": [\n",
    "      {\n",
    "        \"property\": \"datetime\"\n",
    "      },\n",
    "      {\n",
    "        \"interval\": [\n",
    "          \"1950-04-01T00:00:00Z\",\n",
    "          #\"1950-05-01T00:00:00Z\"\n",
    "        ]\n",
    "      }\n",
    "    ]\n",
    "  },\n",
    "  \"filter-lang\": \"cql2-json\"\n",
    "}\n",
    "\n",
    "image_and_assets, cprofile = profile_pgstac.tile(*xyz_tile, query=dict(query))\n",
    "cprofile"
   ]
  },
  {
   "cell_type": "markdown",
   "id": "f5b54282",
   "metadata": {},
   "source": [
    "**NOTES:**\n",
    "\n",
    "* There are 2 parts to the overall timing of generating the image - `pgstac-search` and `get_tile`.\n",
    "* `get_tile` above is a list with a timing for each tif. The bulk of this time is in `CustomSTACReader#tile`. That function has a subfunction `_reader` which wraps `src_dst.tile` in `self.reader`.\n",
    "* The `CustomSTACReader`'s `reader` attribute is `BaseReader` from `rio_tiler.io.base`. There is no init function for BaseReader so I don't think any time is spent initializing the reader.\n",
    "* `CustomSTACReader` inherits from `MultiBaseReader` so the `#tile` function is defined in that class.\n",
    "* The `MultiBaseReader#tile` function also has a `_reader` subfunction which is called for each asset.\n",
    "* The code for rio_tiler's `MultiBaseReader#tile#_reader` can be thought of as a **initialize reader** step and a **tile** step. \n",
    "* The bulk of the `get_tile` time is spent in the **initialize reader** step of `MultiBaseReader#tile#_reader`. The initialization of `MultiBaseReader#reader` spends most of it's time in `rasterio.open`. I have not dug into the subcalls of `rasterio.open`\n",
    "* `MultiBaseReader#tile#tile` is roughly equivalent to `rasterio.io.reader#part` and wraps the reading of the WarpedVRT, so should be the sum of the previous calls.\n"
   ]
  },
  {
   "cell_type": "code",
   "execution_count": 6,
   "id": "73e79419",
   "metadata": {},
   "outputs": [
    {
     "name": "stderr",
     "output_type": "stream",
     "text": [
      "/Users/aimeebarciauskas/github/developmentseed/tile-benchmarking/profiling/venv-profiling/lib/python3.9/site-packages/rio_tiler/models.py:648: InvalidDatatypeWarning: Invalid type: `float64` for the `PNG` driver. Data will be rescaled using min/max type bounds or dataset_statistics.\n",
      "  warnings.warn(\n"
     ]
    },
    {
     "data": {
      "image/png": "[encoded data removed]",
      "text/plain": [
       "<PIL.PngImagePlugin.PngImageFile image mode=LA size=256x256>"
      ]
     },
     "execution_count": 6,
     "metadata": {},
     "output_type": "execute_result"
    }
   ],
   "source": [
    "content = image_and_assets[0].render(\n",
    "    img_format='PNG'\n",
    ")\n",
    "\n",
    "im = Image.open(io.BytesIO(content))\n",
    "im"
   ]
  },
  {
   "cell_type": "markdown",
   "id": "6021ba14",
   "metadata": {},
   "source": [
    "## Profile titiler-xarray"
   ]
  },
  {
   "cell_type": "code",
   "execution_count": 7,
   "id": "d60aad91",
   "metadata": {},
   "outputs": [
    {
     "name": "stdout",
     "output_type": "stream",
     "text": [
      "The autoreload extension is already loaded. To reload it, use:\n",
      "  %reload_ext autoreload\n"
     ]
    }
   ],
   "source": [
    "%load_ext autoreload\n",
    "%autoreload\n",
    "import xarray_tile_reader"
   ]
  },
  {
   "cell_type": "code",
   "execution_count": 8,
   "id": "92cd9091",
   "metadata": {},
   "outputs": [
    {
     "name": "stderr",
     "output_type": "stream",
     "text": [
      "/Users/aimeebarciauskas/github/developmentseed/tile-benchmarking/profiling/zarr_reader.py:40: UserWarning: Variable(s) referenced in cell_measures not in variables: ['areacella']\n",
      "  ds = xarray.open_dataset(src_path, **xr_open_args)\n"
     ]
    },
    {
     "name": "stdout",
     "output_type": "stream",
     "text": [
      "Time elapsed for xarray.open_datset: 903.21\n",
      "Time elapsed for dimension arrangement and array pre-processing: 20.23\n",
      "Time elapsed for clipping data via rasterio: 16.87026\n",
      "Time elapsed for reproject: 478.68609\n",
      "Time elapsed for creating ImageData: 0.6001\n"
     ]
    },
    {
     "data": {
      "text/plain": [
       "{'cprofile': ['   ncalls  tottime  percall  cumtime  percall filename:lineno(function)',\n",
       "  \"      107    1.259    0.012    1.259    0.012 {method 'acquire' of '_thread.lock' objects}\",\n",
       "  '      160    0.012    0.000    0.012    0.000 {built-in method marshal.loads}',\n",
       "  '        4    0.011    0.003    0.023    0.006 core.py:1865(_process_chunk)',\n",
       "  '        1    0.009    0.009    0.010    0.010 {rasterio._warp._reproject}',\n",
       "  '      157    0.009    0.000    0.009    0.000 {built-in method builtins.compile}',\n",
       "  '    65792    0.009    0.000    0.009    0.000 http_websocket.py:124(<genexpr>)',\n",
       "  '      768    0.008    0.000    0.008    0.000 {built-in method posix.stat}',\n",
       "  '    19/17    0.008    0.000    0.011    0.001 {built-in method _imp.create_dynamic}',\n",
       "  '        1    0.007    0.007    0.007    0.007 {built-in method zlib.decompress}',\n",
       "  '        1    0.007    0.007    0.015    0.015 http_websocket.py:124(<listcomp>)',\n",
       "  '      460    0.006    0.000    0.022    0.000 {built-in method builtins.__build_class__}',\n",
       "  '      160    0.006    0.000    0.006    0.000 {built-in method io.open_code}',\n",
       "  '        1    0.004    0.004    0.004    0.004 {built-in method numcodecs._shuffle._doUnshuffle}',\n",
       "  '       12    0.004    0.000    0.004    0.000 crs.py:985(geodetic_crs)',\n",
       "  '    22587    0.004    0.000    0.006    0.000 {built-in method builtins.isinstance}',\n",
       "  '       15    0.003    0.000    0.004    0.000 crs.py:183(__init__)',\n",
       "  '    17182    0.003    0.000    0.004    0.000 {built-in method builtins.getattr}',\n",
       "  '   205/43    0.003    0.000    0.008    0.000 sre_parse.py:494(_parse)',\n",
       "  '    181/7    0.003    0.000    0.167    0.024 {built-in method builtins.exec}',\n",
       "  '      325    0.003    0.000    0.016    0.000 <frozen importlib._bootstrap_external>:1514(find_spec)',\n",
       "  '      940    0.003    0.000    0.003    0.000 {built-in method __new__ of type object at 0x10b05a430}',\n",
       "  '        1    0.002    0.002    0.002    0.002 {built-in method _posixsubprocess.fork_exec}',\n",
       "  '        2    0.002    0.001    0.002    0.001 {rasterio._warp._transform_bounds}',\n",
       "  '    19/16    0.002    0.000    0.008    0.001 {built-in method _imp.exec_dynamic}',\n",
       "  '   617/45    0.002    0.000    0.002    0.000 {built-in method _abc._abc_subclasscheck}',\n",
       "  \"      161    0.002    0.000    0.002    0.000 {method 'read' of '_io.BufferedReader' objects}\",\n",
       "  '      195    0.002    0.000    0.022    0.000 <frozen importlib._bootstrap>:901(_find_spec)',\n",
       "  '      152    0.002    0.000    0.003    0.000 {built-in method io.open}',\n",
       "  '     2198    0.002    0.000    0.003    0.000 typing.py:713(__setattr__)',\n",
       "  '   313/31    0.001    0.000    0.004    0.000 sre_compile.py:87(_compile)',\n",
       "  '      568    0.001    0.000    0.002    0.000 glob.py:117(_iterdir)',\n",
       "  '      103    0.001    0.000    0.002    0.000 functools.py:35(update_wrapper)',\n",
       "  '8979/8080    0.001    0.000    0.002    0.000 {built-in method builtins.len}',\n",
       "  '      688    0.001    0.000    0.003    0.000 typing.py:137(_type_check)',\n",
       "  \"      212    0.001    0.000    0.001    0.000 {method '__exit__' of '_io._IOBase' objects}\",\n",
       "  '      118    0.001    0.000    0.003    0.000 __init__.py:363(<setcomp>)',\n",
       "  '      160    0.001    0.000    0.027    0.000 <frozen importlib._bootstrap_external>:916(get_code)',\n",
       "  '      339    0.001    0.000    0.006    0.000 typing.py:739(__init__)',\n",
       "  '1161/1025    0.001    0.000    0.015    0.000 typing.py:271(inner)',\n",
       "  '      118    0.001    0.000    0.001    0.000 {built-in method posix.open}',\n",
       "  '     1733    0.001    0.000    0.003    0.000 <frozen importlib._bootstrap_external>:121(_path_join)',\n",
       "  '     1733    0.001    0.000    0.002    0.000 <frozen importlib._bootstrap_external>:123(<listcomp>)',\n",
       "  '       54    0.001    0.000    0.002    0.000 {built-in method numpy.core._multiarray_umath.implement_array_function}',\n",
       "  '       25    0.001    0.000    0.002    0.000 configparser.py:996(_read)',\n",
       "  '      320    0.001    0.000    0.003    0.000 <frozen importlib._bootstrap_external>:361(cache_from_source)',\n",
       "  '      266    0.001    0.000    0.002    0.000 variable.py:241(as_compatible_data)',\n",
       "  '    188/6    0.001    0.000    0.172    0.029 <frozen importlib._bootstrap>:1002(_find_and_load)',\n",
       "  '        2    0.001    0.001    0.002    0.001 variables.py:204(_apply_mask)',\n",
       "  '       18    0.001    0.000    0.001    0.000 {built-in method posix.listdir}',\n",
       "  \"     4361    0.001    0.000    0.001    0.000 {method 'startswith' of 'str' objects}\",\n",
       "  '     2198    0.001    0.000    0.002    0.000 typing.py:665(_is_dunder)',\n",
       "  \"     2830    0.001    0.000    0.001    0.000 {method 'join' of 'str' objects}\",\n",
       "  \"     7911    0.001    0.000    0.001    0.000 {method 'append' of 'list' objects}\",\n",
       "  \"     3312    0.001    0.000    0.001    0.000 {method 'match' of 're.Pattern' objects}\",\n",
       "  '     2401    0.001    0.000    0.001    0.000 sre_parse.py:234(__next)',\n",
       "  '       27    0.001    0.000    0.001    0.000 {built-in method builtins.dir}',\n",
       "  '       32    0.001    0.000    0.001    0.000 {built-in method posix.getcwd}',\n",
       "  '       23    0.001    0.000    0.001    0.000 _make.py:795(_create_slots_class)',\n",
       "  '  209/149    0.001    0.000    0.001    0.000 indexing.py:540(shape)',\n",
       "  '      124    0.001    0.000    0.001    0.000 sre_compile.py:292(_optimize_charset)',\n",
       "  '      118    0.001    0.000    0.001    0.000 {built-in method posix.lstat}',\n",
       "  '    180/7    0.001    0.000    0.170    0.024 <frozen importlib._bootstrap>:659(_load_unlocked)',\n",
       "  '     2263    0.001    0.000    0.001    0.000 sre_parse.py:165(__getitem__)',\n",
       "  '       74    0.001    0.000    0.001    0.000 functools.py:65(wraps)',\n",
       "  '    188/6    0.001    0.000    0.172    0.029 <frozen importlib._bootstrap>:967(_find_and_load_unlocked)',\n",
       "  '      180    0.001    0.000    0.004    0.000 <frozen importlib._bootstrap>:486(_init_module_attrs)',\n",
       "  '      359    0.001    0.000    0.001    0.000 typing_extensions.py:140(_collect_type_vars)',\n",
       "  '        3    0.001    0.000    0.012    0.004 rioxarray.py:437(write_crs)',\n",
       "  '      235    0.001    0.000    0.001    0.000 <frozen importlib._bootstrap>:166(_get_module_lock)',\n",
       "  '      195    0.001    0.000    0.018    0.000 <frozen importlib._bootstrap_external>:1383(_get_spec)',\n",
       "  '       66    0.001    0.000    0.013    0.000 dataarray.py:1348(isel)',\n",
       "  '      122    0.001    0.000    0.001    0.000 {built-in method builtins.eval}',\n",
       "  '   359/97    0.001    0.000    0.001    0.000 sre_parse.py:175(getwidth)',\n",
       "  '     2171    0.001    0.000    0.001    0.000 {built-in method builtins.hasattr}',\n",
       "  '      126    0.001    0.000    0.002    0.000 dataarray.py:474(_replace_maybe_drop_dims)',\n",
       "  '        5    0.001    0.000    0.001    0.000 {rasterio.crs.from_wkt}',\n",
       "  '     1747    0.001    0.000    0.001    0.000 sre_parse.py:255(get)',\n",
       "  '      116    0.001    0.000    0.001    0.000 indexes.py:1488(filter_indexes_from_coords)',\n",
       "  \"        8    0.001    0.000    0.001    0.000 {method 'to_wkt' of 'pyproj._crs.Base' objects}\",\n",
       "  '      263    0.001    0.000    0.004    0.000 variable.py:346(__init__)',\n",
       "  '      132    0.001    0.000    0.003    0.000 variable.py:694(_broadcast_indexes)',\n",
       "  '      160    0.001    0.000    0.009    0.000 <frozen importlib._bootstrap_external>:1036(get_data)',\n",
       "  \"        1    0.001    0.001    0.001    0.001 {method 'start' of 'rasterio._env.GDALEnv' objects}\",\n",
       "  '      235    0.001    0.000    0.001    0.000 <frozen importlib._bootstrap>:87(acquire)',\n",
       "  '      235    0.001    0.000    0.001    0.000 <frozen importlib._bootstrap>:112(release)',\n",
       "  '      154    0.001    0.000    0.003    0.000 dataarray.py:806(_getitem_coord)',\n",
       "  '     1849    0.001    0.000    0.001    0.000 <frozen importlib._bootstrap>:231(_verbose_message)',\n",
       "  '   341/39    0.001    0.000    0.001    0.000 copy.py:128(deepcopy)']}"
      ]
     },
     "execution_count": 8,
     "metadata": {},
     "output_type": "execute_result"
    }
   ],
   "source": [
    "image_and_assets, cprofile = xarray_tile_reader.tile(\n",
    "    \"cmip6-reference/combined_cmip6_kerchunk.json\", \n",
    "    *xyz_tile,\n",
    "    reference=True,\n",
    "    anon=False,\n",
    "    variable=\"tas\",\n",
    ")\n",
    "cprofile"
   ]
  },
  {
   "cell_type": "code",
   "execution_count": 9,
   "id": "88451037",
   "metadata": {},
   "outputs": [
    {
     "name": "stderr",
     "output_type": "stream",
     "text": [
      "/Users/aimeebarciauskas/github/developmentseed/tile-benchmarking/profiling/venv-profiling/lib/python3.9/site-packages/rio_tiler/models.py:648: InvalidDatatypeWarning: Invalid type: `float32` for the `PNG` driver. Data will be rescaled using min/max type bounds or dataset_statistics.\n",
      "  warnings.warn(\n",
      "/Users/aimeebarciauskas/github/developmentseed/tile-benchmarking/profiling/venv-profiling/lib/python3.9/site-packages/rio_tiler/models.py:140: RuntimeWarning: invalid value encountered in cast\n",
      "  return data.astype(out_dtype)\n"
     ]
    },
    {
     "data": {
      "image/png": "[encoded data removed]",
      "text/plain": [
       "<PIL.PngImagePlugin.PngImageFile image mode=LA size=256x256>"
      ]
     },
     "execution_count": 9,
     "metadata": {},
     "output_type": "execute_result"
    }
   ],
   "source": [
    "content = image_and_assets.render(\n",
    "    img_format='PNG'\n",
    ")\n",
    "\n",
    "im = Image.open(io.BytesIO(content))\n",
    "im"
   ]
  }
 ],
 "metadata": {
  "kernelspec": {
   "display_name": "venv-profiling",
   "language": "python",
   "name": "venv-profiling"
  },
  "language_info": {
   "codemirror_mode": {
    "name": "ipython",
    "version": 3
   },
   "file_extension": ".py",
   "mimetype": "text/x-python",
   "name": "python",
   "nbconvert_exporter": "python",
   "pygments_lexer": "ipython3",
   "version": "3.9.15"
  }
 },
 "nbformat": 4,
 "nbformat_minor": 5
}
