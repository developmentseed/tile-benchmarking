{
 "cells": [
  {
   "cell_type": "markdown",
   "id": "330dc8cc",
   "metadata": {},
   "source": [
    "# Profiling tiling of titiler-pgstac and titiler-xarray\n",
    "\n",
    "This notebook profiles code for tiling CMIP6 data via 2 methods:\n",
    "\n",
    "1. pgSTAC + COGs: The first method uses a (local) pgSTAC database for storing metadata about COGs on S3. The libraries used are pgstac for reading STAC metadata and rio_tiler's rasterio for reading COGs on S3.\n",
    "2. kerchunk + netCDF: The second method uses a (local) kerchunk reference file for NetCDF files stored on S3. The libraries used are xarray for reading the Zarr metadata and rio_tiler's XarrayReader for reading data from the NetCDFs on S3.\n",
    "\n",
    "In the future, the following improvements and additions to this profiling code will be made:\n",
    "\n",
    "1. Test with a Zarr store. The profiling code will be run on a Zarr store to compare the performance of reading from a Zarr store vs. reading from a NetCDF via kerchunk.\n",
    "2. Test different chunking strategies: The profiling code will be run on a few different Zarr stores with different chunking schemes.\n",
    "3. Test a higher resolution dataset."
   ]
  },
  {
   "cell_type": "code",
   "execution_count": 1,
   "id": "da1d3144",
   "metadata": {},
   "outputs": [],
   "source": [
    "import io\n",
    "from PIL import Image\n",
    "import os\n",
    "\n",
    "os.environ['GDAL_INGESTED_BYTES_AT_OPEN'] = '32768'\n",
    "os.environ['GDAL_DISABLE_READDIR_ON_OPEN'] = 'EMPTY_DIR'\n",
    "os.environ['GDAL_HTTP_MERGE_CONSECUTIVE_RANGES'] = 'YES'\n",
    "os.environ['GDAL_HTTP_MULTIPLEX'] = 'YES'\n",
    "os.environ['GDAL_HTTP_VERSION'] = '2'\n",
    "os.environ['VSI_CACHE'] = 'TRUE'"
   ]
  },
  {
   "cell_type": "code",
   "execution_count": 2,
   "id": "a53106ea",
   "metadata": {},
   "outputs": [],
   "source": [
    "xyz_tile = (0,0,0)"
   ]
  },
  {
   "cell_type": "markdown",
   "id": "8a131851",
   "metadata": {},
   "source": [
    "## Profile titiler-pgstac"
   ]
  },
  {
   "cell_type": "code",
   "execution_count": 3,
   "id": "045ea6a0",
   "metadata": {},
   "outputs": [
    {
     "name": "stdout",
     "output_type": "stream",
     "text": [
      "<psycopg_pool.pool.ConnectionPool 'pool-1' at 0x1294bdd30>\n"
     ]
    }
   ],
   "source": [
    "%load_ext autoreload\n",
    "%autoreload\n",
    "os.environ['STACK_NAME'] = 'eodc-dev-pgSTAC'\n",
    "import pgstac.profile_pgstac as profile_pgstac "
   ]
  },
  {
   "cell_type": "code",
   "execution_count": 4,
   "id": "ed8b8d9f",
   "metadata": {},
   "outputs": [
    {
     "name": "stdout",
     "output_type": "stream",
     "text": [
      "time in rasterio.open: 457.76\n",
      "time initiating WarpedVRT: 1.57\n",
      "time reading WarpedVRT: 203.11\n",
      "time creating ImageData: 0.02\n",
      "time in rasterio.io.reader#part: 220.2\n",
      "time in MultiBaseReader#tile.tile: 224.86\n",
      "{'pgstac-search': 96.55, 'get_tile': [719.98], 'mosaic': 722.58}\n"
     ]
    },
    {
     "data": {
      "text/plain": [
       "{'cprofile': ['   ncalls  tottime  percall  cumtime  percall filename:lineno(function)',\n",
       "  \"        9    0.720    0.080    0.720    0.080 {method 'acquire' of '_thread.lock' objects}\",\n",
       "  '        4    0.178    0.045    0.182    0.045 connection.py:949(wait)',\n",
       "  '        8    0.001    0.000    0.001    0.000 connection.py:434(_exec_command)',\n",
       "  '        2    0.001    0.000    0.001    0.000 _queries.py:82(dump)',\n",
       "  '        1    0.001    0.001    0.907    0.907 profile_pgstac.py:146(tile)',\n",
       "  '        2    0.001    0.000    0.001    0.000 core.py:3433(__setmask__)']}"
      ]
     },
     "execution_count": 4,
     "metadata": {},
     "output_type": "execute_result"
    }
   ],
   "source": [
    "temporal_resolution = 'daily' # 'monthly'\n",
    "if temporal_resolution == 'daily':\n",
    "    collection = \"CMIP6_daily_GISS-E2-1-G_TAS\"\n",
    "elif temporal_resolution == 'monthly':\n",
    "    collection = \"CMIP6_ensemble_monthly_median_TAS\"\n",
    "query = {\n",
    "  \"collections\": [ collection ],\n",
    "  \"filter\": {\n",
    "    \"op\": \"t_intersects\",\n",
    "    \"args\": [\n",
    "      {\n",
    "        \"property\": \"datetime\"\n",
    "      },\n",
    "      {\n",
    "        \"interval\": [\n",
    "          \"1950-04-01T00:00:00Z\"           \n",
    "        ]\n",
    "      }\n",
    "    ]\n",
    "  },\n",
    "  \"filter-lang\": \"cql2-json\"\n",
    "}\n",
    "\n",
    "image_and_assets, cprofile = profile_pgstac.tile(*xyz_tile, query=dict(query))\n",
    "cprofile"
   ]
  },
  {
   "cell_type": "markdown",
   "id": "f5b54282",
   "metadata": {},
   "source": [
    "**NOTES:**\n",
    "\n",
    "* There are 2 parts to the overall timing of generating the image - `pgstac-search` and `get_tile`.\n",
    "* `get_tile` above is a list with a timing for each tif. The bulk of this time is in `CustomSTACReader#tile`. That function has a subfunction `_reader` which wraps `src_dst.tile` in `self.reader`.\n",
    "* The `CustomSTACReader`'s `reader` attribute is `BaseReader` from `rio_tiler.io.base`. There is no init function for BaseReader so I don't think any time is spent initializing the reader.\n",
    "* `CustomSTACReader` inherits from `MultiBaseReader` so the `#tile` function is defined in that class.\n",
    "* The `MultiBaseReader#tile` function also has a `_reader` subfunction which is called for each asset.\n",
    "* The code for rio_tiler's `MultiBaseReader#tile#_reader` can be thought of as a **initialize reader** step and a **tile** step. \n",
    "* The bulk of the `get_tile` time is spent in the **initialize reader** step of `MultiBaseReader#tile#_reader`. The initialization of `MultiBaseReader#reader` spends most of it's time in `rasterio.open`. I have not dug into the subcalls of `rasterio.open`\n",
    "* `MultiBaseReader#tile#tile` is roughly equivalent to `rasterio.io.reader#part` and wraps the reading of the WarpedVRT, so should be the sum of the previous calls.\n"
   ]
  },
  {
   "cell_type": "code",
   "execution_count": 5,
   "id": "73e79419",
   "metadata": {},
   "outputs": [
    {
     "name": "stderr",
     "output_type": "stream",
     "text": [
      "/Users/aimeebarciauskas/github/developmentseed/tile-benchmarking/profiling/venv-profiling/lib/python3.9/site-packages/rio_tiler/models.py:648: InvalidDatatypeWarning: Invalid type: `float64` for the `PNG` driver. Data will be rescaled using min/max type bounds or dataset_statistics.\n",
      "  warnings.warn(\n"
     ]
    },
    {
     "data": {
      "image/png": "[encoded data removed]",
      "text/plain": [
       "<PIL.PngImagePlugin.PngImageFile image mode=LA size=256x256>"
      ]
     },
     "execution_count": 5,
     "metadata": {},
     "output_type": "execute_result"
    }
   ],
   "source": [
    "content = image_and_assets[0].render(\n",
    "    img_format='PNG'\n",
    ")\n",
    "\n",
    "im = Image.open(io.BytesIO(content))\n",
    "im"
   ]
  },
  {
   "cell_type": "markdown",
   "id": "6021ba14",
   "metadata": {},
   "source": [
    "## Profile titiler-xarray"
   ]
  },
  {
   "cell_type": "code",
   "execution_count": 6,
   "id": "d60aad91",
   "metadata": {},
   "outputs": [
    {
     "name": "stdout",
     "output_type": "stream",
     "text": [
      "The autoreload extension is already loaded. To reload it, use:\n",
      "  %reload_ext autoreload\n"
     ]
    }
   ],
   "source": [
    "%load_ext autoreload\n",
    "%autoreload\n",
    "import xarray_tile_reader"
   ]
  },
  {
   "cell_type": "code",
   "execution_count": 7,
   "id": "92cd9091",
   "metadata": {},
   "outputs": [
    {
     "name": "stdout",
     "output_type": "stream",
     "text": [
      "Anon is False\n"
     ]
    },
    {
     "name": "stderr",
     "output_type": "stream",
     "text": [
      "/Users/aimeebarciauskas/github/developmentseed/tile-benchmarking/profiling/zarr_reader.py:41: UserWarning: Variable(s) referenced in cell_measures not in variables: ['areacella']\n",
      "  ds = xarray.open_dataset(src_path, **xr_open_args)\n"
     ]
    },
    {
     "name": "stdout",
     "output_type": "stream",
     "text": [
      "Time elapsed for xarray.open_datset: 1004.14\n",
      "Time elapsed for dimension arrangement and array pre-processing: 31.14\n"
     ]
    },
    {
     "ename": "TileOutsideBounds",
     "evalue": "Tile 0/0/0 is outside bounds",
     "output_type": "error",
     "traceback": [
      "\u001b[0;31m---------------------------------------------------------------------------\u001b[0m",
      "\u001b[0;31mTileOutsideBounds\u001b[0m                         Traceback (most recent call last)",
      "Cell \u001b[0;32mIn[7], line 2\u001b[0m\n\u001b[1;32m      1\u001b[0m os\u001b[38;5;241m.\u001b[39menviron[\u001b[38;5;124m'\u001b[39m\u001b[38;5;124mAWS_PROFILE\u001b[39m\u001b[38;5;124m'\u001b[39m] \u001b[38;5;241m=\u001b[39m \u001b[38;5;124m'\u001b[39m\u001b[38;5;124mveda-dev\u001b[39m\u001b[38;5;124m'\u001b[39m\n\u001b[0;32m----> 2\u001b[0m image_and_assets, cprofile \u001b[38;5;241m=\u001b[39m \u001b[43mxarray_tile_reader\u001b[49m\u001b[38;5;241;43m.\u001b[39;49m\u001b[43mtile\u001b[49m\u001b[43m(\u001b[49m\n\u001b[1;32m      3\u001b[0m \u001b[43m    \u001b[49m\u001b[38;5;124;43m\"\u001b[39;49m\u001b[38;5;124;43mcmip6-reference/combined_monthly_cmip6_kerchunk.json\u001b[39;49m\u001b[38;5;124;43m\"\u001b[39;49m\u001b[43m,\u001b[49m\u001b[43m \u001b[49m\n\u001b[1;32m      4\u001b[0m \u001b[43m    \u001b[49m\u001b[38;5;241;43m*\u001b[39;49m\u001b[43mxyz_tile\u001b[49m\u001b[43m,\u001b[49m\n\u001b[1;32m      5\u001b[0m \u001b[43m    \u001b[49m\u001b[43mreference\u001b[49m\u001b[38;5;241;43m=\u001b[39;49m\u001b[38;5;28;43;01mTrue\u001b[39;49;00m\u001b[43m,\u001b[49m\n\u001b[1;32m      6\u001b[0m \u001b[43m    \u001b[49m\u001b[43manon\u001b[49m\u001b[38;5;241;43m=\u001b[39;49m\u001b[38;5;28;43;01mFalse\u001b[39;49;00m\u001b[43m,\u001b[49m\n\u001b[1;32m      7\u001b[0m \u001b[43m    \u001b[49m\u001b[43mvariable\u001b[49m\u001b[38;5;241;43m=\u001b[39;49m\u001b[38;5;124;43m\"\u001b[39;49m\u001b[38;5;124;43mtas\u001b[39;49m\u001b[38;5;124;43m\"\u001b[39;49m\u001b[43m,\u001b[49m\n\u001b[1;32m      8\u001b[0m \u001b[43m)\u001b[49m\n\u001b[1;32m      9\u001b[0m cprofile\n",
      "File \u001b[0;32m~/github/developmentseed/tile-benchmarking/profiling/profiler/main.py:78\u001b[0m, in \u001b[0;36mprofile.<locals>.wrapper.<locals>.wrapped_f\u001b[0;34m(*args, **kwargs)\u001b[0m\n\u001b[1;32m     75\u001b[0m \u001b[38;5;28;01mwith\u001b[39;00m Timer() \u001b[38;5;28;01mas\u001b[39;00m t:\n\u001b[1;32m     76\u001b[0m     \u001b[38;5;66;03m# cProfile is a simple Python profiling\u001b[39;00m\n\u001b[1;32m     77\u001b[0m     prof \u001b[38;5;241m=\u001b[39m cProfile\u001b[38;5;241m.\u001b[39mProfile()\n\u001b[0;32m---> 78\u001b[0m     retval \u001b[38;5;241m=\u001b[39m \u001b[43mprof\u001b[49m\u001b[38;5;241;43m.\u001b[39;49m\u001b[43mruncall\u001b[49m\u001b[43m(\u001b[49m\u001b[43mfunc\u001b[49m\u001b[43m,\u001b[49m\u001b[43m \u001b[49m\u001b[38;5;241;43m*\u001b[39;49m\u001b[43margs\u001b[49m\u001b[43m,\u001b[49m\u001b[43m \u001b[49m\u001b[38;5;241;43m*\u001b[39;49m\u001b[38;5;241;43m*\u001b[39;49m\u001b[43mkwargs\u001b[49m\u001b[43m)\u001b[49m\n\u001b[1;32m     79\u001b[0m     profile_stream \u001b[38;5;241m=\u001b[39m StringIO()\n\u001b[1;32m     80\u001b[0m     ps \u001b[38;5;241m=\u001b[39m pstats\u001b[38;5;241m.\u001b[39mStats(prof, stream\u001b[38;5;241m=\u001b[39mprofile_stream)\n",
      "File \u001b[0;32m/usr/local/Cellar/python@3.9/3.9.15/Frameworks/Python.framework/Versions/3.9/lib/python3.9/cProfile.py:109\u001b[0m, in \u001b[0;36mProfile.runcall\u001b[0;34m(self, func, *args, **kw)\u001b[0m\n\u001b[1;32m    107\u001b[0m \u001b[38;5;28mself\u001b[39m\u001b[38;5;241m.\u001b[39menable()\n\u001b[1;32m    108\u001b[0m \u001b[38;5;28;01mtry\u001b[39;00m:\n\u001b[0;32m--> 109\u001b[0m     \u001b[38;5;28;01mreturn\u001b[39;00m \u001b[43mfunc\u001b[49m\u001b[43m(\u001b[49m\u001b[38;5;241;43m*\u001b[39;49m\u001b[43margs\u001b[49m\u001b[43m,\u001b[49m\u001b[43m \u001b[49m\u001b[38;5;241;43m*\u001b[39;49m\u001b[38;5;241;43m*\u001b[39;49m\u001b[43mkw\u001b[49m\u001b[43m)\u001b[49m\n\u001b[1;32m    110\u001b[0m \u001b[38;5;28;01mfinally\u001b[39;00m:\n\u001b[1;32m    111\u001b[0m     \u001b[38;5;28mself\u001b[39m\u001b[38;5;241m.\u001b[39mdisable()\n",
      "File \u001b[0;32m~/github/developmentseed/tile-benchmarking/profiling/xarray_tile_reader.py:111\u001b[0m, in \u001b[0;36mtile\u001b[0;34m(src_path, x, y, z, variable, time_slice, **kwargs)\u001b[0m\n\u001b[1;32m    108\u001b[0m \u001b[38;5;28mprint\u001b[39m(\u001b[38;5;124mf\u001b[39m\u001b[38;5;124m\"\u001b[39m\u001b[38;5;124mTime elapsed for dimension arrangement and array pre-processing: \u001b[39m\u001b[38;5;132;01m{\u001b[39;00m\u001b[38;5;28mround\u001b[39m(t\u001b[38;5;241m.\u001b[39melapsed\u001b[38;5;250m \u001b[39m\u001b[38;5;241m*\u001b[39m\u001b[38;5;250m \u001b[39m\u001b[38;5;241m1000\u001b[39m,\u001b[38;5;250m \u001b[39m\u001b[38;5;241m2\u001b[39m)\u001b[38;5;132;01m}\u001b[39;00m\u001b[38;5;124m\"\u001b[39m)\n\u001b[1;32m    110\u001b[0m \u001b[38;5;28;01mwith\u001b[39;00m XarrayTileReader(dataarray) \u001b[38;5;28;01mas\u001b[39;00m src_dst:\n\u001b[0;32m--> 111\u001b[0m     \u001b[38;5;28;01mreturn\u001b[39;00m \u001b[43msrc_dst\u001b[49m\u001b[38;5;241;43m.\u001b[39;49m\u001b[43mtile\u001b[49m\u001b[43m(\u001b[49m\u001b[43mx\u001b[49m\u001b[43m,\u001b[49m\u001b[43m \u001b[49m\u001b[43my\u001b[49m\u001b[43m,\u001b[49m\u001b[43m \u001b[49m\u001b[43mz\u001b[49m\u001b[43m)\u001b[49m\n",
      "File \u001b[0;32m~/github/developmentseed/tile-benchmarking/profiling/xarray_tile_reader.py:54\u001b[0m, in \u001b[0;36mXarrayTileReader.tile\u001b[0;34m(self, tile_x, tile_y, tile_z, tilesize, resampling_method, auto_expand)\u001b[0m\n\u001b[1;32m     39\u001b[0m \u001b[38;5;250m\u001b[39m\u001b[38;5;124;03m\"\"\"Read a Web Map tile from a dataset.\u001b[39;00m\n\u001b[1;32m     40\u001b[0m \n\u001b[1;32m     41\u001b[0m \u001b[38;5;124;03mArgs:\u001b[39;00m\n\u001b[0;32m   (...)\u001b[0m\n\u001b[1;32m     51\u001b[0m \n\u001b[1;32m     52\u001b[0m \u001b[38;5;124;03m\"\"\"\u001b[39;00m\n\u001b[1;32m     53\u001b[0m \u001b[38;5;28;01mif\u001b[39;00m \u001b[38;5;129;01mnot\u001b[39;00m \u001b[38;5;28mself\u001b[39m\u001b[38;5;241m.\u001b[39mtile_exists(tile_x, tile_y, tile_z):\n\u001b[0;32m---> 54\u001b[0m     \u001b[38;5;28;01mraise\u001b[39;00m TileOutsideBounds(\n\u001b[1;32m     55\u001b[0m         \u001b[38;5;124mf\u001b[39m\u001b[38;5;124m\"\u001b[39m\u001b[38;5;124mTile \u001b[39m\u001b[38;5;132;01m{\u001b[39;00mtile_z\u001b[38;5;132;01m}\u001b[39;00m\u001b[38;5;124m/\u001b[39m\u001b[38;5;132;01m{\u001b[39;00mtile_x\u001b[38;5;132;01m}\u001b[39;00m\u001b[38;5;124m/\u001b[39m\u001b[38;5;132;01m{\u001b[39;00mtile_y\u001b[38;5;132;01m}\u001b[39;00m\u001b[38;5;124m is outside bounds\u001b[39m\u001b[38;5;124m\"\u001b[39m\n\u001b[1;32m     56\u001b[0m     )\n\u001b[1;32m     58\u001b[0m tile_bounds \u001b[38;5;241m=\u001b[39m \u001b[38;5;28mself\u001b[39m\u001b[38;5;241m.\u001b[39mtms\u001b[38;5;241m.\u001b[39mxy_bounds(Tile(x\u001b[38;5;241m=\u001b[39mtile_x, y\u001b[38;5;241m=\u001b[39mtile_y, z\u001b[38;5;241m=\u001b[39mtile_z))\n\u001b[1;32m     60\u001b[0m \u001b[38;5;66;03m# Create source array by clipping the xarray dataset to extent of the tile.\u001b[39;00m\n",
      "\u001b[0;31mTileOutsideBounds\u001b[0m: Tile 0/0/0 is outside bounds"
     ]
    }
   ],
   "source": [
    "os.environ['AWS_PROFILE'] = 'veda-dev'\n",
    "image_and_assets, cprofile = xarray_tile_reader.tile(\n",
    "    \"cmip6-reference/combined_monthly_cmip6_kerchunk.json\", \n",
    "    *xyz_tile,\n",
    "    reference=True,\n",
    "    anon=False,\n",
    "    variable=\"tas\",\n",
    ")\n",
    "cprofile"
   ]
  },
  {
   "cell_type": "code",
   "execution_count": 12,
   "id": "88451037",
   "metadata": {},
   "outputs": [
    {
     "name": "stderr",
     "output_type": "stream",
     "text": [
      "/Users/aimeebarciauskas/github/developmentseed/tile-benchmarking/profiling/venv-profiling/lib/python3.9/site-packages/rio_tiler/models.py:648: InvalidDatatypeWarning: Invalid type: `float32` for the `PNG` driver. Data will be rescaled using min/max type bounds or dataset_statistics.\n",
      "  warnings.warn(\n",
      "/Users/aimeebarciauskas/github/developmentseed/tile-benchmarking/profiling/venv-profiling/lib/python3.9/site-packages/rio_tiler/models.py:140: RuntimeWarning: invalid value encountered in cast\n",
      "  return data.astype(out_dtype)\n"
     ]
    },
    {
     "data": {
      "image/png": "[encoded data removed]",
      "text/plain": [
       "<PIL.PngImagePlugin.PngImageFile image mode=LA size=256x256>"
      ]
     },
     "execution_count": 12,
     "metadata": {},
     "output_type": "execute_result"
    }
   ],
   "source": [
    "content = image_and_assets.render(\n",
    "    img_format='PNG'\n",
    ")\n",
    "\n",
    "im = Image.open(io.BytesIO(content))\n",
    "im"
   ]
  }
 ],
 "metadata": {
  "kernelspec": {
   "display_name": "venv-profiling",
   "language": "python",
   "name": "venv-profiling"
  },
  "language_info": {
   "codemirror_mode": {
    "name": "ipython",
    "version": 3
   },
   "file_extension": ".py",
   "mimetype": "text/x-python",
   "name": "python",
   "nbconvert_exporter": "python",
   "pygments_lexer": "ipython3",
   "version": "3.9.15"
  }
 },
 "nbformat": 4,
 "nbformat_minor": 5
}
