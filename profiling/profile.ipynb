{
 "cells": [
  {
   "cell_type": "markdown",
   "id": "330dc8cc",
   "metadata": {},
   "source": [
    "# Profiling tiling of titiler-pgstac and titiler-xarray\n",
    "\n",
    "This notebook profiles code for tiling CMIP6 data via 2 methods:\n",
    "\n",
    "1. pgSTAC + COGs: The first method uses a (local or remote) pgSTAC database for storing metadata about COGs on S3. The libraries used are pgstac for reading STAC metadata and rio_tiler's rasterio for reading COGs on S3.\n",
    "2. kerchunk + netCDF: The second method uses a (local or S3) kerchunk reference file for NetCDF files stored on S3. The libraries used are xarray for reading the Zarr metadata and rio_tiler's XarrayReader for reading data from the NetCDFs on S3.\n",
    "3. Zarr stores with different chunking configurations and pyramids.\n",
    "\n",
    "In the future, the following improvements and additions to this profiling code will be made:\n",
    "\n",
    "1. Use carbonplan's datasets\n",
    "3. Test a higher resolution dataset.\n",
    "\n",
    "# Findings: Executive summary\n",
    "\n",
    "1. pgSTAC + COGs is fastest, assuming GDAL environment variables are configured optimally\n",
    "2. tiling using Zarr really depends on the chunking structure. Make sure that:\n",
    "   1. if optimizing for spatial visualization and not time series, only store 1 time step per chunk\n",
    "   2. Make sure the coordinates themselves are not chunked, otherwise this will require a lot of data fetches when loading the dataset\n",
    "3. Pyramids can be used to generate low resolution versions of the dataset."
   ]
  },
  {
   "cell_type": "markdown",
   "id": "dd3c1361-1e28-42a6-92b5-7c4bac4d9211",
   "metadata": {},
   "source": [
    "## Setup / Step 0\n",
    "\n",
    "1. Load some basic libraries and set environment variables for AWS access\n",
    "2. Initiate tileset to test"
   ]
  },
  {
   "cell_type": "code",
   "execution_count": 1,
   "id": "7dc702b3-f418-4281-a8e2-2fe0358d4e5e",
   "metadata": {
    "tags": []
   },
   "outputs": [],
   "source": [
    "%%capture\n",
    "!pip install -r requirements.txt\n",
    "!pip install morecantile==3.4.0 loguru titiler titiler-pgstac\n",
    "!pip install psycopg psycopg_binary psycopg_pool"
   ]
  },
  {
   "cell_type": "code",
   "execution_count": 2,
   "id": "81cbd0f3-f88e-4c4e-b809-eecda8f5c14f",
   "metadata": {
    "editable": true,
    "slideshow": {
     "slide_type": ""
    },
    "tags": []
   },
   "outputs": [
    {
     "name": "stdout",
     "output_type": "stream",
     "text": [
      "Caught exception: An error occurred (InvalidPermission.Duplicate) when calling the AuthorizeSecurityGroupIngress operation: the specified rule \"peer: 35.90.27.97/32, TCP, from port: 5432, to port: 5432, ALLOW\" already exists\n",
      "Connected to database\n"
     ]
    }
   ],
   "source": [
    "import boto3\n",
    "from datetime import datetime\n",
    "import io\n",
    "from PIL import Image\n",
    "import os\n",
    "import warnings\n",
    "import cmip6_zarr.eodc_hub_role\n",
    "from matplotlib.pyplot import imshow\n",
    "import morecantile\n",
    "import numpy as np\n",
    "import pandas as pd\n",
    "from profiler.main import Timer, cprofile_list_to_dict\n",
    "\n",
    "from cmip6_zarr import eodc_hub_role\n",
    "credentials = eodc_hub_role.fetch_and_set_credentials()\n",
    "import cmip6_pgstac.profile_pgstac as profile_pgstac\n",
    "pool = profile_pgstac.connect_to_database(credentials)\n",
    "\n",
    "warnings.filterwarnings('ignore')"
   ]
  },
  {
   "cell_type": "code",
   "execution_count": 3,
   "id": "fe2f56bf-04d3-46d8-86e1-13c3e0fbff25",
   "metadata": {
    "editable": true,
    "slideshow": {
     "slide_type": ""
    },
    "tags": []
   },
   "outputs": [
    {
     "data": {
      "text/plain": [
       "[(0, 0, 0),\n",
       " (0, 0, 1),\n",
       " (1, 1, 2),\n",
       " (2, 3, 3),\n",
       " (4, 6, 4),\n",
       " (9, 12, 5),\n",
       " (18, 24, 6),\n",
       " (37, 48, 7),\n",
       " (75, 96, 8),\n",
       " (150, 192, 9),\n",
       " (301, 384, 10),\n",
       " (603, 769, 11)]"
      ]
     },
     "execution_count": 3,
     "metadata": {},
     "output_type": "execute_result"
    }
   ],
   "source": [
    "tms = morecantile.tms.get(\"WebMercatorQuad\")\n",
    "zooms = range(12) # Zoom 10 is the level at which you can see large roads, 15 is buildings\n",
    "xyz_tiles = []\n",
    "for z in zooms:\n",
    "    # lat/lon over central park\n",
    "    tile = tms.tile(-73.97, 40.78, z)\n",
    "    xyz_tiles.append((tile.x, tile.y, tile.z))\n",
    "\n",
    "xyz_tiles"
   ]
  },
  {
   "cell_type": "code",
   "execution_count": 4,
   "id": "f6f1561b-185d-47dc-9b32-ca2d80f84e25",
   "metadata": {
    "editable": true,
    "slideshow": {
     "slide_type": ""
    },
    "tags": [
     "parameters"
    ]
   },
   "outputs": [],
   "source": [
    "#parameters\n",
    "temporal_resolution = \"daily\"\n",
    "model = \"GISS-E2-1-G\"\n",
    "variable = \"tas\"\n",
    "anon=True"
   ]
  },
  {
   "cell_type": "markdown",
   "id": "8a131851",
   "metadata": {},
   "source": [
    "## Profile titiler-pgstac"
   ]
  },
  {
   "cell_type": "markdown",
   "id": "ec854450-c3d7-4cce-9379-13384fcc1b7b",
   "metadata": {},
   "source": [
    "GDAL environment variables are an important factor to delivering performant tiling using rasterio.\n",
    "\n",
    "These GDAL variables are documented here https://developmentseed.org/titiler/advanced/performance_tuning/, but that advice is copied into comments below for ease of reference."
   ]
  },
  {
   "cell_type": "code",
   "execution_count": 5,
   "id": "68399603-1a76-4cb6-a1fb-f00c35f41c3c",
   "metadata": {
    "editable": true,
    "slideshow": {
     "slide_type": ""
    },
    "tags": []
   },
   "outputs": [],
   "source": [
    "gdal_env_vars = {\n",
    "    # By default GDAL reads the first 16KB of the file, then if that doesn't contain the entire metadata\n",
    "    # it makes one more request for the rest of the metadata.\n",
    "    # In environments where latency is relatively high, AWS S3,\n",
    "    # it may be beneficial to increase this value depending on the data you expect to read.    \n",
    "    'GDAL_INGESTED_BYTES_AT_OPEN': '32768',\n",
    "    # It's much better to set EMPTY_DIR because this prevents GDAL from making a LIST request.\n",
    "    # LIST requests are made for sidecar files, which does not apply for COGs.  \n",
    "    'GDAL_DISABLE_READDIR_ON_OPEN': 'EMPTY_DIR',\n",
    "    # Tells GDAL to merge consecutive range GET requests.    \n",
    "    'GDAL_HTTP_MERGE_CONSECUTIVE_RANGES': 'YES',\n",
    "    # When set to YES, this attempts to download multiple range requests in parallel, reusing the same TCP connection. \n",
    "    # Note this is only possible when the server supports HTTP2, which many servers don't yet support.\n",
    "    # There's no downside to setting YES here.    \n",
    "    'GDAL_HTTP_MULTIPLEX': 'YES',\n",
    "    'GDAL_HTTP_VERSION': '2',\n",
    "    # Setting this to TRUE enables GDAL to use an internal caching mechanism. It's recommended (strongly).    \n",
    "    'VSI_CACHE': 'TRUE'\n",
    "}\n",
    "\n",
    "def set_or_unset_gdal(set_vars=True):\n",
    "    if set_vars:\n",
    "        for key, value in gdal_env_vars.items():\n",
    "            os.environ[key] = value\n",
    "    else:\n",
    "        for key, value in gdal_env_vars.items():\n",
    "            os.environ.pop(key, None)\n",
    "    return"
   ]
  },
  {
   "cell_type": "markdown",
   "id": "4e8ebf16-f617-45e8-9b51-40712fbde569",
   "metadata": {
    "tags": []
   },
   "source": [
    "Below we test tiling with and without gdal environment variables to demonstrate the magnitude of their importance when tiling with rasterio."
   ]
  },
  {
   "cell_type": "code",
   "execution_count": 6,
   "id": "ed8b8d9f",
   "metadata": {
    "editable": true,
    "slideshow": {
     "slide_type": ""
    },
    "tags": []
   },
   "outputs": [],
   "source": [
    "if temporal_resolution == 'daily':\n",
    "    collection = f\"CMIP6_daily_{model}_{variable}\"\n",
    "elif temporal_resolution == 'monthly':\n",
    "    collection = f\"CMIP6_ensemble_monthly_median_{variable}\"\n",
    "\n",
    "query = {\n",
    "  \"collections\": [ collection ],\n",
    "  \"filter\": {\n",
    "    \"op\": \"t_intersects\",\n",
    "    \"args\": [\n",
    "      {\n",
    "        \"property\": \"datetime\"\n",
    "      },\n",
    "      {\n",
    "        \"interval\": [\n",
    "          \"1950-04-01T00:00:00Z\"           \n",
    "        ]\n",
    "      }\n",
    "    ]\n",
    "  },\n",
    "  \"filter-lang\": \"cql2-json\"\n",
    "}\n",
    "\n",
    "gdal_results_df = {}\n",
    "# We don't need many iterations since the variation is so great.\n",
    "niters = 3\n",
    "xyz_tile = (0,0,0)\n",
    "for settings in ['with_gdal_vars', 'without_gdal_vars']:\n",
    "    gdal_results_df[settings] = { 'tile times': [], 'mean total time': None }\n",
    "    if settings == 'with_gdal_vars':\n",
    "        set_or_unset_gdal(set_vars=True)\n",
    "    else:\n",
    "        set_or_unset_gdal(set_vars=False)\n",
    "    for iter in range(niters):\n",
    "        with Timer() as t:\n",
    "            image_and_assets, cprofile = profile_pgstac.tile(pool, *xyz_tile, query=dict(query))\n",
    "        gdal_results_df[settings]['tile times'].append(round(t.elapsed * 1000, 2))\n",
    "    gdal_results_df[settings]['mean total time'] = np.mean(gdal_results_df[settings]['tile times'])\n",
    "    "
   ]
  },
  {
   "cell_type": "markdown",
   "id": "d1e5c491-6b96-4376-8621-c4a0e7d8ceec",
   "metadata": {},
   "source": [
    "We don't need many iterations since the variation is so great.\n",
    "You can see that setting GDAL environment variables makes things at least 100x faster.\n",
    "\n",
    "By setting the GDAL environment variables we limit the number of total requests to S3. \n",
    "\n",
    "Specifically, these environment variables ensure that:\n",
    "* All of the metadata may be read in 1 request. This is not necessarily true, but more likely since we increase the initial number of GDAL ingested bytes.\n",
    "* There is no superfluous LIST request to account for sidecar files, which don't exist for COGs.\n",
    "* Consecutive range requests are merged into 1 request.\n",
    "* Multiple range requests use the same TCP connection.\n"
   ]
  },
  {
   "cell_type": "code",
   "execution_count": 7,
   "id": "488547ee-bf92-4a50-be0f-4a7139a722e9",
   "metadata": {
    "tags": []
   },
   "outputs": [
    {
     "data": {
      "text/html": [
       "<div>\n",
       "<style scoped>\n",
       "    .dataframe tbody tr th:only-of-type {\n",
       "        vertical-align: middle;\n",
       "    }\n",
       "\n",
       "    .dataframe tbody tr th {\n",
       "        vertical-align: top;\n",
       "    }\n",
       "\n",
       "    .dataframe thead th {\n",
       "        text-align: right;\n",
       "    }\n",
       "</style>\n",
       "<table border=\"1\" class=\"dataframe\">\n",
       "  <thead>\n",
       "    <tr style=\"text-align: right;\">\n",
       "      <th></th>\n",
       "      <th>tile times</th>\n",
       "      <th>mean total time</th>\n",
       "    </tr>\n",
       "  </thead>\n",
       "  <tbody>\n",
       "    <tr>\n",
       "      <th>with_gdal_vars</th>\n",
       "      <td>[326.28, 55.82, 48.21]</td>\n",
       "      <td>143.436667</td>\n",
       "    </tr>\n",
       "    <tr>\n",
       "      <th>without_gdal_vars</th>\n",
       "      <td>[15009.95, 17100.71, 26133.16]</td>\n",
       "      <td>19414.606667</td>\n",
       "    </tr>\n",
       "  </tbody>\n",
       "</table>\n",
       "</div>"
      ],
      "text/plain": [
       "                                       tile times  mean total time\n",
       "with_gdal_vars             [326.28, 55.82, 48.21]       143.436667\n",
       "without_gdal_vars  [15009.95, 17100.71, 26133.16]     19414.606667"
      ]
     },
     "execution_count": 7,
     "metadata": {},
     "output_type": "execute_result"
    }
   ],
   "source": [
    "pd.DataFrame.from_dict(gdal_results_df, orient='index')"
   ]
  },
  {
   "cell_type": "markdown",
   "id": "1001f129-3a23-4f61-a58e-511e23c3f160",
   "metadata": {
    "tags": []
   },
   "source": [
    "## Testing different tiles for COGs\n",
    "\n",
    "Nothing is too interesting or surprising here, all tiles are relatively fast to produce."
   ]
  },
  {
   "cell_type": "code",
   "execution_count": 8,
   "id": "f5f4b287-4d6f-405d-a5eb-5e2ab82c4564",
   "metadata": {
    "tags": []
   },
   "outputs": [],
   "source": [
    "# Results for different tiles\n",
    "tile_results_df = {}\n",
    "niters = 10\n",
    "set_or_unset_gdal(set_vars=True)\n",
    "for xyz_tile in xyz_tiles:\n",
    "    tile_results_df[xyz_tile] = { 'tile times': [], 'mean total time': None }\n",
    "    results_timings = tile_results_df[xyz_tile]\n",
    "    for iter in range(niters):\n",
    "        with Timer() as t:\n",
    "            image_and_assets, cprofile = profile_pgstac.tile(pool, *xyz_tile, query=dict(query))\n",
    "        results_timings['tile times'].append(round(t.elapsed * 1000, 2))\n",
    "    results_timings['mean total time'] = np.mean(results_timings['tile times'])"
   ]
  },
  {
   "cell_type": "code",
   "execution_count": 9,
   "id": "b5b59035-2639-45cd-8b2c-532d4f249d81",
   "metadata": {
    "tags": []
   },
   "outputs": [
    {
     "data": {
      "text/html": [
       "<div>\n",
       "<style scoped>\n",
       "    .dataframe tbody tr th:only-of-type {\n",
       "        vertical-align: middle;\n",
       "    }\n",
       "\n",
       "    .dataframe tbody tr th {\n",
       "        vertical-align: top;\n",
       "    }\n",
       "\n",
       "    .dataframe thead th {\n",
       "        text-align: right;\n",
       "    }\n",
       "</style>\n",
       "<table border=\"1\" class=\"dataframe\">\n",
       "  <thead>\n",
       "    <tr style=\"text-align: right;\">\n",
       "      <th></th>\n",
       "      <th></th>\n",
       "      <th></th>\n",
       "      <th>tile times</th>\n",
       "      <th>mean total time</th>\n",
       "    </tr>\n",
       "  </thead>\n",
       "  <tbody>\n",
       "    <tr>\n",
       "      <th rowspan=\"2\" valign=\"top\">0</th>\n",
       "      <th rowspan=\"2\" valign=\"top\">0</th>\n",
       "      <th>0</th>\n",
       "      <td>[61.02, 58.62, 51.92, 51.57, 48.81, 55.69, 51....</td>\n",
       "      <td>53.574</td>\n",
       "    </tr>\n",
       "    <tr>\n",
       "      <th>1</th>\n",
       "      <td>[83.06, 46.34, 44.84, 45.03, 52.5, 47.14, 48.3...</td>\n",
       "      <td>51.185</td>\n",
       "    </tr>\n",
       "    <tr>\n",
       "      <th>1</th>\n",
       "      <th>1</th>\n",
       "      <th>2</th>\n",
       "      <td>[67.74, 44.75, 43.7, 42.72, 42.99, 51.41, 44.5...</td>\n",
       "      <td>46.509</td>\n",
       "    </tr>\n",
       "    <tr>\n",
       "      <th>2</th>\n",
       "      <th>3</th>\n",
       "      <th>3</th>\n",
       "      <td>[73.96, 43.58, 42.17, 43.41, 42.11, 50.27, 44....</td>\n",
       "      <td>46.838</td>\n",
       "    </tr>\n",
       "    <tr>\n",
       "      <th>4</th>\n",
       "      <th>6</th>\n",
       "      <th>4</th>\n",
       "      <td>[68.7, 49.8, 44.17, 61.48, 41.16, 42.0, 40.16,...</td>\n",
       "      <td>46.842</td>\n",
       "    </tr>\n",
       "    <tr>\n",
       "      <th>9</th>\n",
       "      <th>12</th>\n",
       "      <th>5</th>\n",
       "      <td>[50.34, 39.63, 39.38, 227.07, 50.84, 44.73, 53...</td>\n",
       "      <td>63.237</td>\n",
       "    </tr>\n",
       "    <tr>\n",
       "      <th>18</th>\n",
       "      <th>24</th>\n",
       "      <th>6</th>\n",
       "      <td>[53.63, 40.74, 40.4, 48.97, 45.83, 42.73, 40.5...</td>\n",
       "      <td>44.595</td>\n",
       "    </tr>\n",
       "    <tr>\n",
       "      <th>37</th>\n",
       "      <th>48</th>\n",
       "      <th>7</th>\n",
       "      <td>[52.45, 40.27, 41.39, 47.43, 45.77, 42.54, 41....</td>\n",
       "      <td>44.736</td>\n",
       "    </tr>\n",
       "    <tr>\n",
       "      <th>75</th>\n",
       "      <th>96</th>\n",
       "      <th>8</th>\n",
       "      <td>[55.22, 46.41, 46.04, 44.38, 48.53, 48.7, 45.7...</td>\n",
       "      <td>47.384</td>\n",
       "    </tr>\n",
       "    <tr>\n",
       "      <th>150</th>\n",
       "      <th>192</th>\n",
       "      <th>9</th>\n",
       "      <td>[53.67, 40.82, 41.49, 40.66, 41.16, 42.08, 50....</td>\n",
       "      <td>43.836</td>\n",
       "    </tr>\n",
       "    <tr>\n",
       "      <th>301</th>\n",
       "      <th>384</th>\n",
       "      <th>10</th>\n",
       "      <td>[52.43, 41.12, 43.15, 41.02, 41.44, 40.75, 40....</td>\n",
       "      <td>43.625</td>\n",
       "    </tr>\n",
       "    <tr>\n",
       "      <th>603</th>\n",
       "      <th>769</th>\n",
       "      <th>11</th>\n",
       "      <td>[51.38, 40.68, 41.52, 46.84, 46.85, 44.63, 48....</td>\n",
       "      <td>45.213</td>\n",
       "    </tr>\n",
       "  </tbody>\n",
       "</table>\n",
       "</div>"
      ],
      "text/plain": [
       "                                                   tile times  mean total time\n",
       "0   0   0   [61.02, 58.62, 51.92, 51.57, 48.81, 55.69, 51....           53.574\n",
       "        1   [83.06, 46.34, 44.84, 45.03, 52.5, 47.14, 48.3...           51.185\n",
       "1   1   2   [67.74, 44.75, 43.7, 42.72, 42.99, 51.41, 44.5...           46.509\n",
       "2   3   3   [73.96, 43.58, 42.17, 43.41, 42.11, 50.27, 44....           46.838\n",
       "4   6   4   [68.7, 49.8, 44.17, 61.48, 41.16, 42.0, 40.16,...           46.842\n",
       "9   12  5   [50.34, 39.63, 39.38, 227.07, 50.84, 44.73, 53...           63.237\n",
       "18  24  6   [53.63, 40.74, 40.4, 48.97, 45.83, 42.73, 40.5...           44.595\n",
       "37  48  7   [52.45, 40.27, 41.39, 47.43, 45.77, 42.54, 41....           44.736\n",
       "75  96  8   [55.22, 46.41, 46.04, 44.38, 48.53, 48.7, 45.7...           47.384\n",
       "150 192 9   [53.67, 40.82, 41.49, 40.66, 41.16, 42.08, 50....           43.836\n",
       "301 384 10  [52.43, 41.12, 43.15, 41.02, 41.44, 40.75, 40....           43.625\n",
       "603 769 11  [51.38, 40.68, 41.52, 46.84, 46.85, 44.63, 48....           45.213"
      ]
     },
     "execution_count": 9,
     "metadata": {},
     "output_type": "execute_result"
    }
   ],
   "source": [
    "pd.DataFrame.from_dict(tile_results_df, orient='index')"
   ]
  },
  {
   "cell_type": "code",
   "execution_count": 10,
   "id": "d1855e96-3d84-4ae3-a677-10fffb002dd9",
   "metadata": {
    "tags": []
   },
   "outputs": [
    {
     "data": {
      "text/plain": [
       "<matplotlib.image.AxesImage at 0x7fdf4633f160>"
      ]
     },
     "execution_count": 10,
     "metadata": {},
     "output_type": "execute_result"
    },
    {
     "data": {
      "image/png": "[encoded data removed]",
      "text/plain": [
       "<Figure size 640x480 with 1 Axes>"
      ]
     },
     "metadata": {},
     "output_type": "display_data"
    }
   ],
   "source": [
    "image = image_and_assets[0].data_as_image()\n",
    "imshow(image)"
   ]
  },
  {
   "cell_type": "markdown",
   "id": "6021ba14",
   "metadata": {},
   "source": [
    "# Profile titiler-xarray"
   ]
  },
  {
   "cell_type": "code",
   "execution_count": 11,
   "id": "d60aad91",
   "metadata": {
    "editable": true,
    "slideshow": {
     "slide_type": ""
    },
    "tags": []
   },
   "outputs": [],
   "source": [
    "%load_ext autoreload\n",
    "%autoreload\n",
    "\n",
    "import xarray_tile_reader\n",
    "import zarr_reader"
   ]
  },
  {
   "cell_type": "code",
   "execution_count": 12,
   "id": "b64be1ae-02b4-445c-842b-ea033d8ef53d",
   "metadata": {
    "tags": []
   },
   "outputs": [],
   "source": [
    "bucket = 'nasa-eodc-data-store'\n",
    "chunk_set_paths = ['600_1440_1', '600_1440_29', '365_262_262']"
   ]
  },
  {
   "cell_type": "markdown",
   "id": "8dddd008-8ba4-48d0-8b01-a2b38964a906",
   "metadata": {},
   "source": [
    "# Different chunk shapes and sizes\n",
    "\n",
    "Below we create a table with the chunk shape and size for each dataset, which will help us interpret the results of the tile benchmarks.\n",
    "\n",
    "Note: The pyramid store is only reported for 1 sub-dataset, however we know how the dataset was generated so we can assume the chunk size will be the same for all sub-datasets since it is chunked 128x128. However, for different sub-datsets the chunk shape will be different."
   ]
  },
  {
   "cell_type": "code",
   "execution_count": 13,
   "id": "d48b74db-4f6c-4265-8135-0b1d76e431b9",
   "metadata": {
    "tags": []
   },
   "outputs": [],
   "source": [
    "datastores = { \n",
    "    'kerchunk': {\n",
    "        \"data_store_path\": f\"combined_CMIP6_{temporal_resolution}_{model}_{variable}_kerchunk.json\"\n",
    "    },\n",
    "    'pyramid': {\n",
    "        \"data_store_path\": f\"pyramid/CMIP6_{temporal_resolution}_{model}_{variable}.zarr\"\n",
    "    }\n",
    "}\n",
    "\n",
    "for chunk_set_path in chunk_set_paths:\n",
    "    datastores[chunk_set_path] = {\n",
    "        'data_store_path': f\"{chunk_set_path}/CMIP6_{temporal_resolution}_{model}_{variable}.zarr\"\n",
    "    }\n",
    "\n",
    "for key, datastore in datastores.items():\n",
    "    reference, anon, multiscale, z = False, False, False, 0\n",
    "    if key == 'kerchunk':\n",
    "        reference = True\n",
    "    if 'pyramid' in key:\n",
    "        multiscale = True\n",
    "    if bucket == 'carbonplan-benchmarks':\n",
    "        anon = True\n",
    "    \n",
    "    data_store_url = f\"s3://{bucket}/{datastore['data_store_path']}\"\n",
    "\n",
    "    ds = zarr_reader.xarray_open_dataset(\n",
    "        data_store_url,\n",
    "        anon=anon,\n",
    "        reference=reference,\n",
    "        multiscale=multiscale,\n",
    "        z=z\n",
    "    )\n",
    "\n",
    "    var = ds[0][variable]\n",
    "    chunks = var.encoding.get(\"chunks\", \"N/A\")\n",
    "    dtype = var.encoding.get(\"dtype\", \"N/A\")\n",
    "    chunks_dict = dict(zip(var.dims, chunks))\n",
    "    chunk_size_mb = \"N/A\" if chunks is None else (np.prod(chunks) * dtype.itemsize)/1024/1024    \n",
    "    datastores[key]['chunk_size_mb'] = chunk_size_mb    \n",
    "    datastores[key]['chunks'] = chunks_dict\n",
    "    datastores[key]['dtype'] = dtype"
   ]
  },
  {
   "cell_type": "code",
   "execution_count": 14,
   "id": "e5a2da8c-a345-4de6-bcc8-f1757f4a0983",
   "metadata": {
    "tags": []
   },
   "outputs": [
    {
     "data": {
      "text/html": [
       "<div>\n",
       "<style scoped>\n",
       "    .dataframe tbody tr th:only-of-type {\n",
       "        vertical-align: middle;\n",
       "    }\n",
       "\n",
       "    .dataframe tbody tr th {\n",
       "        vertical-align: top;\n",
       "    }\n",
       "\n",
       "    .dataframe thead th {\n",
       "        text-align: right;\n",
       "    }\n",
       "</style>\n",
       "<table border=\"1\" class=\"dataframe\">\n",
       "  <thead>\n",
       "    <tr style=\"text-align: right;\">\n",
       "      <th></th>\n",
       "      <th>data_store_path</th>\n",
       "      <th>chunk_size_mb</th>\n",
       "      <th>chunks</th>\n",
       "      <th>dtype</th>\n",
       "    </tr>\n",
       "  </thead>\n",
       "  <tbody>\n",
       "    <tr>\n",
       "      <th>kerchunk</th>\n",
       "      <td>combined_CMIP6_daily_GISS-E2-1-G_tas_kerchunk....</td>\n",
       "      <td>3.295898</td>\n",
       "      <td>{'time': 1, 'lat': 600, 'lon': 1440}</td>\n",
       "      <td>float32</td>\n",
       "    </tr>\n",
       "    <tr>\n",
       "      <th>pyramid</th>\n",
       "      <td>pyramid/CMIP6_daily_GISS-E2-1-G_tas.zarr</td>\n",
       "      <td>45.625000</td>\n",
       "      <td>{'time': 730, 'y': 128, 'x': 128}</td>\n",
       "      <td>float32</td>\n",
       "    </tr>\n",
       "    <tr>\n",
       "      <th>600_1440_1</th>\n",
       "      <td>600_1440_1/CMIP6_daily_GISS-E2-1-G_tas.zarr</td>\n",
       "      <td>3.295898</td>\n",
       "      <td>{'time': 1, 'lat': 600, 'lon': 1440}</td>\n",
       "      <td>float32</td>\n",
       "    </tr>\n",
       "    <tr>\n",
       "      <th>600_1440_29</th>\n",
       "      <td>600_1440_29/CMIP6_daily_GISS-E2-1-G_tas.zarr</td>\n",
       "      <td>95.581055</td>\n",
       "      <td>{'time': 29, 'lat': 600, 'lon': 1440}</td>\n",
       "      <td>float32</td>\n",
       "    </tr>\n",
       "    <tr>\n",
       "      <th>365_262_262</th>\n",
       "      <td>365_262_262/CMIP6_daily_GISS-E2-1-G_tas.zarr</td>\n",
       "      <td>95.577469</td>\n",
       "      <td>{'time': 365, 'lat': 262, 'lon': 262}</td>\n",
       "      <td>float32</td>\n",
       "    </tr>\n",
       "  </tbody>\n",
       "</table>\n",
       "</div>"
      ],
      "text/plain": [
       "                                               data_store_path  chunk_size_mb  \\\n",
       "kerchunk     combined_CMIP6_daily_GISS-E2-1-G_tas_kerchunk....       3.295898   \n",
       "pyramid               pyramid/CMIP6_daily_GISS-E2-1-G_tas.zarr      45.625000   \n",
       "600_1440_1         600_1440_1/CMIP6_daily_GISS-E2-1-G_tas.zarr       3.295898   \n",
       "600_1440_29       600_1440_29/CMIP6_daily_GISS-E2-1-G_tas.zarr      95.581055   \n",
       "365_262_262       365_262_262/CMIP6_daily_GISS-E2-1-G_tas.zarr      95.577469   \n",
       "\n",
       "                                            chunks    dtype  \n",
       "kerchunk      {'time': 1, 'lat': 600, 'lon': 1440}  float32  \n",
       "pyramid          {'time': 730, 'y': 128, 'x': 128}  float32  \n",
       "600_1440_1    {'time': 1, 'lat': 600, 'lon': 1440}  float32  \n",
       "600_1440_29  {'time': 29, 'lat': 600, 'lon': 1440}  float32  \n",
       "365_262_262  {'time': 365, 'lat': 262, 'lon': 262}  float32  "
      ]
     },
     "execution_count": 14,
     "metadata": {},
     "output_type": "execute_result"
    }
   ],
   "source": [
    "df = pd.DataFrame.from_dict(datastores, orient='index')\n",
    "df"
   ]
  },
  {
   "cell_type": "markdown",
   "id": "8d807ec1-a431-42a3-a07c-c86ecfd64d51",
   "metadata": {},
   "source": [
    "## Test different tiles\n",
    "\n",
    "Below we test the time to generate tiles from each datastore 10 times.\n",
    "\n",
    "### What we learned\n",
    "\n",
    "* Time to open depends on how many metadata files there are to read, which depends on how the data is chunked. A greater number of chunks means more coordiante chunks need to be read from S3. For example,\n",
    "    * the chunk store with a chunk on each timestep has 732 coordinate chunks (730 time coordinate chunks to read (plus 1 lat and 1 lon).\n",
    "    * The chunk store with 29 time steps has 29 time steps to read plus 1 lat and 1 lon.\n",
    "    * The chunk store chunked spatially (365, 262, 262) has 2 coordinate time chunks, 3 latitude and 6 longitude (11 total).\n",
    "* Time to reproject depends on the size of the chunk being reprojected.\n",
    "* The kerchunk store is the fastest because even though it is chunked by time, all the metadata is loaded from 1 file (the kerchunk reference file).\n",
    "* The pyramid is almost as fast but the chunks are a bit larger and there are multiple coordinate files to read so it is still slower than the kerchunk dataset.\n",
    "* Use `import s3fs; s3fs.core.setup_logging(\"DEBUG\")` to debug calls to S3.\n",
    "\n",
    "### TODO:\n",
    "\n",
    "* Determine a way to identify number of coordinate chunks to be read in open dataset\n",
    "  * Investigate if there is a fix for this issue of loading all coordinate chunks when using xarry's open_dataset and open_zarr.\n",
    "* Answer - why if we have already subselected the data does reprojection time depend on chunk size? Presumably because the entire chunk must be read even if only a slice is reprojected."
   ]
  },
  {
   "cell_type": "code",
   "execution_count": null,
   "id": "28234cfd-8b77-47a6-9899-eff51ec40086",
   "metadata": {
    "tags": []
   },
   "outputs": [],
   "source": [
    "niters = 10\n",
    "tile_results_df = {}\n",
    "dataset_chunk_sizes = {}\n",
    "results_df = datastores.copy()\n",
    "\n",
    "for xyz_tile in xyz_tiles:\n",
    "    results_df[xyz_tile] = {}\n",
    "    for dataset in datastores.keys():\n",
    "        data_store_path = datastores[dataset]['data_store_path']\n",
    "        data_store_url = f\"s3://{bucket}/{data_store_path}\"\n",
    "        reference, multiscale = False, False\n",
    "        if dataset == 'kerchunk':\n",
    "            reference = True\n",
    "        if 'pyramid' in dataset:\n",
    "            multiscale = True\n",
    "\n",
    "        results_df[xyz_tile][dataset] = {\n",
    "            'time to open (ms)': [],\n",
    "            'rio reproject (ms)': [],\n",
    "            'total time (ms)': []\n",
    "        }\n",
    "        timings_results = results_df[xyz_tile][dataset]\n",
    "        for iter in range(niters):\n",
    "            with Timer() as t:\n",
    "                image_and_timings, cprofile = xarray_tile_reader.tile(\n",
    "                    data_store_url,\n",
    "                    *xyz_tile,\n",
    "                    reference=reference,\n",
    "                    anon=False,\n",
    "                    variable=variable,\n",
    "                    multiscale = multiscale\n",
    "                )\n",
    "            total_time = round(t.elapsed * 1000, 2)\n",
    "\n",
    "            timings = image_and_timings[1]\n",
    "            timings_results['time to open (ms)'].append(timings['time_to_open']),\n",
    "            timings_results['rio reproject (ms)'].append(timings['rio.reproject']),\n",
    "            timings_results['total time (ms)'].append(total_time)\n",
    "        timings_results['mean time to open (ms)'] = np.mean(timings_results['time to open (ms)'])\n",
    "        timings_results['mean rio reproject (ms)'] = np.mean(timings_results['rio reproject (ms)']) \n",
    "        timings_results['mean total time (ms)'] = np.mean(timings_results['total time (ms)'])"
   ]
  },
  {
   "cell_type": "code",
   "execution_count": null,
   "id": "8367c346-bb2f-4a1c-a4f1-876d402d078c",
   "metadata": {
    "tags": []
   },
   "outputs": [],
   "source": [
    "from IPython.display import display\n",
    "\n",
    "for xyz_tile in xyz_tiles:\n",
    "    print(f\"Results for {xyz_tile}\")\n",
    "    df = pd.DataFrame.from_dict(results_df[xyz_tile], orient='index')\n",
    "    display(df.sort_values('mean total time (ms)'))\n",
    "    print()"
   ]
  },
  {
   "cell_type": "code",
   "execution_count": null,
   "id": "b6970b85-8fe5-41a0-a2fb-439ec10dea46",
   "metadata": {
    "tags": []
   },
   "outputs": [],
   "source": [
    "image = image_and_timings[0].data_as_image()\n",
    "imshow(image)"
   ]
  }
 ],
 "metadata": {
  "kernelspec": {
   "display_name": "Python 3 (ipykernel)",
   "language": "python",
   "name": "python3"
  },
  "language_info": {
   "codemirror_mode": {
    "name": "ipython",
    "version": 3
   },
   "file_extension": ".py",
   "mimetype": "text/x-python",
   "name": "python",
   "nbconvert_exporter": "python",
   "pygments_lexer": "ipython3",
   "version": "3.10.12"
  }
 },
 "nbformat": 4,
 "nbformat_minor": 5
}
