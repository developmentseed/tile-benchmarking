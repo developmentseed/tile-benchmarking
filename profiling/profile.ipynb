{
 "cells": [
  {
   "cell_type": "code",
   "execution_count": 4,
   "id": "1e0e7aeb",
   "metadata": {},
   "outputs": [],
   "source": [
    "# Import libraries\n",
    "## for profiling\n",
    "from profiler.main import profile\n",
    "\n",
    "# for titiler-xarray\n",
    "from typing import Any\n",
    "from titiler.xarray.reader import xarray_open_dataset, get_variable\n",
    "import morecantile\n",
    "from rio_tiler.io import XarrayReader\n",
    "\n",
    "# for titiler-pgstac\n",
    "from titiler.pgstac.mosaic import PGSTACBackend\n",
    "from typing import Any, Dict, List, Tuple\n",
    "from rio_tiler.mosaic import mosaic_reader\n",
    "from rio_tiler.models import ImageData\n",
    "from geojson_pydantic import Polygon\n",
    "\n",
    "# Only if wanting to see a picture\n",
    "import io\n",
    "from PIL import Image"
   ]
  },
  {
   "cell_type": "code",
   "execution_count": null,
   "id": "a53106ea",
   "metadata": {},
   "outputs": [],
   "source": [
    "search_dict: Dict[str, Any] = {\n",
    "    'collections': [\"CMIP6_ensemble_median_TAS\"],\n",
    "    'datetime': \"1951-01-01T00:00:00Z\",\n",
    "    'bbox': [-180, -90, 180, 90]\n",
    "}\n",
    "\n",
    "xyz_tile = (0,0,0)"
   ]
  },
  {
   "cell_type": "code",
   "execution_count": null,
   "id": "dcc41c1e",
   "metadata": {},
   "outputs": [],
   "source": [
    "import rio_tiler\n",
    "rio_tiler.__file__"
   ]
  },
  {
   "cell_type": "markdown",
   "id": "6021ba14",
   "metadata": {},
   "source": [
    "## Profile titiler-xarray"
   ]
  },
  {
   "cell_type": "code",
   "execution_count": null,
   "id": "d60aad91",
   "metadata": {},
   "outputs": [],
   "source": [
    "@profile(add_to_return=True, quiet=False, log_library='s3fs')\n",
    "def tile(src_path: str, x: int, y: int, z: int, *, variable: str, time_slice: str = None, **kwargs: Any):\n",
    "\n",
    "    with xarray_open_dataset(\n",
    "        src_path,\n",
    "        z=z,\n",
    "        decode_times=False,\n",
    "        **kwargs,\n",
    "    ) as dataset:\n",
    "        dataarray = get_variable(dataset, variable=variable, time_slice=time_slice)\n",
    "        \n",
    "        with XarrayReader(dataarray) as src_dst:\n",
    "            return src_dst.tile(x, y, z)"
   ]
  },
  {
   "cell_type": "code",
   "execution_count": null,
   "id": "92cd9091",
   "metadata": {},
   "outputs": [],
   "source": [
    "image_and_assets, logs = tile(\n",
    "    \"s3://power-analysis-ready-datastore/power_901_monthly_meteorology_utc.zarr\", \n",
    "    *xyz_tile,\n",
    "    #time_slice = search_dict['datetime'],\n",
    "    reference=False,\n",
    "    variable=\"TS\",\n",
    ")\n",
    "logs"
   ]
  },
  {
   "cell_type": "code",
   "execution_count": null,
   "id": "309a8988",
   "metadata": {},
   "outputs": [],
   "source": [
    "import fsspec\n",
    "import xarray as xr\n",
    "fs_read = fsspec.filesystem(\"s3\", anon=True, skip_instance_cache=False)\n",
    "ds=xr.open_dataset(\n",
    "    \"s3://power-analysis-ready-datastore/power_901_monthly_meteorology_utc.zarr\", \n",
    "    engine='zarr', consolidated=True)\n",
    "ds"
   ]
  },
  {
   "cell_type": "code",
   "execution_count": null,
   "id": "88451037",
   "metadata": {},
   "outputs": [],
   "source": [
    "content = image_and_assets.render(\n",
    "    img_format='PNG'\n",
    ")\n",
    "\n",
    "im = Image.open(io.BytesIO(content))\n",
    "im"
   ]
  },
  {
   "cell_type": "markdown",
   "id": "8a131851",
   "metadata": {},
   "source": [
    "## Profile titiler-pgstac"
   ]
  },
  {
   "cell_type": "code",
   "execution_count": null,
   "id": "045ea6a0",
   "metadata": {},
   "outputs": [],
   "source": [
    "import pgstac.profile_pgstac as profile_pgstac "
   ]
  },
  {
   "cell_type": "code",
   "execution_count": null,
   "id": "ed8b8d9f",
   "metadata": {},
   "outputs": [],
   "source": [
    "image_and_assets, logs = tile(*xyz_tile)\n",
    "logs"
   ]
  },
  {
   "cell_type": "code",
   "execution_count": null,
   "id": "51dc2c6e",
   "metadata": {},
   "outputs": [],
   "source": [
    "content = image_and_assets[0].render(\n",
    "    img_format='PNG'\n",
    ")\n",
    "\n",
    "im = Image.open(io.BytesIO(content))\n",
    "im"
   ]
  }
 ],
 "metadata": {
  "kernelspec": {
   "display_name": "venv-profiling",
   "language": "python",
   "name": "venv-profiling"
  },
  "language_info": {
   "codemirror_mode": {
    "name": "ipython",
    "version": 3
   },
   "file_extension": ".py",
   "mimetype": "text/x-python",
   "name": "python",
   "nbconvert_exporter": "python",
   "pygments_lexer": "ipython3",
   "version": "3.9.7"
  }
 },
 "nbformat": 4,
 "nbformat_minor": 5
}
