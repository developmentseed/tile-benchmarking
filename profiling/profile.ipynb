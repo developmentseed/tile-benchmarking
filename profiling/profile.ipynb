{
 "cells": [
  {
   "cell_type": "markdown",
   "id": "330dc8cc",
   "metadata": {},
   "source": [
    "# Profiling tiling of titiler-pgstac and titiler-xarray\n",
    "\n",
    "This notebook profiles code for tiling CMIP6 data via 2 methods:\n",
    "\n",
    "1. pgSTAC + COGs: The first method uses a (local or remote) pgSTAC database for storing metadata about COGs on S3. The libraries used are pgstac for reading STAC metadata and rio_tiler's rasterio for reading COGs on S3.\n",
    "2. kerchunk + netCDF: The second method uses a (local or S3) kerchunk reference file for NetCDF files stored on S3. The libraries used are xarray for reading the Zarr metadata and rio_tiler's XarrayReader for reading data from the NetCDFs on S3.\n",
    "3. Zarr stores with different chunking configurations.\n",
    "\n",
    "In the future, the following improvements and additions to this profiling code will be made:\n",
    "\n",
    "1. Test zarr stores with pyramids\n",
    "2. Test different tiles + sum the results.\n",
    "3. Test a higher resolution dataset.\n",
    "\n",
    "# Findings: Executive summary\n",
    "\n",
    "1. pgSTAC + COGs is fastest, assuming GDAL environment variables are configured optimally\n",
    "2. tiling using Zarr really depends on the chunking structure. Make sure that:\n",
    "   1. if optimizing for spatial visualization and not time series, only store 1 time step per chunk\n",
    "   2. Make sure the coordinates themselves are not chunked, otherwise this will require a lot of data fetches when loading the dataset\n",
    "3. Pyramids can be used to generate low resolution versions of the dataset."
   ]
  },
  {
   "cell_type": "markdown",
   "id": "dd3c1361-1e28-42a6-92b5-7c4bac4d9211",
   "metadata": {},
   "source": [
    "## Setup / Step 0\n",
    "\n",
    "1. Load some basic libraries\n",
    "2. Set an initial tile to test\n",
    "3. Add some AWS credentials\n",
    "4. Install any missing libraries"
   ]
  },
  {
   "cell_type": "code",
   "execution_count": 18,
   "id": "81cbd0f3-f88e-4c4e-b809-eecda8f5c14f",
   "metadata": {
    "editable": true,
    "slideshow": {
     "slide_type": ""
    },
    "tags": []
   },
   "outputs": [
    {
     "name": "stdout",
     "output_type": "stream",
     "text": [
      "The autoreload extension is already loaded. To reload it, use:\n",
      "  %reload_ext autoreload\n",
      "Caught exception: An error occurred (InvalidPermission.Duplicate) when calling the AuthorizeSecurityGroupIngress operation: the specified rule \"peer: 34.213.188.203/32, TCP, from port: 5432, to port: 5432, ALLOW\" already exists\n",
      "Connected to database\n"
     ]
    }
   ],
   "source": [
    "%load_ext autoreload\n",
    "%autoreload\n",
    "\n",
    "import boto3\n",
    "from datetime import datetime\n",
    "import io\n",
    "from PIL import Image\n",
    "import os\n",
    "import warnings\n",
    "import cmip6_zarr.eodc_hub_role\n",
    "from matplotlib.pyplot import imshow\n",
    "import morecantile\n",
    "import numpy as np\n",
    "import pandas as pd\n",
    "from profiler.main import Timer, cprofile_list_to_dict\n",
    "\n",
    "from cmip6_zarr import eodc_hub_role\n",
    "credentials = eodc_hub_role.fetch_and_set_credentials()\n",
    "import cmip6_pgstac.profile_pgstac as profile_pgstac\n",
    "pool = profile_pgstac.connect_to_database(credentials)\n",
    "\n",
    "warnings.filterwarnings('ignore')"
   ]
  },
  {
   "cell_type": "code",
   "execution_count": null,
   "id": "7dc702b3-f418-4281-a8e2-2fe0358d4e5e",
   "metadata": {
    "tags": []
   },
   "outputs": [],
   "source": [
    "#!pip install morecantile==3.4.0 loguru titiler titiler-pgstac\n",
    "#!pip install psycopg psycopg_binary psycopg_pool"
   ]
  },
  {
   "cell_type": "code",
   "execution_count": null,
   "id": "49f855b1-e765-41a4-9da9-fec2e0ec106f",
   "metadata": {
    "tags": []
   },
   "outputs": [],
   "source": [
    "%%capture\n",
    "!pip install -r requirements.txt"
   ]
  },
  {
   "cell_type": "code",
   "execution_count": 19,
   "id": "fe2f56bf-04d3-46d8-86e1-13c3e0fbff25",
   "metadata": {
    "editable": true,
    "slideshow": {
     "slide_type": ""
    },
    "tags": []
   },
   "outputs": [
    {
     "data": {
      "text/plain": [
       "[(0, 0, 0),\n",
       " (0, 0, 1),\n",
       " (1, 1, 2),\n",
       " (2, 3, 3),\n",
       " (4, 6, 4),\n",
       " (9, 12, 5),\n",
       " (18, 24, 6),\n",
       " (37, 48, 7),\n",
       " (75, 96, 8),\n",
       " (150, 192, 9),\n",
       " (301, 384, 10),\n",
       " (603, 769, 11)]"
      ]
     },
     "execution_count": 19,
     "metadata": {},
     "output_type": "execute_result"
    }
   ],
   "source": [
    "tms = morecantile.tms.get(\"WebMercatorQuad\")\n",
    "zooms = range(12) # Zoom 10 is the level at which you can see large roads, 15 is buildings\n",
    "xyz_tiles = []\n",
    "for z in zooms:\n",
    "    # lat/lon over central park\n",
    "    tile = tms.tile(-73.97, 40.78, z)\n",
    "    xyz_tiles.append((tile.x, tile.y, tile.z))\n",
    "\n",
    "xyz_tiles"
   ]
  },
  {
   "cell_type": "code",
   "execution_count": 3,
   "id": "f6f1561b-185d-47dc-9b32-ca2d80f84e25",
   "metadata": {
    "editable": true,
    "slideshow": {
     "slide_type": ""
    },
    "tags": [
     "parameters"
    ]
   },
   "outputs": [],
   "source": [
    "#parameters\n",
    "temporal_resolution = \"daily\"\n",
    "model = \"GISS-E2-1-G\"\n",
    "variable = \"tas\"\n",
    "anon=True"
   ]
  },
  {
   "cell_type": "markdown",
   "id": "8a131851",
   "metadata": {},
   "source": [
    "## Profile titiler-pgstac"
   ]
  },
  {
   "cell_type": "markdown",
   "id": "ec854450-c3d7-4cce-9379-13384fcc1b7b",
   "metadata": {},
   "source": [
    "To achieve the best performance, we set some GDAL environment variables.\n",
    "\n",
    "These variables are documented here https://developmentseed.org/titiler/advanced/performance_tuning/, but that advice is copied into comments below for ease of reference."
   ]
  },
  {
   "cell_type": "code",
   "execution_count": 4,
   "id": "68399603-1a76-4cb6-a1fb-f00c35f41c3c",
   "metadata": {
    "editable": true,
    "slideshow": {
     "slide_type": ""
    },
    "tags": []
   },
   "outputs": [],
   "source": [
    "gdal_env_vars = {\n",
    "    # By default GDAL reads the first 16KB of the file, then if that doesn't contain the entire metadata\n",
    "    # it makes one more request for the rest of the metadata.\n",
    "    # In environments where latency is relatively high, AWS S3,\n",
    "    # it may be beneficial to increase this value depending on the data you expect to read.    \n",
    "    'GDAL_INGESTED_BYTES_AT_OPEN': '32768',\n",
    "    # It's much better to set EMPTY_DIR because this prevents GDAL from making a LIST request.\n",
    "    # LIST requests are made for sidecar files, which does not apply for COGs    \n",
    "    'GDAL_DISABLE_READDIR_ON_OPEN': 'EMPTY_DIR',\n",
    "    # Tells GDAL to merge consecutive range GET requests.    \n",
    "    'GDAL_HTTP_MERGE_CONSECUTIVE_RANGES': 'YES',\n",
    "    # When set to YES, this attempts to download multiple range requests in parallel, reusing the same TCP connection. \n",
    "    # Note this is only possible when the server supports HTTP2, which many servers don't yet support.\n",
    "    # There's no downside to setting YES here.    \n",
    "    'GDAL_HTTP_MULTIPLEX': 'YES',\n",
    "    'GDAL_HTTP_VERSION': '2',\n",
    "    # Setting this to TRUE enables GDAL to use an internal caching mechanism. It's recommended (strongly).    \n",
    "    'VSI_CACHE': 'TRUE'\n",
    "}\n",
    "\n",
    "def set_or_unset_gdal(set_vars=True):\n",
    "    if set_vars:\n",
    "        for key, value in gdal_env_vars.items():\n",
    "            os.environ[key] = value\n",
    "    else:\n",
    "        for key, value in gdal_env_vars.items():\n",
    "            os.environ.pop(key, None)\n",
    "    return"
   ]
  },
  {
   "cell_type": "code",
   "execution_count": 10,
   "id": "ed8b8d9f",
   "metadata": {
    "editable": true,
    "slideshow": {
     "slide_type": ""
    },
    "tags": []
   },
   "outputs": [],
   "source": [
    "if temporal_resolution == 'daily':\n",
    "    collection = f\"CMIP6_daily_{model}_{variable}\"\n",
    "elif temporal_resolution == 'monthly':\n",
    "    collection = f\"CMIP6_ensemble_monthly_median_{variable}\"\n",
    "\n",
    "query = {\n",
    "  \"collections\": [ collection ],\n",
    "  \"filter\": {\n",
    "    \"op\": \"t_intersects\",\n",
    "    \"args\": [\n",
    "      {\n",
    "        \"property\": \"datetime\"\n",
    "      },\n",
    "      {\n",
    "        \"interval\": [\n",
    "          \"1950-04-01T00:00:00Z\"           \n",
    "        ]\n",
    "      }\n",
    "    ]\n",
    "  },\n",
    "  \"filter-lang\": \"cql2-json\"\n",
    "}\n",
    "\n",
    "gdal_results_df = {}\n",
    "niters = 1\n",
    "xyz_tile = (0,0,0)\n",
    "for settings in ['with_gdal_vars', 'without_gdal_vars']:\n",
    "    gdal_results_df[settings] = { 'tile times': [], 'mean total time': None }\n",
    "    results_timings = gdal_results_df[settings]\n",
    "    if settings == 'with_gdal_vars':\n",
    "        set_or_unset_gdal(set_vars=True)\n",
    "    else:\n",
    "        set_or_unset_gdal(set_vars=False)\n",
    "    for iter in range(niters):\n",
    "        with Timer() as t:\n",
    "            image_and_assets, cprofile = profile_pgstac.tile(pool, *xyz_tile, query=dict(query))\n",
    "        results_timings['tile times'].append(round(t.elapsed * 1000, 2))\n",
    "    results_timings['mean total time'] = np.mean(results_timings['tile times'])\n",
    "    "
   ]
  },
  {
   "cell_type": "code",
   "execution_count": 13,
   "id": "488547ee-bf92-4a50-be0f-4a7139a722e9",
   "metadata": {
    "tags": []
   },
   "outputs": [
    {
     "data": {
      "text/html": [
       "<div>\n",
       "<style scoped>\n",
       "    .dataframe tbody tr th:only-of-type {\n",
       "        vertical-align: middle;\n",
       "    }\n",
       "\n",
       "    .dataframe tbody tr th {\n",
       "        vertical-align: top;\n",
       "    }\n",
       "\n",
       "    .dataframe thead th {\n",
       "        text-align: right;\n",
       "    }\n",
       "</style>\n",
       "<table border=\"1\" class=\"dataframe\">\n",
       "  <thead>\n",
       "    <tr style=\"text-align: right;\">\n",
       "      <th></th>\n",
       "      <th>total time</th>\n",
       "      <th>mean total time</th>\n",
       "    </tr>\n",
       "  </thead>\n",
       "  <tbody>\n",
       "    <tr>\n",
       "      <th>with_gdal_vars</th>\n",
       "      <td>[84.53]</td>\n",
       "      <td>84.53</td>\n",
       "    </tr>\n",
       "    <tr>\n",
       "      <th>without_gdal_vars</th>\n",
       "      <td>[28070.68]</td>\n",
       "      <td>28070.68</td>\n",
       "    </tr>\n",
       "  </tbody>\n",
       "</table>\n",
       "</div>"
      ],
      "text/plain": [
       "                   total time  mean total time\n",
       "with_gdal_vars        [84.53]            84.53\n",
       "without_gdal_vars  [28070.68]         28070.68"
      ]
     },
     "execution_count": 13,
     "metadata": {},
     "output_type": "execute_result"
    }
   ],
   "source": [
    "pd.DataFrame.from_dict(cog_results_df, orient='index')"
   ]
  },
  {
   "cell_type": "code",
   "execution_count": 24,
   "id": "f5f4b287-4d6f-405d-a5eb-5e2ab82c4564",
   "metadata": {
    "tags": []
   },
   "outputs": [],
   "source": [
    "# Results for different tiles\n",
    "tile_results_df = {}\n",
    "niters = 10\n",
    "set_or_unset_gdal(set_vars=True)\n",
    "for xyz_tile in xyz_tiles:\n",
    "    tile_results_df[xyz_tile] = { 'tile times': [], 'mean total time': None }\n",
    "    results_timings = tile_results_df[xyz_tile]\n",
    "    for iter in range(niters):\n",
    "        with Timer() as t:\n",
    "            image_and_assets, cprofile = profile_pgstac.tile(pool, *xyz_tile, query=dict(query))\n",
    "        results_timings['tile times'].append(round(t.elapsed * 1000, 2))\n",
    "    results_timings['mean total time'] = np.mean(results_timings['tile times'])"
   ]
  },
  {
   "cell_type": "code",
   "execution_count": 25,
   "id": "b5b59035-2639-45cd-8b2c-532d4f249d81",
   "metadata": {
    "tags": []
   },
   "outputs": [
    {
     "data": {
      "text/html": [
       "<div>\n",
       "<style scoped>\n",
       "    .dataframe tbody tr th:only-of-type {\n",
       "        vertical-align: middle;\n",
       "    }\n",
       "\n",
       "    .dataframe tbody tr th {\n",
       "        vertical-align: top;\n",
       "    }\n",
       "\n",
       "    .dataframe thead th {\n",
       "        text-align: right;\n",
       "    }\n",
       "</style>\n",
       "<table border=\"1\" class=\"dataframe\">\n",
       "  <thead>\n",
       "    <tr style=\"text-align: right;\">\n",
       "      <th></th>\n",
       "      <th></th>\n",
       "      <th></th>\n",
       "      <th>tile times</th>\n",
       "      <th>mean total time</th>\n",
       "    </tr>\n",
       "  </thead>\n",
       "  <tbody>\n",
       "    <tr>\n",
       "      <th rowspan=\"2\" valign=\"top\">0</th>\n",
       "      <th rowspan=\"2\" valign=\"top\">0</th>\n",
       "      <th>0</th>\n",
       "      <td>[50.62, 44.39, 47.6, 43.14, 43.19, 41.96, 42.1...</td>\n",
       "      <td>45.138</td>\n",
       "    </tr>\n",
       "    <tr>\n",
       "      <th>1</th>\n",
       "      <td>[41.45, 41.81, 41.0, 39.53, 39.06, 39.24, 40.1...</td>\n",
       "      <td>40.340</td>\n",
       "    </tr>\n",
       "    <tr>\n",
       "      <th>1</th>\n",
       "      <th>1</th>\n",
       "      <th>2</th>\n",
       "      <td>[42.88, 41.26, 38.73, 38.14, 39.27, 38.47, 38....</td>\n",
       "      <td>39.545</td>\n",
       "    </tr>\n",
       "    <tr>\n",
       "      <th>2</th>\n",
       "      <th>3</th>\n",
       "      <th>3</th>\n",
       "      <td>[39.47, 38.71, 42.45, 41.36, 39.44, 39.59, 39....</td>\n",
       "      <td>40.069</td>\n",
       "    </tr>\n",
       "    <tr>\n",
       "      <th>4</th>\n",
       "      <th>6</th>\n",
       "      <th>4</th>\n",
       "      <td>[38.63, 37.11, 39.1, 39.0, 39.72, 39.72, 38.16...</td>\n",
       "      <td>38.187</td>\n",
       "    </tr>\n",
       "    <tr>\n",
       "      <th>9</th>\n",
       "      <th>12</th>\n",
       "      <th>5</th>\n",
       "      <td>[38.73, 38.38, 37.42, 36.29, 36.63, 35.78, 39....</td>\n",
       "      <td>37.496</td>\n",
       "    </tr>\n",
       "    <tr>\n",
       "      <th>18</th>\n",
       "      <th>24</th>\n",
       "      <th>6</th>\n",
       "      <td>[39.89, 38.91, 37.05, 36.35, 40.5, 38.4, 37.02...</td>\n",
       "      <td>38.549</td>\n",
       "    </tr>\n",
       "    <tr>\n",
       "      <th>37</th>\n",
       "      <th>48</th>\n",
       "      <th>7</th>\n",
       "      <td>[38.87, 38.34, 40.47, 38.72, 36.68, 36.26, 37....</td>\n",
       "      <td>37.987</td>\n",
       "    </tr>\n",
       "    <tr>\n",
       "      <th>75</th>\n",
       "      <th>96</th>\n",
       "      <th>8</th>\n",
       "      <td>[39.84, 38.6, 36.52, 36.16, 39.96, 38.97, 36.7...</td>\n",
       "      <td>38.188</td>\n",
       "    </tr>\n",
       "    <tr>\n",
       "      <th>150</th>\n",
       "      <th>192</th>\n",
       "      <th>9</th>\n",
       "      <td>[36.51, 35.99, 40.08, 251.04, 37.64, 36.73, 40...</td>\n",
       "      <td>59.516</td>\n",
       "    </tr>\n",
       "    <tr>\n",
       "      <th>301</th>\n",
       "      <th>384</th>\n",
       "      <th>10</th>\n",
       "      <td>[39.19, 38.94, 38.71, 40.14, 37.47, 37.19, 37....</td>\n",
       "      <td>38.127</td>\n",
       "    </tr>\n",
       "    <tr>\n",
       "      <th>603</th>\n",
       "      <th>769</th>\n",
       "      <th>11</th>\n",
       "      <td>[39.6, 40.24, 38.08, 37.14, 36.71, 37.09, 39.5...</td>\n",
       "      <td>38.114</td>\n",
       "    </tr>\n",
       "  </tbody>\n",
       "</table>\n",
       "</div>"
      ],
      "text/plain": [
       "                                                   tile times  mean total time\n",
       "0   0   0   [50.62, 44.39, 47.6, 43.14, 43.19, 41.96, 42.1...           45.138\n",
       "        1   [41.45, 41.81, 41.0, 39.53, 39.06, 39.24, 40.1...           40.340\n",
       "1   1   2   [42.88, 41.26, 38.73, 38.14, 39.27, 38.47, 38....           39.545\n",
       "2   3   3   [39.47, 38.71, 42.45, 41.36, 39.44, 39.59, 39....           40.069\n",
       "4   6   4   [38.63, 37.11, 39.1, 39.0, 39.72, 39.72, 38.16...           38.187\n",
       "9   12  5   [38.73, 38.38, 37.42, 36.29, 36.63, 35.78, 39....           37.496\n",
       "18  24  6   [39.89, 38.91, 37.05, 36.35, 40.5, 38.4, 37.02...           38.549\n",
       "37  48  7   [38.87, 38.34, 40.47, 38.72, 36.68, 36.26, 37....           37.987\n",
       "75  96  8   [39.84, 38.6, 36.52, 36.16, 39.96, 38.97, 36.7...           38.188\n",
       "150 192 9   [36.51, 35.99, 40.08, 251.04, 37.64, 36.73, 40...           59.516\n",
       "301 384 10  [39.19, 38.94, 38.71, 40.14, 37.47, 37.19, 37....           38.127\n",
       "603 769 11  [39.6, 40.24, 38.08, 37.14, 36.71, 37.09, 39.5...           38.114"
      ]
     },
     "execution_count": 25,
     "metadata": {},
     "output_type": "execute_result"
    }
   ],
   "source": [
    "pd.DataFrame.from_dict(tile_results_df, orient='index')"
   ]
  },
  {
   "cell_type": "code",
   "execution_count": 26,
   "id": "d1855e96-3d84-4ae3-a677-10fffb002dd9",
   "metadata": {
    "tags": []
   },
   "outputs": [
    {
     "data": {
      "text/plain": [
       "<matplotlib.image.AxesImage at 0x7f2cc16bc160>"
      ]
     },
     "execution_count": 26,
     "metadata": {},
     "output_type": "execute_result"
    },
    {
     "data": {
      "image/png": "[encoded data removed]",
      "text/plain": [
       "<Figure size 640x480 with 1 Axes>"
      ]
     },
     "metadata": {},
     "output_type": "display_data"
    }
   ],
   "source": [
    "image = image_and_assets[0].data_as_image()\n",
    "imshow(image)"
   ]
  },
  {
   "cell_type": "markdown",
   "id": "6021ba14",
   "metadata": {},
   "source": [
    "# Profile titiler-xarray"
   ]
  },
  {
   "cell_type": "code",
   "execution_count": 58,
   "id": "d60aad91",
   "metadata": {
    "editable": true,
    "slideshow": {
     "slide_type": ""
    },
    "tags": []
   },
   "outputs": [
    {
     "name": "stdout",
     "output_type": "stream",
     "text": [
      "The autoreload extension is already loaded. To reload it, use:\n",
      "  %reload_ext autoreload\n"
     ]
    }
   ],
   "source": [
    "# useful to always reload the module while its being developed\n",
    "%load_ext autoreload\n",
    "%autoreload\n",
    "import xarray_tile_reader\n",
    "import zarr_reader"
   ]
  },
  {
   "cell_type": "code",
   "execution_count": 29,
   "id": "b64be1ae-02b4-445c-842b-ea033d8ef53d",
   "metadata": {
    "tags": []
   },
   "outputs": [],
   "source": [
    "bucket = 'nasa-eodc-data-store'\n",
    "chunk_set_paths = ['600_1440_1', '600_1440_29', '365_262_262']"
   ]
  },
  {
   "cell_type": "code",
   "execution_count": null,
   "id": "e67a9897-0da9-4255-9feb-4537b9a5eb45",
   "metadata": {},
   "outputs": [],
   "source": [
    "# Create a table with the different chunk shapes and sizes"
   ]
  },
  {
   "cell_type": "code",
   "execution_count": 50,
   "id": "d48b74db-4f6c-4265-8135-0b1d76e431b9",
   "metadata": {
    "tags": []
   },
   "outputs": [
    {
     "name": "stdout",
     "output_type": "stream",
     "text": [
      "{'kerchunk': {'data_store_path': 'combined_CMIP6_daily_GISS-E2-1-G_tas_kerchunk.json'}, '600_1440_1': {'data_store_path': '600_1440_1/CMIP6_daily_GISS-E2-1-G_tas.zarr'}, '600_1440_29': {'data_store_path': '600_1440_29/CMIP6_daily_GISS-E2-1-G_tas.zarr'}, '365_262_262': {'data_store_path': '365_262_262/CMIP6_daily_GISS-E2-1-G_tas.zarr'}}\n"
     ]
    }
   ],
   "source": [
    "\n",
    "datastores = { \n",
    "    'kerchunk': {\n",
    "        \"data_store_path\": f\"combined_CMIP6_{temporal_resolution}_{model}_{variable}_kerchunk.json\"\n",
    "    }\n",
    "}\n",
    "\n",
    "for chunk_set_path in chunk_set_paths:\n",
    "    datastores[chunk_set_path] = {\n",
    "        'data_store_path': f\"{chunk_set_path}/CMIP6_{temporal_resolution}_{model}_{variable}.zarr\"\n",
    "    }\n",
    "\n",
    "for key, datastore in datastores.items():\n",
    "    reference = False\n",
    "    if key == 'kerchunk':\n",
    "        reference = True\n",
    "    data_store_url = f\"s3://{bucket}/{datastore['data_store_path']}\"\n",
    "\n",
    "    ds = zarr_reader.xarray_open_dataset(data_store_url, anon=False, reference=reference)\n",
    "\n",
    "    var = ds[0][variable]\n",
    "    chunks = var.encoding.get(\"chunks\", \"N/A\")\n",
    "    dtype = var.encoding.get(\"dtype\", \"N/A\")\n",
    "    chunks_dict = dict(zip(var.dims, chunks))\n",
    "    chunk_size_mb = \"N/A\" if chunks is None else (np.prod(chunks) * dtype.itemsize)/1024/1024    \n",
    "    datastores[key]['chunk_size_mb'] = chunk_size_mb    \n",
    "    datastores[key]['chunks'] = chunks_dict\n",
    "    datastores[key]['dtype'] = dtype"
   ]
  },
  {
   "cell_type": "code",
   "execution_count": 48,
   "id": "e5a2da8c-a345-4de6-bcc8-f1757f4a0983",
   "metadata": {
    "tags": []
   },
   "outputs": [
    {
     "data": {
      "text/html": [
       "<div>\n",
       "<style scoped>\n",
       "    .dataframe tbody tr th:only-of-type {\n",
       "        vertical-align: middle;\n",
       "    }\n",
       "\n",
       "    .dataframe tbody tr th {\n",
       "        vertical-align: top;\n",
       "    }\n",
       "\n",
       "    .dataframe thead th {\n",
       "        text-align: right;\n",
       "    }\n",
       "</style>\n",
       "<table border=\"1\" class=\"dataframe\">\n",
       "  <thead>\n",
       "    <tr style=\"text-align: right;\">\n",
       "      <th></th>\n",
       "      <th>data_store_path</th>\n",
       "      <th>chunk_size_mb</th>\n",
       "      <th>chunks</th>\n",
       "      <th>dtype</th>\n",
       "    </tr>\n",
       "  </thead>\n",
       "  <tbody>\n",
       "    <tr>\n",
       "      <th>kerchunk</th>\n",
       "      <td>combined_CMIP6_daily_GISS-E2-1-G_tas_kerchunk....</td>\n",
       "      <td>3.295898</td>\n",
       "      <td>{'time': 1, 'lat': 600, 'lon': 1440}</td>\n",
       "      <td>float32</td>\n",
       "    </tr>\n",
       "    <tr>\n",
       "      <th>600_1440_1</th>\n",
       "      <td>600_1440_1/CMIP6_daily_GISS-E2-1-G_tas.zarr</td>\n",
       "      <td>3.295898</td>\n",
       "      <td>{'time': 1, 'lat': 600, 'lon': 1440}</td>\n",
       "      <td>float32</td>\n",
       "    </tr>\n",
       "    <tr>\n",
       "      <th>600_1440_29</th>\n",
       "      <td>600_1440_29/CMIP6_daily_GISS-E2-1-G_tas.zarr</td>\n",
       "      <td>95.581055</td>\n",
       "      <td>{'time': 29, 'lat': 600, 'lon': 1440}</td>\n",
       "      <td>float32</td>\n",
       "    </tr>\n",
       "    <tr>\n",
       "      <th>365_262_262</th>\n",
       "      <td>365_262_262/CMIP6_daily_GISS-E2-1-G_tas.zarr</td>\n",
       "      <td>95.577469</td>\n",
       "      <td>{'time': 365, 'lat': 262, 'lon': 262}</td>\n",
       "      <td>float32</td>\n",
       "    </tr>\n",
       "  </tbody>\n",
       "</table>\n",
       "</div>"
      ],
      "text/plain": [
       "                                               data_store_path  chunk_size_mb  \\\n",
       "kerchunk     combined_CMIP6_daily_GISS-E2-1-G_tas_kerchunk....       3.295898   \n",
       "600_1440_1         600_1440_1/CMIP6_daily_GISS-E2-1-G_tas.zarr       3.295898   \n",
       "600_1440_29       600_1440_29/CMIP6_daily_GISS-E2-1-G_tas.zarr      95.581055   \n",
       "365_262_262       365_262_262/CMIP6_daily_GISS-E2-1-G_tas.zarr      95.577469   \n",
       "\n",
       "                                            chunks    dtype  \n",
       "kerchunk      {'time': 1, 'lat': 600, 'lon': 1440}  float32  \n",
       "600_1440_1    {'time': 1, 'lat': 600, 'lon': 1440}  float32  \n",
       "600_1440_29  {'time': 29, 'lat': 600, 'lon': 1440}  float32  \n",
       "365_262_262  {'time': 365, 'lat': 262, 'lon': 262}  float32  "
      ]
     },
     "execution_count": 48,
     "metadata": {},
     "output_type": "execute_result"
    }
   ],
   "source": [
    "df = pd.DataFrame.from_dict(datastore_chunks, orient='index')\n",
    "df"
   ]
  },
  {
   "cell_type": "code",
   "execution_count": 78,
   "id": "28234cfd-8b77-47a6-9899-eff51ec40086",
   "metadata": {
    "tags": []
   },
   "outputs": [
    {
     "name": "stdout",
     "output_type": "stream",
     "text": [
      "Testing (0, 0, 0)\n",
      "Testing kerchunk\n",
      "Testing 600_1440_1\n",
      "Testing 600_1440_29\n",
      "Testing 365_262_262\n",
      "Testing (0, 0, 1)\n",
      "Testing kerchunk\n",
      "Testing 600_1440_1\n",
      "Testing 600_1440_29\n",
      "Testing 365_262_262\n",
      "Testing (1, 1, 2)\n",
      "Testing kerchunk\n",
      "Testing 600_1440_1\n",
      "Testing 600_1440_29\n",
      "Testing 365_262_262\n",
      "Testing (2, 3, 3)\n",
      "Testing kerchunk\n",
      "Testing 600_1440_1\n",
      "Testing 600_1440_29\n",
      "Testing 365_262_262\n",
      "Testing (4, 6, 4)\n",
      "Testing kerchunk\n",
      "Testing 600_1440_1\n",
      "Testing 600_1440_29\n",
      "Testing 365_262_262\n",
      "Testing (9, 12, 5)\n",
      "Testing kerchunk\n",
      "Testing 600_1440_1\n",
      "Testing 600_1440_29\n",
      "Testing 365_262_262\n",
      "Testing (18, 24, 6)\n",
      "Testing kerchunk\n",
      "Testing 600_1440_1\n",
      "Testing 600_1440_29\n",
      "Testing 365_262_262\n",
      "Testing (37, 48, 7)\n",
      "Testing kerchunk\n",
      "Testing 600_1440_1\n",
      "Testing 600_1440_29\n",
      "Testing 365_262_262\n",
      "Testing (75, 96, 8)\n",
      "Testing kerchunk\n",
      "Testing 600_1440_1\n",
      "Testing 600_1440_29\n",
      "Testing 365_262_262\n",
      "Testing (150, 192, 9)\n",
      "Testing kerchunk\n",
      "Testing 600_1440_1\n",
      "Testing 600_1440_29\n",
      "Testing 365_262_262\n",
      "Testing (301, 384, 10)\n",
      "Testing kerchunk\n",
      "Testing 600_1440_1\n",
      "Testing 600_1440_29\n",
      "Testing 365_262_262\n",
      "Testing (603, 769, 11)\n",
      "Testing kerchunk\n",
      "Testing 600_1440_1\n",
      "Testing 600_1440_29\n",
      "Testing 365_262_262\n"
     ]
    }
   ],
   "source": [
    "niters = 1\n",
    "tile_results_df = {}\n",
    "dataset_chunk_sizes = {}\n",
    "results_df = datastores.copy()\n",
    "\n",
    "for xyz_tile in xyz_tiles:\n",
    "    results_df[xyz_tile] = {}\n",
    "    for dataset in datastores.keys():\n",
    "        data_store_path = datastores[dataset]['data_store_path']\n",
    "        data_store_url = f\"s3://{bucket}/{data_store_path}\"\n",
    "        reference = False\n",
    "        if dataset == 'kerchunk':\n",
    "            reference = True\n",
    "\n",
    "        results_df[xyz_tile][dataset] = {\n",
    "            'time to open (ms)': [],\n",
    "            'rio reproject (ms)': [],\n",
    "            'total time (ms)': []\n",
    "        }\n",
    "        timings_results = results_df[xyz_tile][dataset]\n",
    "        for iter in range(niters):\n",
    "            with Timer() as t:\n",
    "                image_and_timings, cprofile = xarray_tile_reader.tile(\n",
    "                    data_store_url,\n",
    "                    *xyz_tile,\n",
    "                    reference=reference,\n",
    "                    anon=False,\n",
    "                    variable=variable,\n",
    "                )\n",
    "            total_time = round(t.elapsed * 1000, 2)\n",
    "\n",
    "            timings = image_and_timings[1]\n",
    "            timings_results['time to open (ms)'].append(timings['time_to_open']),\n",
    "            timings_results['rio reproject (ms)'].append(timings['rio.reproject']),\n",
    "            timings_results['total time (ms)'].append(total_time)\n",
    "        timings_results['mean time to open (ms)'] = np.mean(timings_results['time to open (ms)'])\n",
    "        timings_results['mean rio reproject (ms)'] = np.mean(timings_results['rio reproject (ms)']) \n",
    "        timings_results['mean total time (ms)'] = np.mean(timings_results['total time (ms)'])"
   ]
  },
  {
   "cell_type": "code",
   "execution_count": 80,
   "id": "8367c346-bb2f-4a1c-a4f1-876d402d078c",
   "metadata": {
    "tags": []
   },
   "outputs": [
    {
     "name": "stdout",
     "output_type": "stream",
     "text": [
      "Results for (0, 0, 0)\n",
      "            time to open (ms) rio reproject (ms) total time (ms)  \\\n",
      "kerchunk             [131.75]            [81.33]        [285.35]   \n",
      "600_1440_29          [116.27]            [519.3]        [704.79]   \n",
      "365_262_262           [146.9]          [1428.35]       [1644.74]   \n",
      "600_1440_1           [1538.4]           [515.94]       [2124.01]   \n",
      "\n",
      "             mean time to open (ms)  mean rio reproject (ms)  \\\n",
      "kerchunk                     131.75                    81.33   \n",
      "600_1440_29                  116.27                   519.30   \n",
      "365_262_262                  146.90                  1428.35   \n",
      "600_1440_1                  1538.40                   515.94   \n",
      "\n",
      "             mean total time (ms)  \n",
      "kerchunk                   285.35  \n",
      "600_1440_29                704.79  \n",
      "365_262_262               1644.74  \n",
      "600_1440_1                2124.01  \n",
      "\n",
      "Results for (0, 0, 1)\n",
      "            time to open (ms) rio reproject (ms) total time (ms)  \\\n",
      "kerchunk              [71.59]            [73.33]         [214.8]   \n",
      "600_1440_29          [153.21]           [516.68]        [738.02]   \n",
      "365_262_262           [75.19]           [779.42]        [923.94]   \n",
      "600_1440_1           [1540.5]            [69.09]       [1679.08]   \n",
      "\n",
      "             mean time to open (ms)  mean rio reproject (ms)  \\\n",
      "kerchunk                      71.59                    73.33   \n",
      "600_1440_29                  153.21                   516.68   \n",
      "365_262_262                   75.19                   779.42   \n",
      "600_1440_1                  1540.50                    69.09   \n",
      "\n",
      "             mean total time (ms)  \n",
      "kerchunk                   214.80  \n",
      "600_1440_29                738.02  \n",
      "365_262_262                923.94  \n",
      "600_1440_1                1679.08  \n",
      "\n",
      "Results for (1, 1, 2)\n",
      "            time to open (ms) rio reproject (ms) total time (ms)  \\\n",
      "kerchunk              [50.41]           [106.91]        [228.42]   \n",
      "600_1440_29          [102.88]           [515.53]        [688.22]   \n",
      "365_262_262           [76.41]           [584.65]        [730.08]   \n",
      "600_1440_1          [1856.07]            [63.68]       [1993.37]   \n",
      "\n",
      "             mean time to open (ms)  mean rio reproject (ms)  \\\n",
      "kerchunk                      50.41                   106.91   \n",
      "600_1440_29                  102.88                   515.53   \n",
      "365_262_262                   76.41                   584.65   \n",
      "600_1440_1                  1856.07                    63.68   \n",
      "\n",
      "             mean total time (ms)  \n",
      "kerchunk                   228.42  \n",
      "600_1440_29                688.22  \n",
      "365_262_262                730.08  \n",
      "600_1440_1                1993.37  \n",
      "\n",
      "Results for (2, 3, 3)\n",
      "            time to open (ms) rio reproject (ms) total time (ms)  \\\n",
      "kerchunk              [52.56]            [73.63]        [193.19]   \n",
      "600_1440_29          [108.87]            [509.0]        [686.19]   \n",
      "365_262_262           [74.22]           [584.84]        [727.94]   \n",
      "600_1440_1          [1491.67]            [77.37]       [1639.91]   \n",
      "\n",
      "             mean time to open (ms)  mean rio reproject (ms)  \\\n",
      "kerchunk                      52.56                    73.63   \n",
      "600_1440_29                  108.87                   509.00   \n",
      "365_262_262                   74.22                   584.84   \n",
      "600_1440_1                  1491.67                    77.37   \n",
      "\n",
      "             mean total time (ms)  \n",
      "kerchunk                   193.19  \n",
      "600_1440_29                686.19  \n",
      "365_262_262                727.94  \n",
      "600_1440_1                1639.91  \n",
      "\n",
      "Results for (4, 6, 4)\n",
      "            time to open (ms) rio reproject (ms) total time (ms)  \\\n",
      "kerchunk              [54.02]            [71.39]        [196.31]   \n",
      "600_1440_29          [123.95]           [509.61]        [702.04]   \n",
      "365_262_262           [90.75]           [579.55]        [738.05]   \n",
      "600_1440_1          [1984.87]            [55.41]       [2110.31]   \n",
      "\n",
      "             mean time to open (ms)  mean rio reproject (ms)  \\\n",
      "kerchunk                      54.02                    71.39   \n",
      "600_1440_29                  123.95                   509.61   \n",
      "365_262_262                   90.75                   579.55   \n",
      "600_1440_1                  1984.87                    55.41   \n",
      "\n",
      "             mean total time (ms)  \n",
      "kerchunk                   196.31  \n",
      "600_1440_29                702.04  \n",
      "365_262_262                738.05  \n",
      "600_1440_1                2110.31  \n",
      "\n",
      "Results for (9, 12, 5)\n",
      "            time to open (ms) rio reproject (ms) total time (ms)  \\\n",
      "kerchunk              [57.98]            [74.54]         [198.1]   \n",
      "600_1440_29          [104.95]           [522.61]        [696.38]   \n",
      "365_262_262           [94.26]           [578.11]        [742.51]   \n",
      "600_1440_1          [1489.34]            [66.14]       [1625.89]   \n",
      "\n",
      "             mean time to open (ms)  mean rio reproject (ms)  \\\n",
      "kerchunk                      57.98                    74.54   \n",
      "600_1440_29                  104.95                   522.61   \n",
      "365_262_262                   94.26                   578.11   \n",
      "600_1440_1                  1489.34                    66.14   \n",
      "\n",
      "             mean total time (ms)  \n",
      "kerchunk                   198.10  \n",
      "600_1440_29                696.38  \n",
      "365_262_262                742.51  \n",
      "600_1440_1                1625.89  \n",
      "\n",
      "Results for (18, 24, 6)\n",
      "            time to open (ms) rio reproject (ms) total time (ms)  \\\n",
      "kerchunk              [92.13]            [73.51]        [233.68]   \n",
      "600_1440_29          [121.01]           [511.83]        [701.96]   \n",
      "365_262_262           [103.3]           [575.94]        [746.53]   \n",
      "600_1440_1           [1500.2]            [78.43]       [2083.76]   \n",
      "\n",
      "             mean time to open (ms)  mean rio reproject (ms)  \\\n",
      "kerchunk                      92.13                    73.51   \n",
      "600_1440_29                  121.01                   511.83   \n",
      "365_262_262                  103.30                   575.94   \n",
      "600_1440_1                  1500.20                    78.43   \n",
      "\n",
      "             mean total time (ms)  \n",
      "kerchunk                   233.68  \n",
      "600_1440_29                701.96  \n",
      "365_262_262                746.53  \n",
      "600_1440_1                2083.76  \n",
      "\n",
      "Results for (37, 48, 7)\n",
      "            time to open (ms) rio reproject (ms) total time (ms)  \\\n",
      "kerchunk              [45.85]             [71.9]        [184.17]   \n",
      "600_1440_29          [102.86]           [513.61]        [686.31]   \n",
      "365_262_262          [167.27]           [578.73]        [815.76]   \n",
      "600_1440_1          [1502.29]            [63.34]       [1636.69]   \n",
      "\n",
      "             mean time to open (ms)  mean rio reproject (ms)  \\\n",
      "kerchunk                      45.85                    71.90   \n",
      "600_1440_29                  102.86                   513.61   \n",
      "365_262_262                  167.27                   578.73   \n",
      "600_1440_1                  1502.29                    63.34   \n",
      "\n",
      "             mean total time (ms)  \n",
      "kerchunk                   184.17  \n",
      "600_1440_29                686.31  \n",
      "365_262_262                815.76  \n",
      "600_1440_1                1636.69  \n",
      "\n",
      "Results for (75, 96, 8)\n",
      "            time to open (ms) rio reproject (ms) total time (ms)  \\\n",
      "kerchunk              [47.78]            [71.18]        [187.93]   \n",
      "600_1440_29           [106.8]           [511.22]        [686.13]   \n",
      "365_262_262           [77.61]           [578.37]         [723.7]   \n",
      "600_1440_1          [1561.31]            [69.39]       [2131.56]   \n",
      "\n",
      "             mean time to open (ms)  mean rio reproject (ms)  \\\n",
      "kerchunk                      47.78                    71.18   \n",
      "600_1440_29                  106.80                   511.22   \n",
      "365_262_262                   77.61                   578.37   \n",
      "600_1440_1                  1561.31                    69.39   \n",
      "\n",
      "             mean total time (ms)  \n",
      "kerchunk                   187.93  \n",
      "600_1440_29                686.13  \n",
      "365_262_262                723.70  \n",
      "600_1440_1                2131.56  \n",
      "\n",
      "Results for (150, 192, 9)\n",
      "            time to open (ms) rio reproject (ms) total time (ms)  \\\n",
      "kerchunk              [75.49]            [78.48]        [220.87]   \n",
      "600_1440_29           [141.2]           [508.99]        [717.42]   \n",
      "365_262_262            [96.8]           [579.82]        [744.83]   \n",
      "600_1440_1          [1482.77]            [75.04]       [1628.13]   \n",
      "\n",
      "             mean time to open (ms)  mean rio reproject (ms)  \\\n",
      "kerchunk                      75.49                    78.48   \n",
      "600_1440_29                  141.20                   508.99   \n",
      "365_262_262                   96.80                   579.82   \n",
      "600_1440_1                  1482.77                    75.04   \n",
      "\n",
      "             mean total time (ms)  \n",
      "kerchunk                   220.87  \n",
      "600_1440_29                717.42  \n",
      "365_262_262                744.83  \n",
      "600_1440_1                1628.13  \n",
      "\n",
      "Results for (301, 384, 10)\n",
      "            time to open (ms) rio reproject (ms) total time (ms)  \\\n",
      "kerchunk              [57.93]            [79.62]        [207.54]   \n",
      "600_1440_29          [106.38]           [511.44]        [687.06]   \n",
      "365_262_262           [91.76]           [578.78]        [739.46]   \n",
      "600_1440_1          [1483.83]            [82.88]       [2075.15]   \n",
      "\n",
      "             mean time to open (ms)  mean rio reproject (ms)  \\\n",
      "kerchunk                      57.93                    79.62   \n",
      "600_1440_29                  106.38                   511.44   \n",
      "365_262_262                   91.76                   578.78   \n",
      "600_1440_1                  1483.83                    82.88   \n",
      "\n",
      "             mean total time (ms)  \n",
      "kerchunk                   207.54  \n",
      "600_1440_29                687.06  \n",
      "365_262_262                739.46  \n",
      "600_1440_1                2075.15  \n",
      "\n",
      "Results for (603, 769, 11)\n",
      "            time to open (ms) rio reproject (ms) total time (ms)  \\\n",
      "kerchunk              [50.46]             [71.8]        [194.34]   \n",
      "600_1440_29          [127.64]           [511.36]        [711.02]   \n",
      "365_262_262           [96.75]           [581.61]        [749.97]   \n",
      "600_1440_1          [1539.54]            [66.57]        [1678.5]   \n",
      "\n",
      "             mean time to open (ms)  mean rio reproject (ms)  \\\n",
      "kerchunk                      50.46                    71.80   \n",
      "600_1440_29                  127.64                   511.36   \n",
      "365_262_262                   96.75                   581.61   \n",
      "600_1440_1                  1539.54                    66.57   \n",
      "\n",
      "             mean total time (ms)  \n",
      "kerchunk                   194.34  \n",
      "600_1440_29                711.02  \n",
      "365_262_262                749.97  \n",
      "600_1440_1                1678.50  \n",
      "\n"
     ]
    }
   ],
   "source": [
    "for xyz_tile in xyz_tiles:\n",
    "    print(f\"Results for {xyz_tile}\")\n",
    "    df = pd.DataFrame.from_dict(results_df[xyz_tile], orient='index')\n",
    "    print(df.sort_values('mean total time (ms)'))\n",
    "    print()"
   ]
  }
 ],
 "metadata": {
  "kernelspec": {
   "display_name": "Python 3 (ipykernel)",
   "language": "python",
   "name": "python3"
  },
  "language_info": {
   "codemirror_mode": {
    "name": "ipython",
    "version": 3
   },
   "file_extension": ".py",
   "mimetype": "text/x-python",
   "name": "python",
   "nbconvert_exporter": "python",
   "pygments_lexer": "ipython3",
   "version": "3.10.12"
  }
 },
 "nbformat": 4,
 "nbformat_minor": 5
}
