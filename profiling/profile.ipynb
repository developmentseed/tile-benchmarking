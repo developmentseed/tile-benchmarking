{
 "cells": [
  {
   "cell_type": "markdown",
   "id": "330dc8cc",
   "metadata": {},
   "source": [
    "# Profiling tiling of titiler-pgstac and titiler-xarray\n",
    "\n",
    "This notebook profiles code for tiling CMIP6 data via 2 methods:\n",
    "\n",
    "1. pgSTAC + COGs: The first method uses a (local or remote) pgSTAC database for storing metadata about COGs on S3. The libraries used are pgstac for reading STAC metadata and rio_tiler's rasterio for reading COGs on S3.\n",
    "2. kerchunk + netCDF: The second method uses a (local or S3) kerchunk reference file for NetCDF files stored on S3. The libraries used are xarray for reading the Zarr metadata and rio_tiler's XarrayReader for reading data from the NetCDFs on S3.\n",
    "3. Zarr stores with different chunking configurations.\n",
    "\n",
    "In the future, the following improvements and additions to this profiling code will be made:\n",
    "\n",
    "1. Test zarr stores with pyramids\n",
    "2. Test different tiles + sum the results.\n",
    "3. Test a higher resolution dataset."
   ]
  },
  {
   "cell_type": "markdown",
   "id": "dd3c1361-1e28-42a6-92b5-7c4bac4d9211",
   "metadata": {},
   "source": [
    "## Setup / Step 0\n",
    "\n",
    "1. Load some basic libraries\n",
    "2. Set an initial tile to test\n",
    "3. Add some AWS credentials\n",
    "4. Install any missing libraries"
   ]
  },
  {
   "cell_type": "code",
   "execution_count": 1,
   "id": "81cbd0f3-f88e-4c4e-b809-eecda8f5c14f",
   "metadata": {
    "editable": true,
    "slideshow": {
     "slide_type": ""
    },
    "tags": []
   },
   "outputs": [
    {
     "name": "stdout",
     "output_type": "stream",
     "text": [
      "Caught exception: An error occurred (InvalidPermission.Duplicate) when calling the AuthorizeSecurityGroupIngress operation: the specified rule \"peer: 34.220.42.38/32, TCP, from port: 5432, to port: 5432, ALLOW\" already exists\n",
      "Connected to database\n"
     ]
    }
   ],
   "source": [
    "%load_ext autoreload\n",
    "%autoreload\n",
    "\n",
    "import boto3\n",
    "from datetime import datetime\n",
    "import io\n",
    "from PIL import Image\n",
    "import os\n",
    "import warnings\n",
    "import cmip6_zarr.eodc_hub_role\n",
    "from matplotlib.pyplot import imshow\n",
    "import numpy as np\n",
    "import pandas as pd\n",
    "from profiler.main import Timer, cprofile_list_to_dict\n",
    "\n",
    "from cmip6_zarr import eodc_hub_role\n",
    "credentials = eodc_hub_role.fetch_and_set_credentials()\n",
    "os.environ['AWS_ACCESS_KEY_ID'] = credentials['AccessKeyId']\n",
    "os.environ['AWS_SECRET_ACCESS_KEY'] = credentials['SecretAccessKey']\n",
    "os.environ['AWS_SESSION_TOKEN'] = credentials['SessionToken'] \n",
    "import cmip6_pgstac.profile_pgstac as profile_pgstac\n",
    "\n",
    "warnings.filterwarnings('ignore')"
   ]
  },
  {
   "cell_type": "code",
   "execution_count": null,
   "id": "7dc702b3-f418-4281-a8e2-2fe0358d4e5e",
   "metadata": {
    "tags": []
   },
   "outputs": [],
   "source": [
    "#!pip install morecantile==3.4.0 loguru titiler titiler-pgstac\n",
    "#!pip install psycopg psycopg_binary psycopg_pool"
   ]
  },
  {
   "cell_type": "code",
   "execution_count": 2,
   "id": "49f855b1-e765-41a4-9da9-fec2e0ec106f",
   "metadata": {
    "tags": []
   },
   "outputs": [],
   "source": [
    "%%capture\n",
    "!pip install -r requirements.txt"
   ]
  },
  {
   "cell_type": "code",
   "execution_count": 3,
   "id": "fe2f56bf-04d3-46d8-86e1-13c3e0fbff25",
   "metadata": {
    "editable": true,
    "slideshow": {
     "slide_type": ""
    },
    "tags": []
   },
   "outputs": [],
   "source": [
    "# import morecantile\n",
    "# tms = morecantile.tms.get(\"WebMercatorQuad\")\n",
    "# tile = tms.tile(-73.97, 40.78, 8)\n",
    "# xyz_tile = (tile.x, tile.y, tile.z)\n",
    "xyz_tile = (0, 0, 0)"
   ]
  },
  {
   "cell_type": "code",
   "execution_count": 4,
   "id": "f6f1561b-185d-47dc-9b32-ca2d80f84e25",
   "metadata": {
    "editable": true,
    "slideshow": {
     "slide_type": ""
    },
    "tags": [
     "parameters"
    ]
   },
   "outputs": [],
   "source": [
    "#parameters\n",
    "temporal_resolution = \"daily\"\n",
    "model = \"GISS-E2-1-G\"\n",
    "variable = \"tas\"\n",
    "anon=True"
   ]
  },
  {
   "cell_type": "markdown",
   "id": "8a131851",
   "metadata": {},
   "source": [
    "## Profile titiler-pgstac"
   ]
  },
  {
   "cell_type": "markdown",
   "id": "ec854450-c3d7-4cce-9379-13384fcc1b7b",
   "metadata": {},
   "source": [
    "To achieve the best performance, we set some GDAL environment variables.\n",
    "\n",
    "These variables are documented here https://developmentseed.org/titiler/advanced/performance_tuning/, but that advice is copied into comments below for ease of reference."
   ]
  },
  {
   "cell_type": "code",
   "execution_count": 5,
   "id": "68399603-1a76-4cb6-a1fb-f00c35f41c3c",
   "metadata": {
    "editable": true,
    "slideshow": {
     "slide_type": ""
    },
    "tags": []
   },
   "outputs": [],
   "source": [
    "gdal_env_vars = {\n",
    "    # By default GDAL reads the first 16KB of the file, then if that doesn't contain the entire metadata\n",
    "    # it makes one more request for the rest of the metadata.\n",
    "    # In environments where latency is relatively high, AWS S3,\n",
    "    # it may be beneficial to increase this value depending on the data you expect to read.    \n",
    "    'GDAL_INGESTED_BYTES_AT_OPEN': '32768',\n",
    "    # It's much better to set EMPTY_DIR because this prevents GDAL from making a LIST request.\n",
    "    # LIST requests are made for sidecar files, which does not apply for COGs    \n",
    "    'GDAL_DISABLE_READDIR_ON_OPEN': 'EMPTY_DIR',\n",
    "    # Tells GDAL to merge consecutive range GET requests.    \n",
    "    'GDAL_HTTP_MERGE_CONSECUTIVE_RANGES': 'YES',\n",
    "    # When set to YES, this attempts to download multiple range requests in parallel, reusing the same TCP connection. \n",
    "    # Note this is only possible when the server supports HTTP2, which many servers don't yet support.\n",
    "    # There's no downside to setting YES here.    \n",
    "    'GDAL_HTTP_MULTIPLEX': 'YES',\n",
    "    'GDAL_HTTP_VERSION': '2',\n",
    "    # Setting this to TRUE enables GDAL to use an internal caching mechanism. It's recommended (strongly).    \n",
    "    'VSI_CACHE': 'TRUE'\n",
    "}\n",
    "\n",
    "def set_or_unset_gdal(set_vars=True):\n",
    "    if set_vars:\n",
    "        for key, value in gdal_env_vars.items():\n",
    "            os.environ[key] = value\n",
    "    else:\n",
    "        for key, value in gdal_env_vars.items():\n",
    "            os.environ.pop(key, None)\n",
    "    return"
   ]
  },
  {
   "cell_type": "code",
   "execution_count": 6,
   "id": "ed8b8d9f",
   "metadata": {
    "editable": true,
    "slideshow": {
     "slide_type": ""
    },
    "tags": []
   },
   "outputs": [
    {
     "name": "stdout",
     "output_type": "stream",
     "text": [
      "{'pgstac-search': 36.19, 'get_tile': [262.42], 'mosaic': 263.28}\n",
      "{'pgstac-search': 0.32, 'get_tile': [39.97], 'mosaic': 40.56}\n",
      "{'pgstac-search': 0.31, 'get_tile': [32.51], 'mosaic': 33.05}\n",
      "{'pgstac-search': 0.29, 'get_tile': [32.67], 'mosaic': 33.19}\n",
      "{'pgstac-search': 0.29, 'get_tile': [33.44], 'mosaic': 33.97}\n",
      "{'pgstac-search': 0.29, 'get_tile': [32.65], 'mosaic': 33.15}\n",
      "{'pgstac-search': 0.29, 'get_tile': [32.63], 'mosaic': 33.14}\n",
      "{'pgstac-search': 0.28, 'get_tile': [31.99], 'mosaic': 32.5}\n",
      "{'pgstac-search': 0.28, 'get_tile': [33.13], 'mosaic': 33.63}\n",
      "{'pgstac-search': 0.28, 'get_tile': [32.03], 'mosaic': 32.52}\n",
      "{'pgstac-search': 0.38, 'get_tile': [16772.0], 'mosaic': 16772.98}\n",
      "{'pgstac-search': 0.38, 'get_tile': [29758.88], 'mosaic': 29759.92}\n",
      "{'pgstac-search': 0.39, 'get_tile': [27854.3], 'mosaic': 27855.63}\n",
      "{'pgstac-search': 0.38, 'get_tile': [26239.39], 'mosaic': 26240.33}\n",
      "{'pgstac-search': 0.37, 'get_tile': [28257.87], 'mosaic': 28259.54}\n",
      "{'pgstac-search': 0.39, 'get_tile': [15523.0], 'mosaic': 15524.33}\n",
      "{'pgstac-search': 0.38, 'get_tile': [14239.11], 'mosaic': 14239.98}\n",
      "{'pgstac-search': 0.36, 'get_tile': [28101.18], 'mosaic': 28102.5}\n",
      "{'pgstac-search': 0.37, 'get_tile': [28447.76], 'mosaic': 28449.02}\n",
      "{'pgstac-search': 0.37, 'get_tile': [15775.9], 'mosaic': 15776.78}\n"
     ]
    }
   ],
   "source": [
    "if temporal_resolution == 'daily':\n",
    "    collection = f\"CMIP6_daily_{model}_{variable}\"\n",
    "elif temporal_resolution == 'monthly':\n",
    "    collection = f\"CMIP6_ensemble_monthly_median_{variable}\"\n",
    "\n",
    "niters = 10\n",
    "cog_results_df = {\n",
    "    'with_gdal_vars': {\n",
    "        'total time': [],\n",
    "        'mean total time': None\n",
    "    },\n",
    "    'without_gdal_vars': {\n",
    "        'total time': [],\n",
    "        'mean total time': None\n",
    "    },\n",
    "}\n",
    "query = {\n",
    "  \"collections\": [ collection ],\n",
    "  \"filter\": {\n",
    "    \"op\": \"t_intersects\",\n",
    "    \"args\": [\n",
    "      {\n",
    "        \"property\": \"datetime\"\n",
    "      },\n",
    "      {\n",
    "        \"interval\": [\n",
    "          \"1950-04-01T00:00:00Z\"           \n",
    "        ]\n",
    "      }\n",
    "    ]\n",
    "  },\n",
    "  \"filter-lang\": \"cql2-json\"\n",
    "}\n",
    "\n",
    "for settings in ['with_gdal_vars', 'without_gdal_vars']:\n",
    "    results_timings = cog_results_df[settings]\n",
    "    if settings == 'with_gdal_vars':\n",
    "        set_or_unset_gdal(set_vars=True)\n",
    "    else:\n",
    "        set_or_unset_gdal(set_vars=False)\n",
    "    for iter in range(niters):\n",
    "        with Timer() as t:\n",
    "            image_and_assets, cprofile = profile_pgstac.tile(*xyz_tile, query=dict(query))\n",
    "        results_timings['total time'].append(round(t.elapsed * 1000, 2))\n",
    "    results_timings['mean total time'] = np.mean(results_timings['total time'])\n",
    "    "
   ]
  },
  {
   "cell_type": "code",
   "execution_count": 7,
   "id": "488547ee-bf92-4a50-be0f-4a7139a722e9",
   "metadata": {
    "tags": []
   },
   "outputs": [
    {
     "data": {
      "text/html": [
       "<div>\n",
       "<style scoped>\n",
       "    .dataframe tbody tr th:only-of-type {\n",
       "        vertical-align: middle;\n",
       "    }\n",
       "\n",
       "    .dataframe tbody tr th {\n",
       "        vertical-align: top;\n",
       "    }\n",
       "\n",
       "    .dataframe thead th {\n",
       "        text-align: right;\n",
       "    }\n",
       "</style>\n",
       "<table border=\"1\" class=\"dataframe\">\n",
       "  <thead>\n",
       "    <tr style=\"text-align: right;\">\n",
       "      <th></th>\n",
       "      <th>total time</th>\n",
       "      <th>mean total time</th>\n",
       "    </tr>\n",
       "  </thead>\n",
       "  <tbody>\n",
       "    <tr>\n",
       "      <th>with_gdal_vars</th>\n",
       "      <td>[318.35, 54.98, 48.23, 42.26, 44.13, 41.93, 41...</td>\n",
       "      <td>71.584</td>\n",
       "    </tr>\n",
       "    <tr>\n",
       "      <th>without_gdal_vars</th>\n",
       "      <td>[16782.94, 29770.21, 27866.86, 26250.64, 28269...</td>\n",
       "      <td>23109.038</td>\n",
       "    </tr>\n",
       "  </tbody>\n",
       "</table>\n",
       "</div>"
      ],
      "text/plain": [
       "                                                          total time  \\\n",
       "with_gdal_vars     [318.35, 54.98, 48.23, 42.26, 44.13, 41.93, 41...   \n",
       "without_gdal_vars  [16782.94, 29770.21, 27866.86, 26250.64, 28269...   \n",
       "\n",
       "                   mean total time  \n",
       "with_gdal_vars              71.584  \n",
       "without_gdal_vars        23109.038  "
      ]
     },
     "execution_count": 7,
     "metadata": {},
     "output_type": "execute_result"
    }
   ],
   "source": [
    "pd.DataFrame.from_dict(cog_results_df, orient='index')"
   ]
  },
  {
   "cell_type": "code",
   "execution_count": 8,
   "id": "d1855e96-3d84-4ae3-a677-10fffb002dd9",
   "metadata": {
    "tags": []
   },
   "outputs": [
    {
     "data": {
      "text/plain": [
       "<matplotlib.image.AxesImage at 0x7f039cc41150>"
      ]
     },
     "execution_count": 8,
     "metadata": {},
     "output_type": "execute_result"
    },
    {
     "data": {
      "image/png": "[encoded data removed]",
      "text/plain": [
       "<Figure size 640x480 with 1 Axes>"
      ]
     },
     "metadata": {},
     "output_type": "display_data"
    }
   ],
   "source": [
    "image = image_and_assets[0].data_as_image()\n",
    "imshow(image)"
   ]
  },
  {
   "cell_type": "markdown",
   "id": "6021ba14",
   "metadata": {},
   "source": [
    "# Profile titiler-xarray"
   ]
  },
  {
   "cell_type": "code",
   "execution_count": 9,
   "id": "d60aad91",
   "metadata": {
    "editable": true,
    "slideshow": {
     "slide_type": ""
    },
    "tags": []
   },
   "outputs": [
    {
     "name": "stdout",
     "output_type": "stream",
     "text": [
      "The autoreload extension is already loaded. To reload it, use:\n",
      "  %reload_ext autoreload\n"
     ]
    }
   ],
   "source": [
    "# useful to always reload the module while its being developed\n",
    "%load_ext autoreload\n",
    "%autoreload\n",
    "import xarray_tile_reader\n",
    "import zarr_reader"
   ]
  },
  {
   "cell_type": "code",
   "execution_count": 10,
   "id": "b64be1ae-02b4-445c-842b-ea033d8ef53d",
   "metadata": {
    "tags": []
   },
   "outputs": [],
   "source": [
    "bucket = 'nasa-eodc-data-store'\n",
    "chunk_set_paths = ['600_1440_1', '600_1440_29', '365_262_262']\n",
    "results_df = {\n",
    "  'kerchunk': {\n",
    "      \"data_store_path\": f\"combined_CMIP6_{temporal_resolution}_{model}_{variable}_kerchunk.json\"\n",
    "  }\n",
    "}\n",
    "\n",
    "for chunk_set_path in chunk_set_paths:\n",
    "    results_df[chunk_set_path] = {\n",
    "        'data_store_path': f\"{chunk_set_path}/CMIP6_{temporal_resolution}_{model}_{variable}.zarr\"\n",
    "    }"
   ]
  },
  {
   "cell_type": "code",
   "execution_count": 11,
   "id": "28234cfd-8b77-47a6-9899-eff51ec40086",
   "metadata": {
    "tags": []
   },
   "outputs": [],
   "source": [
    "niters = 10\n",
    "\n",
    "for dataset in results_df.keys():\n",
    "    data_store_path = results_df[dataset]['data_store_path']\n",
    "    data_store_url = f\"s3://{bucket}/{data_store_path}\"\n",
    "    reference = False\n",
    "    if dataset == 'kerchunk':\n",
    "        reference = True\n",
    "\n",
    "    ds = zarr_reader.xarray_open_dataset(data_store_url, anon=False, reference=reference)\n",
    "\n",
    "    dask_array = ds[0][variable]\n",
    "    chunk_size_bytes = dask_array.dtype.itemsize * dask_array.chunks[0][0] * dask_array.chunks[1][0] * dask_array.chunks[2][0]\n",
    "    chunk_size_mb = chunk_size_bytes / (1024 * 1024)\n",
    "    results_df[dataset]['chunk_size_mb'] = chunk_size_mb\n",
    "    results_df[dataset]['timings'] = {\n",
    "        'time to open (ms)': [],\n",
    "        'rio reproject (ms)': [],\n",
    "        'total time (ms)': [],\n",
    "    }\n",
    "    timings_results = results_df[dataset]['timings']\n",
    "    for iter in range(niters):\n",
    "        with Timer() as t:\n",
    "            image_and_timings, cprofile = xarray_tile_reader.tile(\n",
    "                data_store_url,\n",
    "                *xyz_tile,\n",
    "                reference=reference,\n",
    "                anon=False,\n",
    "                variable=variable,\n",
    "            )\n",
    "        total_time = round(t.elapsed * 1000, 2)\n",
    "\n",
    "        timings = image_and_timings[1]\n",
    "        timings_results['time to open (ms)'].append(timings['time_to_open']),\n",
    "        timings_results['rio reproject (ms)'].append(timings['rio.reproject']),\n",
    "        timings_results['total time (ms)'].append(total_time)\n",
    "    results_df[dataset]['mean time to open (ms)'] = np.mean(timings_results['time to open (ms)'])\n",
    "    results_df[dataset]['mean rio reproject (ms)'] = np.mean(timings_results['rio reproject (ms)']) \n",
    "    results_df[dataset]['mean total time (ms)'] = np.mean(timings_results['total time (ms)'])"
   ]
  },
  {
   "cell_type": "code",
   "execution_count": 12,
   "id": "30c32d0e-38ce-44e7-b61b-81dee3f46be6",
   "metadata": {
    "tags": []
   },
   "outputs": [
    {
     "data": {
      "text/html": [
       "<div>\n",
       "<style scoped>\n",
       "    .dataframe tbody tr th:only-of-type {\n",
       "        vertical-align: middle;\n",
       "    }\n",
       "\n",
       "    .dataframe tbody tr th {\n",
       "        vertical-align: top;\n",
       "    }\n",
       "\n",
       "    .dataframe thead th {\n",
       "        text-align: right;\n",
       "    }\n",
       "</style>\n",
       "<table border=\"1\" class=\"dataframe\">\n",
       "  <thead>\n",
       "    <tr style=\"text-align: right;\">\n",
       "      <th></th>\n",
       "      <th>data_store_path</th>\n",
       "      <th>chunk_size_mb</th>\n",
       "      <th>mean time to open (ms)</th>\n",
       "      <th>mean rio reproject (ms)</th>\n",
       "      <th>mean total time (ms)</th>\n",
       "    </tr>\n",
       "  </thead>\n",
       "  <tbody>\n",
       "    <tr>\n",
       "      <th>kerchunk</th>\n",
       "      <td>combined_CMIP6_daily_GISS-E2-1-G_tas_kerchunk....</td>\n",
       "      <td>3.295898</td>\n",
       "      <td>59.453</td>\n",
       "      <td>137.165</td>\n",
       "      <td>266.826</td>\n",
       "    </tr>\n",
       "    <tr>\n",
       "      <th>600_1440_29</th>\n",
       "      <td>600_1440_29/CMIP6_daily_GISS-E2-1-G_tas.zarr</td>\n",
       "      <td>95.581055</td>\n",
       "      <td>122.886</td>\n",
       "      <td>565.691</td>\n",
       "      <td>779.547</td>\n",
       "    </tr>\n",
       "    <tr>\n",
       "      <th>365_262_262</th>\n",
       "      <td>365_262_262/CMIP6_daily_GISS-E2-1-G_tas.zarr</td>\n",
       "      <td>95.577469</td>\n",
       "      <td>89.448</td>\n",
       "      <td>1283.191</td>\n",
       "      <td>1463.516</td>\n",
       "    </tr>\n",
       "    <tr>\n",
       "      <th>600_1440_1</th>\n",
       "      <td>600_1440_1/CMIP6_daily_GISS-E2-1-G_tas.zarr</td>\n",
       "      <td>3.295898</td>\n",
       "      <td>1619.619</td>\n",
       "      <td>77.588</td>\n",
       "      <td>1766.349</td>\n",
       "    </tr>\n",
       "  </tbody>\n",
       "</table>\n",
       "</div>"
      ],
      "text/plain": [
       "                                               data_store_path  chunk_size_mb  \\\n",
       "kerchunk     combined_CMIP6_daily_GISS-E2-1-G_tas_kerchunk....       3.295898   \n",
       "600_1440_29       600_1440_29/CMIP6_daily_GISS-E2-1-G_tas.zarr      95.581055   \n",
       "365_262_262       365_262_262/CMIP6_daily_GISS-E2-1-G_tas.zarr      95.577469   \n",
       "600_1440_1         600_1440_1/CMIP6_daily_GISS-E2-1-G_tas.zarr       3.295898   \n",
       "\n",
       "             mean time to open (ms)  mean rio reproject (ms)  \\\n",
       "kerchunk                     59.453                  137.165   \n",
       "600_1440_29                 122.886                  565.691   \n",
       "365_262_262                  89.448                 1283.191   \n",
       "600_1440_1                 1619.619                   77.588   \n",
       "\n",
       "             mean total time (ms)  \n",
       "kerchunk                  266.826  \n",
       "600_1440_29               779.547  \n",
       "365_262_262              1463.516  \n",
       "600_1440_1               1766.349  "
      ]
     },
     "execution_count": 12,
     "metadata": {},
     "output_type": "execute_result"
    }
   ],
   "source": [
    "df = pd.DataFrame.from_dict(results_df, orient='index')\n",
    "df.drop(columns=['timings']).sort_values('mean total time (ms)')"
   ]
  }
 ],
 "metadata": {
  "kernelspec": {
   "display_name": "Python 3 (ipykernel)",
   "language": "python",
   "name": "python3"
  },
  "language_info": {
   "codemirror_mode": {
    "name": "ipython",
    "version": 3
   },
   "file_extension": ".py",
   "mimetype": "text/x-python",
   "name": "python",
   "nbconvert_exporter": "python",
   "pygments_lexer": "ipython3",
   "version": "3.10.12"
  }
 },
 "nbformat": 4,
 "nbformat_minor": 5
}
