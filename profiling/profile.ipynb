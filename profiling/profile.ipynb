{
 "cells": [
  {
   "cell_type": "code",
   "execution_count": 1,
   "id": "1e0e7aeb",
   "metadata": {},
   "outputs": [],
   "source": [
    "# Import libraries\n",
    "## for profiling\n",
    "from profiler.main import profile\n",
    "\n",
    "# for titiler-xarray\n",
    "from typing import Any\n",
    "from titiler.xarray.factory import xarray_open_dataset, update_dataset\n",
    "import morecantile\n",
    "from rio_tiler.io import XarrayReader\n",
    "\n",
    "# for titiler-pgstac\n",
    "from titiler.pgstac.mosaic import PGSTACBackend\n",
    "from typing import Any, Dict, List, Tuple\n",
    "from rio_tiler.mosaic import mosaic_reader\n",
    "from rio_tiler.models import ImageData\n",
    "from geojson_pydantic import Polygon\n",
    "\n",
    "# Only if wanting to see a picture\n",
    "import io\n",
    "from PIL import Image"
   ]
  },
  {
   "cell_type": "code",
   "execution_count": 2,
   "id": "a53106ea",
   "metadata": {},
   "outputs": [],
   "source": [
    "search_dict: Dict[str, Any] = {\n",
    "    'collections': [\"CMIP6_ensemble_median_TAS\"],\n",
    "    'datetime': \"1951-01-01T00:00:00Z\",\n",
    "    'bbox': [-180, -90, 180, 90]\n",
    "}\n",
    "\n",
    "xyz_tile = (0,0,0)"
   ]
  },
  {
   "cell_type": "markdown",
   "id": "6021ba14",
   "metadata": {},
   "source": [
    "## Profile titiler-xarray"
   ]
  },
  {
   "cell_type": "code",
   "execution_count": 3,
   "id": "d60aad91",
   "metadata": {},
   "outputs": [],
   "source": [
    "@profile(add_to_return=True, cprofile=True, quiet=True, log_library='s3fs')\n",
    "def tile(src_path: str, x: int, y: int, z: int, *, variable: str, time_slice: str = None, **kwargs: Any):\n",
    "\n",
    "    with xarray_open_dataset(\n",
    "        src_path,\n",
    "        z=z,\n",
    "        decode_times=False,\n",
    "        **kwargs,\n",
    "    ) as dataset:\n",
    "        dataarray, _ = update_dataset(dataset, variable=variable, time_slice=time_slice)\n",
    "        \n",
    "        with XarrayReader(dataarray) as src_dst:\n",
    "            return src_dst.tile(x, y, z)"
   ]
  },
  {
   "cell_type": "code",
   "execution_count": 4,
   "id": "92cd9091",
   "metadata": {},
   "outputs": [
    {
     "name": "stdout",
     "output_type": "stream",
     "text": [
      "Opening reference file\n"
     ]
    },
    {
     "name": "stderr",
     "output_type": "stream",
     "text": [
      "/Users/aimeebarciauskas/miniconda3/lib/python3.9/site-packages/titiler/xarray/factory.py:50: UserWarning: Variable(s) referenced in cell_measures not in variables: ['areacella']\n",
      "  return xarray.open_dataset(src_path, **xr_open_args)\n",
      "/Users/aimeebarciauskas/miniconda3/lib/python3.9/site-packages/xarray/core/indexes.py:224: FutureWarning: Passing method to Float64Index.get_loc is deprecated and will raise in a future version. Use index.get_indexer([item], method=...) instead.\n",
      "  indexer = index.get_loc(\n"
     ]
    },
    {
     "name": "stdout",
     "output_type": "stream",
     "text": [
      "Setting up s3fs instance\n",
      "RC: caching enabled? False (explicit option is False)\n",
      "CALL: get_object - () - {'Bucket': 'climatedashboard-data', 'Key': 'cmip6/raw/monthly/CMIP6_ensemble_median/tas/tas_month_ensemble-median_historical_1950.nc', 'Range': 'bytes=21990-26789'}\n",
      "CALL: get_object - () - {'Bucket': 'climatedashboard-data', 'Key': 'cmip6/raw/monthly/CMIP6_ensemble_median/tas/tas_month_ensemble-median_historical_1950.nc', 'Range': 'bytes=10470-21989'}\n",
      "CALL: get_object - () - {'Bucket': 'climatedashboard-data', 'Key': 'cmip6/raw/monthly/CMIP6_ensemble_median/tas/tas_month_ensemble-median_historical_1950.nc', 'Range': 'bytes=45897-755594'}\n"
     ]
    },
    {
     "data": {
      "text/plain": [
       "{'cprofile': ['   ncalls  tottime  percall  cumtime  percall filename:lineno(function)',\n",
       "  \"       99    1.355    0.014    1.355    0.014 {method 'acquire' of '_thread.lock' objects}\",\n",
       "  '36196/238    0.065    0.000    0.218    0.001 core.py:776(_parseNoCache)',\n",
       "  \"      110    0.030    0.000    0.030    0.000 {method 'read' of '_io.BufferedReader' objects}\",\n",
       "  '        1    0.024    0.024    0.024    0.024 {rasterio._warp._reproject}',\n",
       "  '    19030    0.016    0.000    0.023    0.000 results.py:136(__new__)',\n",
       "  ' 4387/573    0.015    0.000    0.189    0.000 core.py:4108(parseImpl)',\n",
       "  ' 4372/238    0.013    0.000    0.217    0.001 core.py:3861(parseImpl)',\n",
       "  '90607/90227    0.012    0.000    0.014    0.000 {built-in method builtins.isinstance}',\n",
       "  '    17526    0.011    0.000    0.018    0.000 core.py:2336(parseImpl)',\n",
       "  '    25089    0.010    0.000    0.012    0.000 core.py:757(preParse)',\n",
       "  '        1    0.010    0.010    0.010    0.010 {built-in method zlib.decompress}',\n",
       "  '        4    0.009    0.002    0.023    0.006 core.py:1865(_process_chunk)',\n",
       "  '19030/18570    0.009    0.000    0.016    0.000 results.py:159(__init__)',\n",
       "  '       91    0.008    0.000    0.008    0.000 {built-in method marshal.loads}',\n",
       "  '    65792    0.008    0.000    0.008    0.000 http_websocket.py:124(<genexpr>)',\n",
       "  '    18692    0.008    0.000    0.008    0.000 exceptions.py:24(__init__)',\n",
       "  '      150    0.008    0.000    0.008    0.000 {built-in method builtins.compile}',\n",
       "  '        8    0.008    0.001    0.008    0.001 {built-in method _imp.create_dynamic}',\n",
       "  '        1    0.007    0.007    0.015    0.015 http_websocket.py:124(<listcomp>)',\n",
       "  '72875/71825    0.007    0.000    0.007    0.000 {built-in method builtins.len}',\n",
       "  '     3966    0.006    0.000    0.008    0.000 results.py:200(__setitem__)',\n",
       "  '        9    0.006    0.001    0.006    0.001 crs.py:161(__init__)',\n",
       "  '        6    0.006    0.001    0.006    0.001 crs.py:964(geodetic_crs)',\n",
       "  '     3506    0.005    0.000    0.012    0.000 results.py:431(__iadd__)',\n",
       "  '      442    0.005    0.000    0.005    0.000 {built-in method posix.stat}',\n",
       "  '  304/303    0.004    0.000    0.017    0.000 {built-in method builtins.__build_class__}',\n",
       "  '    11366    0.004    0.000    0.004    0.000 {built-in method __new__ of type object at 0x10d58f8d0}',\n",
       "  '     1240    0.004    0.000    0.011    0.000 markers.py:257(default_environment)',\n",
       "  '       91    0.004    0.000    0.004    0.000 {built-in method io.open_code}',\n",
       "  '        2    0.003    0.002    0.003    0.002 {rasterio._warp._transform_bounds}',\n",
       "  '        1    0.003    0.003    0.003    0.003 {built-in method numcodecs._shuffle._doUnshuffle}',\n",
       "  ' 1109/762    0.003    0.000    0.026    0.000 core.py:4889(parseImpl)',\n",
       "  '     5202    0.003    0.000    0.004    0.000 results.py:191(__getitem__)',\n",
       "  \"        2    0.003    0.001    0.003    0.001 {method 'start' of 'rasterio._env.GDALEnv' objects}\",\n",
       "  \"     3290    0.003    0.000    0.003    0.000 {method 'match' of 're.Pattern' objects}\",\n",
       "  '1273/1240    0.003    0.000    0.012    0.000 markers.py:222(_evaluate_markers)',\n",
       "  '   172/37    0.002    0.000    0.006    0.000 sre_parse.py:493(_parse)',\n",
       "  '2527/1949    0.002    0.000    0.136    0.000 core.py:4373(parseImpl)',\n",
       "  '     1490    0.002    0.000    0.004    0.000 results.py:436(<listcomp>)',\n",
       "  '     1273    0.002    0.000    0.006    0.000 markers.py:189(_eval_op)',\n",
       "  '3343/2467    0.002    0.000    0.065    0.000 core.py:287(wrapper)',\n",
       "  '     1340    0.002    0.000    0.004    0.000 core.py:2854(parseImpl)',\n",
       "  '      238    0.002    0.000    0.227    0.001 requirements.py:100(__init__)',\n",
       "  \"     1560    0.002    0.000    0.002    0.000 {method 'search' of 're.Pattern' objects}\",\n",
       "  '      188    0.002    0.000    0.011    0.000 <frozen importlib._bootstrap_external>:1505(find_spec)',\n",
       "  '      238    0.002    0.000    0.233    0.001 __init__.py:3100(__init__)',\n",
       "  ' 1109/762    0.002    0.000    0.023    0.000 core.py:4779(parseImpl)',\n",
       "  \"       46    0.002    0.000    0.002    0.000 {method 'readlines' of '_io._IOBase' objects}\",\n",
       "  \"     6234    0.002    0.000    0.002    0.000 {method 'startswith' of 'str' objects}\",\n",
       "  '      315    0.002    0.000    0.006    0.000 core.py:5417(postParse)',\n",
       "  '      214    0.002    0.000    0.004    0.000 version.py:261(__init__)',\n",
       "  '       44    0.002    0.000    0.010    0.000 feedparser.py:218(_parsegen)',\n",
       "  '     1016    0.002    0.000    0.002    0.000 <frozen importlib._bootstrap_external>:123(<listcomp>)',\n",
       "  \"     1523    0.002    0.000    0.002    0.000 {method 'format' of 'str' objects}\",\n",
       "  '     3447    0.002    0.000    0.002    0.000 feedparser.py:78(readline)',\n",
       "  \"    12820    0.001    0.000    0.001    0.000 {method 'get' of 'dict' objects}\",\n",
       "  \"    12948    0.001    0.000    0.001    0.000 {method 'append' of 'list' objects}\",\n",
       "  '     9085    0.001    0.000    0.001    0.000 results.py:17(__getitem__)',\n",
       "  '     4195    0.001    0.000    0.002    0.000 {built-in method builtins.getattr}',\n",
       "  '       10    0.001    0.000    0.001    0.000 {built-in method posix.listdir}',\n",
       "  '       21    0.001    0.000    0.001    0.000 {built-in method io.open}',\n",
       "  \"5606/5594    0.001    0.000    0.002    0.000 {method 'join' of 'str' objects}\",\n",
       "  '      315    0.001    0.000    0.002    0.000 results.py:215(__delitem__)',\n",
       "  '     1839    0.001    0.000    0.003    0.000 typing.py:708(__setattr__)',\n",
       "  '    12298    0.001    0.000    0.001    0.000 core.py:772(postParse)',\n",
       "  '   262/25    0.001    0.000    0.003    0.000 sre_compile.py:71(_compile)',\n",
       "  '        2    0.001    0.001    0.530    0.265 variables.py:133(_apply_mask)',\n",
       "  '      488    0.001    0.000    0.002    0.000 core.py:3207(parseImpl)',\n",
       "  '     3721    0.001    0.000    0.002    0.000 platform.py:1007(_sys_version)',\n",
       "  '      238    0.001    0.000    0.007    0.000 core.py:3949(parseImpl)',\n",
       "  \"      112    0.001    0.000    0.001    0.000 {method '__exit__' of '_io._IOBase' objects}\",\n",
       "  '     2076    0.001    0.000    0.003    0.000 results.py:418(__getattr__)',\n",
       "  '     4754    0.001    0.000    0.001    0.000 results.py:244(__bool__)',\n",
       "  '       18    0.001    0.000    0.004    0.000 feedparser.py:471(_parse_headers)',\n",
       "  '     1138    0.001    0.000    0.002    0.000 core.py:2345(parseImpl)',\n",
       "  '     2757    0.001    0.000    0.002    0.000 markers.py:80(serialize)',\n",
       "  '  723/714    0.001    0.000    0.156    0.000 core.py:4956(parseImpl)',\n",
       "  '      544    0.001    0.000    0.003    0.000 core.py:2984(parseImpl)',\n",
       "  '      566    0.001    0.000    0.002    0.000 typing.py:137(_type_check)',\n",
       "  '      451    0.001    0.000    0.001    0.000 core.py:959(reset_cache)',\n",
       "  '     1240    0.001    0.000    0.024    0.000 markers.py:291(evaluate)',\n",
       "  '  952/833    0.001    0.000    0.012    0.000 typing.py:269(inner)',\n",
       "  '       91    0.001    0.000    0.039    0.000 <frozen importlib._bootstrap_external>:916(get_code)',\n",
       "  '      285    0.001    0.000    0.005    0.000 typing.py:734(__init__)',\n",
       "  '       59    0.001    0.000    0.002    0.000 {built-in method numpy.core._multiarray_umath.implement_array_function}',\n",
       "  '     3447    0.001    0.000    0.003    0.000 feedparser.py:128(__next__)',\n",
       "  '      180    0.001    0.000    0.003    0.000 indexes.py:251(__getitem__)',\n",
       "  '     4102    0.001    0.000    0.001    0.000 results.py:14(__init__)',\n",
       "  '      104    0.001    0.000    0.015    0.000 <frozen importlib._bootstrap>:901(_find_spec)',\n",
       "  '     1341    0.001    0.000    0.002    0.000 specifiers.py:95(__init__)',\n",
       "  '      214    0.001    0.000    0.001    0.000 version.py:444(_cmpkey)',\n",
       "  '  209/149    0.001    0.000    0.001    0.000 indexing.py:407(shape)',\n",
       "  '      300    0.001    0.000    0.002    0.000 variable.py:190(as_compatible_data)',\n",
       "  '      710    0.001    0.000    0.001    0.000 _policybase.py:293(header_source_parse)',\n",
       "  '      183    0.001    0.000    0.004    0.000 variable.py:583(_broadcast_indexes)',\n",
       "  '     1016    0.001    0.000    0.003    0.000 <frozen importlib._bootstrap_external>:121(_path_join)',\n",
       "  '     2225    0.001    0.000    0.004    0.000 {built-in method builtins.all}',\n",
       "  '     1839    0.001    0.000    0.001    0.000 typing.py:660(_is_dunder)',\n",
       "  \"        9    0.001    0.000    0.001    0.000 {method 'to_wkt' of 'pyproj._crs.Base' objects}\",\n",
       "  \"       25    0.001    0.000    0.001    0.000 {method 'send' of '_socket.socket' objects}\",\n",
       "  '  451/238    0.001    0.000    0.219    0.001 core.py:1076(parse_string)',\n",
       "  '      739    0.001    0.000    0.001    0.000 <frozen importlib._bootstrap>:398(parent)',\n",
       "  '      388    0.001    0.000    0.025    0.000 __init__.py:3051(reqs_for_extra)',\n",
       "  '1558/1557    0.001    0.000    0.002    0.000 {built-in method builtins.any}',\n",
       "  '       23    0.001    0.000    0.001    0.000 _make.py:814(_create_slots_class)',\n",
       "  \"     2999    0.001    0.000    0.001    0.000 {method 'items' of 'dict' objects}\",\n",
       "  '  473/229    0.001    0.000    0.001    0.000 {built-in method _abc._abc_subclasscheck}',\n",
       "  '       89    0.001    0.000    0.013    0.000 dataarray.py:1123(isel)',\n",
       "  '  444/213    0.001    0.000    0.002    0.000 markers.py:148(_format_marker)',\n",
       "  '        3    0.001    0.000    0.018    0.006 rioxarray.py:437(write_crs)',\n",
       "  '      157    0.001    0.000    0.007    0.000 dataarray.py:732(_getitem_coord)',\n",
       "  '     1021    0.001    0.000    0.003    0.000 utils.py:559(ndim)',\n",
       "  '   129/28    0.001    0.000    0.136    0.005 <frozen importlib._bootstrap>:1002(_find_and_load)',\n",
       "  '     3195    0.001    0.000    0.001    0.000 markers.py:59(__str__)',\n",
       "  '     1240    0.001    0.000    0.001    0.000 platform.py:1134(python_version_tuple)',\n",
       "  \"     3362    0.001    0.000    0.001    0.000 {method 'group' of 're.Match' objects}\",\n",
       "  \"     2747    0.001    0.000    0.001    0.000 {method 'split' of 'str' objects}\",\n",
       "  '      438    0.001    0.000    0.001    0.000 markers.py:129(<lambda>)',\n",
       "  '        5    0.001    0.000    0.001    0.000 {rasterio.crs.from_wkt}',\n",
       "  '      129    0.001    0.000    0.004    0.000 dataarray.py:443(_replace_maybe_drop_dims)',\n",
       "  '      182    0.001    0.000    0.002    0.000 <frozen importlib._bootstrap_external>:361(cache_from_source)',\n",
       "  '      438    0.001    0.000    0.001    0.000 markers.py:122(<lambda>)',\n",
       "  '  450/426    0.001    0.000    0.103    0.000 core.py:5200(parseImpl)',\n",
       "  '2358/2118    0.001    0.000    0.003    0.000 {built-in method builtins.hasattr}',\n",
       "  '     1731    0.001    0.000    0.001    0.000 sre_parse.py:233(__next)',\n",
       "  '      438    0.001    0.000    0.001    0.000 markers.py:112(<lambda>)',\n",
       "  '      315    0.001    0.000    0.001    0.000 results.py:473(_asStringList)',\n",
       "  '      276    0.001    0.000    0.001    0.000 indexing.py:21(expanded_indexer)',\n",
       "  '      183    0.001    0.000    0.012    0.000 variable.py:1123(isel)',\n",
       "  '     1861    0.001    0.000    0.001    0.000 sre_parse.py:164(__getitem__)',\n",
       "  '      213    0.001    0.000    0.059    0.000 requirements.py:71(<lambda>)',\n",
       "  '      389    0.001    0.000    0.012    0.000 re.py:289(_compile)',\n",
       "  \"      825    0.001    0.000    0.234    0.000 {method 'extend' of 'list' objects}\",\n",
       "  '      103    0.001    0.000    0.001    0.000 util.py:314(normalize_storage_path)',\n",
       "  '       72    0.001    0.000    0.001    0.000 message.py:462(get)',\n",
       "  '      300    0.001    0.000    0.001    0.000 typing_extensions.py:121(_collect_type_vars)',\n",
       "  '     1792    0.001    0.000    0.001    0.000 results.py:262(haskeys)',\n",
       "  '     4962    0.001    0.000    0.001    0.000 platform.py:830(uname)',\n",
       "  '      297    0.001    0.000    0.004    0.000 variable.py:291(__init__)',\n",
       "  '      109    0.001    0.000    0.001    0.000 sre_compile.py:276(_optimize_charset)',\n",
       "  '      182    0.001    0.000    0.001    0.000 <frozen importlib._bootstrap>:166(_get_module_lock)',\n",
       "  \"     4827    0.001    0.000    0.001    0.000 {method 'lower' of 'str' objects}\",\n",
       "  \"      359    0.001    0.000    0.001    0.000 {method 'sub' of 're.Pattern' objects}\",\n",
       "  '     1273    0.001    0.000    0.001    0.000 markers.py:211(_get_env)',\n",
       "  '        8    0.001    0.000    0.001    0.000 {built-in method _imp.exec_dynamic}',\n",
       "  '      182    0.001    0.000    0.001    0.000 <frozen importlib._bootstrap>:87(acquire)',\n",
       "  '      710    0.001    0.000    0.001    0.000 message.py:479(set_raw)',\n",
       "  '      238    0.001    0.000    0.004    0.000 specifiers.py:621(__init__)',\n",
       "  '      315    0.001    0.000    0.001    0.000 results.py:533(copy)',\n",
       "  '1757/1297    0.001    0.000    0.001    0.000 {built-in method builtins.hash}',\n",
       "  '      438    0.001    0.000    0.001    0.000 markers.py:119(<lambda>)',\n",
       "  '1278/1276    0.001    0.000    0.001    0.000 common.py:261(__setattr__)',\n",
       "  '  505/486    0.001    0.000    1.383    0.003 {built-in method numpy.asarray}']}"
      ]
     },
     "execution_count": 4,
     "metadata": {},
     "output_type": "execute_result"
    }
   ],
   "source": [
    "image_and_assets, logs = tile(\n",
    "    \"titiler-xarray/combined_cmip6_kerchunk.json\", \n",
    "    *xyz_tile,\n",
    "    time_slice = search_dict['datetime'],\n",
    "    reference=True,\n",
    "    variable=\"tas\",\n",
    ")\n",
    "logs"
   ]
  },
  {
   "cell_type": "code",
   "execution_count": 5,
   "id": "88451037",
   "metadata": {},
   "outputs": [
    {
     "name": "stderr",
     "output_type": "stream",
     "text": [
      "/Users/aimeebarciauskas/miniconda3/lib/python3.9/site-packages/rio_tiler/models.py:648: InvalidDatatypeWarning: Invalid type: `float32` for the `PNG` driver. Data will be rescaled using min/max type bounds or dataset_statistics.\n",
      "  warnings.warn(\n"
     ]
    },
    {
     "data": {
      "image/png": "[encoded data removed]",
      "text/plain": [
       "<PIL.PngImagePlugin.PngImageFile image mode=LA size=256x256>"
      ]
     },
     "execution_count": 5,
     "metadata": {},
     "output_type": "execute_result"
    }
   ],
   "source": [
    "content = image_and_assets.render(\n",
    "    img_format='PNG'\n",
    ")\n",
    "\n",
    "im = Image.open(io.BytesIO(content))\n",
    "im"
   ]
  },
  {
   "cell_type": "markdown",
   "id": "8a131851",
   "metadata": {},
   "source": [
    "## Profile titiler-pgstac"
   ]
  },
  {
   "cell_type": "code",
   "execution_count": 6,
   "id": "accd4fca",
   "metadata": {},
   "outputs": [
    {
     "ename": "NameError",
     "evalue": "name 'tile_pgstac' is not defined",
     "output_type": "error",
     "traceback": [
      "\u001b[0;31m---------------------------------------------------------------------------\u001b[0m",
      "\u001b[0;31mNameError\u001b[0m                                 Traceback (most recent call last)",
      "\u001b[0;32m/var/folders/jh/_03qbqf130l8hjh8rpc6f4_c0000gn/T/ipykernel_33282/2803759864.py\u001b[0m in \u001b[0;36m<cell line: 1>\u001b[0;34m()\u001b[0m\n\u001b[0;32m----> 1\u001b[0;31m \u001b[0mpool\u001b[0m \u001b[0;34m=\u001b[0m \u001b[0mtile_pgstac\u001b[0m\u001b[0;34m.\u001b[0m\u001b[0mconnection_pool\u001b[0m\u001b[0;34m(\u001b[0m\u001b[0;34m)\u001b[0m\u001b[0;34m\u001b[0m\u001b[0;34m\u001b[0m\u001b[0m\n\u001b[0m",
      "\u001b[0;31mNameError\u001b[0m: name 'tile_pgstac' is not defined"
     ]
    }
   ],
   "source": [
    "pool = tile_pgstac.connection_pool()"
   ]
  },
  {
   "cell_type": "code",
   "execution_count": null,
   "id": "045ea6a0",
   "metadata": {},
   "outputs": [],
   "source": [
    "import tile_pgstac\n",
    "\n",
    "@profile(add_to_return=True, cprofile=True, quiet=True, log_library = 'rasterio')\n",
    "def tile(\n",
    "    tile_x: int,\n",
    "    tile_y: int,\n",
    "    tile_z: int,\n",
    ") -> Tuple[ImageData, List[str]]:\n",
    "    \n",
    "    backend = PGSTACBackend(pool=pool, input=tile_pgstac.mosaic_id(search_dict=search_dict, pool=pool))\n",
    "    bbox = backend.tms.bounds(morecantile.Tile(tile_x, tile_y, tile_z))\n",
    "    mosaic_assets = backend.get_assets(Polygon.from_bounds(*bbox))    \n",
    "\n",
    "    def _reader(\n",
    "        item: Dict[str, Any], x: int, y: int, z: int, **kwargs: Any\n",
    "    ) -> ImageData:\n",
    "        with backend.reader(item, tms=backend.tms, **backend.reader_options) as src_dst:\n",
    "            return src_dst.tile(x, y, z, **kwargs)\n",
    "\n",
    "    return mosaic_reader(mosaic_assets, _reader, tile_x, tile_y, tile_z, threads=10, **{\"assets\": [\"data\"]})  "
   ]
  },
  {
   "cell_type": "code",
   "execution_count": null,
   "id": "ed8b8d9f",
   "metadata": {},
   "outputs": [],
   "source": [
    "image_and_assets, logs = tile(*xyz_tile)\n",
    "logs"
   ]
  },
  {
   "cell_type": "code",
   "execution_count": null,
   "id": "51dc2c6e",
   "metadata": {},
   "outputs": [],
   "source": [
    "content = image_and_assets[0].render(\n",
    "    img_format='PNG'\n",
    ")\n",
    "\n",
    "im = Image.open(io.BytesIO(content))\n",
    "im"
   ]
  }
 ],
 "metadata": {
  "kernelspec": {
   "display_name": "Python 3 (ipykernel)",
   "language": "python",
   "name": "python3"
  },
  "language_info": {
   "codemirror_mode": {
    "name": "ipython",
    "version": 3
   },
   "file_extension": ".py",
   "mimetype": "text/x-python",
   "name": "python",
   "nbconvert_exporter": "python",
   "pygments_lexer": "ipython3",
   "version": "3.9.7"
  }
 },
 "nbformat": 4,
 "nbformat_minor": 5
}
