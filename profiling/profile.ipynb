{
 "cells": [
  {
   "cell_type": "code",
   "execution_count": 1,
   "id": "da1d3144",
   "metadata": {},
   "outputs": [],
   "source": [
    "# Import libraries\n",
    "## for profiling\n",
    "from profiler.main import profile\n",
    "\n",
    "# for titiler-xarray\n",
    "from typing import Any\n",
    "from zarr_reader import xarray_open_dataset, get_variable\n",
    "import morecantile\n",
    "from xarray_tile_reader import XarrayTileReader\n",
    "\n",
    "# for titiler-pgstac\n",
    "from titiler.pgstac.mosaic import PGSTACBackend\n",
    "from typing import Any, Dict, List, Tuple\n",
    "from rio_tiler.mosaic import mosaic_reader\n",
    "from rio_tiler.models import ImageData\n",
    "from geojson_pydantic import Polygon\n",
    "\n",
    "# Only if wanting to see a picture\n",
    "import io\n",
    "from PIL import Image"
   ]
  },
  {
   "cell_type": "code",
   "execution_count": 5,
   "id": "1e0e7aeb",
   "metadata": {},
   "outputs": [],
   "source": [
    "import os\n",
    "os.environ['AWS_PROFILE'] = 'veda-dev'"
   ]
  },
  {
   "cell_type": "code",
   "execution_count": 4,
   "id": "a53106ea",
   "metadata": {},
   "outputs": [],
   "source": [
    "xyz_tile = (0,0,0)"
   ]
  },
  {
   "cell_type": "markdown",
   "id": "8a131851",
   "metadata": {},
   "source": [
    "## Profile titiler-pgstac"
   ]
  },
  {
   "cell_type": "code",
   "execution_count": null,
   "id": "045ea6a0",
   "metadata": {},
   "outputs": [],
   "source": [
    "%load_ext autoreload\n",
    "%autoreload\n",
    "import pgstac.profile_pgstac as profile_pgstac \n"
   ]
  },
  {
   "cell_type": "code",
   "execution_count": null,
   "id": "ed8b8d9f",
   "metadata": {},
   "outputs": [],
   "source": [
    "query = {\n",
    "  \"collections\": [\n",
    "    \"CMIP6_ensemble_median_TAS\"\n",
    "  ],\n",
    "  \"filter\": {\n",
    "    \"op\": \"t_intersects\",\n",
    "    \"args\": [\n",
    "      {\n",
    "        \"property\": \"datetime\"\n",
    "      },\n",
    "      {\n",
    "        \"interval\": [\n",
    "          \"1950-04-01T00:00:00Z\",\n",
    "          #\"1950-05-01T00:00:00Z\"\n",
    "        ]\n",
    "      }\n",
    "    ]\n",
    "  },\n",
    "  \"filter-lang\": \"cql2-json\"\n",
    "}\n",
    "\n",
    "image_and_assets, logs = profile_pgstac.tile(*xyz_tile, query=dict(query))\n",
    "logs"
   ]
  },
  {
   "cell_type": "markdown",
   "id": "6021ba14",
   "metadata": {},
   "source": [
    "## Profile titiler-xarray"
   ]
  },
  {
   "cell_type": "code",
   "execution_count": 2,
   "id": "d60aad91",
   "metadata": {},
   "outputs": [],
   "source": [
    "@profile(add_to_return=True, quiet=False, log_library='s3fs')\n",
    "def tile(src_path: str, x: int, y: int, z: int, *, variable: str, time_slice: str = None, **kwargs: Any):\n",
    "\n",
    "    with xarray_open_dataset(\n",
    "        src_path,\n",
    "        group=z,\n",
    "        decode_times=False,\n",
    "        **kwargs,\n",
    "    ) as dataset:\n",
    "        dataarray = get_variable(dataset, variable=variable, time_slice=time_slice)\n",
    "        \n",
    "        with XarrayTileReader(dataarray) as src_dst:\n",
    "            return src_dst.tile(x, y, z)"
   ]
  },
  {
   "cell_type": "code",
   "execution_count": 8,
   "id": "92cd9091",
   "metadata": {},
   "outputs": [
    {
     "name": "stdout",
     "output_type": "stream",
     "text": [
      "Time elapsed for xarray.open_datset: 910.99381\n",
      "CALL: get_object - () - {'Bucket': 'power-analysis-ready-datastore', 'Key': 'power_901_monthly_meteorology_utc.zarr/.zmetadata'}\n",
      "CALL: get_object - () - {'Bucket': 'power-analysis-ready-datastore', 'Key': 'power_901_monthly_meteorology_utc.zarr/lat/0'}\n",
      "CALL: get_object - () - {'Bucket': 'power-analysis-ready-datastore', 'Key': 'power_901_monthly_meteorology_utc.zarr/lon/0'}\n",
      "CALL: get_object - () - {'Bucket': 'power-analysis-ready-datastore', 'Key': 'power_901_monthly_meteorology_utc.zarr/time/0'}\n",
      "CALL: get_object - () - {'Bucket': 'power-analysis-ready-datastore', 'Key': 'power_901_monthly_meteorology_utc.zarr/time/1'}\n",
      "CALL: get_object - () - {'Bucket': 'power-analysis-ready-datastore', 'Key': 'power_901_monthly_meteorology_utc.zarr/time/10'}\n",
      "CALL: get_object - () - {'Bucket': 'power-analysis-ready-datastore', 'Key': 'power_901_monthly_meteorology_utc.zarr/time/11'}\n",
      "CALL: get_object - () - {'Bucket': 'power-analysis-ready-datastore', 'Key': 'power_901_monthly_meteorology_utc.zarr/time/12'}\n",
      "CALL: get_object - () - {'Bucket': 'power-analysis-ready-datastore', 'Key': 'power_901_monthly_meteorology_utc.zarr/time/13'}\n",
      "CALL: get_object - () - {'Bucket': 'power-analysis-ready-datastore', 'Key': 'power_901_monthly_meteorology_utc.zarr/time/14'}\n",
      "CALL: get_object - () - {'Bucket': 'power-analysis-ready-datastore', 'Key': 'power_901_monthly_meteorology_utc.zarr/time/15'}\n",
      "CALL: get_object - () - {'Bucket': 'power-analysis-ready-datastore', 'Key': 'power_901_monthly_meteorology_utc.zarr/time/16'}\n",
      "CALL: get_object - () - {'Bucket': 'power-analysis-ready-datastore', 'Key': 'power_901_monthly_meteorology_utc.zarr/time/17'}\n",
      "CALL: get_object - () - {'Bucket': 'power-analysis-ready-datastore', 'Key': 'power_901_monthly_meteorology_utc.zarr/time/18'}\n",
      "CALL: get_object - () - {'Bucket': 'power-analysis-ready-datastore', 'Key': 'power_901_monthly_meteorology_utc.zarr/time/19'}\n",
      "CALL: get_object - () - {'Bucket': 'power-analysis-ready-datastore', 'Key': 'power_901_monthly_meteorology_utc.zarr/time/2'}\n",
      "CALL: get_object - () - {'Bucket': 'power-analysis-ready-datastore', 'Key': 'power_901_monthly_meteorology_utc.zarr/time/20'}\n",
      "CALL: get_object - () - {'Bucket': 'power-analysis-ready-datastore', 'Key': 'power_901_monthly_meteorology_utc.zarr/time/21'}\n",
      "CALL: get_object - () - {'Bucket': 'power-analysis-ready-datastore', 'Key': 'power_901_monthly_meteorology_utc.zarr/time/22'}\n",
      "CALL: get_object - () - {'Bucket': 'power-analysis-ready-datastore', 'Key': 'power_901_monthly_meteorology_utc.zarr/time/23'}\n",
      "CALL: get_object - () - {'Bucket': 'power-analysis-ready-datastore', 'Key': 'power_901_monthly_meteorology_utc.zarr/time/24'}\n",
      "CALL: get_object - () - {'Bucket': 'power-analysis-ready-datastore', 'Key': 'power_901_monthly_meteorology_utc.zarr/time/25'}\n",
      "CALL: get_object - () - {'Bucket': 'power-analysis-ready-datastore', 'Key': 'power_901_monthly_meteorology_utc.zarr/time/26'}\n",
      "CALL: get_object - () - {'Bucket': 'power-analysis-ready-datastore', 'Key': 'power_901_monthly_meteorology_utc.zarr/time/27'}\n",
      "CALL: get_object - () - {'Bucket': 'power-analysis-ready-datastore', 'Key': 'power_901_monthly_meteorology_utc.zarr/time/28'}\n",
      "CALL: get_object - () - {'Bucket': 'power-analysis-ready-datastore', 'Key': 'power_901_monthly_meteorology_utc.zarr/time/29'}\n",
      "CALL: get_object - () - {'Bucket': 'power-analysis-ready-datastore', 'Key': 'power_901_monthly_meteorology_utc.zarr/time/3'}\n",
      "CALL: get_object - () - {'Bucket': 'power-analysis-ready-datastore', 'Key': 'power_901_monthly_meteorology_utc.zarr/time/30'}\n",
      "CALL: get_object - () - {'Bucket': 'power-analysis-ready-datastore', 'Key': 'power_901_monthly_meteorology_utc.zarr/time/31'}\n",
      "CALL: get_object - () - {'Bucket': 'power-analysis-ready-datastore', 'Key': 'power_901_monthly_meteorology_utc.zarr/time/32'}\n",
      "CALL: get_object - () - {'Bucket': 'power-analysis-ready-datastore', 'Key': 'power_901_monthly_meteorology_utc.zarr/time/33'}\n",
      "CALL: get_object - () - {'Bucket': 'power-analysis-ready-datastore', 'Key': 'power_901_monthly_meteorology_utc.zarr/time/34'}\n",
      "CALL: get_object - () - {'Bucket': 'power-analysis-ready-datastore', 'Key': 'power_901_monthly_meteorology_utc.zarr/time/35'}\n",
      "CALL: get_object - () - {'Bucket': 'power-analysis-ready-datastore', 'Key': 'power_901_monthly_meteorology_utc.zarr/time/36'}\n",
      "CALL: get_object - () - {'Bucket': 'power-analysis-ready-datastore', 'Key': 'power_901_monthly_meteorology_utc.zarr/time/37'}\n",
      "CALL: get_object - () - {'Bucket': 'power-analysis-ready-datastore', 'Key': 'power_901_monthly_meteorology_utc.zarr/time/38'}\n",
      "CALL: get_object - () - {'Bucket': 'power-analysis-ready-datastore', 'Key': 'power_901_monthly_meteorology_utc.zarr/time/39'}\n",
      "CALL: get_object - () - {'Bucket': 'power-analysis-ready-datastore', 'Key': 'power_901_monthly_meteorology_utc.zarr/time/4'}\n",
      "CALL: get_object - () - {'Bucket': 'power-analysis-ready-datastore', 'Key': 'power_901_monthly_meteorology_utc.zarr/time/40'}\n",
      "CALL: get_object - () - {'Bucket': 'power-analysis-ready-datastore', 'Key': 'power_901_monthly_meteorology_utc.zarr/time/5'}\n",
      "CALL: get_object - () - {'Bucket': 'power-analysis-ready-datastore', 'Key': 'power_901_monthly_meteorology_utc.zarr/time/6'}\n",
      "CALL: get_object - () - {'Bucket': 'power-analysis-ready-datastore', 'Key': 'power_901_monthly_meteorology_utc.zarr/time/7'}\n",
      "CALL: get_object - () - {'Bucket': 'power-analysis-ready-datastore', 'Key': 'power_901_monthly_meteorology_utc.zarr/time/8'}\n",
      "CALL: get_object - () - {'Bucket': 'power-analysis-ready-datastore', 'Key': 'power_901_monthly_meteorology_utc.zarr/time/9'}\n"
     ]
    },
    {
     "ename": "AttributeError",
     "evalue": "'Dataset' object has no attribute 'rio'",
     "output_type": "error",
     "traceback": [
      "\u001b[0;31m---------------------------------------------------------------------------\u001b[0m",
      "\u001b[0;31mAttributeError\u001b[0m                            Traceback (most recent call last)",
      "Cell \u001b[0;32mIn[8], line 1\u001b[0m\n\u001b[0;32m----> 1\u001b[0m image_and_assets, logs \u001b[38;5;241m=\u001b[39m \u001b[43mtile\u001b[49m\u001b[43m(\u001b[49m\n\u001b[1;32m      2\u001b[0m \u001b[43m    \u001b[49m\u001b[38;5;124;43m\"\u001b[39;49m\u001b[38;5;124;43ms3://power-analysis-ready-datastore/power_901_monthly_meteorology_utc.zarr\u001b[39;49m\u001b[38;5;124;43m\"\u001b[39;49m\u001b[43m,\u001b[49m\u001b[43m \u001b[49m\n\u001b[1;32m      3\u001b[0m \u001b[43m    \u001b[49m\u001b[38;5;241;43m*\u001b[39;49m\u001b[43mxyz_tile\u001b[49m\u001b[43m,\u001b[49m\n\u001b[1;32m      4\u001b[0m \u001b[43m    \u001b[49m\u001b[43mreference\u001b[49m\u001b[38;5;241;43m=\u001b[39;49m\u001b[38;5;28;43;01mFalse\u001b[39;49;00m\u001b[43m,\u001b[49m\n\u001b[1;32m      5\u001b[0m \u001b[43m    \u001b[49m\u001b[43mvariable\u001b[49m\u001b[38;5;241;43m=\u001b[39;49m\u001b[38;5;124;43m\"\u001b[39;49m\u001b[38;5;124;43mTS\u001b[39;49m\u001b[38;5;124;43m\"\u001b[39;49m\u001b[43m,\u001b[49m\n\u001b[1;32m      6\u001b[0m \u001b[43m)\u001b[49m\n\u001b[1;32m      7\u001b[0m \u001b[38;5;66;03m# logs\u001b[39;00m\n",
      "File \u001b[0;32m~/github/developmentseed/tile-benchmarking/profiling/profiler/main.py:92\u001b[0m, in \u001b[0;36mprofile.<locals>.wrapper.<locals>.wrapped_f\u001b[0;34m(*args, **kwargs)\u001b[0m\n\u001b[1;32m     89\u001b[0m \u001b[38;5;28;01mwith\u001b[39;00m Timer() \u001b[38;5;28;01mas\u001b[39;00m t:\n\u001b[1;32m     90\u001b[0m     \u001b[38;5;66;03m# cProfile is a simple Python profiling\u001b[39;00m\n\u001b[1;32m     91\u001b[0m     prof \u001b[38;5;241m=\u001b[39m cProfile\u001b[38;5;241m.\u001b[39mProfile()\n\u001b[0;32m---> 92\u001b[0m     retval \u001b[38;5;241m=\u001b[39m \u001b[43mprof\u001b[49m\u001b[38;5;241;43m.\u001b[39;49m\u001b[43mruncall\u001b[49m\u001b[43m(\u001b[49m\u001b[43mfunc\u001b[49m\u001b[43m,\u001b[49m\u001b[43m \u001b[49m\u001b[38;5;241;43m*\u001b[39;49m\u001b[43margs\u001b[49m\u001b[43m,\u001b[49m\u001b[43m \u001b[49m\u001b[38;5;241;43m*\u001b[39;49m\u001b[38;5;241;43m*\u001b[39;49m\u001b[43mkwargs\u001b[49m\u001b[43m)\u001b[49m\n\u001b[1;32m     93\u001b[0m     profile_stream \u001b[38;5;241m=\u001b[39m StringIO()\n\u001b[1;32m     94\u001b[0m     ps \u001b[38;5;241m=\u001b[39m pstats\u001b[38;5;241m.\u001b[39mStats(prof, stream\u001b[38;5;241m=\u001b[39mprofile_stream)\n",
      "File \u001b[0;32m~/miniconda3/lib/python3.9/cProfile.py:109\u001b[0m, in \u001b[0;36mProfile.runcall\u001b[0;34m(self, func, *args, **kw)\u001b[0m\n\u001b[1;32m    107\u001b[0m \u001b[38;5;28mself\u001b[39m\u001b[38;5;241m.\u001b[39menable()\n\u001b[1;32m    108\u001b[0m \u001b[38;5;28;01mtry\u001b[39;00m:\n\u001b[0;32m--> 109\u001b[0m     \u001b[38;5;28;01mreturn\u001b[39;00m \u001b[43mfunc\u001b[49m\u001b[43m(\u001b[49m\u001b[38;5;241;43m*\u001b[39;49m\u001b[43margs\u001b[49m\u001b[43m,\u001b[49m\u001b[43m \u001b[49m\u001b[38;5;241;43m*\u001b[39;49m\u001b[38;5;241;43m*\u001b[39;49m\u001b[43mkw\u001b[49m\u001b[43m)\u001b[49m\n\u001b[1;32m    110\u001b[0m \u001b[38;5;28;01mfinally\u001b[39;00m:\n\u001b[1;32m    111\u001b[0m     \u001b[38;5;28mself\u001b[39m\u001b[38;5;241m.\u001b[39mdisable()\n",
      "Cell \u001b[0;32mIn[2], line 10\u001b[0m, in \u001b[0;36mtile\u001b[0;34m(src_path, x, y, z, variable, time_slice, **kwargs)\u001b[0m\n\u001b[1;32m      1\u001b[0m \u001b[38;5;129m@profile\u001b[39m(add_to_return\u001b[38;5;241m=\u001b[39m\u001b[38;5;28;01mTrue\u001b[39;00m, quiet\u001b[38;5;241m=\u001b[39m\u001b[38;5;28;01mFalse\u001b[39;00m, log_library\u001b[38;5;241m=\u001b[39m\u001b[38;5;124m'\u001b[39m\u001b[38;5;124ms3fs\u001b[39m\u001b[38;5;124m'\u001b[39m)\n\u001b[1;32m      2\u001b[0m \u001b[38;5;28;01mdef\u001b[39;00m \u001b[38;5;21mtile\u001b[39m(src_path: \u001b[38;5;28mstr\u001b[39m, x: \u001b[38;5;28mint\u001b[39m, y: \u001b[38;5;28mint\u001b[39m, z: \u001b[38;5;28mint\u001b[39m, \u001b[38;5;241m*\u001b[39m, variable: \u001b[38;5;28mstr\u001b[39m, time_slice: \u001b[38;5;28mstr\u001b[39m \u001b[38;5;241m=\u001b[39m \u001b[38;5;28;01mNone\u001b[39;00m, \u001b[38;5;241m*\u001b[39m\u001b[38;5;241m*\u001b[39mkwargs: Any):\n\u001b[1;32m      4\u001b[0m     \u001b[38;5;28;01mwith\u001b[39;00m xarray_open_dataset(\n\u001b[1;32m      5\u001b[0m         src_path,\n\u001b[1;32m      6\u001b[0m         group\u001b[38;5;241m=\u001b[39mz,\n\u001b[1;32m      7\u001b[0m         decode_times\u001b[38;5;241m=\u001b[39m\u001b[38;5;28;01mFalse\u001b[39;00m,\n\u001b[1;32m      8\u001b[0m         \u001b[38;5;241m*\u001b[39m\u001b[38;5;241m*\u001b[39mkwargs,\n\u001b[1;32m      9\u001b[0m     ) \u001b[38;5;28;01mas\u001b[39;00m dataset:\n\u001b[0;32m---> 10\u001b[0m         dataarray \u001b[38;5;241m=\u001b[39m \u001b[43mget_variable\u001b[49m\u001b[43m(\u001b[49m\u001b[43mdataset\u001b[49m\u001b[43m,\u001b[49m\u001b[43m \u001b[49m\u001b[43mvariable\u001b[49m\u001b[38;5;241;43m=\u001b[39;49m\u001b[43mvariable\u001b[49m\u001b[43m,\u001b[49m\u001b[43m \u001b[49m\u001b[43mtime_slice\u001b[49m\u001b[38;5;241;43m=\u001b[39;49m\u001b[43mtime_slice\u001b[49m\u001b[43m)\u001b[49m\n\u001b[1;32m     12\u001b[0m         \u001b[38;5;28;01mwith\u001b[39;00m XarrayTileReader(dataarray) \u001b[38;5;28;01mas\u001b[39;00m src_dst:\n\u001b[1;32m     13\u001b[0m             \u001b[38;5;28;01mreturn\u001b[39;00m src_dst\u001b[38;5;241m.\u001b[39mtile(x, y, z)\n",
      "File \u001b[0;32m~/github/developmentseed/tile-benchmarking/profiling/zarr_reader.py:57\u001b[0m, in \u001b[0;36mget_variable\u001b[0;34m(ds, variable, time_slice, drop_dim)\u001b[0m\n\u001b[1;32m     55\u001b[0m \u001b[38;5;66;03m# Make sure we have a valid CRS\u001b[39;00m\n\u001b[1;32m     56\u001b[0m \u001b[38;5;28;01mwith\u001b[39;00m Timer() \u001b[38;5;28;01mas\u001b[39;00m t:\n\u001b[0;32m---> 57\u001b[0m     crs \u001b[38;5;241m=\u001b[39m \u001b[43mds\u001b[49m\u001b[38;5;241;43m.\u001b[39;49m\u001b[43mrio\u001b[49m\u001b[38;5;241m.\u001b[39mcrs \u001b[38;5;129;01mor\u001b[39;00m \u001b[38;5;124m\"\u001b[39m\u001b[38;5;124mepsg:4326\u001b[39m\u001b[38;5;124m\"\u001b[39m\n\u001b[1;32m     58\u001b[0m     ds\u001b[38;5;241m.\u001b[39mrio\u001b[38;5;241m.\u001b[39mwrite_crs(crs, inplace\u001b[38;5;241m=\u001b[39m\u001b[38;5;28;01mTrue\u001b[39;00m)\n\u001b[1;32m     59\u001b[0m \u001b[38;5;28mprint\u001b[39m(\u001b[38;5;124mf\u001b[39m\u001b[38;5;124m\"\u001b[39m\u001b[38;5;124mTime elapsed for writing CRS: \u001b[39m\u001b[38;5;132;01m{\u001b[39;00m\u001b[38;5;28mround\u001b[39m(t\u001b[38;5;241m.\u001b[39melapsed\u001b[38;5;250m \u001b[39m\u001b[38;5;241m*\u001b[39m\u001b[38;5;250m \u001b[39m\u001b[38;5;241m1000\u001b[39m,\u001b[38;5;250m \u001b[39m\u001b[38;5;241m5\u001b[39m)\u001b[38;5;132;01m}\u001b[39;00m\u001b[38;5;124m\"\u001b[39m) \n",
      "File \u001b[0;32m~/github/developmentseed/tile-benchmarking/profiling/venv-profiling/lib/python3.9/site-packages/xarray/core/common.py:278\u001b[0m, in \u001b[0;36mAttrAccessMixin.__getattr__\u001b[0;34m(self, name)\u001b[0m\n\u001b[1;32m    276\u001b[0m         \u001b[38;5;28;01mwith\u001b[39;00m suppress(\u001b[38;5;167;01mKeyError\u001b[39;00m):\n\u001b[1;32m    277\u001b[0m             \u001b[38;5;28;01mreturn\u001b[39;00m source[name]\n\u001b[0;32m--> 278\u001b[0m \u001b[38;5;28;01mraise\u001b[39;00m \u001b[38;5;167;01mAttributeError\u001b[39;00m(\n\u001b[1;32m    279\u001b[0m     \u001b[38;5;124mf\u001b[39m\u001b[38;5;124m\"\u001b[39m\u001b[38;5;132;01m{\u001b[39;00m\u001b[38;5;28mtype\u001b[39m(\u001b[38;5;28mself\u001b[39m)\u001b[38;5;241m.\u001b[39m\u001b[38;5;18m__name__\u001b[39m\u001b[38;5;132;01m!r}\u001b[39;00m\u001b[38;5;124m object has no attribute \u001b[39m\u001b[38;5;132;01m{\u001b[39;00mname\u001b[38;5;132;01m!r}\u001b[39;00m\u001b[38;5;124m\"\u001b[39m\n\u001b[1;32m    280\u001b[0m )\n",
      "\u001b[0;31mAttributeError\u001b[0m: 'Dataset' object has no attribute 'rio'"
     ]
    }
   ],
   "source": [
    "image_and_assets, logs = tile(\n",
    "    \"s3://power-analysis-ready-datastore/power_901_monthly_meteorology_utc.zarr\", \n",
    "    *xyz_tile,\n",
    "    reference=False,\n",
    "    variable=\"TS\",\n",
    ")\n",
    "# logs"
   ]
  },
  {
   "cell_type": "code",
   "execution_count": null,
   "id": "88451037",
   "metadata": {},
   "outputs": [],
   "source": [
    "content = image_and_assets.render(\n",
    "    img_format='PNG'\n",
    ")\n",
    "\n",
    "im = Image.open(io.BytesIO(content))\n",
    "im"
   ]
  },
  {
   "cell_type": "code",
   "execution_count": null,
   "id": "47759791",
   "metadata": {},
   "outputs": [],
   "source": []
  }
 ],
 "metadata": {
  "kernelspec": {
   "display_name": "venv-profiling",
   "language": "python",
   "name": "venv-profiling"
  },
  "language_info": {
   "codemirror_mode": {
    "name": "ipython",
    "version": 3
   },
   "file_extension": ".py",
   "mimetype": "text/x-python",
   "name": "python",
   "nbconvert_exporter": "python",
   "pygments_lexer": "ipython3",
   "version": "3.9.7"
  }
 },
 "nbformat": 4,
 "nbformat_minor": 5
}
