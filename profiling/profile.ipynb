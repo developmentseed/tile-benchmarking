{
 "cells": [
  {
   "cell_type": "code",
   "execution_count": 1,
   "id": "da1d3144",
   "metadata": {},
   "outputs": [],
   "source": [
    "# Import libraries\n",
    "## for profiling\n",
    "from profiler.main import profile\n",
    "\n",
    "# for titiler-xarray\n",
    "from typing import Any\n",
    "from zarr_reader import xarray_open_dataset, get_variable\n",
    "import morecantile\n",
    "from xarray_tile_reader import XarrayTileReader\n",
    "\n",
    "# for titiler-pgstac\n",
    "from titiler.pgstac.mosaic import PGSTACBackend\n",
    "from typing import Any, Dict, List, Tuple\n",
    "from rio_tiler.mosaic import mosaic_reader\n",
    "from rio_tiler.models import ImageData\n",
    "from geojson_pydantic import Polygon\n",
    "\n",
    "# Only if wanting to see a picture\n",
    "import io\n",
    "from PIL import Image"
   ]
  },
  {
   "cell_type": "code",
   "execution_count": 2,
   "id": "1e0e7aeb",
   "metadata": {},
   "outputs": [],
   "source": [
    "import os\n",
    "os.environ['AWS_PROFILE'] = 'veda-dev'\n",
    "os.environ['CPL_TIMESTAMP'] = 'ON'\n",
    "os.environ['GDAL_DISABLE_READDIR_ON_OPEN']='EMPTY_DIR'"
   ]
  },
  {
   "cell_type": "code",
   "execution_count": 3,
   "id": "a53106ea",
   "metadata": {},
   "outputs": [],
   "source": [
    "xyz_tile = (0,0,0)"
   ]
  },
  {
   "cell_type": "markdown",
   "id": "8a131851",
   "metadata": {},
   "source": [
    "## Profile titiler-pgstac"
   ]
  },
  {
   "cell_type": "code",
   "execution_count": 9,
   "id": "045ea6a0",
   "metadata": {},
   "outputs": [
    {
     "name": "stdout",
     "output_type": "stream",
     "text": [
      "The autoreload extension is already loaded. To reload it, use:\n",
      "  %reload_ext autoreload\n"
     ]
    }
   ],
   "source": [
    "%load_ext autoreload\n",
    "%autoreload\n",
    "import pgstac.profile_pgstac as profile_pgstac \n"
   ]
  },
  {
   "cell_type": "code",
   "execution_count": 10,
   "id": "ed8b8d9f",
   "metadata": {},
   "outputs": [
    {
     "name": "stdout",
     "output_type": "stream",
     "text": [
      "src_dst is CustomSTACReader(bounds=[-180.0, -60.0, 180.0, 90.0], crs=CRS.from_epsg(4326), geographic_crs=CRS.from_epsg(4326), assets=['data'], input={'id': 'tas_month_ensemble-median_historical_195004.tif', 'bbox': [-180.0, -60.0, 180.0, 90.0], 'assets': {'data': {'href': 's3://climatedashboard-data/cmip6/monthly/CMIP6_ensemble_median/tas/tas_month_ensemble-median_historical_195004.tif', 'type': 'image/tiff; application=geotiff; profile=cloud-optimized', 'roles': ['data'], 'raster:bands': [{'scale': 1.0, 'nodata': 'nan', 'offset': 0.0, 'sampling': 'area', 'data_type': 'float32', 'histogram': {'max': 307.9095153808594, 'min': 235.8828125, 'count': 11, 'buckets': [765, 4692, 9726, 10226, 14887, 17829, 17271, 14494, 32746, 11563]}, 'statistics': {'mean': 281.1649565197952, 'stddev': 16.612070663453505, 'maximum': 307.9095153808594, 'minimum': 235.8828125, 'valid_percent': 30.691735582552692}}]}}, 'collection': 'CMIP6_ensemble_median_TAS'}, tms=<TileMatrixSet title='Google Maps Compatible for the World' identifier='WebMercatorQuad'>, minzoom=0, maxzoom=24, reader=<class 'rio_tiler.io.rasterio.Reader'>, reader_options={}, ctx=<class 'rasterio.env.Env'>)\n",
      "In profile pgstac, starting src_dst.tile\n",
      "Starting .tile function in rio_tiler base\n",
      "Time to get asset info: 0.01 seconds\n",
      "In rio_tiler base, calling src.tile\n",
      "In rio_tiler rasterio.py Reader.tile()\n",
      "Tile exists time: 3.52\n",
      "tile_bounds time: 0.03\n",
      "parse_expression time: 0.0\n",
      "In rio_tiler rasterio.py Reader.part() reader=<module 'rio_tiler.reader' from '/Users/aimeebarciauskas/github/developmentseed/tile-benchmarking/profiling/venv-profiling/lib/python3.9/site-packages/rio_tiler/reader.py'>, reader.part=<function part at 0x11f95b940>\n",
      "In rio_tiler.reader.part\n",
      "In rio_tiler.reader.read, entering context\n",
      "In rasterio WarpedVRT __ENTER__\n",
      "ctx.enter_context(WarpedVT): 0.44\n",
      "In rio_tiler.reader.read\n",
      "Dataset is <open WarpedVRT name='WarpedVRT(s3://climatedashboard-data/cmip6/monthly/CMIP6_ensemble_median/tas/tas_month_ensemble-median_historical_195004.tif)' mode='r'>\n",
      "time reading WarpedVRT: 17.62\n",
      "time getting stats: 0.01\n",
      "time force_binary_mask: 0.19\n",
      "time getting out_bounds: 0.01\n",
      "time creating ImageData: 0.03\n",
      "reader.part time: 19.66\n",
      "tasks are [(<Future at 0x1050a75e0 state=finished returned ImageData>, {'id': 'tas_month_ensemble-median_historical_195004.tif', 'bbox': [-180.0, -60.0, 180.0, 90.0], 'assets': {'data': {'href': 's3://climatedashboard-data/cmip6/monthly/CMIP6_ensemble_median/tas/tas_month_ensemble-median_historical_195004.tif', 'type': 'image/tiff; application=geotiff; profile=cloud-optimized', 'roles': ['data'], 'raster:bands': [{'scale': 1.0, 'nodata': 'nan', 'offset': 0.0, 'sampling': 'area', 'data_type': 'float32', 'histogram': {'max': 307.9095153808594, 'min': 235.8828125, 'count': 11, 'buckets': [765, 4692, 9726, 10226, 14887, 17829, 17271, 14494, 32746, 11563]}, 'statistics': {'mean': 281.1649565197952, 'stddev': 16.612070663453505, 'maximum': 307.9095153808594, 'minimum': 235.8828125, 'valid_percent': 30.691735582552692}}]}}, 'collection': 'CMIP6_ensemble_median_TAS'})]\n",
      "{'pgstac-search': 87.68, 'get_tile': [54.16], 'mosaic': 56.99}\n",
      "Matched. confidence=100, c_code=b'3857', c_name=b'EPSG'\n",
      "Entering env context: <rasterio.env.Env object at 0x1216f8f10>\n",
      "Starting outermost env\n",
      "No GDAL environment exists\n",
      "New GDAL environment <rasterio._env.GDALEnv object at 0x1216f8fd0> created\n",
      "GDAL_DATA found in environment.\n",
      "PROJ_LIB found in environment.\n",
      "Started GDALEnv: self=<rasterio._env.GDALEnv object at 0x1216f8fd0>.\n",
      "Entered env context: <rasterio.env.Env object at 0x1216f8f10>\n",
      "Got a copy of environment <rasterio._env.GDALEnv object at 0x1216f8fd0> options\n",
      "Entering env context: <rasterio.env.Env object at 0x121729280>\n",
      "Got a copy of environment <rasterio._env.GDALEnv object at 0x1216f8fd0> options\n",
      "Entered env context: <rasterio.env.Env object at 0x121729280>\n",
      "Sharing flag: 0\n",
      "Nodata success: 1, Nodata value: nan\n",
      "Dataset <open DatasetReader name='s3://climatedashboard-data/cmip6/monthly/CMIP6_ensemble_median/tas/tas_month_ensemble-median_historical_195004.tif' mode='r'> is started.\n",
      "Exiting env context: <rasterio.env.Env object at 0x121729280>\n",
      "Cleared existing <rasterio._env.GDALEnv object at 0x1216f8fd0> options\n",
      "Stopped GDALEnv <rasterio._env.GDALEnv object at 0x1216f8fd0>.\n",
      "No GDAL environment exists\n",
      "New GDAL environment <rasterio._env.GDALEnv object at 0x1216f8fd0> created\n",
      "GDAL_DATA found in environment.\n",
      "PROJ_LIB found in environment.\n",
      "Started GDALEnv: self=<rasterio._env.GDALEnv object at 0x1216f8fd0>.\n",
      "Exited env context: <rasterio.env.Env object at 0x121729280>\n",
      "Matched. confidence=100, c_code=b'3857', c_name=b'EPSG'\n",
      "Matched. confidence=100, c_code=b'4326', c_name=b'EPSG'\n",
      "Matched. confidence=100, c_code=b'3857', c_name=b'EPSG'\n",
      "Created exact transformer\n",
      "Exported CRS to WKT.\n",
      "Warp_extras: {'init_dest': 'NO_DATA'}\n",
      "Nodata success: 1, Nodata value: nan\n",
      "Dataset <closed WarpedVRT name='WarpedVRT(s3://climatedashboard-data/cmip6/monthly/CMIP6_ensemble_median/tas/tas_month_ensemble-median_historical_195004.tif)' mode='r'> is started.\n",
      "Output nodata value read from file: nan\n",
      "Output nodata values: [nan]\n",
      "all_valid: False\n",
      "mask_flags: ([<MaskFlags.nodata: 8>],)\n",
      "Jump straight to _read()\n",
      "Window: None\n",
      "IO window xoff=0.0 yoff=0.0 width=256.0 height=256.0\n",
      "IO window xoff=0.0 yoff=0.0 width=256.0 height=256.0\n",
      "Exiting env context: <rasterio.env.Env object at 0x1216f8f10>\n",
      "Cleared existing <rasterio._env.GDALEnv object at 0x1216f8fd0> options\n",
      "Stopped GDALEnv <rasterio._env.GDALEnv object at 0x1216f8fd0>.\n",
      "Exiting outermost env\n",
      "Exited env context: <rasterio.env.Env object at 0x1216f8f10>\n"
     ]
    },
    {
     "data": {
      "text/plain": [
       "{'cprofile': ['   ncalls  tottime  percall  cumtime  percall filename:lineno(function)',\n",
       "  '        4    0.111    0.028    0.112    0.028 connection.py:949(wait)',\n",
       "  \"        9    0.054    0.006    0.054    0.006 {method 'acquire' of '_thread.lock' objects}\",\n",
       "  '        1    0.001    0.001    0.172    0.172 profile_pgstac.py:130(tile)',\n",
       "  '        2    0.001    0.000    0.001    0.000 core.py:3433(__setmask__)']}"
      ]
     },
     "execution_count": 10,
     "metadata": {},
     "output_type": "execute_result"
    }
   ],
   "source": [
    "query = {\n",
    "  \"collections\": [\n",
    "    \"CMIP6_ensemble_median_TAS\"\n",
    "  ],\n",
    "  \"filter\": {\n",
    "    \"op\": \"t_intersects\",\n",
    "    \"args\": [\n",
    "      {\n",
    "        \"property\": \"datetime\"\n",
    "      },\n",
    "      {\n",
    "        \"interval\": [\n",
    "          \"1950-04-01T00:00:00Z\",\n",
    "          #\"1950-05-01T00:00:00Z\"\n",
    "        ]\n",
    "      }\n",
    "    ]\n",
    "  },\n",
    "  \"filter-lang\": \"cql2-json\"\n",
    "}\n",
    "\n",
    "image_and_assets, logs = profile_pgstac.tile(*xyz_tile, query=dict(query))\n",
    "logs"
   ]
  },
  {
   "cell_type": "markdown",
   "id": "6021ba14",
   "metadata": {},
   "source": [
    "## Profile titiler-xarray"
   ]
  },
  {
   "cell_type": "code",
   "execution_count": null,
   "id": "d60aad91",
   "metadata": {},
   "outputs": [],
   "source": [
    "@profile(add_to_return=True, quiet=False, log_library='s3fs')\n",
    "def tile(src_path: str, x: int, y: int, z: int, *, variable: str, time_slice: str = None, **kwargs: Any):\n",
    "\n",
    "    with xarray_open_dataset(\n",
    "        src_path,\n",
    "        group=z,\n",
    "        decode_times=False,\n",
    "        **kwargs,\n",
    "    ) as dataset:\n",
    "        dataarray = get_variable(dataset, variable=variable, time_slice=time_slice)\n",
    "        \n",
    "        with XarrayTileReader(dataarray) as src_dst:\n",
    "            return src_dst.tile(x, y, z)"
   ]
  },
  {
   "cell_type": "code",
   "execution_count": null,
   "id": "92cd9091",
   "metadata": {},
   "outputs": [],
   "source": [
    "image_and_assets, logs = tile(\n",
    "    \"s3://power-analysis-ready-datastore/power_901_monthly_meteorology_utc.zarr\", \n",
    "    *xyz_tile,\n",
    "    reference=False,\n",
    "    variable=\"TS\",\n",
    ")\n",
    "# logs"
   ]
  },
  {
   "cell_type": "code",
   "execution_count": null,
   "id": "88451037",
   "metadata": {},
   "outputs": [],
   "source": [
    "content = image_and_assets.render(\n",
    "    img_format='PNG'\n",
    ")\n",
    "\n",
    "im = Image.open(io.BytesIO(content))\n",
    "im"
   ]
  },
  {
   "cell_type": "code",
   "execution_count": null,
   "id": "51dc2c6e",
   "metadata": {},
   "outputs": [],
   "source": [
    "content = image_and_assets[0].render(\n",
    "    img_format='PNG'\n",
    ")\n",
    "\n",
    "im = Image.open(io.BytesIO(content))\n",
    "im"
   ]
  },
  {
   "cell_type": "code",
   "execution_count": null,
   "id": "47759791",
   "metadata": {},
   "outputs": [],
   "source": []
  }
 ],
 "metadata": {
  "kernelspec": {
   "display_name": "venv-profiling",
   "language": "python",
   "name": "venv-profiling"
  },
  "language_info": {
   "codemirror_mode": {
    "name": "ipython",
    "version": 3
   },
   "file_extension": ".py",
   "mimetype": "text/x-python",
   "name": "python",
   "nbconvert_exporter": "python",
   "pygments_lexer": "ipython3",
   "version": "3.9.7"
  }
 },
 "nbformat": 4,
 "nbformat_minor": 5
}
