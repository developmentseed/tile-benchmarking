{
 "cells": [
  {
   "cell_type": "code",
   "execution_count": 1,
   "id": "1e0e7aeb",
   "metadata": {},
   "outputs": [],
   "source": [
    "# Import libraries\n",
    "## for profiling\n",
    "from profiler.main import profile\n",
    "\n",
    "# for titiler-xarray\n",
    "from typing import Any\n",
    "from zarr_reader import xarray_open_dataset, get_variable\n",
    "import morecantile\n",
    "from xarray_tile_reader import XarrayTileReader\n",
    "\n",
    "# for titiler-pgstac\n",
    "from titiler.pgstac.mosaic import PGSTACBackend\n",
    "from typing import Any, Dict, List, Tuple\n",
    "from rio_tiler.mosaic import mosaic_reader\n",
    "from rio_tiler.models import ImageData\n",
    "from geojson_pydantic import Polygon\n",
    "\n",
    "# Only if wanting to see a picture\n",
    "import io\n",
    "from PIL import Image\n",
    "\n",
    "import os\n",
    "os.environ['AWS_PROFILE'] = 'veda-dev'"
   ]
  },
  {
   "cell_type": "code",
   "execution_count": 2,
   "id": "a53106ea",
   "metadata": {},
   "outputs": [],
   "source": [
    "xyz_tile = (0,0,0)"
   ]
  },
  {
   "cell_type": "markdown",
   "id": "8a131851",
   "metadata": {},
   "source": [
    "## Profile titiler-pgstac"
   ]
  },
  {
   "cell_type": "code",
   "execution_count": 3,
   "id": "045ea6a0",
   "metadata": {},
   "outputs": [],
   "source": [
    "import pgstac.profile_pgstac as profile_pgstac "
   ]
  },
  {
   "cell_type": "code",
   "execution_count": 4,
   "id": "ed8b8d9f",
   "metadata": {},
   "outputs": [
    {
     "name": "stdout",
     "output_type": "stream",
     "text": [
      "id='e0ccb2a67a881fa72642675a9a91f29c' input_search={'bbox': [-180.0, -90.0, 180.0, 90.0], 'limit': 100, 'filter': {'op': 'or', 'args': [{'op': 't_intersects', 'args': [{'property': 'datetime'}, {'interval': ['1950-04-01T00:00:00Z']}]}, {'op': 't_intersects', 'args': [{'property': 'datetime'}, {'interval': ['1951-04-01T00:00:00Z']}]}], 'limit': 100}, 'collections': ['CMIP6_ensemble_median_TAS']} sql_where=\"collection = ANY ('{CMIP6_ensemble_median_TAS}')  AND st_intersects(geometry, '0103000020E6100000010000000500000000000000008066C000000000008056C000000000008066C0000000000080564000000000008066400000000000805640000000000080664000000000008056C000000000008066C000000000008056C0') AND ((datetime <= '1950-04-01 00:00:00+00'::timestamptz AND end_datetime >= '1950-04-01 00:00:00+00'::timestamptz) OR (datetime <= '1951-04-01 00:00:00+00'::timestamptz AND end_datetime >= '1951-04-01 00:00:00+00'::timestamptz))\" orderby='datetime DESC, id DESC' lastused=datetime.datetime(2023, 6, 2, 17, 46, 33, 120823, tzinfo=zoneinfo.ZoneInfo(key='Etc/UTC')) usecount=2 metadata=Metadata(type='mosaic', bounds=None, minzoom=None, maxzoom=None, name=None, assets=['data'], defaults={})\n",
      "[{'id': 'tas_month_ensemble-median_historical_195104.tif', 'bbox': [-180.0, -60.0, 180.0, 90.0], 'assets': {'data': {'href': 's3://climatedashboard-data/cmip6/monthly/CMIP6_ensemble_median/tas/tas_month_ensemble-median_historical_195104.tif', 'type': 'image/tiff; application=geotiff; profile=cloud-optimized', 'roles': ['data'], 'raster:bands': [{'scale': 1.0, 'nodata': 'nan', 'offset': 0.0, 'sampling': 'area', 'data_type': 'float32', 'histogram': {'max': 307.63385009765625, 'min': 235.30442810058594, 'count': 11, 'buckets': [368, 5071, 9338, 10244, 14469, 17847, 17225, 14078, 30818, 14741]}, 'statistics': {'mean': 281.18236350494414, 'stddev': 16.762487952221445, 'maximum': 307.63385009765625, 'minimum': 235.30442810058594, 'valid_percent': 30.691735582552692}}]}}, 'collection': 'CMIP6_ensemble_median_TAS'}]\n",
      "{'pgstac-search': 77.23, 'get_tile': [3.7870237827301025], 'mosaic': 3789.64}\n",
      "Matched. confidence=100, c_code=b'3857', c_name=b'EPSG'\n",
      "Entering env context: <rasterio.env.Env object at 0x12c927790>\n",
      "Starting outermost env\n",
      "No GDAL environment exists\n",
      "New GDAL environment <rasterio._env.GDALEnv object at 0x12c927850> created\n",
      "Installing FilePath filesystem handler plugin...\n",
      "GDAL_DATA found in environment.\n",
      "PROJ_LIB found in environment.\n",
      "Started GDALEnv: self=<rasterio._env.GDALEnv object at 0x12c927850>.\n",
      "Entered env context: <rasterio.env.Env object at 0x12c927790>\n",
      "Got a copy of environment <rasterio._env.GDALEnv object at 0x12c927850> options\n",
      "Entering env context: <rasterio.env.Env object at 0x12c9753d0>\n",
      "Got a copy of environment <rasterio._env.GDALEnv object at 0x12c927850> options\n",
      "Entered env context: <rasterio.env.Env object at 0x12c9753d0>\n",
      "Sharing flag: 0\n",
      "Nodata success: 1, Nodata value: nan\n",
      "Dataset <open DatasetReader name='s3://climatedashboard-data/cmip6/monthly/CMIP6_ensemble_median/tas/tas_month_ensemble-median_historical_195104.tif' mode='r'> is started.\n",
      "Exiting env context: <rasterio.env.Env object at 0x12c9753d0>\n",
      "Cleared existing <rasterio._env.GDALEnv object at 0x12c927850> options\n",
      "Stopped GDALEnv <rasterio._env.GDALEnv object at 0x12c927850>.\n",
      "No GDAL environment exists\n",
      "New GDAL environment <rasterio._env.GDALEnv object at 0x12c927850> created\n",
      "GDAL_DATA found in environment.\n",
      "PROJ_LIB found in environment.\n",
      "Started GDALEnv: self=<rasterio._env.GDALEnv object at 0x12c927850>.\n",
      "Exited env context: <rasterio.env.Env object at 0x12c9753d0>\n",
      "Matched. confidence=100, c_code=b'3857', c_name=b'EPSG'\n",
      "Matched. confidence=100, c_code=b'4326', c_name=b'EPSG'\n",
      "Matched. confidence=100, c_code=b'3857', c_name=b'EPSG'\n",
      "Created exact transformer\n",
      "Exported CRS to WKT.\n",
      "Warp_extras: {'init_dest': 'NO_DATA'}\n",
      "Nodata success: 1, Nodata value: nan\n",
      "Dataset <closed WarpedVRT name='WarpedVRT(s3://climatedashboard-data/cmip6/monthly/CMIP6_ensemble_median/tas/tas_month_ensemble-median_historical_195104.tif)' mode='r'> is started.\n",
      "Output nodata value read from file: nan\n",
      "Output nodata values: [nan]\n",
      "all_valid: False\n",
      "mask_flags: ([<MaskFlags.nodata: 8>],)\n",
      "Jump straight to _read()\n",
      "Window: None\n",
      "IO window xoff=0.0 yoff=0.0 width=256.0 height=256.0\n",
      "IO window xoff=0.0 yoff=0.0 width=256.0 height=256.0\n",
      "Exiting env context: <rasterio.env.Env object at 0x12c927790>\n",
      "Cleared existing <rasterio._env.GDALEnv object at 0x12c927850> options\n",
      "Stopped GDALEnv <rasterio._env.GDALEnv object at 0x12c927850>.\n",
      "Exiting outermost env\n",
      "Exited env context: <rasterio.env.Env object at 0x12c927790>\n"
     ]
    },
    {
     "data": {
      "text/plain": [
       "{'cprofile': ['   ncalls  tottime  percall  cumtime  percall filename:lineno(function)',\n",
       "  \"       11    3.787    0.344    3.787    0.344 {method 'acquire' of '_thread.lock' objects}\",\n",
       "  '        4    0.094    0.023    0.095    0.024 connection.py:949(wait)',\n",
       "  '        2    0.001    0.000    0.001    0.000 core.py:3433(__setmask__)',\n",
       "  '        1    0.001    0.001    3.887    3.887 profile_pgstac.py:136(tile)',\n",
       "  '        8    0.001    0.000    0.001    0.000 connection.py:434(_exec_command)']}"
      ]
     },
     "execution_count": 4,
     "metadata": {},
     "output_type": "execute_result"
    }
   ],
   "source": [
    "image_and_assets, logs = profile_pgstac.tile(*xyz_tile)\n",
    "logs"
   ]
  },
  {
   "cell_type": "markdown",
   "id": "6021ba14",
   "metadata": {},
   "source": [
    "## Profile titiler-xarray"
   ]
  },
  {
   "cell_type": "code",
   "execution_count": null,
   "id": "d60aad91",
   "metadata": {},
   "outputs": [],
   "source": [
    "@profile(add_to_return=True, quiet=False, log_library='s3fs')\n",
    "def tile(src_path: str, x: int, y: int, z: int, *, variable: str, time_slice: str = None, **kwargs: Any):\n",
    "\n",
    "    with xarray_open_dataset(\n",
    "        src_path,\n",
    "        group=z,\n",
    "        decode_times=False,\n",
    "        **kwargs,\n",
    "    ) as dataset:\n",
    "        dataarray = get_variable(dataset, variable=variable, time_slice=time_slice)\n",
    "        \n",
    "        with XarrayTileReader(dataarray) as src_dst:\n",
    "            return src_dst.tile(x, y, z)"
   ]
  },
  {
   "cell_type": "code",
   "execution_count": null,
   "id": "92cd9091",
   "metadata": {},
   "outputs": [],
   "source": [
    "image_and_assets, logs = tile(\n",
    "    \"s3://power-analysis-ready-datastore/power_901_monthly_meteorology_utc.zarr\", \n",
    "    *xyz_tile,\n",
    "    reference=False,\n",
    "    variable=\"TS\",\n",
    ")\n",
    "# logs"
   ]
  },
  {
   "cell_type": "code",
   "execution_count": null,
   "id": "88451037",
   "metadata": {},
   "outputs": [],
   "source": [
    "content = image_and_assets.render(\n",
    "    img_format='PNG'\n",
    ")\n",
    "\n",
    "im = Image.open(io.BytesIO(content))\n",
    "im"
   ]
  },
  {
   "cell_type": "code",
   "execution_count": null,
   "id": "51dc2c6e",
   "metadata": {},
   "outputs": [],
   "source": [
    "content = image_and_assets[0].render(\n",
    "    img_format='PNG'\n",
    ")\n",
    "\n",
    "im = Image.open(io.BytesIO(content))\n",
    "im"
   ]
  },
  {
   "cell_type": "code",
   "execution_count": null,
   "id": "47759791",
   "metadata": {},
   "outputs": [],
   "source": []
  }
 ],
 "metadata": {
  "kernelspec": {
   "display_name": "venv-profiling",
   "language": "python",
   "name": "venv-profiling"
  },
  "language_info": {
   "codemirror_mode": {
    "name": "ipython",
    "version": 3
   },
   "file_extension": ".py",
   "mimetype": "text/x-python",
   "name": "python",
   "nbconvert_exporter": "python",
   "pygments_lexer": "ipython3",
   "version": "3.9.7"
  }
 },
 "nbformat": 4,
 "nbformat_minor": 5
}
