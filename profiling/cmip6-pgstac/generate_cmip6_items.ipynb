{
 "cells": [
  {
   "cell_type": "code",
   "execution_count": null,
   "id": "6f788363",
   "metadata": {},
   "outputs": [],
   "source": [
    "import boto3\n",
    "import fsspec\n",
    "import json\n",
    "from pystac import Catalog, Collection, Item, Asset, MediaType\n",
    "from datetime import datetime\n",
    "import rio_stac\n",
    "from pprint import pprint\n",
    "import concurrent.futures"
   ]
  },
  {
   "cell_type": "code",
   "execution_count": null,
   "id": "7b633fc5",
   "metadata": {},
   "outputs": [],
   "source": [
    "import argparse"
   ]
  },
  {
   "cell_type": "code",
   "execution_count": null,
   "id": "8e4cfbb8",
   "metadata": {},
   "outputs": [],
   "source": [
    "parser = argparse.ArgumentParser()\n",
    "parser.add_argument(\"temporal_resolution\", choices=[\"daily\", \"monthly\"], help=\"Specify the CMIP collection to use (daily or monthly)\")\n",
    "args = parser.parse_args()"
   ]
  },
  {
   "cell_type": "code",
   "execution_count": null,
   "id": "cdaccd78",
   "metadata": {},
   "outputs": [],
   "source": [
    "if args.temporal_resolution == \"daily\":\n",
    "    print(\"Running STAC generation for daily CMIP6 data...\")\n",
    "    temporal_resolution = \"daily\"\n",
    "    anon = True\n",
    "    s3_path = \"s3://nex-gddp-cmip6-cog/daily/GISS-E2-1-G/historical/r1i1p1f2/tas/\"\n",
    "    # Your code for daily frequency goes here\n",
    "elif args.temporal_resolution == \"monthly\":\n",
    "    print(\"Running STAC generation for monthly CMIP6 data...\")\n",
    "    temporal_resolution = \"monthly\"\n",
    "    anon = True\n",
    "    s3_path = \"s3://nex-gddp-cmip6-cog/monthly/CMIP6_ensemble_median/tas/\""
   ]
  },
  {
   "cell_type": "code",
   "execution_count": null,
   "id": "a7caab29",
   "metadata": {},
   "outputs": [],
   "source": [
    "fs_read = fsspec.filesystem(\"s3\", anon=anon, skip_instance_cache=False)\n",
    "fs_write = fsspec.filesystem(\"\")"
   ]
  },
  {
   "cell_type": "code",
   "execution_count": null,
   "id": "4936f757",
   "metadata": {},
   "outputs": [],
   "source": [
    "file_paths = fs_read.glob(f\"{s3_path}*\")\n",
    "print(f\"{len(file_paths)} discovered from {s3_path}\")"
   ]
  },
  {
   "cell_type": "code",
   "execution_count": null,
   "id": "999b0670",
   "metadata": {},
   "outputs": [],
   "source": [
    "# Here we prepend the prefix 's3://', which points to AWS.\n",
    "if temporal_resolution == \"monthly\":\n",
    "    subset_files = sorted([\"s3://\" + f for f in file_paths if \"historical_1950\" in f or \"historical_1951\" in f])\n",
    "elif temporal_resolution == \"daily\":\n",
    "    subset_files = sorted([\"s3://\" + f for f in file_paths if \"_1950_\" in f or \"_1951_\" in f])"
   ]
  },
  {
   "cell_type": "code",
   "execution_count": null,
   "id": "6af269dc",
   "metadata": {},
   "outputs": [],
   "source": [
    "print(f\"Subseted data to files for 1950 and 1951. {len(subset_files)} files to process.\")"
   ]
  },
  {
   "cell_type": "code",
   "execution_count": null,
   "id": "57dc1b5f",
   "metadata": {},
   "outputs": [],
   "source": [
    "# Create the collection\n",
    "collection_json = json.loads(open(f'cmip6_{temporal_resolution}_stac_collection.json').read())\n",
    "collection = Collection.from_dict(collection_json)"
   ]
  },
  {
   "cell_type": "code",
   "execution_count": null,
   "id": "45771e88",
   "metadata": {
    "lines_to_next_cell": 1
   },
   "outputs": [],
   "source": [
    "stac_items_file = f'{collection.id}_stac_items.ndjson'\n",
    "# clear the file\n",
    "with open(stac_items_file, 'w') as file:\n",
    "    pass"
   ]
  },
  {
   "cell_type": "code",
   "execution_count": null,
   "id": "ececf9d5",
   "metadata": {},
   "outputs": [],
   "source": [
    "def process_item(s3_file):\n",
    "    print(f\"Processing {s3_file}\")\n",
    "    filename = s3_file.split('/')[-1]\n",
    "    if temporal_resolution == 'monthly':\n",
    "        input_datetime = filename.split('_')[-1].replace('.tif', '')\n",
    "        datetime_ = datetime.strptime(input_datetime, '%Y%m')\n",
    "    elif temporal_resolution == 'daily':\n",
    "        year, month, day = filename.split('_')[-3:]\n",
    "        day = day.replace('.tif', '')\n",
    "        datetime_ = datetime.strptime(f'{year}{month}{day}', '%Y%m%d')    \n",
    "    with open(stac_items_file, 'a') as f:\n",
    "        # Create a new Item\n",
    "        item = rio_stac.create_stac_item(\n",
    "                id=filename,\n",
    "                source=s3_file,\n",
    "                collection=collection.id,\n",
    "                input_datetime=datetime_,\n",
    "                with_proj=True,\n",
    "                with_raster=True,\n",
    "                asset_name=\"data\",\n",
    "                asset_roles=[\"data\"],\n",
    "                asset_media_type=\"image/tiff; application=geotiff; profile=cloud-optimized\"\n",
    "            )\n",
    "        f.write(json.dumps(item.to_dict()) + '\\n')    "
   ]
  },
  {
   "cell_type": "code",
   "execution_count": null,
   "id": "645d3ccb",
   "metadata": {},
   "outputs": [],
   "source": [
    "# For each object, create an Item and add it to the Catalog\n",
    "with concurrent.futures.ThreadPoolExecutor() as executor:\n",
    "    futures = [executor.submit(process_item, obj) for obj in subset_files]"
   ]
  }
 ],
 "metadata": {
  "jupytext": {
   "cell_metadata_filter": "-all",
   "formats": "ipynb,py",
   "main_language": "python"
  }
 },
 "nbformat": 4,
 "nbformat_minor": 5
}
