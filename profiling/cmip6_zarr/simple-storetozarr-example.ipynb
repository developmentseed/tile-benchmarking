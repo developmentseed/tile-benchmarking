{
 "cells": [
  {
   "cell_type": "markdown",
   "id": "67178829-9f4c-4b5c-aa31-7f4ca7be1498",
   "metadata": {},
   "source": [
    "# Check out simple pangeo-forge recipe\n",
    "\n",
    "This notebook demonstrates how the default result of pangeo-forge `StoreToZarr` results coordinates being chunked."
   ]
  },
  {
   "cell_type": "code",
   "execution_count": null,
   "id": "786bfbec-7eae-4cc1-afb7-ed4b1973a771",
   "metadata": {
    "tags": []
   },
   "outputs": [],
   "source": [
    "import apache_beam as beam\n",
    "import fsspec\n",
    "import h5py\n",
    "import os\n",
    "from pangeo_forge_recipes.patterns import FilePattern, ConcatDim\n",
    "from pangeo_forge_recipes.transforms import OpenURLWithFSSpec, OpenWithXarray, StoreToZarr\n",
    "import re\n",
    "import s3fs\n",
    "from tempfile import TemporaryDirectory\n",
    "import xarray as xr"
   ]
  },
  {
   "cell_type": "code",
   "execution_count": 2,
   "id": "61b810ac-86ef-4d0e-b329-6b6aa6a73a63",
   "metadata": {
    "tags": []
   },
   "outputs": [
    {
     "name": "stdout",
     "output_type": "stream",
     "text": [
      "Name: pangeo-forge-recipes\n",
      "Version: 0.10.0\n",
      "Summary: Pipeline tools for building and publishing analysis ready datasets.\n",
      "Home-page: https://github.com/pangeo-forge/pangeo-forge-recipes\n",
      "Author: \n",
      "Author-email: \n",
      "License: Apache\n",
      "Location: /srv/conda/envs/notebook/lib/python3.10/site-packages\n",
      "Requires: cftime, dask, distributed, fsspec, h5netcdf, h5py, intake, intake-xarray, kerchunk, mypy-extensions, netcdf4, numcodecs, setuptools, xarray, zarr\n",
      "Required-by: \n"
     ]
    }
   ],
   "source": [
    "#!pip install pangeo_forge_recipes==0.10.0\n",
    "#!pip install 'apache-beam[interactive, dataframe]==2.48.0'\n",
    "!pip show pangeo_forge_recipes"
   ]
  },
  {
   "cell_type": "markdown",
   "id": "7e980157-a9c9-47d5-ad7d-cc717b6e67b7",
   "metadata": {},
   "source": [
    "## 1. Set parameters"
   ]
  },
  {
   "cell_type": "code",
   "execution_count": 3,
   "id": "6e2abcd8",
   "metadata": {
    "editable": true,
    "slideshow": {
     "slide_type": ""
    },
    "tags": [
     "parameters"
    ]
   },
   "outputs": [],
   "source": [
    "#parameters\n",
    "temporal_resolution = \"daily\"\n",
    "model = \"GISS-E2-1-G\"\n",
    "variable = \"tas\"\n",
    "anon=True"
   ]
  },
  {
   "cell_type": "code",
   "execution_count": 4,
   "id": "4d4b5504-7275-4949-9507-ef8c8efd55aa",
   "metadata": {
    "tags": []
   },
   "outputs": [],
   "source": [
    "# Initiate fsspec filesystems for reading and writing\n",
    "s3_path = f\"s3://nex-gddp-cmip6/NEX-GDDP-CMIP6/{model}/historical/r1i1p1*/{variable}/*\"\n",
    "fs_read = fsspec.filesystem(\"s3\", anon=anon, skip_instance_cache=False)\n",
    "fs_write = fsspec.filesystem(\"\")"
   ]
  },
  {
   "cell_type": "code",
   "execution_count": 5,
   "id": "13e67843-b173-4d68-b045-9da28dd68eb6",
   "metadata": {
    "tags": []
   },
   "outputs": [
    {
     "name": "stdout",
     "output_type": "stream",
     "text": [
      "65 discovered from s3://nex-gddp-cmip6/NEX-GDDP-CMIP6/GISS-E2-1-G/historical/r1i1p1*/tas/*\n"
     ]
    }
   ],
   "source": [
    "# Retrieve list of available months\n",
    "files_paths = fs_read.glob(s3_path)\n",
    "print(f\"{len(files_paths)} discovered from {s3_path}\")"
   ]
  },
  {
   "cell_type": "code",
   "execution_count": 6,
   "id": "af19a04e-77e6-4dc3-b023-7af0c19ca45f",
   "metadata": {
    "tags": []
   },
   "outputs": [
    {
     "data": {
      "text/plain": [
       "'nex-gddp-cmip6/NEX-GDDP-CMIP6/GISS-E2-1-G/historical/r1i1p1f2/tas/tas_day_GISS-E2-1-G_historical_r1i1p1f2_gn_1950.nc'"
      ]
     },
     "execution_count": 6,
     "metadata": {},
     "output_type": "execute_result"
    }
   ],
   "source": [
    "files_paths[0]"
   ]
  },
  {
   "cell_type": "markdown",
   "id": "7503d0a0-1f4c-489b-b16e-68f2bc481cf9",
   "metadata": {},
   "source": [
    "# 2. Test we can open the files"
   ]
  },
  {
   "cell_type": "code",
   "execution_count": 7,
   "id": "af346f35",
   "metadata": {
    "tags": []
   },
   "outputs": [
    {
     "data": {
      "text/html": [
       "<div><svg style=\"position: absolute; width: 0; height: 0; overflow: hidden\">\n",
       "<defs>\n",
       "<symbol id=\"icon-database\" viewBox=\"0 0 32 32\">\n",
       "<path d=\"M16 0c-8.837 0-16 2.239-16 5v4c0 2.761 7.163 5 16 5s16-2.239 16-5v-4c0-2.761-7.163-5-16-5z\"></path>\n",
       "<path d=\"M16 17c-8.837 0-16-2.239-16-5v6c0 2.761 7.163 5 16 5s16-2.239 16-5v-6c0 2.761-7.163 5-16 5z\"></path>\n",
       "<path d=\"M16 26c-8.837 0-16-2.239-16-5v6c0 2.761 7.163 5 16 5s16-2.239 16-5v-6c0 2.761-7.163 5-16 5z\"></path>\n",
       "</symbol>\n",
       "<symbol id=\"icon-file-text2\" viewBox=\"0 0 32 32\">\n",
       "<path d=\"M28.681 7.159c-0.694-0.947-1.662-2.053-2.724-3.116s-2.169-2.030-3.116-2.724c-1.612-1.182-2.393-1.319-2.841-1.319h-15.5c-1.378 0-2.5 1.121-2.5 2.5v27c0 1.378 1.122 2.5 2.5 2.5h23c1.378 0 2.5-1.122 2.5-2.5v-19.5c0-0.448-0.137-1.23-1.319-2.841zM24.543 5.457c0.959 0.959 1.712 1.825 2.268 2.543h-4.811v-4.811c0.718 0.556 1.584 1.309 2.543 2.268zM28 29.5c0 0.271-0.229 0.5-0.5 0.5h-23c-0.271 0-0.5-0.229-0.5-0.5v-27c0-0.271 0.229-0.5 0.5-0.5 0 0 15.499-0 15.5 0v7c0 0.552 0.448 1 1 1h7v19.5z\"></path>\n",
       "<path d=\"M23 26h-14c-0.552 0-1-0.448-1-1s0.448-1 1-1h14c0.552 0 1 0.448 1 1s-0.448 1-1 1z\"></path>\n",
       "<path d=\"M23 22h-14c-0.552 0-1-0.448-1-1s0.448-1 1-1h14c0.552 0 1 0.448 1 1s-0.448 1-1 1z\"></path>\n",
       "<path d=\"M23 18h-14c-0.552 0-1-0.448-1-1s0.448-1 1-1h14c0.552 0 1 0.448 1 1s-0.448 1-1 1z\"></path>\n",
       "</symbol>\n",
       "</defs>\n",
       "</svg>\n",
       "<style>/* CSS stylesheet for displaying xarray objects in jupyterlab.\n",
       " *\n",
       " */\n",
       "\n",
       ":root {\n",
       "  --xr-font-color0: var(--jp-content-font-color0, rgba(0, 0, 0, 1));\n",
       "  --xr-font-color2: var(--jp-content-font-color2, rgba(0, 0, 0, 0.54));\n",
       "  --xr-font-color3: var(--jp-content-font-color3, rgba(0, 0, 0, 0.38));\n",
       "  --xr-border-color: var(--jp-border-color2, #e0e0e0);\n",
       "  --xr-disabled-color: var(--jp-layout-color3, #bdbdbd);\n",
       "  --xr-background-color: var(--jp-layout-color0, white);\n",
       "  --xr-background-color-row-even: var(--jp-layout-color1, white);\n",
       "  --xr-background-color-row-odd: var(--jp-layout-color2, #eeeeee);\n",
       "}\n",
       "\n",
       "html[theme=dark],\n",
       "body[data-theme=dark],\n",
       "body.vscode-dark {\n",
       "  --xr-font-color0: rgba(255, 255, 255, 1);\n",
       "  --xr-font-color2: rgba(255, 255, 255, 0.54);\n",
       "  --xr-font-color3: rgba(255, 255, 255, 0.38);\n",
       "  --xr-border-color: #1F1F1F;\n",
       "  --xr-disabled-color: #515151;\n",
       "  --xr-background-color: #111111;\n",
       "  --xr-background-color-row-even: #111111;\n",
       "  --xr-background-color-row-odd: #313131;\n",
       "}\n",
       "\n",
       ".xr-wrap {\n",
       "  display: block !important;\n",
       "  min-width: 300px;\n",
       "  max-width: 700px;\n",
       "}\n",
       "\n",
       ".xr-text-repr-fallback {\n",
       "  /* fallback to plain text repr when CSS is not injected (untrusted notebook) */\n",
       "  display: none;\n",
       "}\n",
       "\n",
       ".xr-header {\n",
       "  padding-top: 6px;\n",
       "  padding-bottom: 6px;\n",
       "  margin-bottom: 4px;\n",
       "  border-bottom: solid 1px var(--xr-border-color);\n",
       "}\n",
       "\n",
       ".xr-header > div,\n",
       ".xr-header > ul {\n",
       "  display: inline;\n",
       "  margin-top: 0;\n",
       "  margin-bottom: 0;\n",
       "}\n",
       "\n",
       ".xr-obj-type,\n",
       ".xr-array-name {\n",
       "  margin-left: 2px;\n",
       "  margin-right: 10px;\n",
       "}\n",
       "\n",
       ".xr-obj-type {\n",
       "  color: var(--xr-font-color2);\n",
       "}\n",
       "\n",
       ".xr-sections {\n",
       "  padding-left: 0 !important;\n",
       "  display: grid;\n",
       "  grid-template-columns: 150px auto auto 1fr 20px 20px;\n",
       "}\n",
       "\n",
       ".xr-section-item {\n",
       "  display: contents;\n",
       "}\n",
       "\n",
       ".xr-section-item input {\n",
       "  display: none;\n",
       "}\n",
       "\n",
       ".xr-section-item input + label {\n",
       "  color: var(--xr-disabled-color);\n",
       "}\n",
       "\n",
       ".xr-section-item input:enabled + label {\n",
       "  cursor: pointer;\n",
       "  color: var(--xr-font-color2);\n",
       "}\n",
       "\n",
       ".xr-section-item input:enabled + label:hover {\n",
       "  color: var(--xr-font-color0);\n",
       "}\n",
       "\n",
       ".xr-section-summary {\n",
       "  grid-column: 1;\n",
       "  color: var(--xr-font-color2);\n",
       "  font-weight: 500;\n",
       "}\n",
       "\n",
       ".xr-section-summary > span {\n",
       "  display: inline-block;\n",
       "  padding-left: 0.5em;\n",
       "}\n",
       "\n",
       ".xr-section-summary-in:disabled + label {\n",
       "  color: var(--xr-font-color2);\n",
       "}\n",
       "\n",
       ".xr-section-summary-in + label:before {\n",
       "  display: inline-block;\n",
       "  content: '►';\n",
       "  font-size: 11px;\n",
       "  width: 15px;\n",
       "  text-align: center;\n",
       "}\n",
       "\n",
       ".xr-section-summary-in:disabled + label:before {\n",
       "  color: var(--xr-disabled-color);\n",
       "}\n",
       "\n",
       ".xr-section-summary-in:checked + label:before {\n",
       "  content: '▼';\n",
       "}\n",
       "\n",
       ".xr-section-summary-in:checked + label > span {\n",
       "  display: none;\n",
       "}\n",
       "\n",
       ".xr-section-summary,\n",
       ".xr-section-inline-details {\n",
       "  padding-top: 4px;\n",
       "  padding-bottom: 4px;\n",
       "}\n",
       "\n",
       ".xr-section-inline-details {\n",
       "  grid-column: 2 / -1;\n",
       "}\n",
       "\n",
       ".xr-section-details {\n",
       "  display: none;\n",
       "  grid-column: 1 / -1;\n",
       "  margin-bottom: 5px;\n",
       "}\n",
       "\n",
       ".xr-section-summary-in:checked ~ .xr-section-details {\n",
       "  display: contents;\n",
       "}\n",
       "\n",
       ".xr-array-wrap {\n",
       "  grid-column: 1 / -1;\n",
       "  display: grid;\n",
       "  grid-template-columns: 20px auto;\n",
       "}\n",
       "\n",
       ".xr-array-wrap > label {\n",
       "  grid-column: 1;\n",
       "  vertical-align: top;\n",
       "}\n",
       "\n",
       ".xr-preview {\n",
       "  color: var(--xr-font-color3);\n",
       "}\n",
       "\n",
       ".xr-array-preview,\n",
       ".xr-array-data {\n",
       "  padding: 0 5px !important;\n",
       "  grid-column: 2;\n",
       "}\n",
       "\n",
       ".xr-array-data,\n",
       ".xr-array-in:checked ~ .xr-array-preview {\n",
       "  display: none;\n",
       "}\n",
       "\n",
       ".xr-array-in:checked ~ .xr-array-data,\n",
       ".xr-array-preview {\n",
       "  display: inline-block;\n",
       "}\n",
       "\n",
       ".xr-dim-list {\n",
       "  display: inline-block !important;\n",
       "  list-style: none;\n",
       "  padding: 0 !important;\n",
       "  margin: 0;\n",
       "}\n",
       "\n",
       ".xr-dim-list li {\n",
       "  display: inline-block;\n",
       "  padding: 0;\n",
       "  margin: 0;\n",
       "}\n",
       "\n",
       ".xr-dim-list:before {\n",
       "  content: '(';\n",
       "}\n",
       "\n",
       ".xr-dim-list:after {\n",
       "  content: ')';\n",
       "}\n",
       "\n",
       ".xr-dim-list li:not(:last-child):after {\n",
       "  content: ',';\n",
       "  padding-right: 5px;\n",
       "}\n",
       "\n",
       ".xr-has-index {\n",
       "  font-weight: bold;\n",
       "}\n",
       "\n",
       ".xr-var-list,\n",
       ".xr-var-item {\n",
       "  display: contents;\n",
       "}\n",
       "\n",
       ".xr-var-item > div,\n",
       ".xr-var-item label,\n",
       ".xr-var-item > .xr-var-name span {\n",
       "  background-color: var(--xr-background-color-row-even);\n",
       "  margin-bottom: 0;\n",
       "}\n",
       "\n",
       ".xr-var-item > .xr-var-name:hover span {\n",
       "  padding-right: 5px;\n",
       "}\n",
       "\n",
       ".xr-var-list > li:nth-child(odd) > div,\n",
       ".xr-var-list > li:nth-child(odd) > label,\n",
       ".xr-var-list > li:nth-child(odd) > .xr-var-name span {\n",
       "  background-color: var(--xr-background-color-row-odd);\n",
       "}\n",
       "\n",
       ".xr-var-name {\n",
       "  grid-column: 1;\n",
       "}\n",
       "\n",
       ".xr-var-dims {\n",
       "  grid-column: 2;\n",
       "}\n",
       "\n",
       ".xr-var-dtype {\n",
       "  grid-column: 3;\n",
       "  text-align: right;\n",
       "  color: var(--xr-font-color2);\n",
       "}\n",
       "\n",
       ".xr-var-preview {\n",
       "  grid-column: 4;\n",
       "}\n",
       "\n",
       ".xr-index-preview {\n",
       "  grid-column: 2 / 5;\n",
       "  color: var(--xr-font-color2);\n",
       "}\n",
       "\n",
       ".xr-var-name,\n",
       ".xr-var-dims,\n",
       ".xr-var-dtype,\n",
       ".xr-preview,\n",
       ".xr-attrs dt {\n",
       "  white-space: nowrap;\n",
       "  overflow: hidden;\n",
       "  text-overflow: ellipsis;\n",
       "  padding-right: 10px;\n",
       "}\n",
       "\n",
       ".xr-var-name:hover,\n",
       ".xr-var-dims:hover,\n",
       ".xr-var-dtype:hover,\n",
       ".xr-attrs dt:hover {\n",
       "  overflow: visible;\n",
       "  width: auto;\n",
       "  z-index: 1;\n",
       "}\n",
       "\n",
       ".xr-var-attrs,\n",
       ".xr-var-data,\n",
       ".xr-index-data {\n",
       "  display: none;\n",
       "  background-color: var(--xr-background-color) !important;\n",
       "  padding-bottom: 5px !important;\n",
       "}\n",
       "\n",
       ".xr-var-attrs-in:checked ~ .xr-var-attrs,\n",
       ".xr-var-data-in:checked ~ .xr-var-data,\n",
       ".xr-index-data-in:checked ~ .xr-index-data {\n",
       "  display: block;\n",
       "}\n",
       "\n",
       ".xr-var-data > table {\n",
       "  float: right;\n",
       "}\n",
       "\n",
       ".xr-var-name span,\n",
       ".xr-var-data,\n",
       ".xr-index-name div,\n",
       ".xr-index-data,\n",
       ".xr-attrs {\n",
       "  padding-left: 25px !important;\n",
       "}\n",
       "\n",
       ".xr-attrs,\n",
       ".xr-var-attrs,\n",
       ".xr-var-data,\n",
       ".xr-index-data {\n",
       "  grid-column: 1 / -1;\n",
       "}\n",
       "\n",
       "dl.xr-attrs {\n",
       "  padding: 0;\n",
       "  margin: 0;\n",
       "  display: grid;\n",
       "  grid-template-columns: 125px auto;\n",
       "}\n",
       "\n",
       ".xr-attrs dt,\n",
       ".xr-attrs dd {\n",
       "  padding: 0;\n",
       "  margin: 0;\n",
       "  float: left;\n",
       "  padding-right: 10px;\n",
       "  width: auto;\n",
       "}\n",
       "\n",
       ".xr-attrs dt {\n",
       "  font-weight: normal;\n",
       "  grid-column: 1;\n",
       "}\n",
       "\n",
       ".xr-attrs dt:hover span {\n",
       "  display: inline-block;\n",
       "  background: var(--xr-background-color);\n",
       "  padding-right: 10px;\n",
       "}\n",
       "\n",
       ".xr-attrs dd {\n",
       "  grid-column: 2;\n",
       "  white-space: pre-wrap;\n",
       "  word-break: break-all;\n",
       "}\n",
       "\n",
       ".xr-icon-database,\n",
       ".xr-icon-file-text2,\n",
       ".xr-no-icon {\n",
       "  display: inline-block;\n",
       "  vertical-align: middle;\n",
       "  width: 1em;\n",
       "  height: 1.5em !important;\n",
       "  stroke-width: 0;\n",
       "  stroke: currentColor;\n",
       "  fill: currentColor;\n",
       "}\n",
       "</style><pre class='xr-text-repr-fallback'>&lt;xarray.Dataset&gt;\n",
       "Dimensions:  (time: 365, lat: 600, lon: 1440)\n",
       "Coordinates:\n",
       "  * time     (time) object 1950-01-01 12:00:00 ... 1950-12-31 12:00:00\n",
       "  * lat      (lat) float64 -59.88 -59.62 -59.38 -59.12 ... 89.38 89.62 89.88\n",
       "  * lon      (lon) float64 0.125 0.375 0.625 0.875 ... 359.1 359.4 359.6 359.9\n",
       "Data variables:\n",
       "    tas      (time, lat, lon) float32 ...\n",
       "Attributes: (12/23)\n",
       "    downscalingModel:      BCSD\n",
       "    activity:              NEX-GDDP-CMIP6\n",
       "    contact:               Dr. Rama Nemani: rama.nemani@nasa.gov, Dr. Bridget...\n",
       "    Conventions:           CF-1.7\n",
       "    creation_date:         2021-10-04T18:41:40.796912+00:00\n",
       "    frequency:             day\n",
       "    ...                    ...\n",
       "    history:               2021-10-04T18:41:40.796912+00:00: install global a...\n",
       "    disclaimer:            This data is considered provisional and subject to...\n",
       "    external_variables:    areacella\n",
       "    cmip6_source_id:       GISS-E2-1-G\n",
       "    cmip6_institution_id:  NASA-GISS\n",
       "    cmip6_license:         CC-BY-SA 4.0</pre><div class='xr-wrap' style='display:none'><div class='xr-header'><div class='xr-obj-type'>xarray.Dataset</div></div><ul class='xr-sections'><li class='xr-section-item'><input id='section-1553b435-bb06-4afb-9a95-5bb02c55629d' class='xr-section-summary-in' type='checkbox' disabled ><label for='section-1553b435-bb06-4afb-9a95-5bb02c55629d' class='xr-section-summary'  title='Expand/collapse section'>Dimensions:</label><div class='xr-section-inline-details'><ul class='xr-dim-list'><li><span class='xr-has-index'>time</span>: 365</li><li><span class='xr-has-index'>lat</span>: 600</li><li><span class='xr-has-index'>lon</span>: 1440</li></ul></div><div class='xr-section-details'></div></li><li class='xr-section-item'><input id='section-3e64c113-f5cd-4554-b798-52ffe12afb12' class='xr-section-summary-in' type='checkbox'  checked><label for='section-3e64c113-f5cd-4554-b798-52ffe12afb12' class='xr-section-summary' >Coordinates: <span>(3)</span></label><div class='xr-section-inline-details'></div><div class='xr-section-details'><ul class='xr-var-list'><li class='xr-var-item'><div class='xr-var-name'><span class='xr-has-index'>time</span></div><div class='xr-var-dims'>(time)</div><div class='xr-var-dtype'>object</div><div class='xr-var-preview xr-preview'>1950-01-01 12:00:00 ... 1950-12-...</div><input id='attrs-2740ce0c-7168-4266-9241-30d414563cf2' class='xr-var-attrs-in' type='checkbox' ><label for='attrs-2740ce0c-7168-4266-9241-30d414563cf2' title='Show/Hide attributes'><svg class='icon xr-icon-file-text2'><use xlink:href='#icon-file-text2'></use></svg></label><input id='data-f7721283-9c22-410c-a932-16257a145735' class='xr-var-data-in' type='checkbox'><label for='data-f7721283-9c22-410c-a932-16257a145735' title='Show/Hide data repr'><svg class='icon xr-icon-database'><use xlink:href='#icon-database'></use></svg></label><div class='xr-var-attrs'><dl class='xr-attrs'><dt><span>standard_name :</span></dt><dd>time</dd><dt><span>long_name :</span></dt><dd>time</dd><dt><span>axis :</span></dt><dd>T</dd></dl></div><div class='xr-var-data'><pre>array([cftime.DatetimeNoLeap(1950, 1, 1, 12, 0, 0, 0, has_year_zero=True),\n",
       "       cftime.DatetimeNoLeap(1950, 1, 2, 12, 0, 0, 0, has_year_zero=True),\n",
       "       cftime.DatetimeNoLeap(1950, 1, 3, 12, 0, 0, 0, has_year_zero=True), ...,\n",
       "       cftime.DatetimeNoLeap(1950, 12, 29, 12, 0, 0, 0, has_year_zero=True),\n",
       "       cftime.DatetimeNoLeap(1950, 12, 30, 12, 0, 0, 0, has_year_zero=True),\n",
       "       cftime.DatetimeNoLeap(1950, 12, 31, 12, 0, 0, 0, has_year_zero=True)],\n",
       "      dtype=object)</pre></div></li><li class='xr-var-item'><div class='xr-var-name'><span class='xr-has-index'>lat</span></div><div class='xr-var-dims'>(lat)</div><div class='xr-var-dtype'>float64</div><div class='xr-var-preview xr-preview'>-59.88 -59.62 ... 89.62 89.88</div><input id='attrs-00382f73-d9c2-4735-9894-38498857dc0d' class='xr-var-attrs-in' type='checkbox' ><label for='attrs-00382f73-d9c2-4735-9894-38498857dc0d' title='Show/Hide attributes'><svg class='icon xr-icon-file-text2'><use xlink:href='#icon-file-text2'></use></svg></label><input id='data-31abf28d-93e9-4d20-bdcf-9492a6cdf0d5' class='xr-var-data-in' type='checkbox'><label for='data-31abf28d-93e9-4d20-bdcf-9492a6cdf0d5' title='Show/Hide data repr'><svg class='icon xr-icon-database'><use xlink:href='#icon-database'></use></svg></label><div class='xr-var-attrs'><dl class='xr-attrs'><dt><span>units :</span></dt><dd>degrees_north</dd><dt><span>standard_name :</span></dt><dd>latitude</dd><dt><span>long_name :</span></dt><dd>latitude</dd><dt><span>axis :</span></dt><dd>Y</dd></dl></div><div class='xr-var-data'><pre>array([-59.875, -59.625, -59.375, ...,  89.375,  89.625,  89.875])</pre></div></li><li class='xr-var-item'><div class='xr-var-name'><span class='xr-has-index'>lon</span></div><div class='xr-var-dims'>(lon)</div><div class='xr-var-dtype'>float64</div><div class='xr-var-preview xr-preview'>0.125 0.375 0.625 ... 359.6 359.9</div><input id='attrs-2026fa9c-0d49-4c56-bbad-e2bcce30493e' class='xr-var-attrs-in' type='checkbox' ><label for='attrs-2026fa9c-0d49-4c56-bbad-e2bcce30493e' title='Show/Hide attributes'><svg class='icon xr-icon-file-text2'><use xlink:href='#icon-file-text2'></use></svg></label><input id='data-9a9b7227-c254-4409-881f-da2a96a0bcd7' class='xr-var-data-in' type='checkbox'><label for='data-9a9b7227-c254-4409-881f-da2a96a0bcd7' title='Show/Hide data repr'><svg class='icon xr-icon-database'><use xlink:href='#icon-database'></use></svg></label><div class='xr-var-attrs'><dl class='xr-attrs'><dt><span>units :</span></dt><dd>degrees_east</dd><dt><span>standard_name :</span></dt><dd>longitude</dd><dt><span>long_name :</span></dt><dd>longitude</dd><dt><span>axis :</span></dt><dd>X</dd></dl></div><div class='xr-var-data'><pre>array([1.25000e-01, 3.75000e-01, 6.25000e-01, ..., 3.59375e+02, 3.59625e+02,\n",
       "       3.59875e+02])</pre></div></li></ul></div></li><li class='xr-section-item'><input id='section-1f98dc19-1697-4af7-8648-5816c526a3e2' class='xr-section-summary-in' type='checkbox'  checked><label for='section-1f98dc19-1697-4af7-8648-5816c526a3e2' class='xr-section-summary' >Data variables: <span>(1)</span></label><div class='xr-section-inline-details'></div><div class='xr-section-details'><ul class='xr-var-list'><li class='xr-var-item'><div class='xr-var-name'><span>tas</span></div><div class='xr-var-dims'>(time, lat, lon)</div><div class='xr-var-dtype'>float32</div><div class='xr-var-preview xr-preview'>...</div><input id='attrs-8649c598-74be-42a5-927d-5e6442d1919b' class='xr-var-attrs-in' type='checkbox' ><label for='attrs-8649c598-74be-42a5-927d-5e6442d1919b' title='Show/Hide attributes'><svg class='icon xr-icon-file-text2'><use xlink:href='#icon-file-text2'></use></svg></label><input id='data-7cb85562-6efa-4e0f-bba2-65562e78abc8' class='xr-var-data-in' type='checkbox'><label for='data-7cb85562-6efa-4e0f-bba2-65562e78abc8' title='Show/Hide data repr'><svg class='icon xr-icon-database'><use xlink:href='#icon-database'></use></svg></label><div class='xr-var-attrs'><dl class='xr-attrs'><dt><span>cell_measures :</span></dt><dd>area: areacella</dd><dt><span>cell_methods :</span></dt><dd>area: mean time: maximum</dd><dt><span>comment :</span></dt><dd>near-surface (usually, 2 meter) air temperature; derived from downscaled tasmax &amp; tasmin</dd><dt><span>units :</span></dt><dd>K</dd><dt><span>long_name :</span></dt><dd>Daily Near-Surface Air Temperature</dd><dt><span>standard_name :</span></dt><dd>air_temperature</dd></dl></div><div class='xr-var-data'><pre>[315360000 values with dtype=float32]</pre></div></li></ul></div></li><li class='xr-section-item'><input id='section-d82aaff9-5f06-4b64-9354-f6dc139e87cb' class='xr-section-summary-in' type='checkbox'  ><label for='section-d82aaff9-5f06-4b64-9354-f6dc139e87cb' class='xr-section-summary' >Indexes: <span>(3)</span></label><div class='xr-section-inline-details'></div><div class='xr-section-details'><ul class='xr-var-list'><li class='xr-var-item'><div class='xr-index-name'><div>time</div></div><div class='xr-index-preview'>PandasIndex</div><div></div><input id='index-21291637-3c38-49bb-a648-78951686cbf8' class='xr-index-data-in' type='checkbox'/><label for='index-21291637-3c38-49bb-a648-78951686cbf8' title='Show/Hide index repr'><svg class='icon xr-icon-database'><use xlink:href='#icon-database'></use></svg></label><div class='xr-index-data'><pre>PandasIndex(CFTimeIndex([1950-01-01 12:00:00, 1950-01-02 12:00:00, 1950-01-03 12:00:00,\n",
       "             1950-01-04 12:00:00, 1950-01-05 12:00:00, 1950-01-06 12:00:00,\n",
       "             1950-01-07 12:00:00, 1950-01-08 12:00:00, 1950-01-09 12:00:00,\n",
       "             1950-01-10 12:00:00,\n",
       "             ...\n",
       "             1950-12-22 12:00:00, 1950-12-23 12:00:00, 1950-12-24 12:00:00,\n",
       "             1950-12-25 12:00:00, 1950-12-26 12:00:00, 1950-12-27 12:00:00,\n",
       "             1950-12-28 12:00:00, 1950-12-29 12:00:00, 1950-12-30 12:00:00,\n",
       "             1950-12-31 12:00:00],\n",
       "            dtype=&#x27;object&#x27;, length=365, calendar=&#x27;noleap&#x27;, freq=&#x27;D&#x27;))</pre></div></li><li class='xr-var-item'><div class='xr-index-name'><div>lat</div></div><div class='xr-index-preview'>PandasIndex</div><div></div><input id='index-e46e0c7f-a684-4d72-94f1-bf93692f2d9e' class='xr-index-data-in' type='checkbox'/><label for='index-e46e0c7f-a684-4d72-94f1-bf93692f2d9e' title='Show/Hide index repr'><svg class='icon xr-icon-database'><use xlink:href='#icon-database'></use></svg></label><div class='xr-index-data'><pre>PandasIndex(Float64Index([-59.875, -59.625, -59.375, -59.125, -58.875, -58.625, -58.375,\n",
       "              -58.125, -57.875, -57.625,\n",
       "              ...\n",
       "               87.625,  87.875,  88.125,  88.375,  88.625,  88.875,  89.125,\n",
       "               89.375,  89.625,  89.875],\n",
       "             dtype=&#x27;float64&#x27;, name=&#x27;lat&#x27;, length=600))</pre></div></li><li class='xr-var-item'><div class='xr-index-name'><div>lon</div></div><div class='xr-index-preview'>PandasIndex</div><div></div><input id='index-092b5b71-c58f-49ad-8bb7-dc6334d0898b' class='xr-index-data-in' type='checkbox'/><label for='index-092b5b71-c58f-49ad-8bb7-dc6334d0898b' title='Show/Hide index repr'><svg class='icon xr-icon-database'><use xlink:href='#icon-database'></use></svg></label><div class='xr-index-data'><pre>PandasIndex(Float64Index([  0.125,   0.375,   0.625,   0.875,   1.125,   1.375,   1.625,\n",
       "                1.875,   2.125,   2.375,\n",
       "              ...\n",
       "              357.625, 357.875, 358.125, 358.375, 358.625, 358.875, 359.125,\n",
       "              359.375, 359.625, 359.875],\n",
       "             dtype=&#x27;float64&#x27;, name=&#x27;lon&#x27;, length=1440))</pre></div></li></ul></div></li><li class='xr-section-item'><input id='section-d2b18b10-85e5-4cd5-8871-930f5a966d05' class='xr-section-summary-in' type='checkbox'  ><label for='section-d2b18b10-85e5-4cd5-8871-930f5a966d05' class='xr-section-summary' >Attributes: <span>(23)</span></label><div class='xr-section-inline-details'></div><div class='xr-section-details'><dl class='xr-attrs'><dt><span>downscalingModel :</span></dt><dd>BCSD</dd><dt><span>activity :</span></dt><dd>NEX-GDDP-CMIP6</dd><dt><span>contact :</span></dt><dd>Dr. Rama Nemani: rama.nemani@nasa.gov, Dr. Bridget Thrasher: bridget@climateanalyticsgroup.org</dd><dt><span>Conventions :</span></dt><dd>CF-1.7</dd><dt><span>creation_date :</span></dt><dd>2021-10-04T18:41:40.796912+00:00</dd><dt><span>frequency :</span></dt><dd>day</dd><dt><span>institution :</span></dt><dd>NASA Earth Exchange, NASA Ames Research Center, Moffett Field, CA 94035</dd><dt><span>variant_label :</span></dt><dd>r1i1p1f2</dd><dt><span>product :</span></dt><dd>output</dd><dt><span>realm :</span></dt><dd>atmos</dd><dt><span>source :</span></dt><dd>BCSD</dd><dt><span>scenario :</span></dt><dd>historical</dd><dt><span>references :</span></dt><dd>BCSD method: Thrasher et al., 2012, Hydrol. Earth Syst. Sci.,16, 3309-3314. Ref period obs: latest version of the Princeton Global Meteorological Forcings (http://hydrology.princeton.edu/data.php), based on Sheffield et al., 2006, J. Climate, 19 (13), 3088-3111.</dd><dt><span>version :</span></dt><dd>1.0</dd><dt><span>tracking_id :</span></dt><dd>25d6baa3-0404-4eba-a3f1-afddbf69d4cc</dd><dt><span>title :</span></dt><dd>GISS-E2-1-G, r1i1p1f2, historical, global downscaled CMIP6 climate projection data</dd><dt><span>resolution_id :</span></dt><dd>0.25 degree</dd><dt><span>history :</span></dt><dd>2021-10-04T18:41:40.796912+00:00: install global attributes</dd><dt><span>disclaimer :</span></dt><dd>This data is considered provisional and subject to change. This data is provided as is without any warranty of any kind, either express or implied, arising by law or otherwise, including but not limited to warranties of completeness, non-infringement, accuracy, merchantability, or fitness for a particular purpose. The user assumes all risk associated with the use of, or inability to use, this data.</dd><dt><span>external_variables :</span></dt><dd>areacella</dd><dt><span>cmip6_source_id :</span></dt><dd>GISS-E2-1-G</dd><dt><span>cmip6_institution_id :</span></dt><dd>NASA-GISS</dd><dt><span>cmip6_license :</span></dt><dd>CC-BY-SA 4.0</dd></dl></div></li></ul></div></div>"
      ],
      "text/plain": [
       "<xarray.Dataset>\n",
       "Dimensions:  (time: 365, lat: 600, lon: 1440)\n",
       "Coordinates:\n",
       "  * time     (time) object 1950-01-01 12:00:00 ... 1950-12-31 12:00:00\n",
       "  * lat      (lat) float64 -59.88 -59.62 -59.38 -59.12 ... 89.38 89.62 89.88\n",
       "  * lon      (lon) float64 0.125 0.375 0.625 0.875 ... 359.1 359.4 359.6 359.9\n",
       "Data variables:\n",
       "    tas      (time, lat, lon) float32 ...\n",
       "Attributes: (12/23)\n",
       "    downscalingModel:      BCSD\n",
       "    activity:              NEX-GDDP-CMIP6\n",
       "    contact:               Dr. Rama Nemani: rama.nemani@nasa.gov, Dr. Bridget...\n",
       "    Conventions:           CF-1.7\n",
       "    creation_date:         2021-10-04T18:41:40.796912+00:00\n",
       "    frequency:             day\n",
       "    ...                    ...\n",
       "    history:               2021-10-04T18:41:40.796912+00:00: install global a...\n",
       "    disclaimer:            This data is considered provisional and subject to...\n",
       "    external_variables:    areacella\n",
       "    cmip6_source_id:       GISS-E2-1-G\n",
       "    cmip6_institution_id:  NASA-GISS\n",
       "    cmip6_license:         CC-BY-SA 4.0"
      ]
     },
     "execution_count": 7,
     "metadata": {},
     "output_type": "execute_result"
    }
   ],
   "source": [
    "fs_s3 = s3fs.S3FileSystem(anon=True)\n",
    "filepath = f's3://{files_paths[0]}'\n",
    "f = fs_s3.open(filepath, mode='rb')\n",
    "ds = xr.open_dataset(f)\n",
    "ds"
   ]
  },
  {
   "cell_type": "markdown",
   "id": "787604a8-6524-49fa-84f4-43af1b1396b0",
   "metadata": {},
   "source": [
    "## Note: tas is chunked by time, but the time coordinate itself is not."
   ]
  },
  {
   "cell_type": "code",
   "execution_count": 8,
   "id": "7cd75b9b-6238-4ce9-a771-8e3c60344fc8",
   "metadata": {
    "tags": []
   },
   "outputs": [
    {
     "name": "stdout",
     "output_type": "stream",
     "text": [
      "(1, 600, 1440)\n",
      "(365,)\n"
     ]
    }
   ],
   "source": [
    "with fs_read.open(filepath, 'rb') as s3_file:\n",
    "    with h5py.File(s3_file, 'r') as hdf5_file:\n",
    "        print(hdf5_file['tas'].chunks)\n",
    "        print(hdf5_file['time'].chunks)        "
   ]
  },
  {
   "cell_type": "markdown",
   "id": "ea96dbcd-6c62-43fd-8940-fee05af5c1e2",
   "metadata": {},
   "source": [
    "# 3. Set the destination"
   ]
  },
  {
   "cell_type": "code",
   "execution_count": 9,
   "id": "6246d0e3-5a89-46c4-a313-b7bbd91df395",
   "metadata": {
    "tags": []
   },
   "outputs": [],
   "source": [
    "def format_function(time):\n",
    "    pattern = r\"\\b\\d{4}\\b\"\n",
    "    return re.sub(pattern, str(time), filepath)\n",
    "\n",
    "years = list(range(1950, 1952))\n",
    "time_dim = ConcatDim(\"time\", keys=years)\n",
    "\n",
    "pattern = FilePattern(format_function, time_dim, file_type=\"netcdf4\")\n",
    "pattern = FilePattern.prune(pattern, nkeep=2)"
   ]
  },
  {
   "cell_type": "code",
   "execution_count": 10,
   "id": "224525da-6654-4720-98f9-61227287154f",
   "metadata": {
    "tags": []
   },
   "outputs": [
    {
     "data": {
      "text/plain": [
       "(ConcatDim(name='time', nitems_per_file=None),)"
      ]
     },
     "execution_count": 10,
     "metadata": {},
     "output_type": "execute_result"
    }
   ],
   "source": [
    "pattern.combine_dims"
   ]
  },
  {
   "cell_type": "code",
   "execution_count": 11,
   "id": "25d9a095",
   "metadata": {
    "tags": []
   },
   "outputs": [
    {
     "data": {
      "text/plain": [
       "'/tmp/tmp63u7fbmt/test-cmip6.zarr'"
      ]
     },
     "execution_count": 11,
     "metadata": {},
     "output_type": "execute_result"
    }
   ],
   "source": [
    "td = TemporaryDirectory()\n",
    "target_root = td.name\n",
    "store_name = \"test-cmip6.zarr\"\n",
    "target_path = os.path.join(target_root, store_name)\n",
    "target_path"
   ]
  },
  {
   "cell_type": "markdown",
   "id": "feb304c2-2e59-4e50-a2b7-e4b39c6078aa",
   "metadata": {},
   "source": [
    "# 4. Set different target chunks"
   ]
  },
  {
   "cell_type": "code",
   "execution_count": 12,
   "id": "22398f24-e034-41fd-baed-7630af3bc1d3",
   "metadata": {
    "tags": []
   },
   "outputs": [
    {
     "data": {
      "text/plain": [
       "{'lat': 600, 'lon': 1440, 'time': 1}"
      ]
     },
     "execution_count": 12,
     "metadata": {},
     "output_type": "execute_result"
    }
   ],
   "source": [
    "global_target_chunks = { 'lat': ds.lat.shape[0], 'lon': ds.lon.shape[0], 'time': 1 }\n",
    "global_target_chunks"
   ]
  },
  {
   "cell_type": "markdown",
   "id": "94a90be0-d847-4d3d-9489-e0fd5054bea1",
   "metadata": {
    "tags": []
   },
   "source": [
    "# 5. Run pipeline"
   ]
  },
  {
   "cell_type": "code",
   "execution_count": 13,
   "id": "cc75fffe-e28c-4366-96e4-2bb63ab667be",
   "metadata": {
    "tags": []
   },
   "outputs": [
    {
     "data": {
      "application/javascript": [
       "\n",
       "        if (typeof window.interactive_beam_jquery == 'undefined') {\n",
       "          var jqueryScript = document.createElement('script');\n",
       "          jqueryScript.src = 'https://code.jquery.com/jquery-3.4.1.slim.min.js';\n",
       "          jqueryScript.type = 'text/javascript';\n",
       "          jqueryScript.onload = function() {\n",
       "            var datatableScript = document.createElement('script');\n",
       "            datatableScript.src = 'https://cdn.datatables.net/1.10.20/js/jquery.dataTables.min.js';\n",
       "            datatableScript.type = 'text/javascript';\n",
       "            datatableScript.onload = function() {\n",
       "              window.interactive_beam_jquery = jQuery.noConflict(true);\n",
       "              window.interactive_beam_jquery(document).ready(function($){\n",
       "                \n",
       "              });\n",
       "            }\n",
       "            document.head.appendChild(datatableScript);\n",
       "          };\n",
       "          document.head.appendChild(jqueryScript);\n",
       "        } else {\n",
       "          window.interactive_beam_jquery(document).ready(function($){\n",
       "            \n",
       "          });\n",
       "        }"
      ]
     },
     "metadata": {},
     "output_type": "display_data"
    }
   ],
   "source": [
    "transforms = (\n",
    "    beam.Create(pattern.items())\n",
    "    | OpenURLWithFSSpec(open_kwargs={'anon': True})\n",
    "    | OpenWithXarray(file_type=pattern.file_type)\n",
    "    | StoreToZarr(\n",
    "        store_name=store_name,\n",
    "        target_root=target_root,\n",
    "        combine_dims=pattern.combine_dim_keys,\n",
    "        target_chunks=global_target_chunks,\n",
    "    )\n",
    ")\n",
    "with beam.Pipeline() as p:\n",
    "    p | transforms"
   ]
  },
  {
   "cell_type": "markdown",
   "id": "90ccef86-b23b-4881-8093-565f4d14e0e8",
   "metadata": {},
   "source": [
    "## Coordinates are chunked - why?\n",
    "\n",
    "A similar result will happen if we chunk the variable on lat and lon coordinates (the coordinates themselves will be chunked)."
   ]
  },
  {
   "cell_type": "code",
   "execution_count": 15,
   "id": "7bb63c96-7519-40d0-af7f-6c1de329be37",
   "metadata": {
    "tags": []
   },
   "outputs": [
    {
     "name": "stdout",
     "output_type": "stream",
     "text": [
      "0    14   181  222  264  305  347  389\t43   471  512  554  596  637  679  72\n",
      "1    140  182  223  265  306  348  39\t430  472  513  555  597  638  68   720\n",
      "10   141  183  224  266  307  349  390\t431  473  514  556  598  639  680  721\n",
      "100  142  184  225  267  308  35   391\t432  474  515  557  599  64   681  722\n",
      "101  143  185  226  268  309  350  392\t433  475  516  558  6\t 640  682  723\n",
      "102  144  186  227  269  31   351  393\t434  476  517  559  60\t 641  683  724\n",
      "103  145  187  228  27\t 310  352  394\t435  477  518  56   600  642  684  725\n",
      "104  146  188  229  270  311  353  395\t436  478  519  560  601  643  685  726\n",
      "105  147  189  23   271  312  354  396\t437  479  52   561  602  644  686  727\n",
      "106  148  19   230  272  313  355  397\t438  48   520  562  603  645  687  728\n",
      "107  149  190  231  273  314  356  398\t439  480  521  563  604  646  688  729\n",
      "108  15   191  232  274  315  357  399\t44   481  522  564  605  647  689  73\n",
      "109  150  192  233  275  316  358  4\t440  482  523  565  606  648  69   74\n",
      "11   151  193  234  276  317  359  40\t441  483  524  566  607  649  690  75\n",
      "110  152  194  235  277  318  36   400\t442  484  525  567  608  65   691  76\n",
      "111  153  195  236  278  319  360  401\t443  485  526  568  609  650  692  77\n",
      "112  154  196  237  279  32   361  402\t444  486  527  569  61\t 651  693  78\n",
      "113  155  197  238  28\t 320  362  403\t445  487  528  57   610  652  694  79\n",
      "114  156  198  239  280  321  363  404\t446  488  529  570  611  653  695  8\n",
      "115  157  199  24   281  322  364  405\t447  489  53   571  612  654  696  80\n",
      "116  158  2    240  282  323  365  406\t448  49   530  572  613  655  697  81\n",
      "117  159  20   241  283  324  366  407\t449  490  531  573  614  656  698  82\n",
      "118  16   200  242  284  325  367  408\t45   491  532  574  615  657  699  83\n",
      "119  160  201  243  285  326  368  409\t450  492  533  575  616  658  7    84\n",
      "12   161  202  244  286  327  369  41\t451  493  534  576  617  659  70   85\n",
      "120  162  203  245  287  328  37   410\t452  494  535  577  618  66   700  86\n",
      "121  163  204  246  288  329  370  411\t453  495  536  578  619  660  701  87\n",
      "122  164  205  247  289  33   371  412\t454  496  537  579  62\t 661  702  88\n",
      "123  165  206  248  29\t 330  372  413\t455  497  538  58   620  662  703  89\n",
      "124  166  207  249  290  331  373  414\t456  498  539  580  621  663  704  9\n",
      "125  167  208  25   291  332  374  415\t457  499  54   581  622  664  705  90\n",
      "126  168  209  250  292  333  375  416\t458  5\t  540  582  623  665  706  91\n",
      "127  169  21   251  293  334  376  417\t459  50   541  583  624  666  707  92\n",
      "128  17   210  252  294  335  377  418\t46   500  542  584  625  667  708  93\n",
      "129  170  211  253  295  336  378  419\t460  501  543  585  626  668  709  94\n",
      "13   171  212  254  296  337  379  42\t461  502  544  586  627  669  71   95\n",
      "130  172  213  255  297  338  38   420\t462  503  545  587  628  67   710  96\n",
      "131  173  214  256  298  339  380  421\t463  504  546  588  629  670  711  97\n",
      "132  174  215  257  299  34   381  422\t464  505  547  589  63\t 671  712  98\n",
      "133  175  216  258  3\t 340  382  423\t465  506  548  59   630  672  713  99\n",
      "134  176  217  259  30\t 341  383  424\t466  507  549  590  631  673  714\n",
      "135  177  218  26   300  342  384  425\t467  508  55   591  632  674  715\n",
      "136  178  219  260  301  343  385  426\t468  509  550  592  633  675  716\n",
      "137  179  22   261  302  344  386  427\t469  51   551  593  634  676  717\n",
      "138  18   220  262  303  345  387  428\t47   510  552  594  635  677  718\n",
      "139  180  221  263  304  346  388  429\t470  511  553  595  636  678  719\n"
     ]
    }
   ],
   "source": [
    "!ls {target_path}/time/"
   ]
  }
 ],
 "metadata": {
  "kernelspec": {
   "display_name": "Python 3 (ipykernel)",
   "language": "python",
   "name": "python3"
  },
  "language_info": {
   "codemirror_mode": {
    "name": "ipython",
    "version": 3
   },
   "file_extension": ".py",
   "mimetype": "text/x-python",
   "name": "python",
   "nbconvert_exporter": "python",
   "pygments_lexer": "ipython3",
   "version": "3.10.12"
  }
 },
 "nbformat": 4,
 "nbformat_minor": 5
}
