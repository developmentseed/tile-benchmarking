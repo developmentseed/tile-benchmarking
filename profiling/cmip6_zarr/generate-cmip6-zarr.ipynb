{
 "cells": [
  {
   "cell_type": "markdown",
   "id": "67178829-9f4c-4b5c-aa31-7f4ca7be1498",
   "metadata": {},
   "source": [
    "# Create Zarr Stores with Different Chunk Shapes\n",
    "\n",
    "In this notebook, we create Zarr stores for the CMIP6 TAS daily data available in NetCDF on S3. This method of creating Zarr stores uses [pangeo-forge](https://pangeo-forge.readthedocs.io/) and it's [recipes](https://pangeo-forge.readthedocs.io/en/latest/pangeo_forge_recipes/recipe_user_guide/index.html) pattern.\n",
    "\n",
    "## 1.1 Install and import libraries"
   ]
  },
  {
   "cell_type": "code",
   "execution_count": null,
   "id": "efc401ea-60df-46dd-a5b1-7ac80a4faf5a",
   "metadata": {
    "tags": []
   },
   "outputs": [],
   "source": [
    "%%capture\n",
    "!pip uninstall apache-beam -y\n",
    "!pip install 'apache-beam[interactive, dataframe]==2.48.0' git+https://github.com/carbonplan/cmip6-downscaling.git git+https://github.com/pangeo-forge/pangeo-forge-recipes.git@beam-refactor"
   ]
  },
  {
   "cell_type": "code",
   "execution_count": 6,
   "id": "6376bec4",
   "metadata": {
    "editable": true,
    "slideshow": {
     "slide_type": ""
    },
    "tags": []
   },
   "outputs": [],
   "source": [
    "import apache_beam as beam\n",
    "import boto3\n",
    "from botocore.exceptions import ClientError\n",
    "import fsspec\n",
    "import os\n",
    "from pangeo_forge_recipes.patterns import FilePattern, ConcatDim, MergeDim\n",
    "from pangeo_forge_recipes.transforms import OpenURLWithFSSpec, OpenWithXarray, StoreToZarr\n",
    "from pangeo_forge_recipes.storage import FSSpecTarget\n",
    "import re\n",
    "import rioxarray\n",
    "import s3fs\n",
    "import xarray as xr\n",
    "\n",
    "import sys; sys.path.append('..')\n",
    "import eodc_hub_role"
   ]
  },
  {
   "cell_type": "code",
   "execution_count": null,
   "id": "2af30526-e6cd-4fa4-9067-653f5faae132",
   "metadata": {
    "tags": []
   },
   "outputs": [],
   "source": [
    "credentials = eodc_hub_role.fetch_and_set_credentials()\n",
    "bucket = 'nasa-eodc-data-store'"
   ]
  },
  {
   "cell_type": "markdown",
   "id": "97280646",
   "metadata": {},
   "source": [
    "Note: This is adapted from https://github.com/carbonplan/benchmark-maps/blob/datasets/stores/01b_cmip6_netcdf_to_zarr.ipynb."
   ]
  },
  {
   "cell_type": "markdown",
   "id": "7e980157-a9c9-47d5-ad7d-cc717b6e67b7",
   "metadata": {},
   "source": [
    "## 1.2 Set parameters"
   ]
  },
  {
   "cell_type": "code",
   "execution_count": null,
   "id": "6e2abcd8",
   "metadata": {
    "editable": true,
    "slideshow": {
     "slide_type": ""
    },
    "tags": [
     "parameters"
    ]
   },
   "outputs": [],
   "source": [
    "#parameters\n",
    "temporal_resolution = \"daily\"\n",
    "model = \"GISS-E2-1-G\"\n",
    "variable = \"tas\"\n",
    "anon=True"
   ]
  },
  {
   "cell_type": "code",
   "execution_count": null,
   "id": "4d4b5504-7275-4949-9507-ef8c8efd55aa",
   "metadata": {
    "tags": []
   },
   "outputs": [],
   "source": [
    "# Initiate fsspec filesystems for reading and writing\n",
    "s3_path = f\"s3://nex-gddp-cmip6/NEX-GDDP-CMIP6/{model}/historical/r1i1p1*/{variable}/*\"\n",
    "fs_read = fsspec.filesystem(\"s3\", anon=anon, skip_instance_cache=False)\n",
    "fs_write = fsspec.filesystem(\"\")"
   ]
  },
  {
   "cell_type": "code",
   "execution_count": null,
   "id": "13e67843-b173-4d68-b045-9da28dd68eb6",
   "metadata": {
    "tags": []
   },
   "outputs": [],
   "source": [
    "# Retrieve list of available months\n",
    "files_paths = fs_read.glob(s3_path)\n",
    "print(f\"{len(files_paths)} discovered from {s3_path}\")"
   ]
  },
  {
   "cell_type": "code",
   "execution_count": null,
   "id": "af19a04e-77e6-4dc3-b023-7af0c19ca45f",
   "metadata": {
    "tags": []
   },
   "outputs": [],
   "source": [
    "files_paths[0]"
   ]
  },
  {
   "cell_type": "markdown",
   "id": "7503d0a0-1f4c-489b-b16e-68f2bc481cf9",
   "metadata": {},
   "source": [
    "## 1.3 Test we can open the files"
   ]
  },
  {
   "cell_type": "code",
   "execution_count": null,
   "id": "af346f35",
   "metadata": {
    "tags": []
   },
   "outputs": [],
   "source": [
    "fs_s3 = s3fs.S3FileSystem(anon=True)\n",
    "filepath = f's3://{files_paths[0]}'\n",
    "f = fs_s3.open(filepath, mode='rb')\n",
    "ds = xr.open_dataset(f)\n",
    "ds"
   ]
  },
  {
   "cell_type": "markdown",
   "id": "ea96dbcd-6c62-43fd-8940-fee05af5c1e2",
   "metadata": {},
   "source": [
    "# 2: Setup the destination"
   ]
  },
  {
   "cell_type": "code",
   "execution_count": null,
   "id": "6246d0e3-5a89-46c4-a313-b7bbd91df395",
   "metadata": {
    "tags": []
   },
   "outputs": [],
   "source": [
    "def format_function(time):\n",
    "    pattern = r\"\\b\\d{4}\\b\"\n",
    "    return re.sub(pattern, str(time), filepath)\n",
    "\n",
    "years = list(range(1950, 1952))\n",
    "time_dim = ConcatDim(\"time\", keys=years)\n",
    "\n",
    "pattern = FilePattern(format_function, time_dim, file_type=\"netcdf4\")\n",
    "pattern = FilePattern.prune(pattern, nkeep=2)"
   ]
  },
  {
   "cell_type": "code",
   "execution_count": null,
   "id": "224525da-6654-4720-98f9-61227287154f",
   "metadata": {
    "tags": []
   },
   "outputs": [],
   "source": [
    "pattern.combine_dims"
   ]
  },
  {
   "cell_type": "code",
   "execution_count": null,
   "id": "25d9a095",
   "metadata": {
    "tags": []
   },
   "outputs": [],
   "source": [
    "fs = s3fs.S3FileSystem(\n",
    "    key=credentials['AccessKeyId'],\n",
    "    secret=credentials['SecretAccessKey'],\n",
    "    token=credentials['SessionToken'], \n",
    "    anon=False\n",
    ")\n",
    "target_root = FSSpecTarget(fs=fs, root_path=bucket)\n",
    "print(f\"Using {pattern.items()}\")"
   ]
  },
  {
   "cell_type": "markdown",
   "id": "feb304c2-2e59-4e50-a2b7-e4b39c6078aa",
   "metadata": {},
   "source": [
    "# 3: Set different target chunks"
   ]
  },
  {
   "cell_type": "markdown",
   "id": "12838601-25f6-4c5f-8a82-57d0583173c4",
   "metadata": {},
   "source": [
    "For different sets of chunks, generate a zarr store."
   ]
  },
  {
   "cell_type": "code",
   "execution_count": null,
   "id": "35f7c859-94b8-4f41-bf55-af3c72139254",
   "metadata": {
    "tags": []
   },
   "outputs": [],
   "source": [
    "chunk_sets = []\n",
    "# Optimized for analysis\n",
    "temporal_target_chunks = { 'lat': ds.lat.shape[0], 'lon': ds.lon.shape[0], 'time': 29 }\n",
    "chunk_sets.append(temporal_target_chunks)"
   ]
  },
  {
   "cell_type": "code",
   "execution_count": null,
   "id": "22398f24-e034-41fd-baed-7630af3bc1d3",
   "metadata": {
    "tags": []
   },
   "outputs": [],
   "source": [
    "# Optimized for visualization at a single time step\n",
    "global_target_chunks = { 'lat': ds.lat.shape[0], 'lon': ds.lon.shape[0], 'time': 1 }\n",
    "global_target_chunks\n",
    "chunk_sets.append(global_target_chunks)"
   ]
  },
  {
   "cell_type": "code",
   "execution_count": null,
   "id": "79aa8be1-2b1c-446d-83c4-dca53947011c",
   "metadata": {
    "tags": []
   },
   "outputs": [],
   "source": [
    "# Optimized for time series\n",
    "#spatial_target_chunks = calc_auspicious_chunks_dict(ds[variable], chunk_dims=('lat','lon',))\n",
    "spatial_target_chunks = {'time': 365, 'lat': 262, 'lon': 262}\n",
    "chunk_sets.append(spatial_target_chunks)"
   ]
  },
  {
   "cell_type": "code",
   "execution_count": null,
   "id": "d3fd52a2-8868-4ac1-bb59-5ddf600dcc71",
   "metadata": {
    "tags": []
   },
   "outputs": [],
   "source": [
    "chunk_sets"
   ]
  },
  {
   "cell_type": "code",
   "execution_count": null,
   "id": "cc75fffe-e28c-4366-96e4-2bb63ab667be",
   "metadata": {
    "tags": []
   },
   "outputs": [],
   "source": [
    "s3 = boto3.client(\n",
    "    's3',\n",
    "    aws_access_key_id=credentials['AccessKeyId'],\n",
    "    aws_secret_access_key=credentials['SecretAccessKey'],\n",
    "    aws_session_token=credentials['SessionToken']    \n",
    ")\n",
    "\n",
    "for chunk_set in chunk_sets:\n",
    "    dir_path = str((\"_\").join(map(str, chunk_set.values()))) + \"_2\"\n",
    "    store_name = f\"{dir_path}/CMIP6_{temporal_resolution}_{model}_{variable}.zarr\"\n",
    "    try:\n",
    "        key = f\"{store_name}/.zmetadata\"\n",
    "        response = s3.head_object(Bucket=bucket, Key=key)\n",
    "        print(f\"File '{store_name}' exists in bucket '{bucket}'.\")\n",
    "        continue\n",
    "    except ClientError as e:\n",
    "        if e.response['Error']['Code'] == '404':\n",
    "            print(f\"File '{key}' does not exist in bucket '{bucket}'.\")\n",
    "        else:\n",
    "            print(f\"Error occurred: {e}\")\n",
    "            raise e\n",
    "    print(f\"Writing to {target_root}/{store_name}\")\n",
    "    transforms = (\n",
    "        beam.Create(pattern.items())\n",
    "        | OpenURLWithFSSpec(open_kwargs={'anon': True})\n",
    "        | OpenWithXarray(file_type=pattern.file_type)\n",
    "        | StoreToZarr(\n",
    "            store_name=store_name,\n",
    "            target_root=target_root,\n",
    "            combine_dims=pattern.combine_dim_keys,\n",
    "            target_chunks=chunk_set,\n",
    "        )\n",
    "    )\n",
    "    # Commented out so we don't re-run if we don't intend to\n",
    "    with beam.Pipeline() as p:\n",
    "        p | transforms"
   ]
  },
  {
   "cell_type": "code",
   "execution_count": null,
   "id": "f1846c19-ff4e-421d-ab07-3e163bf4347d",
   "metadata": {
    "tags": []
   },
   "outputs": [],
   "source": [
    "!aws s3 ls s3://nasa-eodc-data-store/600_1440_29_2/CMIP6_daily_GISS-E2-1-G_tas.zarr/time/"
   ]
  },
  {
   "cell_type": "code",
   "execution_count": null,
   "id": "b766b7c6-2b77-4d54-ae63-97d6bc103783",
   "metadata": {
    "tags": []
   },
   "outputs": [],
   "source": [
    "dir_path = str((\"_\").join(map(str, chunk_sets[1].values())))\n",
    "store_name = f\"{dir_path}/CMIP6_{temporal_resolution}_{model}_{variable}.zarr\""
   ]
  },
  {
   "cell_type": "code",
   "execution_count": null,
   "id": "754cca3b-1943-48bc-824d-7adfd59a5fd0",
   "metadata": {
    "tags": []
   },
   "outputs": [],
   "source": [
    "store = s3fs.S3Map(root=f\"{bucket}/{store_name}\", s3=fs, check=True)"
   ]
  },
  {
   "cell_type": "code",
   "execution_count": null,
   "id": "92fd66f2-cf21-406b-bf7d-a66ec6aca774",
   "metadata": {
    "tags": []
   },
   "outputs": [],
   "source": [
    "xr.open_zarr(store, consolidated=True)"
   ]
  },
  {
   "cell_type": "code",
   "execution_count": null,
   "id": "7036747c-7122-49c5-acb8-55b814fbd8c2",
   "metadata": {
    "tags": []
   },
   "outputs": [],
   "source": [
    "store_name"
   ]
  },
  {
   "cell_type": "markdown",
   "id": "8c9fbfbe-33e8-41ed-bad0-829d1b7066f7",
   "metadata": {
    "tags": []
   },
   "source": [
    "# 4: Check it worked"
   ]
  },
  {
   "cell_type": "code",
   "execution_count": null,
   "id": "e05e7871-e328-4a4f-be9c-4674df6812d6",
   "metadata": {
    "tags": []
   },
   "outputs": [],
   "source": [
    "for chunk_set in chunk_sets:\n",
    "    dir_path = str((\"_\").join(map(str, chunk_set.values())))\n",
    "    store_name = f\"{dir_path}/CMIP6_{temporal_resolution}_{model}_{variable}.zarr\"\n",
    "    key = f\"{store_name}/.zmetadata\"\n",
    "    response = s3.head_object(Bucket=bucket, Key=key)\n",
    "    object_size = response['ContentLength']\n",
    "    object_size_MB = object_size / (1024)    \n",
    "    print(f\"Size of metadata {object_size_MB} KB\")\n",
    "    \n",
    "    store = s3fs.S3Map(root=f\"{bucket}/{store_name}\", s3=fs, check=True)\n",
    "    ds = xr.open_zarr(store, consolidated=True)\n",
    "    print(ds)"
   ]
  }
 ],
 "metadata": {
  "kernelspec": {
   "display_name": "Python 3 (ipykernel)",
   "language": "python",
   "name": "python3"
  },
  "language_info": {
   "codemirror_mode": {
    "name": "ipython",
    "version": 3
   },
   "file_extension": ".py",
   "mimetype": "text/x-python",
   "name": "python",
   "nbconvert_exporter": "python",
   "pygments_lexer": "ipython3",
   "version": "3.10.12"
  }
 },
 "nbformat": 4,
 "nbformat_minor": 5
}
