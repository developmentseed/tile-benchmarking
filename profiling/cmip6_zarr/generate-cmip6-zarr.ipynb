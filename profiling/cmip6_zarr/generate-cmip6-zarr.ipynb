{
 "cells": [
  {
   "cell_type": "code",
   "execution_count": null,
   "id": "efc401ea-60df-46dd-a5b1-7ac80a4faf5a",
   "metadata": {
    "tags": []
   },
   "outputs": [],
   "source": [
    "%%capture\n",
    "!pip uninstall apache-beam -y\n",
    "!pip install 'apache-beam[interactive, dataframe]==2.48.0' git+https://github.com/carbonplan/cmip6-downscaling.git git+https://github.com/pangeo-forge/pangeo-forge-recipes.git@beam-refactor"
   ]
  },
  {
   "cell_type": "code",
   "execution_count": 6,
   "id": "6376bec4",
   "metadata": {
    "editable": true,
    "slideshow": {
     "slide_type": ""
    },
    "tags": []
   },
   "outputs": [],
   "source": [
    "import apache_beam as beam\n",
    "from cmip6_downscaling.methods.common.utils import calc_auspicious_chunks_dict\n",
    "import fsspec\n",
    "import os\n",
    "from pangeo_forge_recipes.patterns import FilePattern, ConcatDim, MergeDim\n",
    "from pangeo_forge_recipes.transforms import OpenURLWithFSSpec, OpenWithXarray, StoreToZarr\n",
    "from pangeo_forge_recipes.storage import FSSpecTarget\n",
    "import re\n",
    "import s3fs\n",
    "import xarray as xr\n",
    "import eodc_hub_role"
   ]
  },
  {
   "cell_type": "markdown",
   "id": "97280646",
   "metadata": {},
   "source": [
    "Note: This is adapted from https://github.com/carbonplan/benchmark-maps/blob/datasets/stores/01b_cmip6_netcdf_to_zarr.ipynb."
   ]
  },
  {
   "cell_type": "code",
   "execution_count": 7,
   "id": "6e2abcd8",
   "metadata": {
    "editable": true,
    "slideshow": {
     "slide_type": ""
    },
    "tags": [
     "parameters"
    ]
   },
   "outputs": [],
   "source": [
    "#parameters\n",
    "temporal_resolution = \"daily\"\n",
    "model = \"GISS-E2-1-G\"\n",
    "variable = \"tas\"\n",
    "anon=True"
   ]
  },
  {
   "cell_type": "code",
   "execution_count": 8,
   "id": "4d4b5504-7275-4949-9507-ef8c8efd55aa",
   "metadata": {
    "tags": []
   },
   "outputs": [],
   "source": [
    "# Initiate fsspec filesystems for reading and writing\n",
    "s3_path = f\"s3://nex-gddp-cmip6/NEX-GDDP-CMIP6/{model}/historical/r1i1p1*/{variable}/*\"\n",
    "fs_read = fsspec.filesystem(\"s3\", anon=anon, skip_instance_cache=False)\n",
    "fs_write = fsspec.filesystem(\"\")"
   ]
  },
  {
   "cell_type": "code",
   "execution_count": 9,
   "id": "13e67843-b173-4d68-b045-9da28dd68eb6",
   "metadata": {
    "tags": []
   },
   "outputs": [
    {
     "name": "stdout",
     "output_type": "stream",
     "text": [
      "65 discovered from s3://nex-gddp-cmip6/NEX-GDDP-CMIP6/GISS-E2-1-G/historical/r1i1p1*/tas/*\n"
     ]
    }
   ],
   "source": [
    "# Retrieve list of available months\n",
    "files_paths = fs_read.glob(s3_path)\n",
    "print(f\"{len(files_paths)} discovered from {s3_path}\")"
   ]
  },
  {
   "cell_type": "code",
   "execution_count": 10,
   "id": "af19a04e-77e6-4dc3-b023-7af0c19ca45f",
   "metadata": {
    "tags": []
   },
   "outputs": [
    {
     "data": {
      "text/plain": [
       "'nex-gddp-cmip6/NEX-GDDP-CMIP6/GISS-E2-1-G/historical/r1i1p1f2/tas/tas_day_GISS-E2-1-G_historical_r1i1p1f2_gn_1950.nc'"
      ]
     },
     "execution_count": 10,
     "metadata": {},
     "output_type": "execute_result"
    }
   ],
   "source": [
    "files_paths[0]"
   ]
  },
  {
   "cell_type": "code",
   "execution_count": 11,
   "id": "af346f35",
   "metadata": {
    "tags": []
   },
   "outputs": [],
   "source": [
    "fs_s3 = s3fs.S3FileSystem(anon=True)\n",
    "filepath = f's3://{files_paths[0]}'\n",
    "f = fs_s3.open(filepath, mode='rb')\n",
    "ds = xr.open_dataset(f)"
   ]
  },
  {
   "cell_type": "code",
   "execution_count": null,
   "id": "839399e9",
   "metadata": {
    "tags": []
   },
   "outputs": [],
   "source": [
    "#print(ds)"
   ]
  },
  {
   "cell_type": "code",
   "execution_count": null,
   "id": "35f7c859-94b8-4f41-bf55-af3c72139254",
   "metadata": {
    "tags": []
   },
   "outputs": [],
   "source": [
    "# target_chunks = calc_auspicious_chunks_dict(ds[variable], chunk_dims=('time',))\n",
    "# target_chunks"
   ]
  },
  {
   "cell_type": "code",
   "execution_count": 12,
   "id": "22398f24-e034-41fd-baed-7630af3bc1d3",
   "metadata": {
    "tags": []
   },
   "outputs": [],
   "source": [
    "global_target_chunks = { 'lat': ds.lat.shape[0], 'lon': ds.lon.shape[0], 'time': 1 }"
   ]
  },
  {
   "cell_type": "code",
   "execution_count": 13,
   "id": "1ae6fe35-6152-48bc-8a3b-d94f01b5c330",
   "metadata": {
    "tags": []
   },
   "outputs": [
    {
     "data": {
      "text/plain": [
       "{'lat': 600, 'lon': 1440, 'time': 1}"
      ]
     },
     "execution_count": 13,
     "metadata": {},
     "output_type": "execute_result"
    }
   ],
   "source": [
    "global_target_chunks"
   ]
  },
  {
   "cell_type": "code",
   "execution_count": 14,
   "id": "1c8fed60-8233-478f-b32f-dcc9d66d7189",
   "metadata": {
    "tags": []
   },
   "outputs": [],
   "source": [
    "dir_path = str((\"_\").join(map(str, global_target_chunks.values())))"
   ]
  },
  {
   "cell_type": "code",
   "execution_count": 15,
   "id": "6246d0e3-5a89-46c4-a313-b7bbd91df395",
   "metadata": {
    "tags": []
   },
   "outputs": [],
   "source": [
    "def format_function(time):\n",
    "    pattern = r\"\\b\\d{4}\\b\"\n",
    "    return re.sub(pattern, str(time), filepath)\n",
    "\n",
    "years = list(range(1950, 1952))\n",
    "time_dim = ConcatDim(\"time\", keys=years, nitems_per_file=365)\n",
    "\n",
    "pattern = FilePattern(format_function, time_dim, file_type=\"netcdf4\")\n",
    "pattern = FilePattern.prune(pattern, nkeep=2)"
   ]
  },
  {
   "cell_type": "code",
   "execution_count": 16,
   "id": "25d9a095",
   "metadata": {
    "tags": []
   },
   "outputs": [
    {
     "name": "stdout",
     "output_type": "stream",
     "text": [
      "Writing to FSSpecTarget(fs=<s3fs.core.S3FileSystem object at 0x7fc21f5f5d20>, root_path='nasa-eodc-data-store')/600_1440_1/CMIP6_daily_GISS-E2-1-G_tas.zarr\n",
      "Using <generator object FilePattern.items at 0x7fc235552880>\n"
     ]
    }
   ],
   "source": [
    "credentials = eodc_hub_role.fetch_and_set_credentials()\n",
    "bucket = 'nasa-eodc-data-store'\n",
    "store_name = f\"{dir_path}/CMIP6_{temporal_resolution}_{model}_{variable}.zarr\"\n",
    "\n",
    "fs = s3fs.S3FileSystem(\n",
    "    key=credentials['AccessKeyId'],\n",
    "    secret=credentials['SecretAccessKey'],\n",
    "    token=credentials['SessionToken'], \n",
    "    anon=False\n",
    ")\n",
    "target_root = FSSpecTarget(fs=fs, root_path=bucket)\n",
    "print(f\"Writing to {target_root}/{store_name}\")\n",
    "print(f\"Using {pattern.items()}\")"
   ]
  },
  {
   "cell_type": "code",
   "execution_count": null,
   "id": "d8570ee3",
   "metadata": {
    "tags": []
   },
   "outputs": [],
   "source": [
    "transforms = (\n",
    "    beam.Create(pattern.items())\n",
    "    | OpenURLWithFSSpec(open_kwargs={'anon': True})\n",
    "    | OpenWithXarray(file_type=pattern.file_type)\n",
    "    | StoreToZarr(\n",
    "        store_name=store_name,\n",
    "        target_root=target_root,\n",
    "        combine_dims=pattern.combine_dim_keys,\n",
    "        target_chunks=global_target_chunks,\n",
    "    )\n",
    ")"
   ]
  },
  {
   "cell_type": "code",
   "execution_count": null,
   "id": "487a3ecf",
   "metadata": {
    "tags": []
   },
   "outputs": [],
   "source": [
    "with beam.Pipeline() as p:\n",
    "    p | transforms"
   ]
  },
  {
   "cell_type": "code",
   "execution_count": 20,
   "id": "e05e7871-e328-4a4f-be9c-4674df6812d6",
   "metadata": {
    "tags": []
   },
   "outputs": [],
   "source": [
    "store = s3fs.S3Map(root=f\"{bucket}/{store_name}\", s3=fs, check=True)\n",
    "ds = xr.open_zarr(store, consolidated=True)"
   ]
  },
  {
   "cell_type": "code",
   "execution_count": 22,
   "id": "8c9db0ca-14f8-4ace-aaa3-88ca06ba4973",
   "metadata": {
    "tags": []
   },
   "outputs": [
    {
     "data": {
      "text/plain": [
       "Frozen({'time': (1, 1, 1, 1, 1, 1, 1, 1, 1, 1, 1, 1, 1, 1, 1, 1, 1, 1, 1, 1, 1, 1, 1, 1, 1, 1, 1, 1, 1, 1, 1, 1, 1, 1, 1, 1, 1, 1, 1, 1, 1, 1, 1, 1, 1, 1, 1, 1, 1, 1, 1, 1, 1, 1, 1, 1, 1, 1, 1, 1, 1, 1, 1, 1, 1, 1, 1, 1, 1, 1, 1, 1, 1, 1, 1, 1, 1, 1, 1, 1, 1, 1, 1, 1, 1, 1, 1, 1, 1, 1, 1, 1, 1, 1, 1, 1, 1, 1, 1, 1, 1, 1, 1, 1, 1, 1, 1, 1, 1, 1, 1, 1, 1, 1, 1, 1, 1, 1, 1, 1, 1, 1, 1, 1, 1, 1, 1, 1, 1, 1, 1, 1, 1, 1, 1, 1, 1, 1, 1, 1, 1, 1, 1, 1, 1, 1, 1, 1, 1, 1, 1, 1, 1, 1, 1, 1, 1, 1, 1, 1, 1, 1, 1, 1, 1, 1, 1, 1, 1, 1, 1, 1, 1, 1, 1, 1, 1, 1, 1, 1, 1, 1, 1, 1, 1, 1, 1, 1, 1, 1, 1, 1, 1, 1, 1, 1, 1, 1, 1, 1, 1, 1, 1, 1, 1, 1, 1, 1, 1, 1, 1, 1, 1, 1, 1, 1, 1, 1, 1, 1, 1, 1, 1, 1, 1, 1, 1, 1, 1, 1, 1, 1, 1, 1, 1, 1, 1, 1, 1, 1, 1, 1, 1, 1, 1, 1, 1, 1, 1, 1, 1, 1, 1, 1, 1, 1, 1, 1, 1, 1, 1, 1, 1, 1, 1, 1, 1, 1, 1, 1, 1, 1, 1, 1, 1, 1, 1, 1, 1, 1, 1, 1, 1, 1, 1, 1, 1, 1, 1, 1, 1, 1, 1, 1, 1, 1, 1, 1, 1, 1, 1, 1, 1, 1, 1, 1, 1, 1, 1, 1, 1, 1, 1, 1, 1, 1, 1, 1, 1, 1, 1, 1, 1, 1, 1, 1, 1, 1, 1, 1, 1, 1, 1, 1, 1, 1, 1, 1, 1, 1, 1, 1, 1, 1, 1, 1, 1, 1, 1, 1, 1, 1, 1, 1, 1, 1, 1, 1, 1, 1, 1, 1, 1, 1, 1, 1, 1, 1, 1, 1, 1, 1, 1, 1, 1, 1, 1, 1, 1, 1, 1, 1, 1, 1, 1, 1, 1, 1, 1, 1, 1, 1, 1, 1, 1, 1, 1, 1, 1, 1, 1, 1, 1, 1, 1, 1, 1, 1, 1, 1, 1, 1, 1, 1, 1, 1, 1, 1, 1, 1, 1, 1, 1, 1, 1, 1, 1, 1, 1, 1, 1, 1, 1, 1, 1, 1, 1, 1, 1, 1, 1, 1, 1, 1, 1, 1, 1, 1, 1, 1, 1, 1, 1, 1, 1, 1, 1, 1, 1, 1, 1, 1, 1, 1, 1, 1, 1, 1, 1, 1, 1, 1, 1, 1, 1, 1, 1, 1, 1, 1, 1, 1, 1, 1, 1, 1, 1, 1, 1, 1, 1, 1, 1, 1, 1, 1, 1, 1, 1, 1, 1, 1, 1, 1, 1, 1, 1, 1, 1, 1, 1, 1, 1, 1, 1, 1, 1, 1, 1, 1, 1, 1, 1, 1, 1, 1, 1, 1, 1, 1, 1, 1, 1, 1, 1, 1, 1, 1, 1, 1, 1, 1, 1, 1, 1, 1, 1, 1, 1, 1, 1, 1, 1, 1, 1, 1, 1, 1, 1, 1, 1, 1, 1, 1, 1, 1, 1, 1, 1, 1, 1, 1, 1, 1, 1, 1, 1, 1, 1, 1, 1, 1, 1, 1, 1, 1, 1, 1, 1, 1, 1, 1, 1, 1, 1, 1, 1, 1, 1, 1, 1, 1, 1, 1, 1, 1, 1, 1, 1, 1, 1, 1, 1, 1, 1, 1, 1, 1, 1, 1, 1, 1, 1, 1, 1, 1, 1, 1, 1, 1, 1, 1, 1, 1, 1, 1, 1, 1, 1, 1, 1, 1, 1, 1, 1, 1, 1, 1, 1, 1, 1, 1, 1, 1, 1, 1, 1, 1, 1, 1, 1, 1, 1, 1, 1, 1, 1, 1, 1, 1, 1, 1, 1, 1, 1, 1, 1, 1, 1, 1, 1, 1, 1, 1, 1, 1, 1, 1, 1, 1, 1, 1, 1, 1, 1, 1, 1, 1, 1, 1, 1, 1, 1, 1, 1, 1, 1, 1, 1, 1, 1, 1, 1, 1, 1, 1, 1, 1, 1, 1, 1, 1, 1, 1, 1, 1, 1, 1, 1, 1), 'lat': (600,), 'lon': (1440,)})"
      ]
     },
     "execution_count": 22,
     "metadata": {},
     "output_type": "execute_result"
    }
   ],
   "source": [
    "ds.chunks"
   ]
  }
 ],
 "metadata": {
  "kernelspec": {
   "display_name": "Python 3 (ipykernel)",
   "language": "python",
   "name": "python3"
  },
  "language_info": {
   "codemirror_mode": {
    "name": "ipython",
    "version": 3
   },
   "file_extension": ".py",
   "mimetype": "text/x-python",
   "name": "python",
   "nbconvert_exporter": "python",
   "pygments_lexer": "ipython3",
   "version": "3.10.12"
  }
 },
 "nbformat": 4,
 "nbformat_minor": 5
}
