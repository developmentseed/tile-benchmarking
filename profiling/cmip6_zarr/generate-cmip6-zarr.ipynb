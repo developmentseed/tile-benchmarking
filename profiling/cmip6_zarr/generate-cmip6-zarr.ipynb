{
 "cells": [
  {
   "cell_type": "markdown",
   "id": "67178829-9f4c-4b5c-aa31-7f4ca7be1498",
   "metadata": {},
   "source": [
    "# Create Zarr Stores with Different Chunk Shapes\n",
    "\n",
    "In this notebook, we create Zarr stores for the CMIP6 TAS daily data available in NetCDF on S3. This method of creating Zarr stores uses [pangeo-forge](https://pangeo-forge.readthedocs.io/) and it's [recipes](https://pangeo-forge.readthedocs.io/en/latest/pangeo_forge_recipes/recipe_user_guide/index.html) pattern.\n",
    "\n",
    "## 1.1 Install and import libraries"
   ]
  },
  {
   "cell_type": "code",
   "execution_count": null,
   "id": "efc401ea-60df-46dd-a5b1-7ac80a4faf5a",
   "metadata": {
    "tags": []
   },
   "outputs": [],
   "source": [
    "%%capture\n",
    "!pip uninstall apache-beam -y\n",
    "!pip install 'apache-beam[interactive, dataframe]==2.48.0'\n",
    "!pip install git+https://github.com/carbonplan/cmip6-downscaling.git\n",
    "!pip install git+https://github.com/norlandrhagen/pangeo-forge-recipes.git@coord_chunking\n",
    "!pip install loguru"
   ]
  },
  {
   "cell_type": "code",
   "execution_count": 1,
   "id": "6376bec4",
   "metadata": {
    "editable": true,
    "slideshow": {
     "slide_type": ""
    },
    "tags": []
   },
   "outputs": [],
   "source": [
    "import apache_beam as beam\n",
    "import boto3\n",
    "from botocore.exceptions import ClientError\n",
    "import fsspec\n",
    "import os\n",
    "from pangeo_forge_recipes.patterns import FilePattern, ConcatDim, MergeDim\n",
    "from pangeo_forge_recipes.transforms import OpenURLWithFSSpec, OpenWithXarray, StoreToZarr\n",
    "from pangeo_forge_recipes.storage import FSSpecTarget\n",
    "import re\n",
    "import rioxarray\n",
    "import s3fs\n",
    "import xarray as xr\n",
    "\n",
    "import sys; sys.path.append('..')\n",
    "from profiler.main import Timer\n",
    "import eodc_hub_role"
   ]
  },
  {
   "cell_type": "code",
   "execution_count": 2,
   "id": "2af30526-e6cd-4fa4-9067-653f5faae132",
   "metadata": {
    "tags": []
   },
   "outputs": [],
   "source": [
    "credentials = eodc_hub_role.fetch_and_set_credentials()\n",
    "bucket = 'nasa-eodc-data-store'"
   ]
  },
  {
   "cell_type": "markdown",
   "id": "97280646",
   "metadata": {},
   "source": [
    "Note: This is adapted from https://github.com/carbonplan/benchmark-maps/blob/datasets/stores/01b_cmip6_netcdf_to_zarr.ipynb."
   ]
  },
  {
   "cell_type": "markdown",
   "id": "7e980157-a9c9-47d5-ad7d-cc717b6e67b7",
   "metadata": {},
   "source": [
    "## 1.2 Set parameters"
   ]
  },
  {
   "cell_type": "code",
   "execution_count": 3,
   "id": "6e2abcd8",
   "metadata": {
    "editable": true,
    "slideshow": {
     "slide_type": ""
    },
    "tags": [
     "parameters"
    ]
   },
   "outputs": [],
   "source": [
    "#parameters\n",
    "temporal_resolution = \"daily\"\n",
    "model = \"GISS-E2-1-G\"\n",
    "variable = \"tas\"\n",
    "anon=True"
   ]
  },
  {
   "cell_type": "code",
   "execution_count": 4,
   "id": "4d4b5504-7275-4949-9507-ef8c8efd55aa",
   "metadata": {
    "tags": []
   },
   "outputs": [],
   "source": [
    "# Initiate fsspec filesystems for reading and writing\n",
    "s3_path = f\"s3://nex-gddp-cmip6/NEX-GDDP-CMIP6/{model}/historical/r1i1p1*/{variable}/*\"\n",
    "fs_read = fsspec.filesystem(\"s3\", anon=anon, skip_instance_cache=False)\n",
    "fs_write = fsspec.filesystem(\"\")"
   ]
  },
  {
   "cell_type": "code",
   "execution_count": 5,
   "id": "13e67843-b173-4d68-b045-9da28dd68eb6",
   "metadata": {
    "tags": []
   },
   "outputs": [
    {
     "name": "stdout",
     "output_type": "stream",
     "text": [
      "65 discovered from s3://nex-gddp-cmip6/NEX-GDDP-CMIP6/GISS-E2-1-G/historical/r1i1p1*/tas/*\n"
     ]
    }
   ],
   "source": [
    "# Retrieve list of available months\n",
    "files_paths = fs_read.glob(s3_path)\n",
    "print(f\"{len(files_paths)} discovered from {s3_path}\")"
   ]
  },
  {
   "cell_type": "code",
   "execution_count": 6,
   "id": "af19a04e-77e6-4dc3-b023-7af0c19ca45f",
   "metadata": {
    "tags": []
   },
   "outputs": [
    {
     "data": {
      "text/plain": [
       "'nex-gddp-cmip6/NEX-GDDP-CMIP6/GISS-E2-1-G/historical/r1i1p1f2/tas/tas_day_GISS-E2-1-G_historical_r1i1p1f2_gn_1950.nc'"
      ]
     },
     "execution_count": 6,
     "metadata": {},
     "output_type": "execute_result"
    }
   ],
   "source": [
    "files_paths[0]"
   ]
  },
  {
   "cell_type": "markdown",
   "id": "7503d0a0-1f4c-489b-b16e-68f2bc481cf9",
   "metadata": {},
   "source": [
    "## 1.3 Test we can open the files"
   ]
  },
  {
   "cell_type": "code",
   "execution_count": 7,
   "id": "af346f35",
   "metadata": {
    "tags": []
   },
   "outputs": [
    {
     "data": {
      "text/html": [
       "<div><svg style=\"position: absolute; width: 0; height: 0; overflow: hidden\">\n",
       "<defs>\n",
       "<symbol id=\"icon-database\" viewBox=\"0 0 32 32\">\n",
       "<path d=\"M16 0c-8.837 0-16 2.239-16 5v4c0 2.761 7.163 5 16 5s16-2.239 16-5v-4c0-2.761-7.163-5-16-5z\"></path>\n",
       "<path d=\"M16 17c-8.837 0-16-2.239-16-5v6c0 2.761 7.163 5 16 5s16-2.239 16-5v-6c0 2.761-7.163 5-16 5z\"></path>\n",
       "<path d=\"M16 26c-8.837 0-16-2.239-16-5v6c0 2.761 7.163 5 16 5s16-2.239 16-5v-6c0 2.761-7.163 5-16 5z\"></path>\n",
       "</symbol>\n",
       "<symbol id=\"icon-file-text2\" viewBox=\"0 0 32 32\">\n",
       "<path d=\"M28.681 7.159c-0.694-0.947-1.662-2.053-2.724-3.116s-2.169-2.030-3.116-2.724c-1.612-1.182-2.393-1.319-2.841-1.319h-15.5c-1.378 0-2.5 1.121-2.5 2.5v27c0 1.378 1.122 2.5 2.5 2.5h23c1.378 0 2.5-1.122 2.5-2.5v-19.5c0-0.448-0.137-1.23-1.319-2.841zM24.543 5.457c0.959 0.959 1.712 1.825 2.268 2.543h-4.811v-4.811c0.718 0.556 1.584 1.309 2.543 2.268zM28 29.5c0 0.271-0.229 0.5-0.5 0.5h-23c-0.271 0-0.5-0.229-0.5-0.5v-27c0-0.271 0.229-0.5 0.5-0.5 0 0 15.499-0 15.5 0v7c0 0.552 0.448 1 1 1h7v19.5z\"></path>\n",
       "<path d=\"M23 26h-14c-0.552 0-1-0.448-1-1s0.448-1 1-1h14c0.552 0 1 0.448 1 1s-0.448 1-1 1z\"></path>\n",
       "<path d=\"M23 22h-14c-0.552 0-1-0.448-1-1s0.448-1 1-1h14c0.552 0 1 0.448 1 1s-0.448 1-1 1z\"></path>\n",
       "<path d=\"M23 18h-14c-0.552 0-1-0.448-1-1s0.448-1 1-1h14c0.552 0 1 0.448 1 1s-0.448 1-1 1z\"></path>\n",
       "</symbol>\n",
       "</defs>\n",
       "</svg>\n",
       "<style>/* CSS stylesheet for displaying xarray objects in jupyterlab.\n",
       " *\n",
       " */\n",
       "\n",
       ":root {\n",
       "  --xr-font-color0: var(--jp-content-font-color0, rgba(0, 0, 0, 1));\n",
       "  --xr-font-color2: var(--jp-content-font-color2, rgba(0, 0, 0, 0.54));\n",
       "  --xr-font-color3: var(--jp-content-font-color3, rgba(0, 0, 0, 0.38));\n",
       "  --xr-border-color: var(--jp-border-color2, #e0e0e0);\n",
       "  --xr-disabled-color: var(--jp-layout-color3, #bdbdbd);\n",
       "  --xr-background-color: var(--jp-layout-color0, white);\n",
       "  --xr-background-color-row-even: var(--jp-layout-color1, white);\n",
       "  --xr-background-color-row-odd: var(--jp-layout-color2, #eeeeee);\n",
       "}\n",
       "\n",
       "html[theme=dark],\n",
       "body[data-theme=dark],\n",
       "body.vscode-dark {\n",
       "  --xr-font-color0: rgba(255, 255, 255, 1);\n",
       "  --xr-font-color2: rgba(255, 255, 255, 0.54);\n",
       "  --xr-font-color3: rgba(255, 255, 255, 0.38);\n",
       "  --xr-border-color: #1F1F1F;\n",
       "  --xr-disabled-color: #515151;\n",
       "  --xr-background-color: #111111;\n",
       "  --xr-background-color-row-even: #111111;\n",
       "  --xr-background-color-row-odd: #313131;\n",
       "}\n",
       "\n",
       ".xr-wrap {\n",
       "  display: block !important;\n",
       "  min-width: 300px;\n",
       "  max-width: 700px;\n",
       "}\n",
       "\n",
       ".xr-text-repr-fallback {\n",
       "  /* fallback to plain text repr when CSS is not injected (untrusted notebook) */\n",
       "  display: none;\n",
       "}\n",
       "\n",
       ".xr-header {\n",
       "  padding-top: 6px;\n",
       "  padding-bottom: 6px;\n",
       "  margin-bottom: 4px;\n",
       "  border-bottom: solid 1px var(--xr-border-color);\n",
       "}\n",
       "\n",
       ".xr-header > div,\n",
       ".xr-header > ul {\n",
       "  display: inline;\n",
       "  margin-top: 0;\n",
       "  margin-bottom: 0;\n",
       "}\n",
       "\n",
       ".xr-obj-type,\n",
       ".xr-array-name {\n",
       "  margin-left: 2px;\n",
       "  margin-right: 10px;\n",
       "}\n",
       "\n",
       ".xr-obj-type {\n",
       "  color: var(--xr-font-color2);\n",
       "}\n",
       "\n",
       ".xr-sections {\n",
       "  padding-left: 0 !important;\n",
       "  display: grid;\n",
       "  grid-template-columns: 150px auto auto 1fr 20px 20px;\n",
       "}\n",
       "\n",
       ".xr-section-item {\n",
       "  display: contents;\n",
       "}\n",
       "\n",
       ".xr-section-item input {\n",
       "  display: none;\n",
       "}\n",
       "\n",
       ".xr-section-item input + label {\n",
       "  color: var(--xr-disabled-color);\n",
       "}\n",
       "\n",
       ".xr-section-item input:enabled + label {\n",
       "  cursor: pointer;\n",
       "  color: var(--xr-font-color2);\n",
       "}\n",
       "\n",
       ".xr-section-item input:enabled + label:hover {\n",
       "  color: var(--xr-font-color0);\n",
       "}\n",
       "\n",
       ".xr-section-summary {\n",
       "  grid-column: 1;\n",
       "  color: var(--xr-font-color2);\n",
       "  font-weight: 500;\n",
       "}\n",
       "\n",
       ".xr-section-summary > span {\n",
       "  display: inline-block;\n",
       "  padding-left: 0.5em;\n",
       "}\n",
       "\n",
       ".xr-section-summary-in:disabled + label {\n",
       "  color: var(--xr-font-color2);\n",
       "}\n",
       "\n",
       ".xr-section-summary-in + label:before {\n",
       "  display: inline-block;\n",
       "  content: '►';\n",
       "  font-size: 11px;\n",
       "  width: 15px;\n",
       "  text-align: center;\n",
       "}\n",
       "\n",
       ".xr-section-summary-in:disabled + label:before {\n",
       "  color: var(--xr-disabled-color);\n",
       "}\n",
       "\n",
       ".xr-section-summary-in:checked + label:before {\n",
       "  content: '▼';\n",
       "}\n",
       "\n",
       ".xr-section-summary-in:checked + label > span {\n",
       "  display: none;\n",
       "}\n",
       "\n",
       ".xr-section-summary,\n",
       ".xr-section-inline-details {\n",
       "  padding-top: 4px;\n",
       "  padding-bottom: 4px;\n",
       "}\n",
       "\n",
       ".xr-section-inline-details {\n",
       "  grid-column: 2 / -1;\n",
       "}\n",
       "\n",
       ".xr-section-details {\n",
       "  display: none;\n",
       "  grid-column: 1 / -1;\n",
       "  margin-bottom: 5px;\n",
       "}\n",
       "\n",
       ".xr-section-summary-in:checked ~ .xr-section-details {\n",
       "  display: contents;\n",
       "}\n",
       "\n",
       ".xr-array-wrap {\n",
       "  grid-column: 1 / -1;\n",
       "  display: grid;\n",
       "  grid-template-columns: 20px auto;\n",
       "}\n",
       "\n",
       ".xr-array-wrap > label {\n",
       "  grid-column: 1;\n",
       "  vertical-align: top;\n",
       "}\n",
       "\n",
       ".xr-preview {\n",
       "  color: var(--xr-font-color3);\n",
       "}\n",
       "\n",
       ".xr-array-preview,\n",
       ".xr-array-data {\n",
       "  padding: 0 5px !important;\n",
       "  grid-column: 2;\n",
       "}\n",
       "\n",
       ".xr-array-data,\n",
       ".xr-array-in:checked ~ .xr-array-preview {\n",
       "  display: none;\n",
       "}\n",
       "\n",
       ".xr-array-in:checked ~ .xr-array-data,\n",
       ".xr-array-preview {\n",
       "  display: inline-block;\n",
       "}\n",
       "\n",
       ".xr-dim-list {\n",
       "  display: inline-block !important;\n",
       "  list-style: none;\n",
       "  padding: 0 !important;\n",
       "  margin: 0;\n",
       "}\n",
       "\n",
       ".xr-dim-list li {\n",
       "  display: inline-block;\n",
       "  padding: 0;\n",
       "  margin: 0;\n",
       "}\n",
       "\n",
       ".xr-dim-list:before {\n",
       "  content: '(';\n",
       "}\n",
       "\n",
       ".xr-dim-list:after {\n",
       "  content: ')';\n",
       "}\n",
       "\n",
       ".xr-dim-list li:not(:last-child):after {\n",
       "  content: ',';\n",
       "  padding-right: 5px;\n",
       "}\n",
       "\n",
       ".xr-has-index {\n",
       "  font-weight: bold;\n",
       "}\n",
       "\n",
       ".xr-var-list,\n",
       ".xr-var-item {\n",
       "  display: contents;\n",
       "}\n",
       "\n",
       ".xr-var-item > div,\n",
       ".xr-var-item label,\n",
       ".xr-var-item > .xr-var-name span {\n",
       "  background-color: var(--xr-background-color-row-even);\n",
       "  margin-bottom: 0;\n",
       "}\n",
       "\n",
       ".xr-var-item > .xr-var-name:hover span {\n",
       "  padding-right: 5px;\n",
       "}\n",
       "\n",
       ".xr-var-list > li:nth-child(odd) > div,\n",
       ".xr-var-list > li:nth-child(odd) > label,\n",
       ".xr-var-list > li:nth-child(odd) > .xr-var-name span {\n",
       "  background-color: var(--xr-background-color-row-odd);\n",
       "}\n",
       "\n",
       ".xr-var-name {\n",
       "  grid-column: 1;\n",
       "}\n",
       "\n",
       ".xr-var-dims {\n",
       "  grid-column: 2;\n",
       "}\n",
       "\n",
       ".xr-var-dtype {\n",
       "  grid-column: 3;\n",
       "  text-align: right;\n",
       "  color: var(--xr-font-color2);\n",
       "}\n",
       "\n",
       ".xr-var-preview {\n",
       "  grid-column: 4;\n",
       "}\n",
       "\n",
       ".xr-index-preview {\n",
       "  grid-column: 2 / 5;\n",
       "  color: var(--xr-font-color2);\n",
       "}\n",
       "\n",
       ".xr-var-name,\n",
       ".xr-var-dims,\n",
       ".xr-var-dtype,\n",
       ".xr-preview,\n",
       ".xr-attrs dt {\n",
       "  white-space: nowrap;\n",
       "  overflow: hidden;\n",
       "  text-overflow: ellipsis;\n",
       "  padding-right: 10px;\n",
       "}\n",
       "\n",
       ".xr-var-name:hover,\n",
       ".xr-var-dims:hover,\n",
       ".xr-var-dtype:hover,\n",
       ".xr-attrs dt:hover {\n",
       "  overflow: visible;\n",
       "  width: auto;\n",
       "  z-index: 1;\n",
       "}\n",
       "\n",
       ".xr-var-attrs,\n",
       ".xr-var-data,\n",
       ".xr-index-data {\n",
       "  display: none;\n",
       "  background-color: var(--xr-background-color) !important;\n",
       "  padding-bottom: 5px !important;\n",
       "}\n",
       "\n",
       ".xr-var-attrs-in:checked ~ .xr-var-attrs,\n",
       ".xr-var-data-in:checked ~ .xr-var-data,\n",
       ".xr-index-data-in:checked ~ .xr-index-data {\n",
       "  display: block;\n",
       "}\n",
       "\n",
       ".xr-var-data > table {\n",
       "  float: right;\n",
       "}\n",
       "\n",
       ".xr-var-name span,\n",
       ".xr-var-data,\n",
       ".xr-index-name div,\n",
       ".xr-index-data,\n",
       ".xr-attrs {\n",
       "  padding-left: 25px !important;\n",
       "}\n",
       "\n",
       ".xr-attrs,\n",
       ".xr-var-attrs,\n",
       ".xr-var-data,\n",
       ".xr-index-data {\n",
       "  grid-column: 1 / -1;\n",
       "}\n",
       "\n",
       "dl.xr-attrs {\n",
       "  padding: 0;\n",
       "  margin: 0;\n",
       "  display: grid;\n",
       "  grid-template-columns: 125px auto;\n",
       "}\n",
       "\n",
       ".xr-attrs dt,\n",
       ".xr-attrs dd {\n",
       "  padding: 0;\n",
       "  margin: 0;\n",
       "  float: left;\n",
       "  padding-right: 10px;\n",
       "  width: auto;\n",
       "}\n",
       "\n",
       ".xr-attrs dt {\n",
       "  font-weight: normal;\n",
       "  grid-column: 1;\n",
       "}\n",
       "\n",
       ".xr-attrs dt:hover span {\n",
       "  display: inline-block;\n",
       "  background: var(--xr-background-color);\n",
       "  padding-right: 10px;\n",
       "}\n",
       "\n",
       ".xr-attrs dd {\n",
       "  grid-column: 2;\n",
       "  white-space: pre-wrap;\n",
       "  word-break: break-all;\n",
       "}\n",
       "\n",
       ".xr-icon-database,\n",
       ".xr-icon-file-text2,\n",
       ".xr-no-icon {\n",
       "  display: inline-block;\n",
       "  vertical-align: middle;\n",
       "  width: 1em;\n",
       "  height: 1.5em !important;\n",
       "  stroke-width: 0;\n",
       "  stroke: currentColor;\n",
       "  fill: currentColor;\n",
       "}\n",
       "</style><pre class='xr-text-repr-fallback'>&lt;xarray.Dataset&gt;\n",
       "Dimensions:  (time: 365, lat: 600, lon: 1440)\n",
       "Coordinates:\n",
       "  * time     (time) object 1950-01-01 12:00:00 ... 1950-12-31 12:00:00\n",
       "  * lat      (lat) float64 -59.88 -59.62 -59.38 -59.12 ... 89.38 89.62 89.88\n",
       "  * lon      (lon) float64 0.125 0.375 0.625 0.875 ... 359.1 359.4 359.6 359.9\n",
       "Data variables:\n",
       "    tas      (time, lat, lon) float32 ...\n",
       "Attributes: (12/23)\n",
       "    downscalingModel:      BCSD\n",
       "    activity:              NEX-GDDP-CMIP6\n",
       "    contact:               Dr. Rama Nemani: rama.nemani@nasa.gov, Dr. Bridget...\n",
       "    Conventions:           CF-1.7\n",
       "    creation_date:         2021-10-04T18:41:40.796912+00:00\n",
       "    frequency:             day\n",
       "    ...                    ...\n",
       "    history:               2021-10-04T18:41:40.796912+00:00: install global a...\n",
       "    disclaimer:            This data is considered provisional and subject to...\n",
       "    external_variables:    areacella\n",
       "    cmip6_source_id:       GISS-E2-1-G\n",
       "    cmip6_institution_id:  NASA-GISS\n",
       "    cmip6_license:         CC-BY-SA 4.0</pre><div class='xr-wrap' style='display:none'><div class='xr-header'><div class='xr-obj-type'>xarray.Dataset</div></div><ul class='xr-sections'><li class='xr-section-item'><input id='section-49c0ab04-e0ac-46f5-8656-3457972f3f90' class='xr-section-summary-in' type='checkbox' disabled ><label for='section-49c0ab04-e0ac-46f5-8656-3457972f3f90' class='xr-section-summary'  title='Expand/collapse section'>Dimensions:</label><div class='xr-section-inline-details'><ul class='xr-dim-list'><li><span class='xr-has-index'>time</span>: 365</li><li><span class='xr-has-index'>lat</span>: 600</li><li><span class='xr-has-index'>lon</span>: 1440</li></ul></div><div class='xr-section-details'></div></li><li class='xr-section-item'><input id='section-ad81060b-8a21-4de4-adf6-c2ed87dee7cf' class='xr-section-summary-in' type='checkbox'  checked><label for='section-ad81060b-8a21-4de4-adf6-c2ed87dee7cf' class='xr-section-summary' >Coordinates: <span>(3)</span></label><div class='xr-section-inline-details'></div><div class='xr-section-details'><ul class='xr-var-list'><li class='xr-var-item'><div class='xr-var-name'><span class='xr-has-index'>time</span></div><div class='xr-var-dims'>(time)</div><div class='xr-var-dtype'>object</div><div class='xr-var-preview xr-preview'>1950-01-01 12:00:00 ... 1950-12-...</div><input id='attrs-5a6e5500-e1fd-416a-8496-9f45bc9d5096' class='xr-var-attrs-in' type='checkbox' ><label for='attrs-5a6e5500-e1fd-416a-8496-9f45bc9d5096' title='Show/Hide attributes'><svg class='icon xr-icon-file-text2'><use xlink:href='#icon-file-text2'></use></svg></label><input id='data-4a42605f-d037-47cc-84d8-f1ba7dc6a2bf' class='xr-var-data-in' type='checkbox'><label for='data-4a42605f-d037-47cc-84d8-f1ba7dc6a2bf' title='Show/Hide data repr'><svg class='icon xr-icon-database'><use xlink:href='#icon-database'></use></svg></label><div class='xr-var-attrs'><dl class='xr-attrs'><dt><span>standard_name :</span></dt><dd>time</dd><dt><span>long_name :</span></dt><dd>time</dd><dt><span>axis :</span></dt><dd>T</dd></dl></div><div class='xr-var-data'><pre>array([cftime.DatetimeNoLeap(1950, 1, 1, 12, 0, 0, 0, has_year_zero=True),\n",
       "       cftime.DatetimeNoLeap(1950, 1, 2, 12, 0, 0, 0, has_year_zero=True),\n",
       "       cftime.DatetimeNoLeap(1950, 1, 3, 12, 0, 0, 0, has_year_zero=True), ...,\n",
       "       cftime.DatetimeNoLeap(1950, 12, 29, 12, 0, 0, 0, has_year_zero=True),\n",
       "       cftime.DatetimeNoLeap(1950, 12, 30, 12, 0, 0, 0, has_year_zero=True),\n",
       "       cftime.DatetimeNoLeap(1950, 12, 31, 12, 0, 0, 0, has_year_zero=True)],\n",
       "      dtype=object)</pre></div></li><li class='xr-var-item'><div class='xr-var-name'><span class='xr-has-index'>lat</span></div><div class='xr-var-dims'>(lat)</div><div class='xr-var-dtype'>float64</div><div class='xr-var-preview xr-preview'>-59.88 -59.62 ... 89.62 89.88</div><input id='attrs-972dde0f-b466-41a5-91f2-339cb991d36a' class='xr-var-attrs-in' type='checkbox' ><label for='attrs-972dde0f-b466-41a5-91f2-339cb991d36a' title='Show/Hide attributes'><svg class='icon xr-icon-file-text2'><use xlink:href='#icon-file-text2'></use></svg></label><input id='data-3a0cb0a6-e110-48f7-bcc5-2a42ae76f79b' class='xr-var-data-in' type='checkbox'><label for='data-3a0cb0a6-e110-48f7-bcc5-2a42ae76f79b' title='Show/Hide data repr'><svg class='icon xr-icon-database'><use xlink:href='#icon-database'></use></svg></label><div class='xr-var-attrs'><dl class='xr-attrs'><dt><span>units :</span></dt><dd>degrees_north</dd><dt><span>standard_name :</span></dt><dd>latitude</dd><dt><span>long_name :</span></dt><dd>latitude</dd><dt><span>axis :</span></dt><dd>Y</dd></dl></div><div class='xr-var-data'><pre>array([-59.875, -59.625, -59.375, ...,  89.375,  89.625,  89.875])</pre></div></li><li class='xr-var-item'><div class='xr-var-name'><span class='xr-has-index'>lon</span></div><div class='xr-var-dims'>(lon)</div><div class='xr-var-dtype'>float64</div><div class='xr-var-preview xr-preview'>0.125 0.375 0.625 ... 359.6 359.9</div><input id='attrs-0b823f88-0672-45ad-8ba2-f646d43bd462' class='xr-var-attrs-in' type='checkbox' ><label for='attrs-0b823f88-0672-45ad-8ba2-f646d43bd462' title='Show/Hide attributes'><svg class='icon xr-icon-file-text2'><use xlink:href='#icon-file-text2'></use></svg></label><input id='data-357c1be2-2942-471f-b7e5-5a50724a5b33' class='xr-var-data-in' type='checkbox'><label for='data-357c1be2-2942-471f-b7e5-5a50724a5b33' title='Show/Hide data repr'><svg class='icon xr-icon-database'><use xlink:href='#icon-database'></use></svg></label><div class='xr-var-attrs'><dl class='xr-attrs'><dt><span>units :</span></dt><dd>degrees_east</dd><dt><span>standard_name :</span></dt><dd>longitude</dd><dt><span>long_name :</span></dt><dd>longitude</dd><dt><span>axis :</span></dt><dd>X</dd></dl></div><div class='xr-var-data'><pre>array([1.25000e-01, 3.75000e-01, 6.25000e-01, ..., 3.59375e+02, 3.59625e+02,\n",
       "       3.59875e+02])</pre></div></li></ul></div></li><li class='xr-section-item'><input id='section-c6dc8c7a-fe48-4110-aab1-4763c2d947cb' class='xr-section-summary-in' type='checkbox'  checked><label for='section-c6dc8c7a-fe48-4110-aab1-4763c2d947cb' class='xr-section-summary' >Data variables: <span>(1)</span></label><div class='xr-section-inline-details'></div><div class='xr-section-details'><ul class='xr-var-list'><li class='xr-var-item'><div class='xr-var-name'><span>tas</span></div><div class='xr-var-dims'>(time, lat, lon)</div><div class='xr-var-dtype'>float32</div><div class='xr-var-preview xr-preview'>...</div><input id='attrs-65405cb9-7242-49c9-8518-6e6522cdb6b2' class='xr-var-attrs-in' type='checkbox' ><label for='attrs-65405cb9-7242-49c9-8518-6e6522cdb6b2' title='Show/Hide attributes'><svg class='icon xr-icon-file-text2'><use xlink:href='#icon-file-text2'></use></svg></label><input id='data-7255fa72-fec2-4289-ac46-285b74e6cd9b' class='xr-var-data-in' type='checkbox'><label for='data-7255fa72-fec2-4289-ac46-285b74e6cd9b' title='Show/Hide data repr'><svg class='icon xr-icon-database'><use xlink:href='#icon-database'></use></svg></label><div class='xr-var-attrs'><dl class='xr-attrs'><dt><span>cell_measures :</span></dt><dd>area: areacella</dd><dt><span>cell_methods :</span></dt><dd>area: mean time: maximum</dd><dt><span>comment :</span></dt><dd>near-surface (usually, 2 meter) air temperature; derived from downscaled tasmax &amp; tasmin</dd><dt><span>units :</span></dt><dd>K</dd><dt><span>long_name :</span></dt><dd>Daily Near-Surface Air Temperature</dd><dt><span>standard_name :</span></dt><dd>air_temperature</dd></dl></div><div class='xr-var-data'><pre>[315360000 values with dtype=float32]</pre></div></li></ul></div></li><li class='xr-section-item'><input id='section-407a333a-5844-4ef7-aaaa-997ea30be52c' class='xr-section-summary-in' type='checkbox'  ><label for='section-407a333a-5844-4ef7-aaaa-997ea30be52c' class='xr-section-summary' >Indexes: <span>(3)</span></label><div class='xr-section-inline-details'></div><div class='xr-section-details'><ul class='xr-var-list'><li class='xr-var-item'><div class='xr-index-name'><div>time</div></div><div class='xr-index-preview'>PandasIndex</div><div></div><input id='index-1025ea3a-23b2-490e-a322-c2a56aab1da9' class='xr-index-data-in' type='checkbox'/><label for='index-1025ea3a-23b2-490e-a322-c2a56aab1da9' title='Show/Hide index repr'><svg class='icon xr-icon-database'><use xlink:href='#icon-database'></use></svg></label><div class='xr-index-data'><pre>PandasIndex(CFTimeIndex([1950-01-01 12:00:00, 1950-01-02 12:00:00, 1950-01-03 12:00:00,\n",
       "             1950-01-04 12:00:00, 1950-01-05 12:00:00, 1950-01-06 12:00:00,\n",
       "             1950-01-07 12:00:00, 1950-01-08 12:00:00, 1950-01-09 12:00:00,\n",
       "             1950-01-10 12:00:00,\n",
       "             ...\n",
       "             1950-12-22 12:00:00, 1950-12-23 12:00:00, 1950-12-24 12:00:00,\n",
       "             1950-12-25 12:00:00, 1950-12-26 12:00:00, 1950-12-27 12:00:00,\n",
       "             1950-12-28 12:00:00, 1950-12-29 12:00:00, 1950-12-30 12:00:00,\n",
       "             1950-12-31 12:00:00],\n",
       "            dtype=&#x27;object&#x27;, length=365, calendar=&#x27;noleap&#x27;, freq=&#x27;D&#x27;))</pre></div></li><li class='xr-var-item'><div class='xr-index-name'><div>lat</div></div><div class='xr-index-preview'>PandasIndex</div><div></div><input id='index-6b899eed-021d-4a2b-85f3-bb4b88920565' class='xr-index-data-in' type='checkbox'/><label for='index-6b899eed-021d-4a2b-85f3-bb4b88920565' title='Show/Hide index repr'><svg class='icon xr-icon-database'><use xlink:href='#icon-database'></use></svg></label><div class='xr-index-data'><pre>PandasIndex(Float64Index([-59.875, -59.625, -59.375, -59.125, -58.875, -58.625, -58.375,\n",
       "              -58.125, -57.875, -57.625,\n",
       "              ...\n",
       "               87.625,  87.875,  88.125,  88.375,  88.625,  88.875,  89.125,\n",
       "               89.375,  89.625,  89.875],\n",
       "             dtype=&#x27;float64&#x27;, name=&#x27;lat&#x27;, length=600))</pre></div></li><li class='xr-var-item'><div class='xr-index-name'><div>lon</div></div><div class='xr-index-preview'>PandasIndex</div><div></div><input id='index-c0c7177f-334d-4bdc-9eac-ef2a95909258' class='xr-index-data-in' type='checkbox'/><label for='index-c0c7177f-334d-4bdc-9eac-ef2a95909258' title='Show/Hide index repr'><svg class='icon xr-icon-database'><use xlink:href='#icon-database'></use></svg></label><div class='xr-index-data'><pre>PandasIndex(Float64Index([  0.125,   0.375,   0.625,   0.875,   1.125,   1.375,   1.625,\n",
       "                1.875,   2.125,   2.375,\n",
       "              ...\n",
       "              357.625, 357.875, 358.125, 358.375, 358.625, 358.875, 359.125,\n",
       "              359.375, 359.625, 359.875],\n",
       "             dtype=&#x27;float64&#x27;, name=&#x27;lon&#x27;, length=1440))</pre></div></li></ul></div></li><li class='xr-section-item'><input id='section-5c8c64e8-40b7-46d6-91d7-5afe8d9ad8c9' class='xr-section-summary-in' type='checkbox'  ><label for='section-5c8c64e8-40b7-46d6-91d7-5afe8d9ad8c9' class='xr-section-summary' >Attributes: <span>(23)</span></label><div class='xr-section-inline-details'></div><div class='xr-section-details'><dl class='xr-attrs'><dt><span>downscalingModel :</span></dt><dd>BCSD</dd><dt><span>activity :</span></dt><dd>NEX-GDDP-CMIP6</dd><dt><span>contact :</span></dt><dd>Dr. Rama Nemani: rama.nemani@nasa.gov, Dr. Bridget Thrasher: bridget@climateanalyticsgroup.org</dd><dt><span>Conventions :</span></dt><dd>CF-1.7</dd><dt><span>creation_date :</span></dt><dd>2021-10-04T18:41:40.796912+00:00</dd><dt><span>frequency :</span></dt><dd>day</dd><dt><span>institution :</span></dt><dd>NASA Earth Exchange, NASA Ames Research Center, Moffett Field, CA 94035</dd><dt><span>variant_label :</span></dt><dd>r1i1p1f2</dd><dt><span>product :</span></dt><dd>output</dd><dt><span>realm :</span></dt><dd>atmos</dd><dt><span>source :</span></dt><dd>BCSD</dd><dt><span>scenario :</span></dt><dd>historical</dd><dt><span>references :</span></dt><dd>BCSD method: Thrasher et al., 2012, Hydrol. Earth Syst. Sci.,16, 3309-3314. Ref period obs: latest version of the Princeton Global Meteorological Forcings (http://hydrology.princeton.edu/data.php), based on Sheffield et al., 2006, J. Climate, 19 (13), 3088-3111.</dd><dt><span>version :</span></dt><dd>1.0</dd><dt><span>tracking_id :</span></dt><dd>25d6baa3-0404-4eba-a3f1-afddbf69d4cc</dd><dt><span>title :</span></dt><dd>GISS-E2-1-G, r1i1p1f2, historical, global downscaled CMIP6 climate projection data</dd><dt><span>resolution_id :</span></dt><dd>0.25 degree</dd><dt><span>history :</span></dt><dd>2021-10-04T18:41:40.796912+00:00: install global attributes</dd><dt><span>disclaimer :</span></dt><dd>This data is considered provisional and subject to change. This data is provided as is without any warranty of any kind, either express or implied, arising by law or otherwise, including but not limited to warranties of completeness, non-infringement, accuracy, merchantability, or fitness for a particular purpose. The user assumes all risk associated with the use of, or inability to use, this data.</dd><dt><span>external_variables :</span></dt><dd>areacella</dd><dt><span>cmip6_source_id :</span></dt><dd>GISS-E2-1-G</dd><dt><span>cmip6_institution_id :</span></dt><dd>NASA-GISS</dd><dt><span>cmip6_license :</span></dt><dd>CC-BY-SA 4.0</dd></dl></div></li></ul></div></div>"
      ],
      "text/plain": [
       "<xarray.Dataset>\n",
       "Dimensions:  (time: 365, lat: 600, lon: 1440)\n",
       "Coordinates:\n",
       "  * time     (time) object 1950-01-01 12:00:00 ... 1950-12-31 12:00:00\n",
       "  * lat      (lat) float64 -59.88 -59.62 -59.38 -59.12 ... 89.38 89.62 89.88\n",
       "  * lon      (lon) float64 0.125 0.375 0.625 0.875 ... 359.1 359.4 359.6 359.9\n",
       "Data variables:\n",
       "    tas      (time, lat, lon) float32 ...\n",
       "Attributes: (12/23)\n",
       "    downscalingModel:      BCSD\n",
       "    activity:              NEX-GDDP-CMIP6\n",
       "    contact:               Dr. Rama Nemani: rama.nemani@nasa.gov, Dr. Bridget...\n",
       "    Conventions:           CF-1.7\n",
       "    creation_date:         2021-10-04T18:41:40.796912+00:00\n",
       "    frequency:             day\n",
       "    ...                    ...\n",
       "    history:               2021-10-04T18:41:40.796912+00:00: install global a...\n",
       "    disclaimer:            This data is considered provisional and subject to...\n",
       "    external_variables:    areacella\n",
       "    cmip6_source_id:       GISS-E2-1-G\n",
       "    cmip6_institution_id:  NASA-GISS\n",
       "    cmip6_license:         CC-BY-SA 4.0"
      ]
     },
     "execution_count": 7,
     "metadata": {},
     "output_type": "execute_result"
    }
   ],
   "source": [
    "fs_s3 = s3fs.S3FileSystem(anon=True)\n",
    "filepath = f's3://{files_paths[0]}'\n",
    "f = fs_s3.open(filepath, mode='rb')\n",
    "ds = xr.open_dataset(f)\n",
    "ds"
   ]
  },
  {
   "cell_type": "markdown",
   "id": "ea96dbcd-6c62-43fd-8940-fee05af5c1e2",
   "metadata": {},
   "source": [
    "# 2: Setup the destination"
   ]
  },
  {
   "cell_type": "code",
   "execution_count": 8,
   "id": "6246d0e3-5a89-46c4-a313-b7bbd91df395",
   "metadata": {
    "tags": []
   },
   "outputs": [],
   "source": [
    "def format_function(time):\n",
    "    pattern = r\"\\b\\d{4}\\b\"\n",
    "    return re.sub(pattern, str(time), filepath)\n",
    "\n",
    "years = list(range(1950, 1952))\n",
    "time_dim = ConcatDim(\"time\", keys=years)\n",
    "\n",
    "pattern = FilePattern(format_function, time_dim, file_type=\"netcdf4\")\n",
    "pattern = FilePattern.prune(pattern, nkeep=2)"
   ]
  },
  {
   "cell_type": "code",
   "execution_count": 9,
   "id": "25d9a095",
   "metadata": {
    "tags": []
   },
   "outputs": [
    {
     "name": "stdout",
     "output_type": "stream",
     "text": [
      "Using <generator object FilePattern.items at 0x7f46e7809150>\n"
     ]
    }
   ],
   "source": [
    "fs = s3fs.S3FileSystem(\n",
    "    key=credentials['AccessKeyId'],\n",
    "    secret=credentials['SecretAccessKey'],\n",
    "    token=credentials['SessionToken'], \n",
    "    anon=False\n",
    ")\n",
    "target_root = FSSpecTarget(fs=fs, root_path=bucket)\n",
    "print(f\"Using {pattern.items()}\")"
   ]
  },
  {
   "cell_type": "markdown",
   "id": "feb304c2-2e59-4e50-a2b7-e4b39c6078aa",
   "metadata": {},
   "source": [
    "# 3: Set different target chunks"
   ]
  },
  {
   "cell_type": "markdown",
   "id": "12838601-25f6-4c5f-8a82-57d0583173c4",
   "metadata": {},
   "source": [
    "For different sets of chunks, generate a zarr store."
   ]
  },
  {
   "cell_type": "code",
   "execution_count": 10,
   "id": "35f7c859-94b8-4f41-bf55-af3c72139254",
   "metadata": {
    "tags": []
   },
   "outputs": [],
   "source": [
    "chunk_sets = []\n",
    "# Optimized for analysis\n",
    "temporal_target_chunks = { 'lat': ds.lat.shape[0], 'lon': ds.lon.shape[0], 'time': 29 }\n",
    "chunk_sets.append(temporal_target_chunks)"
   ]
  },
  {
   "cell_type": "code",
   "execution_count": 11,
   "id": "22398f24-e034-41fd-baed-7630af3bc1d3",
   "metadata": {
    "tags": []
   },
   "outputs": [],
   "source": [
    "# Optimized for visualization at a single time step\n",
    "global_target_chunks = { 'lat': ds.lat.shape[0], 'lon': ds.lon.shape[0], 'time': 1 }\n",
    "global_target_chunks\n",
    "chunk_sets.append(global_target_chunks)"
   ]
  },
  {
   "cell_type": "code",
   "execution_count": 12,
   "id": "79aa8be1-2b1c-446d-83c4-dca53947011c",
   "metadata": {
    "tags": []
   },
   "outputs": [],
   "source": [
    "# Optimized for time series\n",
    "#spatial_target_chunks = calc_auspicious_chunks_dict(ds[variable], chunk_dims=('lat','lon',))\n",
    "spatial_target_chunks = {'time': 365, 'lat': 262, 'lon': 262}\n",
    "chunk_sets.append(spatial_target_chunks)"
   ]
  },
  {
   "cell_type": "code",
   "execution_count": 13,
   "id": "d3fd52a2-8868-4ac1-bb59-5ddf600dcc71",
   "metadata": {
    "tags": []
   },
   "outputs": [
    {
     "data": {
      "text/plain": [
       "[{'lat': 600, 'lon': 1440, 'time': 29},\n",
       " {'lat': 600, 'lon': 1440, 'time': 1},\n",
       " {'time': 365, 'lat': 262, 'lon': 262}]"
      ]
     },
     "execution_count": 13,
     "metadata": {},
     "output_type": "execute_result"
    }
   ],
   "source": [
    "chunk_sets"
   ]
  },
  {
   "cell_type": "code",
   "execution_count": null,
   "id": "cc75fffe-e28c-4366-96e4-2bb63ab667be",
   "metadata": {
    "tags": []
   },
   "outputs": [
    {
     "name": "stdout",
     "output_type": "stream",
     "text": [
      "File 'consolidate_coords2/600_1440_29/CMIP6_daily_GISS-E2-1-G_tas.zarr/.zmetadata' does not exist in bucket 'nasa-eodc-data-store'.\n",
      "Writing to FSSpecTarget(fs=<s3fs.core.S3FileSystem object at 0x7f46e77d97b0>, root_path='nasa-eodc-data-store')/consolidate_coords2/600_1440_29/CMIP6_daily_GISS-E2-1-G_tas.zarr\n",
      "File 'consolidate_coords2/600_1440_1/CMIP6_daily_GISS-E2-1-G_tas.zarr/.zmetadata' does not exist in bucket 'nasa-eodc-data-store'.\n",
      "Writing to FSSpecTarget(fs=<s3fs.core.S3FileSystem object at 0x7f46e77d97b0>, root_path='nasa-eodc-data-store')/consolidate_coords2/600_1440_1/CMIP6_daily_GISS-E2-1-G_tas.zarr\n"
     ]
    }
   ],
   "source": [
    "s3 = boto3.client(\n",
    "    's3',\n",
    "    aws_access_key_id=credentials['AccessKeyId'],\n",
    "    aws_secret_access_key=credentials['SecretAccessKey'],\n",
    "    aws_session_token=credentials['SessionToken']    \n",
    ")\n",
    "timings = {}\n",
    "for chunk_set in chunk_sets:\n",
    "    dir_path = str((\"_\").join(map(str, chunk_set.values())))\n",
    "    store_name = f\"consolidate_coords2/{dir_path}/CMIP6_{temporal_resolution}_{model}_{variable}.zarr\"\n",
    "    try:\n",
    "        key = f\"{store_name}/.zmetadata\"\n",
    "        response = s3.head_object(Bucket=bucket, Key=key)\n",
    "        print(f\"File '{store_name}' exists in bucket '{bucket}'.\")\n",
    "        continue\n",
    "    except ClientError as e:\n",
    "        if e.response['Error']['Code'] == '404':\n",
    "            print(f\"File '{key}' does not exist in bucket '{bucket}'.\")\n",
    "        else:\n",
    "            print(f\"Error occurred: {e}\")\n",
    "            raise e\n",
    "    with Timer() as t:\n",
    "        print(f\"Writing to {target_root}/{store_name}\")\n",
    "        transforms = (\n",
    "            beam.Create(pattern.items())\n",
    "            | OpenURLWithFSSpec(open_kwargs={'anon': True})\n",
    "            | OpenWithXarray(file_type=pattern.file_type)\n",
    "            | StoreToZarr(\n",
    "                store_name=store_name,\n",
    "                target_root=target_root,\n",
    "                combine_dims=pattern.combine_dim_keys,\n",
    "                target_chunks=chunk_set,\n",
    "            )\n",
    "        )\n",
    "        # Commented out so we don't re-run if we don't intend to\n",
    "        with beam.Pipeline() as p:\n",
    "            p | transforms\n",
    "    timings[dir_path] = round(t.elapsed * 1000, 2) "
   ]
  },
  {
   "cell_type": "code",
   "execution_count": 15,
   "id": "d3efc288-5467-4138-b55a-2e53efe1d06e",
   "metadata": {
    "tags": []
   },
   "outputs": [
    {
     "data": {
      "text/plain": [
       "{'600_1440_29': 45761.22, '600_1440_1': 257544.7, '365_262_262': 297980.16}"
      ]
     },
     "execution_count": 15,
     "metadata": {},
     "output_type": "execute_result"
    }
   ],
   "source": [
    "timings # {'600_1440_29': 71906.24}"
   ]
  },
  {
   "cell_type": "markdown",
   "id": "287cc5dd-8ad3-4cbe-9bd0-3339f55b1801",
   "metadata": {},
   "source": [
    "Guess as to timing differences - writing more chunks and having to consolidate chunks takes more time.\n",
    "\n",
    "600, 1440, 1 - have to write a lot of chunks ~722 total chunks\n",
    "365, 262, 262 - have to conosolidate to time chunk. Also have to break apart existing chunks"
   ]
  },
  {
   "cell_type": "code",
   "execution_count": null,
   "id": "b766b7c6-2b77-4d54-ae63-97d6bc103783",
   "metadata": {
    "tags": []
   },
   "outputs": [],
   "source": [
    "dir_path = str((\"_\").join(map(str, chunk_sets[0].values())))\n",
    "store_name = f\"{dir_path}/CMIP6_{temporal_resolution}_{model}_{variable}.zarr\""
   ]
  },
  {
   "cell_type": "code",
   "execution_count": null,
   "id": "754cca3b-1943-48bc-824d-7adfd59a5fd0",
   "metadata": {
    "tags": []
   },
   "outputs": [],
   "source": [
    "store = s3fs.S3Map(root=f\"{bucket}/{store_name}\", s3=fs, check=True)"
   ]
  },
  {
   "cell_type": "code",
   "execution_count": null,
   "id": "92fd66f2-cf21-406b-bf7d-a66ec6aca774",
   "metadata": {
    "tags": []
   },
   "outputs": [],
   "source": [
    "xr.open_zarr(store, consolidated=True)"
   ]
  },
  {
   "cell_type": "code",
   "execution_count": null,
   "id": "7036747c-7122-49c5-acb8-55b814fbd8c2",
   "metadata": {
    "tags": []
   },
   "outputs": [],
   "source": [
    "store_name"
   ]
  },
  {
   "cell_type": "markdown",
   "id": "8c9fbfbe-33e8-41ed-bad0-829d1b7066f7",
   "metadata": {
    "tags": []
   },
   "source": [
    "# 4: Check it worked"
   ]
  },
  {
   "cell_type": "code",
   "execution_count": null,
   "id": "e05e7871-e328-4a4f-be9c-4674df6812d6",
   "metadata": {
    "tags": []
   },
   "outputs": [],
   "source": [
    "for chunk_set in chunk_sets:\n",
    "    dir_path = str((\"_\").join(map(str, chunk_set.values())))\n",
    "    store_name = f\"{dir_path}/CMIP6_{temporal_resolution}_{model}_{variable}.zarr\"\n",
    "    key = f\"{store_name}/.zmetadata\"\n",
    "    response = s3.head_object(Bucket=bucket, Key=key)\n",
    "    object_size = response['ContentLength']\n",
    "    object_size_MB = object_size / (1024)    \n",
    "    print(f\"Size of metadata {object_size_MB} KB\")\n",
    "    \n",
    "    store = s3fs.S3Map(root=f\"{bucket}/{store_name}\", s3=fs, check=True)\n",
    "    ds = xr.open_zarr(store, consolidated=True)\n",
    "    print(ds)"
   ]
  }
 ],
 "metadata": {
  "kernelspec": {
   "display_name": "Python 3 (ipykernel)",
   "language": "python",
   "name": "python3"
  },
  "language_info": {
   "codemirror_mode": {
    "name": "ipython",
    "version": 3
   },
   "file_extension": ".py",
   "mimetype": "text/x-python",
   "name": "python",
   "nbconvert_exporter": "python",
   "pygments_lexer": "ipython3",
   "version": "3.10.12"
  }
 },
 "nbformat": 4,
 "nbformat_minor": 5
}
