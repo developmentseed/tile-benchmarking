{
 "cells": [
  {
   "cell_type": "markdown",
   "id": "346518ee-b519-4fc7-a6ff-eaf4d4d066a8",
   "metadata": {},
   "source": [
    "# Estimate time to rechunk an existing dataset, varying resolutions\n",
    "\n",
    "Estimate time to rechunk as a variable of size of dataset and size of desired chunk."
   ]
  },
  {
   "cell_type": "code",
   "execution_count": 6,
   "id": "8b775c03-a9cd-421c-9021-bbfc42f2318f",
   "metadata": {
    "tags": []
   },
   "outputs": [
    {
     "name": "stdout",
     "output_type": "stream",
     "text": [
      "The autoreload extension is already loaded. To reload it, use:\n",
      "  %reload_ext autoreload\n"
     ]
    }
   ],
   "source": [
    "%load_ext autoreload\n",
    "%autoreload\n",
    "import numpy as np\n",
    "import s3fs\n",
    "import xarray as xr\n",
    "import sys; sys.path.append('..')\n",
    "from profiler.main import Timer\n",
    "import eodc_hub_role\n",
    "import zarr_helpers"
   ]
  },
  {
   "cell_type": "code",
   "execution_count": null,
   "id": "d1a3e901-bb13-41cd-a172-036749a4a34a",
   "metadata": {
    "tags": []
   },
   "outputs": [
    {
     "name": "stdout",
     "output_type": "stream",
     "text": [
      "Collecting rio-tiler==4.1.11\n",
      "  Using cached rio_tiler-4.1.11-py3-none-any.whl (208 kB)\n",
      "Requirement already satisfied: loguru in /srv/conda/envs/notebook/lib/python3.10/site-packages (0.7.0)\n",
      "Requirement already satisfied: attrs in /srv/conda/envs/notebook/lib/python3.10/site-packages (from rio-tiler==4.1.11) (23.1.0)\n",
      "Requirement already satisfied: boto3 in /srv/conda/envs/notebook/lib/python3.10/site-packages (from rio-tiler==4.1.11) (1.26.76)\n",
      "Requirement already satisfied: cachetools in /srv/conda/envs/notebook/lib/python3.10/site-packages (from rio-tiler==4.1.11) (5.3.1)\n",
      "Collecting color-operations (from rio-tiler==4.1.11)\n",
      "  Using cached color_operations-0.1.1-cp310-cp310-manylinux_2_5_x86_64.manylinux1_x86_64.manylinux_2_17_x86_64.manylinux2014_x86_64.whl (131 kB)\n",
      "Requirement already satisfied: httpx in /srv/conda/envs/notebook/lib/python3.10/site-packages (from rio-tiler==4.1.11) (0.24.1)\n",
      "Requirement already satisfied: morecantile<4.0,>=3.1 in /srv/conda/envs/notebook/lib/python3.10/site-packages (from rio-tiler==4.1.11) (3.4.0)\n",
      "Collecting numexpr (from rio-tiler==4.1.11)\n",
      "  Using cached numexpr-2.8.5-cp310-cp310-manylinux_2_17_x86_64.manylinux2014_x86_64.whl (383 kB)\n",
      "Requirement already satisfied: numpy in /srv/conda/envs/notebook/lib/python3.10/site-packages (from rio-tiler==4.1.11) (1.24.4)\n",
      "Requirement already satisfied: pydantic in /srv/conda/envs/notebook/lib/python3.10/site-packages (from rio-tiler==4.1.11) (1.10.10)\n",
      "Requirement already satisfied: pystac>=0.5.4 in /srv/conda/envs/notebook/lib/python3.10/site-packages (from rio-tiler==4.1.11) (1.8.1)\n",
      "Requirement already satisfied: rasterio>=1.3.0 in /srv/conda/envs/notebook/lib/python3.10/site-packages (from rio-tiler==4.1.11) (1.3.8)\n",
      "Requirement already satisfied: pyproj~=3.1 in /srv/conda/envs/notebook/lib/python3.10/site-packages (from morecantile<4.0,>=3.1->rio-tiler==4.1.11) (3.6.0)\n",
      "Requirement already satisfied: python-dateutil>=2.7.0 in /srv/conda/envs/notebook/lib/python3.10/site-packages (from pystac>=0.5.4->rio-tiler==4.1.11) (2.8.2)\n",
      "Requirement already satisfied: affine in /srv/conda/envs/notebook/lib/python3.10/site-packages (from rasterio>=1.3.0->rio-tiler==4.1.11) (2.4.0)\n",
      "Requirement already satisfied: certifi in /srv/conda/envs/notebook/lib/python3.10/site-packages (from rasterio>=1.3.0->rio-tiler==4.1.11) (2023.5.7)\n",
      "Requirement already satisfied: click>=4.0 in /srv/conda/envs/notebook/lib/python3.10/site-packages (from rasterio>=1.3.0->rio-tiler==4.1.11) (8.1.3)\n",
      "Requirement already satisfied: cligj>=0.5 in /srv/conda/envs/notebook/lib/python3.10/site-packages (from rasterio>=1.3.0->rio-tiler==4.1.11) (0.7.2)\n",
      "Requirement already satisfied: snuggs>=1.4.1 in /srv/conda/envs/notebook/lib/python3.10/site-packages (from rasterio>=1.3.0->rio-tiler==4.1.11) (1.4.7)\n",
      "Requirement already satisfied: click-plugins in /srv/conda/envs/notebook/lib/python3.10/site-packages (from rasterio>=1.3.0->rio-tiler==4.1.11) (1.1.1)\n",
      "Requirement already satisfied: setuptools in /srv/conda/envs/notebook/lib/python3.10/site-packages (from rasterio>=1.3.0->rio-tiler==4.1.11) (68.0.0)\n",
      "Requirement already satisfied: botocore<1.30.0,>=1.29.76 in /srv/conda/envs/notebook/lib/python3.10/site-packages (from boto3->rio-tiler==4.1.11) (1.29.76)\n",
      "Requirement already satisfied: jmespath<2.0.0,>=0.7.1 in /srv/conda/envs/notebook/lib/python3.10/site-packages (from boto3->rio-tiler==4.1.11) (1.0.1)\n",
      "Requirement already satisfied: s3transfer<0.7.0,>=0.6.0 in /srv/conda/envs/notebook/lib/python3.10/site-packages (from boto3->rio-tiler==4.1.11) (0.6.1)\n",
      "Requirement already satisfied: httpcore<0.18.0,>=0.15.0 in /srv/conda/envs/notebook/lib/python3.10/site-packages (from httpx->rio-tiler==4.1.11) (0.17.3)\n",
      "Requirement already satisfied: idna in /srv/conda/envs/notebook/lib/python3.10/site-packages (from httpx->rio-tiler==4.1.11) (3.4)\n",
      "Requirement already satisfied: sniffio in /srv/conda/envs/notebook/lib/python3.10/site-packages (from httpx->rio-tiler==4.1.11) (1.3.0)\n",
      "Requirement already satisfied: typing-extensions>=4.2.0 in /srv/conda/envs/notebook/lib/python3.10/site-packages (from pydantic->rio-tiler==4.1.11) (4.7.1)\n",
      "Requirement already satisfied: urllib3<1.27,>=1.25.4 in /srv/conda/envs/notebook/lib/python3.10/site-packages (from botocore<1.30.0,>=1.29.76->boto3->rio-tiler==4.1.11) (1.26.15)\n",
      "Requirement already satisfied: h11<0.15,>=0.13 in /srv/conda/envs/notebook/lib/python3.10/site-packages (from httpcore<0.18.0,>=0.15.0->httpx->rio-tiler==4.1.11) (0.14.0)\n",
      "Requirement already satisfied: anyio<5.0,>=3.0 in /srv/conda/envs/notebook/lib/python3.10/site-packages (from httpcore<0.18.0,>=0.15.0->httpx->rio-tiler==4.1.11) (3.7.0)\n",
      "Requirement already satisfied: six>=1.5 in /srv/conda/envs/notebook/lib/python3.10/site-packages (from python-dateutil>=2.7.0->pystac>=0.5.4->rio-tiler==4.1.11) (1.16.0)\n",
      "Requirement already satisfied: pyparsing>=2.1.6 in /srv/conda/envs/notebook/lib/python3.10/site-packages (from snuggs>=1.4.1->rasterio>=1.3.0->rio-tiler==4.1.11) (3.1.0)\n",
      "Requirement already satisfied: exceptiongroup in /srv/conda/envs/notebook/lib/python3.10/site-packages (from anyio<5.0,>=3.0->httpcore<0.18.0,>=0.15.0->httpx->rio-tiler==4.1.11) (1.1.2)\n",
      "Installing collected packages: numexpr, color-operations, rio-tiler\n",
      "Successfully installed color-operations-0.1.1 numexpr-2.8.5 rio-tiler-4.1.11\n"
     ]
    }
   ],
   "source": [
    "!pip install rio-tiler==4.1.11 loguru"
   ]
  },
  {
   "cell_type": "markdown",
   "id": "0dcf1165-6b3a-4a59-bf59-2124bfded1b4",
   "metadata": {
    "tags": []
   },
   "source": [
    "## Setup 2: Setup data access\n",
    "\n",
    "Fetch data from the fake data directory."
   ]
  },
  {
   "cell_type": "code",
   "execution_count": 2,
   "id": "44f1970b-30f3-4948-a6b9-e1940d83448d",
   "metadata": {
    "tags": []
   },
   "outputs": [],
   "source": [
    "credentials = eodc_hub_role.fetch_and_set_credentials()\n",
    "bucket = 'nasa-eodc-data-store'\n",
    "s3_fs = s3fs.S3FileSystem(\n",
    "    key=credentials['AccessKeyId'],\n",
    "    secret=credentials['SecretAccessKey'],\n",
    "    token=credentials['SessionToken'], \n",
    "    anon=False\n",
    ")"
   ]
  },
  {
   "cell_type": "markdown",
   "id": "cf3f4c0c-9dab-4852-b5a8-d79e5d88aabb",
   "metadata": {
    "tags": []
   },
   "source": [
    "## Test 1: Data with single chunk, varied chunk size\n",
    "\n",
    "Hypothesis: Larger chunk sizes mean slower tile times, at all zoom levels.\n",
    "\n",
    "### Step 1: Generate dataset specs"
   ]
  },
  {
   "cell_type": "code",
   "execution_count": 7,
   "id": "17873506-566c-4739-800c-d189b90a6b50",
   "metadata": {
    "tags": []
   },
   "outputs": [],
   "source": [
    "# Fake data directory\n",
    "data_path = 'fake_data/single_chunk'\n",
    "directories = s3_fs.ls(f'{bucket}/{data_path}')\n",
    "\n",
    "datastore_specs = zarr_helpers.get_dataset_specs_from_directory(directories)"
   ]
  },
  {
   "cell_type": "code",
   "execution_count": 24,
   "id": "138cecf4-f1a7-44dc-b606-02539145128b",
   "metadata": {
    "tags": []
   },
   "outputs": [
    {
     "data": {
      "text/plain": [
       "(1, 362, 724)"
      ]
     },
     "execution_count": 24,
     "metadata": {},
     "output_type": "execute_result"
    }
   ],
   "source": [
    "target_size = 2\n",
    "# not variable: bytes per mb\n",
    "onemb = 1024 # bytes per mb\n",
    "# number of data values per chunk\n",
    "data_values_per_chunk = (target_size * onemb * onemb)/8 # 8 bytes for each data value\n",
    "# since there are half as many latitudes as longitudes, calculate the y dimension to be half the x dimension\n",
    "ydim = round(np.sqrt(data_values_per_chunk/2))\n",
    "xdim = 2*ydim\n",
    "target_chunks = (1, ydim, xdim)\n",
    "max_mem = \"1GB\"\n",
    "target_chunks"
   ]
  },
  {
   "cell_type": "code",
   "execution_count": 17,
   "id": "7617952a-9ccb-4663-bad4-ea998fb5229a",
   "metadata": {
    "tags": []
   },
   "outputs": [
    {
     "name": "stdout",
     "output_type": "stream",
     "text": [
      "Writing to nasa-eodc-data-store/fake_data/single_chunk_rechunked/store_lat512_lon1024.zarr\n",
      "Writing to nasa-eodc-data-store/fake_data/single_chunk_rechunked/store_lat512_lon1024.zarr\n",
      "Writing to nasa-eodc-data-store/fake_data/single_chunk_rechunked/store_lat512_lon1024.zarr\n",
      "Writing to nasa-eodc-data-store/fake_data/single_chunk_rechunked/store_lat512_lon1024.zarr\n",
      "Writing to nasa-eodc-data-store/fake_data/single_chunk_rechunked/store_lat512_lon1024.zarr\n",
      "Writing to nasa-eodc-data-store/fake_data/single_chunk_rechunked/store_lat512_lon1024.zarr\n",
      "Writing to nasa-eodc-data-store/fake_data/single_chunk_rechunked/store_lat512_lon1024.zarr\n"
     ]
    }
   ],
   "source": [
    "store_directory = f'{bucket}/fake_data/single_chunk_rechunked'\n",
    "# for each datastore, rechunk and restore\n",
    "for key, datastore in datastore_specs.items():\n",
    "    # Open existing Zarr dataset\n",
    "    with Timer() as t:\n",
    "        ds = xr.open_zarr(datastore['source'])\n",
    "\n",
    "        # Perform rechunking\n",
    "        ds_rechunked = ds.copy()\n",
    "        ds_rechunked.chunk({'time': target_chunks[0], 'lat': target_chunks[1], 'lon': target_chunks[2]})\n",
    "\n",
    "        # Save rechunked dataset to a new Zarr store\n",
    "        path = f\"{store_directory}/store_lat{ds['shape']['lat']}_lon{ds['shape']['lon']}.zarr\"\n",
    "        store = s3fs.S3Map(root=path, s3=s3_fs, check=False)\n",
    "        print(f\"Writing to {path}\")\n",
    "        ds_rechunked.to_zarr(store, mode='w')\n",
    "    datastore_specs[key]['time to rechunk'] = round(t.elapsed * 1000, 2) "
   ]
  },
  {
   "cell_type": "code",
   "execution_count": 19,
   "id": "a378f2a0-8356-42ba-b1ef-404ce16e056d",
   "metadata": {
    "tags": []
   },
   "outputs": [
    {
     "data": {
      "text/plain": [
       "{'single_chunk/store_lat1024_lon2048.zarr': {'source': 's3://nasa-eodc-data-store/fake_data/single_chunk/store_lat1024_lon2048.zarr',\n",
       "  'collection_name': 'single_chunk/store_lat1024_lon2048.zarr',\n",
       "  'variable': 'data',\n",
       "  'shape': {'time': 1, 'lat': 1024, 'lon': 2048},\n",
       "  'lat_resolution': 0.17595307917888564,\n",
       "  'lon_resolution': 0.17586712261846604,\n",
       "  'chunk_size_mb': 16.0,\n",
       "  'chunks': {'time': 1, 'lat': 1024, 'lon': 2048},\n",
       "  'dataarray_size': 16.0,\n",
       "  'dtype': dtype('float64'),\n",
       "  'number_coord_chunks': 3,\n",
       "  'compression': Blosc(cname='lz4', clevel=5, shuffle=SHUFFLE, blocksize=0),\n",
       "  'number_of_chunks': 1,\n",
       "  'time to rechunk': 3131.36},\n",
       " 'single_chunk/store_lat1448_lon2896.zarr': {'source': 's3://nasa-eodc-data-store/fake_data/single_chunk/store_lat1448_lon2896.zarr',\n",
       "  'collection_name': 'single_chunk/store_lat1448_lon2896.zarr',\n",
       "  'variable': 'data',\n",
       "  'shape': {'time': 1, 'lat': 1448, 'lon': 2896},\n",
       "  'lat_resolution': 0.1243953006219765,\n",
       "  'lon_resolution': 0.12435233160621761,\n",
       "  'chunk_size_mb': 31.9931640625,\n",
       "  'chunks': {'time': 1, 'lat': 1448, 'lon': 2896},\n",
       "  'dataarray_size': 31.9931640625,\n",
       "  'dtype': dtype('float64'),\n",
       "  'number_coord_chunks': 3,\n",
       "  'compression': Blosc(cname='lz4', clevel=5, shuffle=SHUFFLE, blocksize=0),\n",
       "  'number_of_chunks': 1,\n",
       "  'time to rechunk': 3481.36},\n",
       " 'single_chunk/store_lat2048_lon4096.zarr': {'source': 's3://nasa-eodc-data-store/fake_data/single_chunk/store_lat2048_lon4096.zarr',\n",
       "  'collection_name': 'single_chunk/store_lat2048_lon4096.zarr',\n",
       "  'variable': 'data',\n",
       "  'shape': {'time': 1, 'lat': 2048, 'lon': 4096},\n",
       "  'lat_resolution': 0.08793356130923302,\n",
       "  'lon_resolution': 0.08791208791208792,\n",
       "  'chunk_size_mb': 64.0,\n",
       "  'chunks': {'time': 1, 'lat': 2048, 'lon': 4096},\n",
       "  'dataarray_size': 64.0,\n",
       "  'dtype': dtype('float64'),\n",
       "  'number_coord_chunks': 3,\n",
       "  'compression': Blosc(cname='lz4', clevel=5, shuffle=SHUFFLE, blocksize=0),\n",
       "  'number_of_chunks': 1,\n",
       "  'time to rechunk': 4226.71},\n",
       " 'single_chunk/store_lat2896_lon5792.zarr': {'source': 's3://nasa-eodc-data-store/fake_data/single_chunk/store_lat2896_lon5792.zarr',\n",
       "  'collection_name': 'single_chunk/store_lat2896_lon5792.zarr',\n",
       "  'variable': 'data',\n",
       "  'shape': {'time': 1, 'lat': 2896, 'lon': 5792},\n",
       "  'lat_resolution': 0.06217616580310881,\n",
       "  'lon_resolution': 0.062165429114142634,\n",
       "  'chunk_size_mb': 127.97265625,\n",
       "  'chunks': {'time': 1, 'lat': 2896, 'lon': 5792},\n",
       "  'dataarray_size': 127.97265625,\n",
       "  'dtype': dtype('float64'),\n",
       "  'number_coord_chunks': 3,\n",
       "  'compression': Blosc(cname='lz4', clevel=5, shuffle=SHUFFLE, blocksize=0),\n",
       "  'number_of_chunks': 1,\n",
       "  'time to rechunk': 6752.33},\n",
       " 'single_chunk/store_lat4096_lon8192.zarr': {'source': 's3://nasa-eodc-data-store/fake_data/single_chunk/store_lat4096_lon8192.zarr',\n",
       "  'collection_name': 'single_chunk/store_lat4096_lon8192.zarr',\n",
       "  'variable': 'data',\n",
       "  'shape': {'time': 1, 'lat': 4096, 'lon': 8192},\n",
       "  'lat_resolution': 0.04395604395604396,\n",
       "  'lon_resolution': 0.04395067757294591,\n",
       "  'chunk_size_mb': 256.0,\n",
       "  'chunks': {'time': 1, 'lat': 4096, 'lon': 8192},\n",
       "  'dataarray_size': 256.0,\n",
       "  'dtype': dtype('float64'),\n",
       "  'number_coord_chunks': 3,\n",
       "  'compression': Blosc(cname='lz4', clevel=5, shuffle=SHUFFLE, blocksize=0),\n",
       "  'number_of_chunks': 1,\n",
       "  'time to rechunk': 10378.76},\n",
       " 'single_chunk/store_lat512_lon1024.zarr': {'source': 's3://nasa-eodc-data-store/fake_data/single_chunk/store_lat512_lon1024.zarr',\n",
       "  'collection_name': 'single_chunk/store_lat512_lon1024.zarr',\n",
       "  'variable': 'data',\n",
       "  'shape': {'time': 1, 'lat': 512, 'lon': 1024},\n",
       "  'lat_resolution': 0.3522504892367906,\n",
       "  'lon_resolution': 0.3519061583577713,\n",
       "  'chunk_size_mb': 4.0,\n",
       "  'chunks': {'time': 1, 'lat': 512, 'lon': 1024},\n",
       "  'dataarray_size': 4.0,\n",
       "  'dtype': dtype('float64'),\n",
       "  'number_coord_chunks': 3,\n",
       "  'compression': Blosc(cname='lz4', clevel=5, shuffle=SHUFFLE, blocksize=0),\n",
       "  'number_of_chunks': 1,\n",
       "  'time to rechunk': 3149.57},\n",
       " 'single_chunk/store_lat724_lon1448.zarr': {'source': 's3://nasa-eodc-data-store/fake_data/single_chunk/store_lat724_lon1448.zarr',\n",
       "  'collection_name': 'single_chunk/store_lat724_lon1448.zarr',\n",
       "  'variable': 'data',\n",
       "  'shape': {'time': 1, 'lat': 724, 'lon': 1448},\n",
       "  'lat_resolution': 0.24896265560165975,\n",
       "  'lon_resolution': 0.248790601243953,\n",
       "  'chunk_size_mb': 7.998291015625,\n",
       "  'chunks': {'time': 1, 'lat': 724, 'lon': 1448},\n",
       "  'dataarray_size': 7.998291015625,\n",
       "  'dtype': dtype('float64'),\n",
       "  'number_coord_chunks': 3,\n",
       "  'compression': Blosc(cname='lz4', clevel=5, shuffle=SHUFFLE, blocksize=0),\n",
       "  'number_of_chunks': 1,\n",
       "  'time to rechunk': 3017.7}}"
      ]
     },
     "execution_count": 19,
     "metadata": {},
     "output_type": "execute_result"
    }
   ],
   "source": [
    "datastore_specs"
   ]
  },
  {
   "cell_type": "code",
   "execution_count": 25,
   "id": "69215ef4-b5a3-43f2-a735-0b6945c6a355",
   "metadata": {
    "tags": []
   },
   "outputs": [],
   "source": [
    "from rechunker import rechunk\n",
    "import zarr\n",
    "\n",
    "# for each datastore, rechunk and restore\n",
    "for key, datastore in datastore_specs.items():\n",
    "    # Open existing Zarr dataset\n",
    "    with Timer() as t:\n",
    "        source_store = datastore['source'].replace('s3://', '')\n",
    "        store = s3fs.S3Map(root=source_store, s3=s3_fs, check=False)\n",
    "        group = zarr.open_consolidated(store, mode=\"r\")\n",
    "        source_array = group[\"data\"]\n",
    "        # Perform rechunking\n",
    "        store_temp = \"temp.zarr\"\n",
    "        target_store = f\"{bucket}/fake_data/rechunker_rechunked/store_lat{datastore['shape']['lat']}_lon{datastore['shape']['lon']}.zarr\"\n",
    "        store_target = s3fs.S3Map(root=target_store, s3=s3_fs, check=False)\n",
    "        r = rechunk(source_array, target_chunks, max_mem, store_target, temp_store=store_temp)\n",
    "        result = r.execute()\n",
    "    datastore_specs[key]['time to rechunk'] = round(t.elapsed * 1000, 2)"
   ]
  },
  {
   "cell_type": "code",
   "execution_count": 26,
   "id": "f0846105-ecd2-4910-aafc-0ee91dd900cd",
   "metadata": {
    "tags": []
   },
   "outputs": [
    {
     "data": {
      "text/plain": [
       "{'single_chunk/store_lat1024_lon2048.zarr': {'source': 's3://nasa-eodc-data-store/fake_data/single_chunk/store_lat1024_lon2048.zarr',\n",
       "  'collection_name': 'single_chunk/store_lat1024_lon2048.zarr',\n",
       "  'variable': 'data',\n",
       "  'shape': {'time': 1, 'lat': 1024, 'lon': 2048},\n",
       "  'lat_resolution': 0.17595307917888564,\n",
       "  'lon_resolution': 0.17586712261846604,\n",
       "  'chunk_size_mb': 16.0,\n",
       "  'chunks': {'time': 1, 'lat': 1024, 'lon': 2048},\n",
       "  'dataarray_size': 16.0,\n",
       "  'dtype': dtype('float64'),\n",
       "  'number_coord_chunks': 3,\n",
       "  'compression': Blosc(cname='lz4', clevel=5, shuffle=SHUFFLE, blocksize=0),\n",
       "  'number_of_chunks': 1,\n",
       "  'time to rechunk': 917.19},\n",
       " 'single_chunk/store_lat1448_lon2896.zarr': {'source': 's3://nasa-eodc-data-store/fake_data/single_chunk/store_lat1448_lon2896.zarr',\n",
       "  'collection_name': 'single_chunk/store_lat1448_lon2896.zarr',\n",
       "  'variable': 'data',\n",
       "  'shape': {'time': 1, 'lat': 1448, 'lon': 2896},\n",
       "  'lat_resolution': 0.1243953006219765,\n",
       "  'lon_resolution': 0.12435233160621761,\n",
       "  'chunk_size_mb': 31.9931640625,\n",
       "  'chunks': {'time': 1, 'lat': 1448, 'lon': 2896},\n",
       "  'dataarray_size': 31.9931640625,\n",
       "  'dtype': dtype('float64'),\n",
       "  'number_coord_chunks': 3,\n",
       "  'compression': Blosc(cname='lz4', clevel=5, shuffle=SHUFFLE, blocksize=0),\n",
       "  'number_of_chunks': 1,\n",
       "  'time to rechunk': 904.01},\n",
       " 'single_chunk/store_lat2048_lon4096.zarr': {'source': 's3://nasa-eodc-data-store/fake_data/single_chunk/store_lat2048_lon4096.zarr',\n",
       "  'collection_name': 'single_chunk/store_lat2048_lon4096.zarr',\n",
       "  'variable': 'data',\n",
       "  'shape': {'time': 1, 'lat': 2048, 'lon': 4096},\n",
       "  'lat_resolution': 0.08793356130923302,\n",
       "  'lon_resolution': 0.08791208791208792,\n",
       "  'chunk_size_mb': 64.0,\n",
       "  'chunks': {'time': 1, 'lat': 2048, 'lon': 4096},\n",
       "  'dataarray_size': 64.0,\n",
       "  'dtype': dtype('float64'),\n",
       "  'number_coord_chunks': 3,\n",
       "  'compression': Blosc(cname='lz4', clevel=5, shuffle=SHUFFLE, blocksize=0),\n",
       "  'number_of_chunks': 1,\n",
       "  'time to rechunk': 1721.63},\n",
       " 'single_chunk/store_lat2896_lon5792.zarr': {'source': 's3://nasa-eodc-data-store/fake_data/single_chunk/store_lat2896_lon5792.zarr',\n",
       "  'collection_name': 'single_chunk/store_lat2896_lon5792.zarr',\n",
       "  'variable': 'data',\n",
       "  'shape': {'time': 1, 'lat': 2896, 'lon': 5792},\n",
       "  'lat_resolution': 0.06217616580310881,\n",
       "  'lon_resolution': 0.062165429114142634,\n",
       "  'chunk_size_mb': 127.97265625,\n",
       "  'chunks': {'time': 1, 'lat': 2896, 'lon': 5792},\n",
       "  'dataarray_size': 127.97265625,\n",
       "  'dtype': dtype('float64'),\n",
       "  'number_coord_chunks': 3,\n",
       "  'compression': Blosc(cname='lz4', clevel=5, shuffle=SHUFFLE, blocksize=0),\n",
       "  'number_of_chunks': 1,\n",
       "  'time to rechunk': 2833.42},\n",
       " 'single_chunk/store_lat4096_lon8192.zarr': {'source': 's3://nasa-eodc-data-store/fake_data/single_chunk/store_lat4096_lon8192.zarr',\n",
       "  'collection_name': 'single_chunk/store_lat4096_lon8192.zarr',\n",
       "  'variable': 'data',\n",
       "  'shape': {'time': 1, 'lat': 4096, 'lon': 8192},\n",
       "  'lat_resolution': 0.04395604395604396,\n",
       "  'lon_resolution': 0.04395067757294591,\n",
       "  'chunk_size_mb': 256.0,\n",
       "  'chunks': {'time': 1, 'lat': 4096, 'lon': 8192},\n",
       "  'dataarray_size': 256.0,\n",
       "  'dtype': dtype('float64'),\n",
       "  'number_coord_chunks': 3,\n",
       "  'compression': Blosc(cname='lz4', clevel=5, shuffle=SHUFFLE, blocksize=0),\n",
       "  'number_of_chunks': 1,\n",
       "  'time to rechunk': 5826.12},\n",
       " 'single_chunk/store_lat512_lon1024.zarr': {'source': 's3://nasa-eodc-data-store/fake_data/single_chunk/store_lat512_lon1024.zarr',\n",
       "  'collection_name': 'single_chunk/store_lat512_lon1024.zarr',\n",
       "  'variable': 'data',\n",
       "  'shape': {'time': 1, 'lat': 512, 'lon': 1024},\n",
       "  'lat_resolution': 0.3522504892367906,\n",
       "  'lon_resolution': 0.3519061583577713,\n",
       "  'chunk_size_mb': 4.0,\n",
       "  'chunks': {'time': 1, 'lat': 512, 'lon': 1024},\n",
       "  'dataarray_size': 4.0,\n",
       "  'dtype': dtype('float64'),\n",
       "  'number_coord_chunks': 3,\n",
       "  'compression': Blosc(cname='lz4', clevel=5, shuffle=SHUFFLE, blocksize=0),\n",
       "  'number_of_chunks': 1,\n",
       "  'time to rechunk': 425.58},\n",
       " 'single_chunk/store_lat724_lon1448.zarr': {'source': 's3://nasa-eodc-data-store/fake_data/single_chunk/store_lat724_lon1448.zarr',\n",
       "  'collection_name': 'single_chunk/store_lat724_lon1448.zarr',\n",
       "  'variable': 'data',\n",
       "  'shape': {'time': 1, 'lat': 724, 'lon': 1448},\n",
       "  'lat_resolution': 0.24896265560165975,\n",
       "  'lon_resolution': 0.248790601243953,\n",
       "  'chunk_size_mb': 7.998291015625,\n",
       "  'chunks': {'time': 1, 'lat': 724, 'lon': 1448},\n",
       "  'dataarray_size': 7.998291015625,\n",
       "  'dtype': dtype('float64'),\n",
       "  'number_coord_chunks': 3,\n",
       "  'compression': Blosc(cname='lz4', clevel=5, shuffle=SHUFFLE, blocksize=0),\n",
       "  'number_of_chunks': 1,\n",
       "  'time to rechunk': 669.48}}"
      ]
     },
     "execution_count": 26,
     "metadata": {},
     "output_type": "execute_result"
    }
   ],
   "source": [
    "datastore_specs"
   ]
  }
 ],
 "metadata": {
  "kernelspec": {
   "display_name": "Python 3 (ipykernel)",
   "language": "python",
   "name": "python3"
  },
  "language_info": {
   "codemirror_mode": {
    "name": "ipython",
    "version": 3
   },
   "file_extension": ".py",
   "mimetype": "text/x-python",
   "name": "python",
   "nbconvert_exporter": "python",
   "pygments_lexer": "ipython3",
   "version": "3.10.12"
  }
 },
 "nbformat": 4,
 "nbformat_minor": 5
}
