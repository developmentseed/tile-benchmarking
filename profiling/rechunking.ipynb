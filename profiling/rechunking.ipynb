{
 "cells": [
  {
   "cell_type": "markdown",
   "id": "346518ee-b519-4fc7-a6ff-eaf4d4d066a8",
   "metadata": {},
   "source": [
    "# Estimate time to rechunk an existing dataset, varying resolutions\n",
    "\n",
    "Estimate time to rechunk as a variable of size of dataset and size of desired chunk."
   ]
  },
  {
   "cell_type": "code",
   "execution_count": 8,
   "id": "8b775c03-a9cd-421c-9021-bbfc42f2318f",
   "metadata": {
    "tags": []
   },
   "outputs": [],
   "source": [
    "import numpy as np\n",
    "import s3fs\n",
    "import xarray as xr\n",
    "import sys; sys.path.append('..')\n",
    "from profiler.main import Timer\n",
    "import eodc_hub_role\n",
    "import zarr_helpers"
   ]
  },
  {
   "cell_type": "code",
   "execution_count": 2,
   "id": "d1a3e901-bb13-41cd-a172-036749a4a34a",
   "metadata": {
    "tags": []
   },
   "outputs": [],
   "source": [
    "%%capture\n",
    "!pip uninstall apache-beam -y\n",
    "!pip install 'apache-beam[interactive, dataframe]==2.48.0' git+https://github.com/carbonplan/cmip6-downscaling.git git+https://github.com/pangeo-forge/pangeo-forge-recipes.git@beam-refactor"
   ]
  },
  {
   "cell_type": "markdown",
   "id": "0dcf1165-6b3a-4a59-bf59-2124bfded1b4",
   "metadata": {
    "tags": []
   },
   "source": [
    "## Setup 2: Setup data access\n",
    "\n",
    "Fetch data from the fake data directory."
   ]
  },
  {
   "cell_type": "code",
   "execution_count": 9,
   "id": "44f1970b-30f3-4948-a6b9-e1940d83448d",
   "metadata": {
    "tags": []
   },
   "outputs": [],
   "source": [
    "credentials = eodc_hub_role.fetch_and_set_credentials()\n",
    "bucket = 'nasa-eodc-data-store'\n",
    "s3_fs = s3fs.S3FileSystem(\n",
    "    key=credentials['AccessKeyId'],\n",
    "    secret=credentials['SecretAccessKey'],\n",
    "    token=credentials['SessionToken'], \n",
    "    anon=False\n",
    ")"
   ]
  },
  {
   "cell_type": "markdown",
   "id": "cf3f4c0c-9dab-4852-b5a8-d79e5d88aabb",
   "metadata": {
    "tags": []
   },
   "source": [
    "## Test 1: Data with single chunk, varied chunk size\n",
    "\n",
    "Hypothesis: Larger chunk sizes mean slower tile times, at all zoom levels.\n",
    "\n",
    "### Step 1: Generate dataset specs"
   ]
  },
  {
   "cell_type": "code",
   "execution_count": 4,
   "id": "17873506-566c-4739-800c-d189b90a6b50",
   "metadata": {
    "tags": []
   },
   "outputs": [],
   "source": [
    "# Fake data directory\n",
    "data_path = 'fake_data/single_chunk'\n",
    "directories = s3_fs.ls(f'{bucket}/{data_path}')\n",
    "\n",
    "datastore_specs = zarr_helpers.get_dataset_specs_from_directory(directories)\n"
   ]
  },
  {
   "cell_type": "code",
   "execution_count": 15,
   "id": "138cecf4-f1a7-44dc-b606-02539145128b",
   "metadata": {
    "tags": []
   },
   "outputs": [
    {
     "data": {
      "text/plain": [
       "{'time': 1, 'lat': 512, 'lon': 1024}"
      ]
     },
     "execution_count": 15,
     "metadata": {},
     "output_type": "execute_result"
    }
   ],
   "source": [
    "target_size = 4\n",
    "# not variable: bytes per mb\n",
    "onemb = 1024 # bytes per mb\n",
    "# number of data values per chunk\n",
    "data_values_per_chunk = (target_size * onemb * onemb)/8 # 8 bytes for each data value\n",
    "# since there are half as many latitudes as longitudes, calculate the y dimension to be half the x dimension\n",
    "ydim = round(np.sqrt(data_values_per_chunk/2))\n",
    "xdim = 2*ydim\n",
    "target_chunks = {'time': 1, 'lat': ydim, 'lon': xdim}\n",
    "target_chunks"
   ]
  },
  {
   "cell_type": "code",
   "execution_count": 19,
   "id": "7617952a-9ccb-4663-bad4-ea998fb5229a",
   "metadata": {
    "tags": []
   },
   "outputs": [
    {
     "name": "stdout",
     "output_type": "stream",
     "text": [
      "{'source': 's3://nasa-eodc-data-store/fake_data/single_chunk/store_lat1024_lon2048.zarr', 'collection_name': 'store_lat1024_lon2048.zarr', 'variable': 'data', 'shape': {'time': 1, 'lat': 1024, 'lon': 2048}, 'lat_resolution': 0.17595307917888564, 'lon_resolution': 0.17586712261846604, 'chunk_size_mb': 16.0, 'chunks': {'time': 1, 'lat': 1024, 'lon': 2048}, 'dtype': dtype('float64'), 'number_coord_chunks': 3, 'compression': Blosc(cname='lz4', clevel=5, shuffle=SHUFFLE, blocksize=0), 'number_of_chunks': 1}\n",
      "Writing to nasa-eodc-data-store/fake_data/single_chunk_rechunked/store_lat512_lon1024.zarr\n",
      "{'source': 's3://nasa-eodc-data-store/fake_data/single_chunk/store_lat1448_lon2896.zarr', 'collection_name': 'store_lat1448_lon2896.zarr', 'variable': 'data', 'shape': {'time': 1, 'lat': 1448, 'lon': 2896}, 'lat_resolution': 0.1243953006219765, 'lon_resolution': 0.12435233160621761, 'chunk_size_mb': 31.9931640625, 'chunks': {'time': 1, 'lat': 1448, 'lon': 2896}, 'dtype': dtype('float64'), 'number_coord_chunks': 3, 'compression': Blosc(cname='lz4', clevel=5, shuffle=SHUFFLE, blocksize=0), 'number_of_chunks': 1}\n",
      "Writing to nasa-eodc-data-store/fake_data/single_chunk_rechunked/store_lat512_lon1024.zarr\n",
      "{'source': 's3://nasa-eodc-data-store/fake_data/single_chunk/store_lat2048_lon4096.zarr', 'collection_name': 'store_lat2048_lon4096.zarr', 'variable': 'data', 'shape': {'time': 1, 'lat': 2048, 'lon': 4096}, 'lat_resolution': 0.08793356130923302, 'lon_resolution': 0.08791208791208792, 'chunk_size_mb': 64.0, 'chunks': {'time': 1, 'lat': 2048, 'lon': 4096}, 'dtype': dtype('float64'), 'number_coord_chunks': 3, 'compression': Blosc(cname='lz4', clevel=5, shuffle=SHUFFLE, blocksize=0), 'number_of_chunks': 1}\n",
      "Writing to nasa-eodc-data-store/fake_data/single_chunk_rechunked/store_lat512_lon1024.zarr\n",
      "{'source': 's3://nasa-eodc-data-store/fake_data/single_chunk/store_lat2896_lon5792.zarr', 'collection_name': 'store_lat2896_lon5792.zarr', 'variable': 'data', 'shape': {'time': 1, 'lat': 2896, 'lon': 5792}, 'lat_resolution': 0.06217616580310881, 'lon_resolution': 0.062165429114142634, 'chunk_size_mb': 127.97265625, 'chunks': {'time': 1, 'lat': 2896, 'lon': 5792}, 'dtype': dtype('float64'), 'number_coord_chunks': 3, 'compression': Blosc(cname='lz4', clevel=5, shuffle=SHUFFLE, blocksize=0), 'number_of_chunks': 1}\n",
      "Writing to nasa-eodc-data-store/fake_data/single_chunk_rechunked/store_lat512_lon1024.zarr\n",
      "{'source': 's3://nasa-eodc-data-store/fake_data/single_chunk/store_lat4096_lon8192.zarr', 'collection_name': 'store_lat4096_lon8192.zarr', 'variable': 'data', 'shape': {'time': 1, 'lat': 4096, 'lon': 8192}, 'lat_resolution': 0.04395604395604396, 'lon_resolution': 0.04395067757294591, 'chunk_size_mb': 256.0, 'chunks': {'time': 1, 'lat': 4096, 'lon': 8192}, 'dtype': dtype('float64'), 'number_coord_chunks': 3, 'compression': Blosc(cname='lz4', clevel=5, shuffle=SHUFFLE, blocksize=0), 'number_of_chunks': 1}\n",
      "Writing to nasa-eodc-data-store/fake_data/single_chunk_rechunked/store_lat512_lon1024.zarr\n",
      "{'source': 's3://nasa-eodc-data-store/fake_data/single_chunk/store_lat512_lon1024.zarr', 'collection_name': 'store_lat512_lon1024.zarr', 'variable': 'data', 'shape': {'time': 1, 'lat': 512, 'lon': 1024}, 'lat_resolution': 0.3522504892367906, 'lon_resolution': 0.3519061583577713, 'chunk_size_mb': 4.0, 'chunks': {'time': 1, 'lat': 512, 'lon': 1024}, 'dtype': dtype('float64'), 'number_coord_chunks': 3, 'compression': Blosc(cname='lz4', clevel=5, shuffle=SHUFFLE, blocksize=0), 'number_of_chunks': 1}\n",
      "Writing to nasa-eodc-data-store/fake_data/single_chunk_rechunked/store_lat512_lon1024.zarr\n",
      "{'source': 's3://nasa-eodc-data-store/fake_data/single_chunk/store_lat724_lon1448.zarr', 'collection_name': 'store_lat724_lon1448.zarr', 'variable': 'data', 'shape': {'time': 1, 'lat': 724, 'lon': 1448}, 'lat_resolution': 0.24896265560165975, 'lon_resolution': 0.248790601243953, 'chunk_size_mb': 7.998291015625, 'chunks': {'time': 1, 'lat': 724, 'lon': 1448}, 'dtype': dtype('float64'), 'number_coord_chunks': 3, 'compression': Blosc(cname='lz4', clevel=5, shuffle=SHUFFLE, blocksize=0), 'number_of_chunks': 1}\n",
      "Writing to nasa-eodc-data-store/fake_data/single_chunk_rechunked/store_lat512_lon1024.zarr\n"
     ]
    }
   ],
   "source": [
    "store_directory = f'{bucket}/fake_data/single_chunk_rechunked'\n",
    "# for each datastore, rechunk and restore\n",
    "for key, datastore in datastore_specs.items():\n",
    "    # Open existing Zarr dataset\n",
    "    with Timer() as t:\n",
    "        ds = xr.open_zarr(datastore['source'])\n",
    "\n",
    "        # Perform rechunking\n",
    "        ds_rechunked = ds.copy()\n",
    "        ds_rechunked.chunk(target_chunks)\n",
    "\n",
    "        # Save rechunked dataset to a new Zarr store\n",
    "        path = f'{store_directory}/store_lat{ydim}_lon{xdim}.zarr'\n",
    "        store = s3fs.S3Map(root=path, s3=s3_fs, check=False)\n",
    "        print(f\"Writing to {path}\")\n",
    "        ds_rechunked.to_zarr(store, mode='w')\n",
    "    datastore_specs[key]['time to rechunk'] = round(t.elapsed * 1000, 2) "
   ]
  },
  {
   "cell_type": "code",
   "execution_count": 21,
   "id": "69215ef4-b5a3-43f2-a735-0b6945c6a355",
   "metadata": {
    "tags": []
   },
   "outputs": [
    {
     "data": {
      "text/plain": [
       "{'store_lat1024_lon2048.zarr': {'source': 's3://nasa-eodc-data-store/fake_data/single_chunk/store_lat1024_lon2048.zarr',\n",
       "  'collection_name': 'store_lat1024_lon2048.zarr',\n",
       "  'variable': 'data',\n",
       "  'shape': {'time': 1, 'lat': 1024, 'lon': 2048},\n",
       "  'lat_resolution': 0.17595307917888564,\n",
       "  'lon_resolution': 0.17586712261846604,\n",
       "  'chunk_size_mb': 16.0,\n",
       "  'chunks': {'time': 1, 'lat': 1024, 'lon': 2048},\n",
       "  'dtype': dtype('float64'),\n",
       "  'number_coord_chunks': 3,\n",
       "  'compression': Blosc(cname='lz4', clevel=5, shuffle=SHUFFLE, blocksize=0),\n",
       "  'number_of_chunks': 1,\n",
       "  'time to rechunk': 3486.02},\n",
       " 'store_lat1448_lon2896.zarr': {'source': 's3://nasa-eodc-data-store/fake_data/single_chunk/store_lat1448_lon2896.zarr',\n",
       "  'collection_name': 'store_lat1448_lon2896.zarr',\n",
       "  'variable': 'data',\n",
       "  'shape': {'time': 1, 'lat': 1448, 'lon': 2896},\n",
       "  'lat_resolution': 0.1243953006219765,\n",
       "  'lon_resolution': 0.12435233160621761,\n",
       "  'chunk_size_mb': 31.9931640625,\n",
       "  'chunks': {'time': 1, 'lat': 1448, 'lon': 2896},\n",
       "  'dtype': dtype('float64'),\n",
       "  'number_coord_chunks': 3,\n",
       "  'compression': Blosc(cname='lz4', clevel=5, shuffle=SHUFFLE, blocksize=0),\n",
       "  'number_of_chunks': 1,\n",
       "  'time to rechunk': 3573.81},\n",
       " 'store_lat2048_lon4096.zarr': {'source': 's3://nasa-eodc-data-store/fake_data/single_chunk/store_lat2048_lon4096.zarr',\n",
       "  'collection_name': 'store_lat2048_lon4096.zarr',\n",
       "  'variable': 'data',\n",
       "  'shape': {'time': 1, 'lat': 2048, 'lon': 4096},\n",
       "  'lat_resolution': 0.08793356130923302,\n",
       "  'lon_resolution': 0.08791208791208792,\n",
       "  'chunk_size_mb': 64.0,\n",
       "  'chunks': {'time': 1, 'lat': 2048, 'lon': 4096},\n",
       "  'dtype': dtype('float64'),\n",
       "  'number_coord_chunks': 3,\n",
       "  'compression': Blosc(cname='lz4', clevel=5, shuffle=SHUFFLE, blocksize=0),\n",
       "  'number_of_chunks': 1,\n",
       "  'time to rechunk': 4031.98},\n",
       " 'store_lat2896_lon5792.zarr': {'source': 's3://nasa-eodc-data-store/fake_data/single_chunk/store_lat2896_lon5792.zarr',\n",
       "  'collection_name': 'store_lat2896_lon5792.zarr',\n",
       "  'variable': 'data',\n",
       "  'shape': {'time': 1, 'lat': 2896, 'lon': 5792},\n",
       "  'lat_resolution': 0.06217616580310881,\n",
       "  'lon_resolution': 0.062165429114142634,\n",
       "  'chunk_size_mb': 127.97265625,\n",
       "  'chunks': {'time': 1, 'lat': 2896, 'lon': 5792},\n",
       "  'dtype': dtype('float64'),\n",
       "  'number_coord_chunks': 3,\n",
       "  'compression': Blosc(cname='lz4', clevel=5, shuffle=SHUFFLE, blocksize=0),\n",
       "  'number_of_chunks': 1,\n",
       "  'time to rechunk': 6058.05},\n",
       " 'store_lat4096_lon8192.zarr': {'source': 's3://nasa-eodc-data-store/fake_data/single_chunk/store_lat4096_lon8192.zarr',\n",
       "  'collection_name': 'store_lat4096_lon8192.zarr',\n",
       "  'variable': 'data',\n",
       "  'shape': {'time': 1, 'lat': 4096, 'lon': 8192},\n",
       "  'lat_resolution': 0.04395604395604396,\n",
       "  'lon_resolution': 0.04395067757294591,\n",
       "  'chunk_size_mb': 256.0,\n",
       "  'chunks': {'time': 1, 'lat': 4096, 'lon': 8192},\n",
       "  'dtype': dtype('float64'),\n",
       "  'number_coord_chunks': 3,\n",
       "  'compression': Blosc(cname='lz4', clevel=5, shuffle=SHUFFLE, blocksize=0),\n",
       "  'number_of_chunks': 1,\n",
       "  'time to rechunk': 11924.89},\n",
       " 'store_lat512_lon1024.zarr': {'source': 's3://nasa-eodc-data-store/fake_data/single_chunk/store_lat512_lon1024.zarr',\n",
       "  'collection_name': 'store_lat512_lon1024.zarr',\n",
       "  'variable': 'data',\n",
       "  'shape': {'time': 1, 'lat': 512, 'lon': 1024},\n",
       "  'lat_resolution': 0.3522504892367906,\n",
       "  'lon_resolution': 0.3519061583577713,\n",
       "  'chunk_size_mb': 4.0,\n",
       "  'chunks': {'time': 1, 'lat': 512, 'lon': 1024},\n",
       "  'dtype': dtype('float64'),\n",
       "  'number_coord_chunks': 3,\n",
       "  'compression': Blosc(cname='lz4', clevel=5, shuffle=SHUFFLE, blocksize=0),\n",
       "  'number_of_chunks': 1,\n",
       "  'time to rechunk': 3109.32},\n",
       " 'store_lat724_lon1448.zarr': {'source': 's3://nasa-eodc-data-store/fake_data/single_chunk/store_lat724_lon1448.zarr',\n",
       "  'collection_name': 'store_lat724_lon1448.zarr',\n",
       "  'variable': 'data',\n",
       "  'shape': {'time': 1, 'lat': 724, 'lon': 1448},\n",
       "  'lat_resolution': 0.24896265560165975,\n",
       "  'lon_resolution': 0.248790601243953,\n",
       "  'chunk_size_mb': 7.998291015625,\n",
       "  'chunks': {'time': 1, 'lat': 724, 'lon': 1448},\n",
       "  'dtype': dtype('float64'),\n",
       "  'number_coord_chunks': 3,\n",
       "  'compression': Blosc(cname='lz4', clevel=5, shuffle=SHUFFLE, blocksize=0),\n",
       "  'number_of_chunks': 1,\n",
       "  'time to rechunk': 3392.35}}"
      ]
     },
     "execution_count": 21,
     "metadata": {},
     "output_type": "execute_result"
    }
   ],
   "source": [
    "datastore_specs"
   ]
  },
  {
   "cell_type": "code",
   "execution_count": 12,
   "id": "ee61633c-3c0c-43fd-9653-cf909794809d",
   "metadata": {
    "tags": []
   },
   "outputs": [],
   "source": [
    "from rechunker import rechunk\n",
    "import zarr"
   ]
  },
  {
   "cell_type": "code",
   "execution_count": 10,
   "id": "bc151b34-754c-485b-939e-459e7b30e463",
   "metadata": {
    "tags": []
   },
   "outputs": [
    {
     "data": {
      "text/plain": [
       "<zarr.core.Array '/data' (1, 724, 1448) float64 read-only>"
      ]
     },
     "execution_count": 10,
     "metadata": {},
     "output_type": "execute_result"
    }
   ],
   "source": [
    "source_store = 'nasa-eodc-data-store/fake_data/single_chunk/store_lat724_lon1448.zarr'\n",
    "store = s3fs.S3Map(root=source_store, s3=s3_fs, check=False)\n",
    "group = zarr.open_consolidated(store, mode=\"r\")\n",
    "source_array = group[\"data\"]\n",
    "source_array"
   ]
  },
  {
   "cell_type": "code",
   "execution_count": 11,
   "id": "66cfa7ba-524a-4e9b-bbb7-2f92fad2705b",
   "metadata": {
    "tags": []
   },
   "outputs": [
    {
     "data": {
      "text/plain": [
       "(1, 724, 1448)"
      ]
     },
     "execution_count": 11,
     "metadata": {},
     "output_type": "execute_result"
    }
   ],
   "source": [
    "source_array.chunks"
   ]
  },
  {
   "cell_type": "code",
   "execution_count": 15,
   "id": "80b15aa6-4aea-4b9c-8c19-f7306c78b6b0",
   "metadata": {
    "tags": []
   },
   "outputs": [],
   "source": [
    "max_mem = \"1GB\"\n",
    "target_chunks = (1, 512, 1024)\n",
    "store_temp = \"temp.zarr\"\n",
    "target_store = 'nasa-eodc-data-store/fake_data/rechunked_rechunker/store_lat724_lon1448.zarr'\n",
    "store_target = s3fs.S3Map(root=target_store, s3=s3_fs, check=False)\n",
    "r = rechunk(source_array, target_chunks, max_mem, store_target, temp_store=store_temp)\n"
   ]
  },
  {
   "cell_type": "code",
   "execution_count": 16,
   "id": "365c29d6-083c-4d0d-b2e2-bf3916ae8eb5",
   "metadata": {
    "tags": []
   },
   "outputs": [
    {
     "name": "stdout",
     "output_type": "stream",
     "text": [
      "CPU times: user 95.8 ms, sys: 20.9 ms, total: 117 ms\n",
      "Wall time: 419 ms\n"
     ]
    },
    {
     "data": {
      "text/plain": [
       "<zarr.core.Array (1, 724, 1448) float64>"
      ]
     },
     "execution_count": 16,
     "metadata": {},
     "output_type": "execute_result"
    }
   ],
   "source": [
    "%%time\n",
    "result = r.execute()\n",
    "result"
   ]
  },
  {
   "cell_type": "code",
   "execution_count": 17,
   "id": "fa8e1ae7-ef25-4983-9e68-0bec6caf3f7e",
   "metadata": {
    "tags": []
   },
   "outputs": [],
   "source": [
    "import dask.array as dsa"
   ]
  },
  {
   "cell_type": "code",
   "execution_count": 18,
   "id": "0656a0e7-055a-4308-812d-3880837dc2b4",
   "metadata": {
    "tags": []
   },
   "outputs": [
    {
     "data": {
      "text/html": [
       "<table>\n",
       "    <tr>\n",
       "        <td>\n",
       "            <table style=\"border-collapse: collapse;\">\n",
       "                <thead>\n",
       "                    <tr>\n",
       "                        <td> </td>\n",
       "                        <th> Array </th>\n",
       "                        <th> Chunk </th>\n",
       "                    </tr>\n",
       "                </thead>\n",
       "                <tbody>\n",
       "                    \n",
       "                    <tr>\n",
       "                        <th> Bytes </th>\n",
       "                        <td> 8.00 MiB </td>\n",
       "                        <td> 4.00 MiB </td>\n",
       "                    </tr>\n",
       "                    \n",
       "                    <tr>\n",
       "                        <th> Shape </th>\n",
       "                        <td> (1, 724, 1448) </td>\n",
       "                        <td> (1, 512, 1024) </td>\n",
       "                    </tr>\n",
       "                    <tr>\n",
       "                        <th> Dask graph </th>\n",
       "                        <td colspan=\"2\"> 4 chunks in 2 graph layers </td>\n",
       "                    </tr>\n",
       "                    <tr>\n",
       "                        <th> Data type </th>\n",
       "                        <td colspan=\"2\"> float64 numpy.ndarray </td>\n",
       "                    </tr>\n",
       "                </tbody>\n",
       "            </table>\n",
       "        </td>\n",
       "        <td>\n",
       "        <svg width=\"194\" height=\"124\" style=\"stroke:rgb(0,0,0);stroke-width:1\" >\n",
       "\n",
       "  <!-- Horizontal lines -->\n",
       "  <line x1=\"10\" y1=\"0\" x2=\"24\" y2=\"14\" style=\"stroke-width:2\" />\n",
       "  <line x1=\"10\" y1=\"42\" x2=\"24\" y2=\"57\" />\n",
       "  <line x1=\"10\" y1=\"60\" x2=\"24\" y2=\"74\" style=\"stroke-width:2\" />\n",
       "\n",
       "  <!-- Vertical lines -->\n",
       "  <line x1=\"10\" y1=\"0\" x2=\"10\" y2=\"60\" style=\"stroke-width:2\" />\n",
       "  <line x1=\"24\" y1=\"14\" x2=\"24\" y2=\"74\" style=\"stroke-width:2\" />\n",
       "\n",
       "  <!-- Colored Rectangle -->\n",
       "  <polygon points=\"10.0,0.0 24.9485979497544,14.948597949754403 24.9485979497544,74.9485979497544 10.0,60.0\" style=\"fill:#ECB172A0;stroke-width:0\"/>\n",
       "\n",
       "  <!-- Horizontal lines -->\n",
       "  <line x1=\"10\" y1=\"0\" x2=\"130\" y2=\"0\" style=\"stroke-width:2\" />\n",
       "  <line x1=\"24\" y1=\"14\" x2=\"144\" y2=\"14\" style=\"stroke-width:2\" />\n",
       "\n",
       "  <!-- Vertical lines -->\n",
       "  <line x1=\"10\" y1=\"0\" x2=\"24\" y2=\"14\" style=\"stroke-width:2\" />\n",
       "  <line x1=\"94\" y1=\"0\" x2=\"109\" y2=\"14\" />\n",
       "  <line x1=\"130\" y1=\"0\" x2=\"144\" y2=\"14\" style=\"stroke-width:2\" />\n",
       "\n",
       "  <!-- Colored Rectangle -->\n",
       "  <polygon points=\"10.0,0.0 130.0,0.0 144.9485979497544,14.948597949754403 24.9485979497544,14.948597949754403\" style=\"fill:#ECB172A0;stroke-width:0\"/>\n",
       "\n",
       "  <!-- Horizontal lines -->\n",
       "  <line x1=\"24\" y1=\"14\" x2=\"144\" y2=\"14\" style=\"stroke-width:2\" />\n",
       "  <line x1=\"24\" y1=\"57\" x2=\"144\" y2=\"57\" />\n",
       "  <line x1=\"24\" y1=\"74\" x2=\"144\" y2=\"74\" style=\"stroke-width:2\" />\n",
       "\n",
       "  <!-- Vertical lines -->\n",
       "  <line x1=\"24\" y1=\"14\" x2=\"24\" y2=\"74\" style=\"stroke-width:2\" />\n",
       "  <line x1=\"109\" y1=\"14\" x2=\"109\" y2=\"74\" />\n",
       "  <line x1=\"144\" y1=\"14\" x2=\"144\" y2=\"74\" style=\"stroke-width:2\" />\n",
       "\n",
       "  <!-- Colored Rectangle -->\n",
       "  <polygon points=\"24.9485979497544,14.948597949754403 144.9485979497544,14.948597949754403 144.9485979497544,74.9485979497544 24.9485979497544,74.9485979497544\" style=\"fill:#ECB172A0;stroke-width:0\"/>\n",
       "\n",
       "  <!-- Text -->\n",
       "  <text x=\"84.948598\" y=\"94.948598\" font-size=\"1.0rem\" font-weight=\"100\" text-anchor=\"middle\" >1448</text>\n",
       "  <text x=\"164.948598\" y=\"44.948598\" font-size=\"1.0rem\" font-weight=\"100\" text-anchor=\"middle\" transform=\"rotate(-90,164.948598,44.948598)\">724</text>\n",
       "  <text x=\"7.474299\" y=\"87.474299\" font-size=\"1.0rem\" font-weight=\"100\" text-anchor=\"middle\" transform=\"rotate(45,7.474299,87.474299)\">1</text>\n",
       "</svg>\n",
       "        </td>\n",
       "    </tr>\n",
       "</table>"
      ],
      "text/plain": [
       "dask.array<from-zarr, shape=(1, 724, 1448), dtype=float64, chunksize=(1, 512, 1024), chunktype=numpy.ndarray>"
      ]
     },
     "execution_count": 18,
     "metadata": {},
     "output_type": "execute_result"
    }
   ],
   "source": [
    "dsa.from_zarr(result)"
   ]
  }
 ],
 "metadata": {
  "kernelspec": {
   "display_name": "Python 3 (ipykernel)",
   "language": "python",
   "name": "python3"
  },
  "language_info": {
   "codemirror_mode": {
    "name": "ipython",
    "version": 3
   },
   "file_extension": ".py",
   "mimetype": "text/x-python",
   "name": "python",
   "nbconvert_exporter": "python",
   "pygments_lexer": "ipython3",
   "version": "3.10.12"
  }
 },
 "nbformat": 4,
 "nbformat_minor": 5
}
