{
 "cells": [
  {
   "cell_type": "code",
   "execution_count": 5,
   "id": "83a389a9-d6b1-4858-b15f-4f0dc58378ef",
   "metadata": {},
   "outputs": [],
   "source": [
    "import eodc_hub_role\n",
    "import numpy as np\n",
    "import os\n",
    "import sys\n",
    "import xarray as xr\n",
    "import zarr\n",
    "sys.path.append('..')\n",
    "import zarr_helpers"
   ]
  },
  {
   "cell_type": "code",
   "execution_count": 28,
   "id": "3c1f5225-ba53-4cfb-accf-fb249d1f5426",
   "metadata": {},
   "outputs": [],
   "source": [
    "# Fake data directory\n",
    "fake_data_dir = 'fake_data_no_chunks'\n",
    "\n",
    "# Define dimensions\n",
    "time_steps = 1\n",
    "y = 180\n",
    "x = 360\n",
    "multiple = 2 # how much do you want the dataset to grow by each iteration\n",
    "n_multiples = 10"
   ]
  },
  {
   "cell_type": "code",
   "execution_count": 29,
   "id": "c1728aa5-871b-4ad3-91f1-51166902e644",
   "metadata": {},
   "outputs": [],
   "source": [
    "for n_multiple in range(n_multiples):\n",
    "    if n_multiple == 0:\n",
    "        size = y * x        \n",
    "    else:\n",
    "        size = y * x * multiple\n",
    "\n",
    "    x = round(np.sqrt(2 * size))\n",
    "    y = int(x/2)\n",
    "    data = np.random.random(size=(time_steps, y, x))\n",
    "\n",
    "    # Create Xarray datasets with dimensions and coordinates\n",
    "    ds = xr.Dataset({\n",
    "        'data': (['time', 'lat', 'lon'], data),\n",
    "    }, coords={\n",
    "        'time': np.arange(time_steps),\n",
    "        'lat': np.linspace(-90, 90, y),\n",
    "        'lon': np.linspace(-180, 180, x)\n",
    "    })\n",
    "\n",
    "    # Save Xarray datasets as Zarr stores\n",
    "    chunks={'time': 1, 'lat': y, 'lon': x}\n",
    "    ds = ds.chunk(chunks)    \n",
    "    ds.to_zarr(f'{fake_data_dir}/store_lat_{y}x_lon_{x}.zarr', mode='w')"
   ]
  },
  {
   "cell_type": "code",
   "execution_count": 30,
   "id": "e9869f1f-90c2-426c-800a-fe7c192ed61c",
   "metadata": {},
   "outputs": [
    {
     "name": "stdout",
     "output_type": "stream",
     "text": [
      "Chunk sixe for store_lat_359x_lon_719.zarr:\n",
      "1.9693069458007812\n",
      "--------------------------------------------------------------------------------\n",
      "Chunk sixe for store_lat_718x_lon_1437.zarr:\n",
      "7.8717498779296875\n",
      "--------------------------------------------------------------------------------\n",
      "Chunk sixe for store_lat_1437x_lon_2874.zarr:\n",
      "31.508926391601562\n",
      "--------------------------------------------------------------------------------\n",
      "Chunk sixe for store_lat_254x_lon_509.zarr:\n",
      "0.9863739013671875\n",
      "--------------------------------------------------------------------------------\n",
      "Chunk sixe for store_lat_180x_lon_360.zarr:\n",
      "0.494384765625\n",
      "--------------------------------------------------------------------------------\n",
      "Chunk sixe for store_lat_1016x_lon_2032.zarr:\n",
      "15.7509765625\n",
      "--------------------------------------------------------------------------------\n",
      "Chunk sixe for store_lat_2873x_lon_5747.zarr:\n",
      "125.96993255615234\n",
      "--------------------------------------------------------------------------------\n",
      "Could not open .ipynb_checkpoints as a Zarr store. Error: No such file or directory: '/Users/aimeebarciauskas/github/developmentseed/tile-benchmarking/profiling/fake_data_no_chunks/.ipynb_checkpoints'\n",
      "Chunk sixe for store_lat_2032x_lon_4064.zarr:\n",
      "63.00390625\n",
      "--------------------------------------------------------------------------------\n",
      "Chunk sixe for store_lat_4063x_lon_8127.zarr:\n",
      "251.92261505126953\n",
      "--------------------------------------------------------------------------------\n",
      "Chunk sixe for store_lat_508x_lon_1016.zarr:\n",
      "3.937744140625\n",
      "--------------------------------------------------------------------------------\n"
     ]
    }
   ],
   "source": [
    "# List all items in the directory\n",
    "items = os.listdir(fake_data_dir)\n",
    "\n",
    "# Loop through each item and open it with xarray if it's a Zarr store\n",
    "for item in items:\n",
    "    item_path = os.path.join(fake_data_dir, item)\n",
    "    # Check if the item is a directory (Zarr stores are directories)\n",
    "    if os.path.isdir(item_path):\n",
    "        try:\n",
    "            # Attempt to open the Zarr store using xarray\n",
    "            ds = xr.open_zarr(item_path)\n",
    "            print(f\"Chunk sixe for {item}:\")\n",
    "            print(zarr_helpers.get_chunk_size(ds, 'data')[2])\n",
    "            print('-' * 80)  # Print a separator line\n",
    "        except Exception as e:\n",
    "            # Print an error message if unable to open the Zarr store\n",
    "            print(f\"Could not open {item} as a Zarr store. Error: {e}\")\n"
   ]
  },
  {
   "cell_type": "markdown",
   "id": "271955c8-876a-4430-b5a9-5656bfa2b45b",
   "metadata": {},
   "source": [
    "# Create a data store which is the 10x resolution as the largest data store, but a tenth the size"
   ]
  },
  {
   "cell_type": "code",
   "execution_count": null,
   "id": "9820153c-a30a-46cd-a3a1-5755fb8db581",
   "metadata": {},
   "outputs": [],
   "source": [
    "total_degrees = 1/10*(180*360)\n",
    "# lat x lon should equal total degrees\n",
    "# lat x lon = total_degrees\n",
    "# y x 2y = total_degrees\n",
    "y = np.sqrt(total_degrees/2)\n",
    "x = y*2\n",
    "x, y"
   ]
  },
  {
   "cell_type": "code",
   "execution_count": null,
   "id": "57157b9f-e38b-45cb-b873-43b2872191ac",
   "metadata": {},
   "outputs": [],
   "source": [
    "# Create Xarray datasets with dimensions and coordinates\n",
    "ds_onetenth = xr.Dataset({'data': (['time', 'lat', 'lon'], data_1000x)},\n",
    "                        coords={'time': np.arange(time_steps),\n",
    "                                'lat': np.linspace(0, y, y1000),\n",
    "                                'lon': np.linspace(0, x, x1000)})\n",
    "\n",
    "# Save Xarray datasets as Zarr stores\n",
    "ds_onetenth.to_zarr(f'{fake_data_dir}/store_one_tenth_planet.zarr', mode='w')\n",
    "\n",
    "# Save with no chunks\n",
    "chunks={'time': 1, 'lat': y1000, 'lon': x1000}\n",
    "ds_onetenth_nochunks = ds_onetenth.chunk(chunks)\n",
    "ds_onetenth_nochunks.to_zarr(f'{fake_data_dir}/store_one_tenth_planet_nochunks.zarr', mode='w')"
   ]
  },
  {
   "cell_type": "code",
   "execution_count": null,
   "id": "c1b35fe4-d7fb-4d2c-8cbe-d0c2cdc3571a",
   "metadata": {},
   "outputs": [],
   "source": [
    "xr.open_zarr(f'{fake_data_dir}/store_one_tenth_planet_nochunks.zarr/')"
   ]
  },
  {
   "cell_type": "code",
   "execution_count": null,
   "id": "fe80424b-b6d1-4c9e-a4ed-699564d51d33",
   "metadata": {},
   "outputs": [],
   "source": [
    "bucket = 'nasa-eodc-data-store'\n",
    "credentials = eodc_hub_role.fetch_and_set_credentials()"
   ]
  },
  {
   "cell_type": "code",
   "execution_count": null,
   "id": "cc2626fe-74ad-4c74-9b74-6945d26b43e5",
   "metadata": {},
   "outputs": [],
   "source": [
    "%%capture\n",
    "# !aws s3 cp --recursive fake_data/ s3://{bucket}/fake_data/"
   ]
  }
 ],
 "metadata": {
  "kernelspec": {
   "display_name": "venv-profiling",
   "language": "python",
   "name": "venv-profiling"
  },
  "language_info": {
   "codemirror_mode": {
    "name": "ipython",
    "version": 3
   },
   "file_extension": ".py",
   "mimetype": "text/x-python",
   "name": "python",
   "nbconvert_exporter": "python",
   "pygments_lexer": "ipython3",
   "version": "3.9.15"
  }
 },
 "nbformat": 4,
 "nbformat_minor": 5
}
