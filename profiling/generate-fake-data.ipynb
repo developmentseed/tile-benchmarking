{
 "cells": [
  {
   "cell_type": "markdown",
   "id": "33b69a0d-6113-4cad-ac2b-9cb841ebebbd",
   "metadata": {},
   "source": [
    "# Generate fake data with a single chunk\n",
    "\n",
    "In this notebook, we generate fake data of various resolution with a single chunk in order to determine the relationship between chunk size and time to tile."
   ]
  },
  {
   "cell_type": "markdown",
   "id": "ec1575be-cb84-493c-8d86-c8150392a829",
   "metadata": {},
   "source": [
    "## Step 1. Import necessary libraries"
   ]
  },
  {
   "cell_type": "code",
   "execution_count": 1,
   "id": "83a389a9-d6b1-4858-b15f-4f0dc58378ef",
   "metadata": {},
   "outputs": [],
   "source": [
    "import xarray as xr\n",
    "import numpy as np\n",
    "import os\n",
    "import s3fs\n",
    "import sys; sys.path.append('..')\n",
    "import eodc_hub_role\n",
    "import zarr_helpers"
   ]
  },
  {
   "cell_type": "markdown",
   "id": "3cf908bd-2068-42ab-a16a-e1b0a6a38340",
   "metadata": {},
   "source": [
    "## Step 2: Setup data storage\n",
    "\n",
    "Store data in the fake data directory in a \"with chunks\"."
   ]
  },
  {
   "cell_type": "code",
   "execution_count": 14,
   "id": "0e546b73-8efb-413a-9475-8ecdc562d8cc",
   "metadata": {},
   "outputs": [],
   "source": [
    "credentials = eodc_hub_role.fetch_and_set_credentials()\n",
    "bucket = 'nasa-eodc-data-store'\n",
    "fake_data_dir = 'fake_data/with_chunks'\n",
    "s3_fs = s3fs.S3FileSystem(\n",
    "    key=credentials['AccessKeyId'],\n",
    "    secret=credentials['SecretAccessKey'],\n",
    "    token=credentials['SessionToken'], \n",
    "    anon=False\n",
    ")"
   ]
  },
  {
   "cell_type": "markdown",
   "id": "a2f068fe-3df9-4358-acb1-8615e7730647",
   "metadata": {},
   "source": [
    "## Step 3: Define starting starting conditions\n",
    "\n",
    "The following are set as variables so tests can be modified easily for different starting conditions. For example, we might want to test a different target size."
   ]
  },
  {
   "cell_type": "code",
   "execution_count": 14,
   "id": "57d9cc48-023e-4b4e-abc1-04a542bd2363",
   "metadata": {},
   "outputs": [],
   "source": [
    "# Define dimensions\n",
    "time_steps = 1\n",
    "y = 512\n",
    "x = 1024\n",
    "multiple = 2 # how much do you want the dataset to grow by each iteration\n",
    "n_multiples = 7"
   ]
  },
  {
   "cell_type": "code",
   "execution_count": 15,
   "id": "c1728aa5-871b-4ad3-91f1-51166902e644",
   "metadata": {},
   "outputs": [],
   "source": [
    "for n_multiple in range(n_multiples):\n",
    "    if n_multiple == 0:\n",
    "        size = y * x        \n",
    "    else:\n",
    "        size = y * x * multiple\n",
    "\n",
    "    x = round(np.sqrt(2 * size))\n",
    "    y = int(x/2)\n",
    "    data = np.random.random(size=(time_steps, y, x))\n",
    "\n",
    "    # Create Xarray datasets with dimensions and coordinates\n",
    "    ds = xr.Dataset({\n",
    "        'data': (['time', 'lat', 'lon'], data),\n",
    "    }, coords={\n",
    "        'time': np.arange(time_steps),\n",
    "        'lat': np.linspace(-90, 90, y),\n",
    "        'lon': np.linspace(-180, 180, x)\n",
    "    })\n",
    "\n",
    "    # Save Xarray datasets as Zarr stores\n",
    "    chunks={'time': 1, 'lat': y, 'lon': x}\n",
    "    ds = ds.chunk(chunks)    \n",
    "    ds.to_zarr(f'{fake_data_dir}/store_lat_{y}x_lon_{x}.zarr', mode='w')"
   ]
  },
  {
   "cell_type": "code",
   "execution_count": 16,
   "id": "e9869f1f-90c2-426c-800a-fe7c192ed61c",
   "metadata": {},
   "outputs": [
    {
     "name": "stdout",
     "output_type": "stream",
     "text": [
      "Chunk size\n",
      "((1, 724, 1448), dtype('float64'), 7.998291015625)\n",
      "--------------------------------------------------------------------------------\n",
      "Chunk size\n",
      "((1, 1448, 2896), dtype('float64'), 31.9931640625)\n",
      "--------------------------------------------------------------------------------\n",
      "Chunk size\n",
      "((1, 1024, 2048), dtype('float64'), 16.0)\n",
      "--------------------------------------------------------------------------------\n",
      "Chunk size\n",
      "((1, 512, 1024), dtype('float64'), 4.0)\n",
      "--------------------------------------------------------------------------------\n",
      "Chunk size\n",
      "((1, 4096, 8192), dtype('float64'), 256.0)\n",
      "--------------------------------------------------------------------------------\n",
      "Chunk size\n",
      "((1, 2896, 5793), dtype('float64'), 127.9947509765625)\n",
      "--------------------------------------------------------------------------------\n",
      "Could not open .ipynb_checkpoints as a Zarr store. Error: No such file or directory: '/Users/aimeebarciauskas/github/developmentseed/tile-benchmarking/profiling/fake_data_no_chunks/.ipynb_checkpoints'\n",
      "Chunk size\n",
      "((1, 2048, 4096), dtype('float64'), 64.0)\n",
      "--------------------------------------------------------------------------------\n"
     ]
    }
   ],
   "source": [
    "# List all items in the directory\n",
    "items = os.listdir(fake_data_dir)\n",
    "\n",
    "# Loop through each item and open it with xarray if it's a Zarr store\n",
    "for item in items:\n",
    "    item_path = os.path.join(fake_data_dir, item)\n",
    "    # Check if the item is a directory (Zarr stores are directories)\n",
    "    if os.path.isdir(item_path):\n",
    "        try:\n",
    "            # Attempt to open the Zarr store using xarray\n",
    "            ds = xr.open_zarr(item_path)\n",
    "            print(f\"Chunk size\")\n",
    "            print(zarr_helpers.get_chunk_size(ds['data']))\n",
    "            print('-' * 80)  # Print a separator line\n",
    "        except Exception as e:\n",
    "            # Print an error message if unable to open the Zarr store\n",
    "            print(f\"Could not open {item} as a Zarr store. Error: {e}\")\n"
   ]
  }
 ],
 "metadata": {
  "kernelspec": {
   "display_name": "venv-profiling",
   "language": "python",
   "name": "venv-profiling"
  },
  "language_info": {
   "codemirror_mode": {
    "name": "ipython",
    "version": 3
   },
   "file_extension": ".py",
   "mimetype": "text/x-python",
   "name": "python",
   "nbconvert_exporter": "python",
   "pygments_lexer": "ipython3",
   "version": "3.9.15"
  }
 },
 "nbformat": 4,
 "nbformat_minor": 5
}
