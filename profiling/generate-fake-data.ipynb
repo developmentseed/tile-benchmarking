{
 "cells": [
  {
   "cell_type": "code",
   "execution_count": 1,
   "id": "83a389a9-d6b1-4858-b15f-4f0dc58378ef",
   "metadata": {},
   "outputs": [],
   "source": [
    "import eodc_hub_role\n",
    "import numpy as np\n",
    "import os\n",
    "import sys\n",
    "import xarray as xr\n",
    "import zarr\n",
    "sys.path.append('..')\n",
    "import zarr_helpers"
   ]
  },
  {
   "cell_type": "markdown",
   "id": "33b69a0d-6113-4cad-ac2b-9cb841ebebbd",
   "metadata": {},
   "source": [
    "# Generate fake data with no chunks"
   ]
  },
  {
   "cell_type": "code",
   "execution_count": 2,
   "id": "3c1f5225-ba53-4cfb-accf-fb249d1f5426",
   "metadata": {},
   "outputs": [],
   "source": [
    "# Fake data directory\n",
    "fake_data_dir = 'fake_data_no_chunks'\n",
    "\n",
    "# Define dimensions\n",
    "time_steps = 1\n",
    "y = 180\n",
    "x = 360\n",
    "multiple = 2 # how much do you want the dataset to grow by each iteration\n",
    "n_multiples = 10"
   ]
  },
  {
   "cell_type": "code",
   "execution_count": null,
   "id": "c1728aa5-871b-4ad3-91f1-51166902e644",
   "metadata": {},
   "outputs": [],
   "source": [
    "for n_multiple in range(n_multiples):\n",
    "    if n_multiple == 0:\n",
    "        size = y * x        \n",
    "    else:\n",
    "        size = y * x * multiple\n",
    "\n",
    "    x = round(np.sqrt(2 * size))\n",
    "    y = int(x/2)\n",
    "    data = np.random.random(size=(time_steps, y, x))\n",
    "\n",
    "    # Create Xarray datasets with dimensions and coordinates\n",
    "    ds = xr.Dataset({\n",
    "        'data': (['time', 'lat', 'lon'], data),\n",
    "    }, coords={\n",
    "        'time': np.arange(time_steps),\n",
    "        'lat': np.linspace(-90, 90, y),\n",
    "        'lon': np.linspace(-180, 180, x)\n",
    "    })\n",
    "\n",
    "    # Save Xarray datasets as Zarr stores\n",
    "    chunks={'time': 1, 'lat': y, 'lon': x}\n",
    "    ds = ds.chunk(chunks)    \n",
    "    ds.to_zarr(f'{fake_data_dir}/store_lat_{y}x_lon_{x}.zarr', mode='w')"
   ]
  },
  {
   "cell_type": "code",
   "execution_count": 4,
   "id": "e9869f1f-90c2-426c-800a-fe7c192ed61c",
   "metadata": {},
   "outputs": [
    {
     "name": "stdout",
     "output_type": "stream",
     "text": [
      "Chunk size\n",
      "((1, 359, 719), dtype('float64'), 1.9693069458007812)\n",
      "--------------------------------------------------------------------------------\n",
      "Chunk size\n",
      "((1, 718, 1437), dtype('float64'), 7.8717498779296875)\n",
      "--------------------------------------------------------------------------------\n",
      "Chunk size\n",
      "((1, 1437, 2874), dtype('float64'), 31.508926391601562)\n",
      "--------------------------------------------------------------------------------\n",
      "Chunk size\n",
      "((1, 254, 509), dtype('float64'), 0.9863739013671875)\n",
      "--------------------------------------------------------------------------------\n",
      "Chunk size\n",
      "((1, 180, 360), dtype('float64'), 0.494384765625)\n",
      "--------------------------------------------------------------------------------\n",
      "Chunk size\n",
      "((1, 1016, 2032), dtype('float64'), 15.7509765625)\n",
      "--------------------------------------------------------------------------------\n",
      "Chunk size\n",
      "((1, 2873, 5747), dtype('float64'), 125.96993255615234)\n",
      "--------------------------------------------------------------------------------\n",
      "Chunk size\n",
      "((1, 2032, 4064), dtype('float64'), 63.00390625)\n",
      "--------------------------------------------------------------------------------\n",
      "Chunk size\n",
      "((1, 4063, 8127), dtype('float64'), 251.92261505126953)\n",
      "--------------------------------------------------------------------------------\n",
      "Chunk size\n",
      "((1, 508, 1016), dtype('float64'), 3.937744140625)\n",
      "--------------------------------------------------------------------------------\n"
     ]
    }
   ],
   "source": [
    "# List all items in the directory\n",
    "items = os.listdir(fake_data_dir)\n",
    "\n",
    "# Loop through each item and open it with xarray if it's a Zarr store\n",
    "for item in items:\n",
    "    item_path = os.path.join(fake_data_dir, item)\n",
    "    # Check if the item is a directory (Zarr stores are directories)\n",
    "    if os.path.isdir(item_path):\n",
    "        try:\n",
    "            # Attempt to open the Zarr store using xarray\n",
    "            ds = xr.open_zarr(item_path)\n",
    "            print(f\"Chunk size\")\n",
    "            print(zarr_helpers.get_chunk_size(ds['data']))\n",
    "            print('-' * 80)  # Print a separator line\n",
    "        except Exception as e:\n",
    "            # Print an error message if unable to open the Zarr store\n",
    "            print(f\"Could not open {item} as a Zarr store. Error: {e}\")\n"
   ]
  },
  {
   "cell_type": "markdown",
   "id": "f147edd6-5485-45d0-9c26-b85f82c29ae2",
   "metadata": {},
   "source": [
    "# Create fake data with chunks"
   ]
  },
  {
   "cell_type": "code",
   "execution_count": null,
   "id": "465c7aa2-ec7a-4356-a596-4cf1f4cf40df",
   "metadata": {},
   "outputs": [],
   "source": [
    "%%capture\n",
    "!pip install git+https://github.com/jbusecke/pangeo-forge-recipes@dynamic_chunks_2"
   ]
  },
  {
   "cell_type": "code",
   "execution_count": null,
   "id": "ef6086a1-8af0-4afd-8929-e8b739e47749",
   "metadata": {},
   "outputs": [],
   "source": [
    "import fsspec\n",
    "from pangeo_forge_recipes import aggregation, dynamic_target_chunks\n",
    "import xarray as xr"
   ]
  }
 ],
 "metadata": {
  "kernelspec": {
   "display_name": "venv-profiling",
   "language": "python",
   "name": "venv-profiling"
  },
  "language_info": {
   "codemirror_mode": {
    "name": "ipython",
    "version": 3
   },
   "file_extension": ".py",
   "mimetype": "text/x-python",
   "name": "python",
   "nbconvert_exporter": "python",
   "pygments_lexer": "ipython3",
   "version": "3.9.15"
  }
 },
 "nbformat": 4,
 "nbformat_minor": 5
}
