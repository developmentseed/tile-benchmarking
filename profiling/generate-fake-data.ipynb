{
 "cells": [
  {
   "cell_type": "code",
   "execution_count": 3,
   "id": "83a389a9-d6b1-4858-b15f-4f0dc58378ef",
   "metadata": {},
   "outputs": [],
   "source": [
    "import eodc_hub_role\n",
    "import numpy as np\n",
    "import os\n",
    "import sys\n",
    "import xarray as xr\n",
    "import zarr\n",
    "sys.path.append('..')\n",
    "import zarr_helpers"
   ]
  },
  {
   "cell_type": "markdown",
   "id": "33b69a0d-6113-4cad-ac2b-9cb841ebebbd",
   "metadata": {},
   "source": [
    "# Generate fake data with no chunks"
   ]
  },
  {
   "cell_type": "code",
   "execution_count": 14,
   "id": "3c1f5225-ba53-4cfb-accf-fb249d1f5426",
   "metadata": {},
   "outputs": [],
   "source": [
    "# Fake data directory\n",
    "fake_data_dir = 'fake_data_no_chunks'\n",
    "\n",
    "# Define dimensions\n",
    "time_steps = 1\n",
    "y = 512\n",
    "x = 1024\n",
    "multiple = 2 # how much do you want the dataset to grow by each iteration\n",
    "n_multiples = 7"
   ]
  },
  {
   "cell_type": "code",
   "execution_count": 15,
   "id": "c1728aa5-871b-4ad3-91f1-51166902e644",
   "metadata": {},
   "outputs": [],
   "source": [
    "for n_multiple in range(n_multiples):\n",
    "    if n_multiple == 0:\n",
    "        size = y * x        \n",
    "    else:\n",
    "        size = y * x * multiple\n",
    "\n",
    "    x = round(np.sqrt(2 * size))\n",
    "    y = int(x/2)\n",
    "    data = np.random.random(size=(time_steps, y, x))\n",
    "\n",
    "    # Create Xarray datasets with dimensions and coordinates\n",
    "    ds = xr.Dataset({\n",
    "        'data': (['time', 'lat', 'lon'], data),\n",
    "    }, coords={\n",
    "        'time': np.arange(time_steps),\n",
    "        'lat': np.linspace(-90, 90, y),\n",
    "        'lon': np.linspace(-180, 180, x)\n",
    "    })\n",
    "\n",
    "    # Save Xarray datasets as Zarr stores\n",
    "    chunks={'time': 1, 'lat': y, 'lon': x}\n",
    "    ds = ds.chunk(chunks)    \n",
    "    ds.to_zarr(f'{fake_data_dir}/store_lat_{y}x_lon_{x}.zarr', mode='w')"
   ]
  },
  {
   "cell_type": "code",
   "execution_count": 16,
   "id": "e9869f1f-90c2-426c-800a-fe7c192ed61c",
   "metadata": {},
   "outputs": [
    {
     "name": "stdout",
     "output_type": "stream",
     "text": [
      "Chunk size\n",
      "((1, 724, 1448), dtype('float64'), 7.998291015625)\n",
      "--------------------------------------------------------------------------------\n",
      "Chunk size\n",
      "((1, 1448, 2896), dtype('float64'), 31.9931640625)\n",
      "--------------------------------------------------------------------------------\n",
      "Chunk size\n",
      "((1, 1024, 2048), dtype('float64'), 16.0)\n",
      "--------------------------------------------------------------------------------\n",
      "Chunk size\n",
      "((1, 512, 1024), dtype('float64'), 4.0)\n",
      "--------------------------------------------------------------------------------\n",
      "Chunk size\n",
      "((1, 4096, 8192), dtype('float64'), 256.0)\n",
      "--------------------------------------------------------------------------------\n",
      "Chunk size\n",
      "((1, 2896, 5793), dtype('float64'), 127.9947509765625)\n",
      "--------------------------------------------------------------------------------\n",
      "Could not open .ipynb_checkpoints as a Zarr store. Error: No such file or directory: '/Users/aimeebarciauskas/github/developmentseed/tile-benchmarking/profiling/fake_data_no_chunks/.ipynb_checkpoints'\n",
      "Chunk size\n",
      "((1, 2048, 4096), dtype('float64'), 64.0)\n",
      "--------------------------------------------------------------------------------\n"
     ]
    }
   ],
   "source": [
    "# List all items in the directory\n",
    "items = os.listdir(fake_data_dir)\n",
    "\n",
    "# Loop through each item and open it with xarray if it's a Zarr store\n",
    "for item in items:\n",
    "    item_path = os.path.join(fake_data_dir, item)\n",
    "    # Check if the item is a directory (Zarr stores are directories)\n",
    "    if os.path.isdir(item_path):\n",
    "        try:\n",
    "            # Attempt to open the Zarr store using xarray\n",
    "            ds = xr.open_zarr(item_path)\n",
    "            print(f\"Chunk size\")\n",
    "            print(zarr_helpers.get_chunk_size(ds['data']))\n",
    "            print('-' * 80)  # Print a separator line\n",
    "        except Exception as e:\n",
    "            # Print an error message if unable to open the Zarr store\n",
    "            print(f\"Could not open {item} as a Zarr store. Error: {e}\")\n"
   ]
  }
 ],
 "metadata": {
  "kernelspec": {
   "display_name": "venv-profiling",
   "language": "python",
   "name": "venv-profiling"
  },
  "language_info": {
   "codemirror_mode": {
    "name": "ipython",
    "version": 3
   },
   "file_extension": ".py",
   "mimetype": "text/x-python",
   "name": "python",
   "nbconvert_exporter": "python",
   "pygments_lexer": "ipython3",
   "version": "3.9.15"
  }
 },
 "nbformat": 4,
 "nbformat_minor": 5
}
