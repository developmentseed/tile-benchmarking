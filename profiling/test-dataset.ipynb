{
 "cells": [
  {
   "cell_type": "code",
   "execution_count": 9,
   "id": "661d79e9-b9d1-4ac3-8023-3f9928b660cf",
   "metadata": {
    "tags": []
   },
   "outputs": [
    {
     "name": "stdout",
     "output_type": "stream",
     "text": [
      "The autoreload extension is already loaded. To reload it, use:\n",
      "  %reload_ext autoreload\n"
     ]
    }
   ],
   "source": [
    "%load_ext autoreload\n",
    "%autoreload\n",
    "import pandas as pd\n",
    "import pickle\n",
    "import sys; sys.path.append('..')\n",
    "import zarr_helpers\n",
    "import eodc_hub_role\n",
    "from titiler_xarray.titiler.xarray.reader import xarray_open_dataset"
   ]
  },
  {
   "cell_type": "code",
   "execution_count": null,
   "id": "7bdb3255-64e4-4789-9580-cac6108ee4e1",
   "metadata": {
    "tags": []
   },
   "outputs": [],
   "source": [
    "#!pip install loguru rio-tiler==4.1.11"
   ]
  },
  {
   "cell_type": "code",
   "execution_count": 32,
   "id": "0d4c7188-bce8-4651-8f81-2199fbd3cdb6",
   "metadata": {
    "tags": []
   },
   "outputs": [],
   "source": [
    "ds_url = 's3://nasa-eodc-data-store/365_262_262/CMIP6_daily_GISS-E2-1-G_tas.zarr'\n",
    "variable = 'tas'\n",
    "reference = False\n",
    "zoom = 0"
   ]
  },
  {
   "cell_type": "code",
   "execution_count": 38,
   "id": "5a249de5-a64d-40a7-a4ef-c6c76e3dc105",
   "metadata": {
    "tags": []
   },
   "outputs": [
    {
     "name": "stderr",
     "output_type": "stream",
     "text": [
      "/home/jovyan/tile-benchmarking/profiling/titiler_xarray/titiler/xarray/reader.py:42: UserWarning: Variable(s) referenced in cell_measures not in variables: ['areacella']\n",
      "  return xarray.open_dataset(src_path, **xr_open_args)\n"
     ]
    },
    {
     "data": {
      "text/plain": [
       "1246.24"
      ]
     },
     "execution_count": 38,
     "metadata": {},
     "output_type": "execute_result"
    }
   ],
   "source": [
    "zarr_helpers.time_tile_generation(\n",
    "    zoom=zoom,\n",
    "    source=ds_url,\n",
    "    variable=variable,\n",
    "    reference=reference\n",
    ")"
   ]
  },
  {
   "cell_type": "code",
   "execution_count": 10,
   "id": "d1c97c4d-2ac0-4751-943c-811be25391e3",
   "metadata": {
    "tags": []
   },
   "outputs": [],
   "source": [
    "with open('tile_model.pkl', 'rb') as f:\n",
    "    loaded_model = pickle.load(f)"
   ]
  },
  {
   "cell_type": "code",
   "execution_count": 28,
   "id": "71929b4e-8345-4a04-8a8d-55afc9fa0cf7",
   "metadata": {
    "tags": []
   },
   "outputs": [
    {
     "name": "stderr",
     "output_type": "stream",
     "text": [
      "/home/jovyan/tile-benchmarking/profiling/titiler_xarray/titiler/xarray/reader.py:42: UserWarning: Variable(s) referenced in cell_measures not in variables: ['areacella']\n",
      "  return xarray.open_dataset(src_path, **xr_open_args)\n"
     ]
    }
   ],
   "source": [
    "ds = xarray_open_dataset(src_path=ds_url, reference=reference)"
   ]
  },
  {
   "cell_type": "code",
   "execution_count": 29,
   "id": "06743916-8367-425b-97d2-90c504bea214",
   "metadata": {
    "tags": []
   },
   "outputs": [
    {
     "name": "stdout",
     "output_type": "stream",
     "text": [
      "{'source': 's3://nasa-eodc-data-store/365_262_262/CMIP6_daily_GISS-E2-1-G_tas.zarr', 'collection_name': 'CMIP6_daily_GISS-E2-1-G_tas.zarr', 'variable': 'tas', 'shape': {'time': 730, 'lat': 600, 'lon': 1440}, 'lat_resolution': 0.25, 'lon_resolution': 0.25, 'chunk_size_mb': 95.57746887207031, 'chunks': {'time': 365, 'lat': 262, 'lon': 262}, 'dtype': dtype('float32'), 'number_coord_chunks': 9, 'compression': Blosc(cname='lz4', clevel=5, shuffle=SHUFFLE, blocksize=0)}\n"
     ]
    },
    {
     "data": {
      "text/plain": [
       "12.586679097954665"
      ]
     },
     "execution_count": 29,
     "metadata": {},
     "output_type": "execute_result"
    }
   ],
   "source": [
    "ds_specs = zarr_helpers.get_dataset_specs(ds_url.split('/')[-1], ds_url, variable, ds)\n",
    "print(ds_specs)\n",
    "# number of spatial chunks is going to be number of chunks along the lat dimension by number of chunks along the long dimension\n",
    "number_spatial_chunks = (ds_specs['shape']['lat']/ds_specs['chunks']['lat']) * (ds_specs['shape']['lon']/ds_specs['chunks']['lon'])\n",
    "number_spatial_chunks"
   ]
  },
  {
   "cell_type": "code",
   "execution_count": 35,
   "id": "614665be-4cad-45d0-a804-f5c7a04f7c7a",
   "metadata": {
    "tags": []
   },
   "outputs": [
    {
     "name": "stdout",
     "output_type": "stream",
     "text": [
      "{'const': [1], 'number_of_chunks': [12.586679097954665], 'chunk_size_mb': [95.57746887207031], 'zoom 0': [1], 'zoom 1': [0], 'zoom 2': [0], 'zoom 3': [0], 'zoom 4': [0], 'zoom 5': [0], 'zoom 6': [0], 'zoom 7': [0], 'zoom 8': [0], 'zoom 9': [0], 'zoom 10': [0], 'zoom 11': [0]}\n"
     ]
    },
    {
     "data": {
      "text/plain": [
       "0    1575.760786\n",
       "dtype: float64"
      ]
     },
     "execution_count": 35,
     "metadata": {},
     "output_type": "execute_result"
    }
   ],
   "source": [
    "zooms = range(12)\n",
    "values_to_predict = {\n",
    "    'const': [1],\n",
    "    'number_of_chunks': [number_spatial_chunks],\n",
    "    'chunk_size_mb': [ds_specs['chunk_size_mb']]\n",
    "}\n",
    "zooms_to_predict = {f'zoom {zoom}': [0] for zoom in zooms}\n",
    "zooms_to_predict[f'zoom {zoom}'] = [1]\n",
    "values_to_predict.update(zooms_to_predict)\n",
    "print(values_to_predict)\n",
    "loaded_model.predict(pd.DataFrame(values_to_predict))"
   ]
  }
 ],
 "metadata": {
  "kernelspec": {
   "display_name": "Python 3 (ipykernel)",
   "language": "python",
   "name": "python3"
  },
  "language_info": {
   "codemirror_mode": {
    "name": "ipython",
    "version": 3
   },
   "file_extension": ".py",
   "mimetype": "text/x-python",
   "name": "python",
   "nbconvert_exporter": "python",
   "pygments_lexer": "ipython3",
   "version": "3.10.12"
  }
 },
 "nbformat": 4,
 "nbformat_minor": 5
}
