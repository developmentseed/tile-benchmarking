{
 "cells": [
  {
   "cell_type": "markdown",
   "id": "aaa52511-24ad-4eaa-bf39-de91b516230d",
   "metadata": {},
   "source": [
    "# Running End-to-End tests\n",
    "\n",
    "This notebook generates URLs AND runs tests manually. These tests can be run \"offline\" via the github runner using [.github/workflows/run-benchmarks.yml](../.github/workflows/run-benchmarks.yml)."
   ]
  },
  {
   "cell_type": "code",
   "execution_count": 1,
   "id": "182edd76-64c3-4d04-b6bc-0e5852fee823",
   "metadata": {
    "tags": []
   },
   "outputs": [],
   "source": [
    "from datetime import datetime\n",
    "import subprocess\n",
    "import sys\n",
    "import warnings\n",
    "warnings.filterwarnings('ignore')\n",
    "sys.path.append('..')\n",
    "from helpers.eodc_hub_role import fetch_and_set_credentials"
   ]
  },
  {
   "cell_type": "code",
   "execution_count": 2,
   "id": "ff9bfd92-b20c-40d5-9193-fa0e02979326",
   "metadata": {
    "tags": []
   },
   "outputs": [],
   "source": [
    "credentials = fetch_and_set_credentials()"
   ]
  },
  {
   "cell_type": "code",
   "execution_count": 3,
   "id": "df41d1ec-044d-4824-99a8-e1306a000d99",
   "metadata": {
    "tags": []
   },
   "outputs": [],
   "source": [
    "envs = ['dev', 'feature2', 'feature3']"
   ]
  },
  {
   "cell_type": "code",
   "execution_count": 8,
   "id": "9f98855e-cd61-48e8-a45f-d79af7c9351b",
   "metadata": {
    "tags": []
   },
   "outputs": [
    {
     "data": {
      "text/plain": [
       "['s3://nasa-eodc-data-store/tile-benchmarking-results/dev_2023-11-14_01-54-47/',\n",
       " 's3://nasa-eodc-data-store/tile-benchmarking-results/feature2_2023-11-14_01-56-23/',\n",
       " 's3://nasa-eodc-data-store/tile-benchmarking-results/feature3_2023-11-14_01-59-35/']"
      ]
     },
     "execution_count": 8,
     "metadata": {},
     "output_type": "execute_result"
    }
   ],
   "source": [
    "results_stores"
   ]
  },
  {
   "cell_type": "code",
   "execution_count": 9,
   "id": "04fc3df3-0e75-48d7-8495-35e2e1bef234",
   "metadata": {
    "tags": []
   },
   "outputs": [
    {
     "name": "stderr",
     "output_type": "stream",
     "text": [
      "/home/jovyan/tile-benchmarking/03-e2e/../titiler_xarray/titiler/xarray/reader.py:61: UserWarning: Variable(s) referenced in cell_measures not in variables: ['areacella']\n",
      "  ds = xarray.open_dataset(file_handler, **xr_open_args)\n",
      "/home/jovyan/tile-benchmarking/03-e2e/../titiler_xarray/titiler/xarray/reader.py:61: UserWarning: Variable(s) referenced in cell_measures not in variables: ['areacella']\n",
      "  ds = xarray.open_dataset(file_handler, **xr_open_args)\n"
     ]
    },
    {
     "name": "stdout",
     "output_type": "stream",
     "text": [
      "Running script for HOST: https://dev-titiler-xarray.delta-backend.com\n"
     ]
    },
    {
     "name": "stderr",
     "output_type": "stream",
     "text": [
      "/home/jovyan/tile-benchmarking/03-e2e/../titiler_xarray/titiler/xarray/reader.py:61: UserWarning: Variable(s) referenced in cell_measures not in variables: ['areacella']\n",
      "  ds = xarray.open_dataset(file_handler, **xr_open_args)\n",
      "/home/jovyan/tile-benchmarking/03-e2e/../titiler_xarray/titiler/xarray/reader.py:61: UserWarning: Variable(s) referenced in cell_measures not in variables: ['areacella']\n",
      "  ds = xarray.open_dataset(file_handler, **xr_open_args)\n"
     ]
    },
    {
     "name": "stdout",
     "output_type": "stream",
     "text": [
      "Running script for HOST: https://feature2-titiler-xarray.delta-backend.com\n"
     ]
    },
    {
     "name": "stderr",
     "output_type": "stream",
     "text": [
      "/home/jovyan/tile-benchmarking/03-e2e/../titiler_xarray/titiler/xarray/reader.py:61: UserWarning: Variable(s) referenced in cell_measures not in variables: ['areacella']\n",
      "  ds = xarray.open_dataset(file_handler, **xr_open_args)\n",
      "/home/jovyan/tile-benchmarking/03-e2e/../titiler_xarray/titiler/xarray/reader.py:61: UserWarning: Variable(s) referenced in cell_measures not in variables: ['areacella']\n",
      "  ds = xarray.open_dataset(file_handler, **xr_open_args)\n"
     ]
    },
    {
     "name": "stdout",
     "output_type": "stream",
     "text": [
      "Running script for HOST: https://feature3-titiler-xarray.delta-backend.com\n"
     ]
    }
   ],
   "source": [
    "results_stores = []\n",
    "for env in envs:\n",
    "    subprocess.run([\"rm\", \"-rf\", \"results/\"])\n",
    "    subprocess.run([\"rm\", \"-rf\", \"urls/\"])    \n",
    "    subprocess.run([\"mkdir\", \"urls/\"])\n",
    "    subprocess.run([\"python\", \"gen_test_urls.py\", \"--env\", env, \"--numurls\", \"10\", \"--datasets\", \"external\"])\n",
    "    # subprocess.run([\"sh\", \"./run-tests.sh\", \"5\", f\"https://{env}-titiler-xarray.delta-backend.com\"])\n",
    "    # current_datetime = datetime.now().strftime('%Y-%m-%d_%H-%M-%S')\n",
    "    # results_store = f's3://nasa-eodc-data-store/tile-benchmarking-results/{env}_{current_datetime}/'\n",
    "    # results_stores.append(results_store)\n",
    "    # subprocess.run([\"aws\", \"s3\", \"cp\", \"results/\", results_store, \"--recursive\"])\n",
    "    "
   ]
  }
 ],
 "metadata": {
  "kernelspec": {
   "display_name": "Python [conda env:tile-benchmarking]",
   "language": "python",
   "name": "conda-env-tile-benchmarking-py"
  },
  "language_info": {
   "codemirror_mode": {
    "name": "ipython",
    "version": 3
   },
   "file_extension": ".py",
   "mimetype": "text/x-python",
   "name": "python",
   "nbconvert_exporter": "python",
   "pygments_lexer": "ipython3",
   "version": "3.9.18"
  }
 },
 "nbformat": 4,
 "nbformat_minor": 5
}
