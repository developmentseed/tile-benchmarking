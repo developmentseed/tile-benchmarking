{
 "cells": [
  {
   "cell_type": "markdown",
   "metadata": {},
   "source": [
    "# End to End Tests\n",
    "\n",
    "End to end tests benchmark HTTP requests to an xarray tile server via HTTP requests. The tile server being tested is [https://dev-titiler-xarray.delta-backend.com/](https://dev-titiler-xarray.delta-backend.com/) which is deployed via instructions in [https://github.com/developmentseed/titiler-xarray](https://github.com/developmentseed/titiler-xarray).\n",
    "\n",
    "Tests are run locally using https://locust.io/.\n",
    "\n",
    "## Setup\n",
    "\n",
    "Commands below are run within this directory.\n",
    "\n",
    "```python\n",
    "python -m pip install --upgrade virtualenv\n",
    "virtualenv .venv\n",
    "source .venv/bin/activate\n",
    "pip install -r requirements.txt\n",
    "```\n",
    "\n",
    "### Import Libraries + Define Helper Functions"
   ]
  },
  {
   "cell_type": "code",
   "execution_count": 3,
   "metadata": {},
   "outputs": [],
   "source": [
    "import pandas as pd\n",
    "\n",
    "def csv_to_pandas(file_path, drop_cols=[], sort_by=[]):\n",
    "    df = pd.read_csv(file_path)\n",
    "    df.drop(drop_cols, axis=1, inplace=True)\n",
    "    df = df.sort_values(sort_by)\n",
    "    return df"
   ]
  },
  {
   "cell_type": "markdown",
   "metadata": {},
   "source": [
    "## Generate Dataset Specs and Lists of URLs to Test\n",
    "\n",
    "A variety of datasets were used to demonstrate the impacts of different resolutions, shapes and chunk size on performance for different tiles. The set of datasets is defined in `gen_test_urls.py` which generates the dataset information in the table below as well as lists of URLs to test, stored in `urls/`.\n",
    "\n",
    "To modify the datasets used, make updates to `gen_test_urls.py` and re-run that script. You can skip running `gen_test_urls.py` if the list of URLs has already been generated (see `urls/{collection_name}_urls.txt` and is up to date with any changes in `gen_test_urls.py`.\n",
    "\n",
    "Note: for the FWI-GEOS-5-Hourly dataset (or any dataset in veda-data-store and veda-data-store-staging), the `gen_test_urls.py` script requires data access via a role from the SMCE VEDA AWS account. Please skip this dataset or contact the SMCE team for access.\n",
    "\n",
    "If you have role-based access to those buckets, you will need to assume the role using MFA and assume that role."
   ]
  },
  {
   "cell_type": "markdown",
   "metadata": {},
   "source": [
    "Otherwise, that dataset will just be skipped in the `gen_test_urls.py` script via a try/catch statement."
   ]
  },
  {
   "cell_type": "code",
   "execution_count": 1,
   "metadata": {},
   "outputs": [],
   "source": [
    "!mkdir -p urls\n",
    "!python gen_test_urls.py"
   ]
  },
  {
   "cell_type": "markdown",
   "metadata": {},
   "source": [
    "## Inspect Datasets"
   ]
  },
  {
   "cell_type": "code",
   "execution_count": 5,
   "metadata": {},
   "outputs": [
    {
     "data": {
      "text/html": [
       "<div>\n",
       "<style scoped>\n",
       "    .dataframe tbody tr th:only-of-type {\n",
       "        vertical-align: middle;\n",
       "    }\n",
       "\n",
       "    .dataframe tbody tr th {\n",
       "        vertical-align: top;\n",
       "    }\n",
       "\n",
       "    .dataframe thead th {\n",
       "        text-align: right;\n",
       "    }\n",
       "</style>\n",
       "<table border=\"1\" class=\"dataframe\">\n",
       "  <thead>\n",
       "    <tr style=\"text-align: right;\">\n",
       "      <th></th>\n",
       "      <th>source</th>\n",
       "      <th>lat_resolution</th>\n",
       "      <th>lon_resolution</th>\n",
       "      <th>shape</th>\n",
       "      <th>chunks</th>\n",
       "      <th>chunk_size_mb</th>\n",
       "      <th>number_coord_chunks</th>\n",
       "    </tr>\n",
       "  </thead>\n",
       "  <tbody>\n",
       "    <tr>\n",
       "      <th>4</th>\n",
       "      <td>s3://yuvipanda-test1/cmr/gpm3imergdl.zarr</td>\n",
       "      <td>0.10</td>\n",
       "      <td>0.1000</td>\n",
       "      <td>{'time': 8149, 'lon': 3600, 'lat': 1800}</td>\n",
       "      <td>{'time': 10, 'lon': 3600, 'lat': 1800}</td>\n",
       "      <td>247.192383</td>\n",
       "      <td>3</td>\n",
       "    </tr>\n",
       "    <tr>\n",
       "      <th>0</th>\n",
       "      <td>s3://veda-data-store-staging/EIS/zarr/FWI-GEOS...</td>\n",
       "      <td>0.25</td>\n",
       "      <td>0.3125</td>\n",
       "      <td>{'time': 26880, 'lat': 533, 'lon': 1152}</td>\n",
       "      <td>{'time': 120, 'lat': 100, 'lon': 100}</td>\n",
       "      <td>4.577637</td>\n",
       "      <td>3</td>\n",
       "    </tr>\n",
       "    <tr>\n",
       "      <th>3</th>\n",
       "      <td>https://ncsa.osn.xsede.org/Pangeo/pangeo-forge...</td>\n",
       "      <td>0.25</td>\n",
       "      <td>0.2500</td>\n",
       "      <td>{'time': 15044, 'zlev': 1, 'lat': 720, 'lon': ...</td>\n",
       "      <td>{'time': 1, 'zlev': 1, 'lat': 720, 'lon': 1440}</td>\n",
       "      <td>1.977539</td>\n",
       "      <td>4</td>\n",
       "    </tr>\n",
       "    <tr>\n",
       "      <th>1</th>\n",
       "      <td>s3://power-analysis-ready-datastore/power_901_...</td>\n",
       "      <td>0.50</td>\n",
       "      <td>0.6250</td>\n",
       "      <td>{'time': 492, 'lat': 361, 'lon': 576}</td>\n",
       "      <td>{'time': 492, 'lat': 25, 'lon': 25}</td>\n",
       "      <td>2.346039</td>\n",
       "      <td>43</td>\n",
       "    </tr>\n",
       "    <tr>\n",
       "      <th>2</th>\n",
       "      <td>s3://cmip6-pds/CMIP6/CMIP/NASA-GISS/GISS-E2-1-...</td>\n",
       "      <td>2.00</td>\n",
       "      <td>2.5000</td>\n",
       "      <td>{'time': 1980, 'lat': 90, 'lon': 144}</td>\n",
       "      <td>{'time': 600, 'lat': 90, 'lon': 144}</td>\n",
       "      <td>29.663086</td>\n",
       "      <td>3</td>\n",
       "    </tr>\n",
       "  </tbody>\n",
       "</table>\n",
       "</div>"
      ],
      "text/plain": [
       "                                              source  lat_resolution  \\\n",
       "4          s3://yuvipanda-test1/cmr/gpm3imergdl.zarr            0.10   \n",
       "0  s3://veda-data-store-staging/EIS/zarr/FWI-GEOS...            0.25   \n",
       "3  https://ncsa.osn.xsede.org/Pangeo/pangeo-forge...            0.25   \n",
       "1  s3://power-analysis-ready-datastore/power_901_...            0.50   \n",
       "2  s3://cmip6-pds/CMIP6/CMIP/NASA-GISS/GISS-E2-1-...            2.00   \n",
       "\n",
       "   lon_resolution                                              shape  \\\n",
       "4          0.1000           {'time': 8149, 'lon': 3600, 'lat': 1800}   \n",
       "0          0.3125           {'time': 26880, 'lat': 533, 'lon': 1152}   \n",
       "3          0.2500  {'time': 15044, 'zlev': 1, 'lat': 720, 'lon': ...   \n",
       "1          0.6250              {'time': 492, 'lat': 361, 'lon': 576}   \n",
       "2          2.5000              {'time': 1980, 'lat': 90, 'lon': 144}   \n",
       "\n",
       "                                            chunks  chunk_size_mb  \\\n",
       "4           {'time': 10, 'lon': 3600, 'lat': 1800}     247.192383   \n",
       "0            {'time': 120, 'lat': 100, 'lon': 100}       4.577637   \n",
       "3  {'time': 1, 'zlev': 1, 'lat': 720, 'lon': 1440}       1.977539   \n",
       "1              {'time': 492, 'lat': 25, 'lon': 25}       2.346039   \n",
       "2             {'time': 600, 'lat': 90, 'lon': 144}      29.663086   \n",
       "\n",
       "   number_coord_chunks  \n",
       "4                    3  \n",
       "0                    3  \n",
       "3                    4  \n",
       "1                   43  \n",
       "2                    3  "
      ]
     },
     "execution_count": 5,
     "metadata": {},
     "output_type": "execute_result"
    }
   ],
   "source": [
    "df = csv_to_pandas('./zarr_info.csv', drop_cols=['variable', 'compression'], sort_by=['lat_resolution'])\n",
    "df = df[['source', 'lat_resolution', 'lon_resolution', 'shape', 'chunks', 'chunk_size_mb', 'number_coord_chunks']]\n",
    "df"
   ]
  },
  {
   "cell_type": "markdown",
   "metadata": {},
   "source": [
    "# Run Locust and Inspect Results"
   ]
  },
  {
   "cell_type": "code",
   "execution_count": 1,
   "metadata": {},
   "outputs": [],
   "source": [
    "!./run-all.sh"
   ]
  },
  {
   "cell_type": "code",
   "execution_count": null,
   "metadata": {},
   "outputs": [],
   "source": [
    "# Upload results to S3\n",
    "!aws s3 cp results/* s3://nasa-eodc-data-store/e2e/results/$(date +\"%Y-%m-%d_%H_%M_%S\")/"
   ]
  }
 ],
 "metadata": {
  "kernelspec": {
   "display_name": "venv-profiling",
   "language": "python",
   "name": "python3"
  },
  "language_info": {
   "codemirror_mode": {
    "name": "ipython",
    "version": 3
   },
   "file_extension": ".py",
   "mimetype": "text/x-python",
   "name": "python",
   "nbconvert_exporter": "python",
   "pygments_lexer": "ipython3",
   "version": "3.9.15"
  }
 },
 "nbformat": 4,
 "nbformat_minor": 2
}
