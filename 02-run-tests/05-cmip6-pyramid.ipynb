{
 "cells": [
  {
   "cell_type": "markdown",
   "metadata": {},
   "source": [
    "# Tile Generation Benchmarks for a Zarr Pyramid\n",
    "\n",
    "## Explanation\n",
    "\n",
    "In this notebook we return to the CMIP6 data to compare the performance of tiling the original data with a pyramid. This helps us understand the performance improvements at lower zoom levels when a pyramid is available.\n",
    "\n",
    "## Setup"
   ]
  },
  {
   "cell_type": "code",
   "execution_count": null,
   "metadata": {
    "vscode": {
     "languageId": "plaintext"
    }
   },
   "outputs": [],
   "source": [
    "import json\n",
    "import pandas as pd\n",
    "fomr xarray_tile_test import XarrayTileTest\n",
    "import sys; sys.path.append('..')\n",
    "import helpers.eodc_hub_role as eodc_hub_role"
   ]
  },
  {
   "cell_type": "code",
   "execution_count": null,
   "metadata": {
    "vscode": {
     "languageId": "plaintext"
    }
   },
   "outputs": [],
   "source": [
    "credentials = eodc_hub_role.fetch_and_set_credentials()"
   ]
  },
  {
   "cell_type": "markdown",
   "metadata": {},
   "source": [
    "We load the pyramid and the zarr dataset with the same chunk shape as the original dataset. We expect this dataset and the kerchunk performance to be about the same."
   ]
  },
  {
   "cell_type": "code",
   "execution_count": null,
   "metadata": {
    "vscode": {
     "languageId": "plaintext"
    }
   },
   "outputs": [],
   "source": [
    "iterations = 3\n",
    "zooms = range(12)\n",
    "cmip6_zarr_datasets = json.loads(open('../01-generate-datasets/cmip6-zarr-datasets.json').read()).items()\n",
    "zarr_dataset_id, zarr_dataset = list(filter(k.contains('600_1440_1') for k,v in zarr_datasets.items()))[0]\n",
    "pyramid_dataset_id, pyramid_dataset = json.loads(open('../01-generate-datasets/cmip6-pyramid-dataset.json').read())\n"
   ]
  },
  {
   "cell_type": "markdown",
   "metadata": {},
   "source": [
    "## Run Tests"
   ]
  },
  {
   "cell_type": "code",
   "execution_count": null,
   "metadata": {
    "vscode": {
     "languageId": "plaintext"
    }
   },
   "outputs": [],
   "source": [
    "results = []\n",
    "\n",
    "zarr_tile_test = XarrayTileTest(\n",
    "    dataset_id=zarr_dataset_id,\n",
    "    **zarr_dataset\n",
    ")\n",
    "\n",
    "# Run it 3 times for each zoom level\n",
    "for zoom in zooms:\n",
    "    zarr_tile_test.run_batch({'zoom': zoom}, batch_size=iterations)\n",
    "\n",
    "results.append(zarr_tile_test.store_results(credentials))\n",
    "\n",
    "pyramid_tile_test = XarrayTileTest(\n",
    "    dataset_id=pyramid_dataset_id,\n",
    "    **pyramid_dataset\n",
    ")\n",
    "\n",
    "# Run it 3 times for each zoom level\n",
    "for zoom in zooms:\n",
    "    pyramid_tile_test.run_batch({'zoom': zoom}, batch_size=iterations)\n",
    "\n",
    "results.append(pyramid_tile_test.store_results(credentials))\n"
   ]
  },
  {
   "cell_type": "code",
   "execution_count": null,
   "metadata": {
    "vscode": {
     "languageId": "plaintext"
    }
   },
   "outputs": [],
   "source": [
    "## Read and Plot Results"
   ]
  },
  {
   "cell_type": "code",
   "execution_count": null,
   "metadata": {
    "vscode": {
     "languageId": "plaintext"
    }
   },
   "outputs": [],
   "source": [
    "see code in run-xarray-tests.ipynb"
   ]
  },
  {
   "cell_type": "code",
   "execution_count": null,
   "metadata": {
    "vscode": {
     "languageId": "plaintext"
    }
   },
   "outputs": [],
   "source": [
    "expanded_df.plot.scatter(x='zoom', y='time', by='dataset_id')"
   ]
  },
  {
   "cell_type": "code",
   "execution_count": null,
   "metadata": {
    "vscode": {
     "languageId": "plaintext"
    }
   },
   "outputs": [],
   "source": [
    "expanded_df.results.to_csv('results/05-cmip6-pyramid-results.csv')"
   ]
  }
 ],
 "metadata": {
  "language_info": {
   "name": "python"
  },
  "orig_nbformat": 4
 },
 "nbformat": 4,
 "nbformat_minor": 2
}
