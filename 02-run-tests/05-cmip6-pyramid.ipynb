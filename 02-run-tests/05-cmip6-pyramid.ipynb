{
 "cells": [
  {
   "cell_type": "markdown",
   "metadata": {},
   "source": [
    "# Tile Generation Benchmarks for a Zarr Pyramid\n",
    "\n",
    "## Explanation\n",
    "\n",
    "In this notebook we return to the CMIP6 data to compare the performance of tiling the original data with a pyramid. This helps us understand the performance improvements at lower zoom levels when a pyramid is available.\n",
    "\n",
    "## Setup"
   ]
  },
  {
   "cell_type": "code",
   "execution_count": 30,
   "metadata": {
    "vscode": {
     "languageId": "plaintext"
    }
   },
   "outputs": [
    {
     "name": "stdout",
     "output_type": "stream",
     "text": [
      "The autoreload extension is already loaded. To reload it, use:\n",
      "  %reload_ext autoreload\n"
     ]
    }
   ],
   "source": [
    "%load_ext autoreload\n",
    "%autoreload\n",
    "\n",
    "# External modules\n",
    "import hvplot.pandas\n",
    "import holoviews as hv\n",
    "import json\n",
    "import pandas as pd\n",
    "pd.options.plotting.backend = 'holoviews'\n",
    "import warnings\n",
    "warnings.filterwarnings('ignore')\n",
    "\n",
    "# Local modules\n",
    "import sys; sys.path.append('..')\n",
    "import helpers.eodc_hub_role as eodc_hub_role\n",
    "import helpers.dataframe as dataframe_helpers\n",
    "from xarray_tile_test import XarrayTileTest"
   ]
  },
  {
   "cell_type": "code",
   "execution_count": 2,
   "metadata": {
    "vscode": {
     "languageId": "plaintext"
    }
   },
   "outputs": [],
   "source": [
    "credentials = eodc_hub_role.fetch_and_set_credentials()"
   ]
  },
  {
   "cell_type": "markdown",
   "metadata": {},
   "source": [
    "We load the pyramid and the zarr dataset with the same chunk shape as the original dataset. We expect this dataset and the kerchunk performance to be about the same."
   ]
  },
  {
   "cell_type": "code",
   "execution_count": 6,
   "metadata": {
    "vscode": {
     "languageId": "plaintext"
    }
   },
   "outputs": [],
   "source": [
    "iterations = 1\n",
    "zooms = range(4)\n",
    "cmip6_zarr_datasets = json.loads(open('../01-generate-datasets/cmip6-zarr-datasets.json').read())\n",
    "zarr_dataset_id, zarr_dataset = list({k: v for k, v in cmip6_zarr_datasets.items() if '600_1440_1' in k}.items())[0]\n",
    "pyramid_dataset_id, pyramid_dataset = list(json.loads(open('../01-generate-datasets/cmip6-pyramid-dataset.json').read()).items())[0]"
   ]
  },
  {
   "cell_type": "markdown",
   "metadata": {},
   "source": [
    "## Run Tests"
   ]
  },
  {
   "cell_type": "code",
   "execution_count": null,
   "metadata": {
    "vscode": {
     "languageId": "plaintext"
    }
   },
   "outputs": [],
   "source": [
    "results = []\n",
    "\n",
    "zarr_tile_test = XarrayTileTest(\n",
    "    dataset_id=zarr_dataset_id,\n",
    "    **zarr_dataset\n",
    ")\n",
    "\n",
    "# Run it 3 times for each zoom level\n",
    "for zoom in zooms:\n",
    "    zarr_tile_test.run_batch({'zoom': zoom}, batch_size=iterations)\n",
    "\n",
    "results.append(zarr_tile_test.store_results(credentials))"
   ]
  },
  {
   "cell_type": "code",
   "execution_count": 31,
   "metadata": {
    "vscode": {
     "languageId": "plaintext"
    }
   },
   "outputs": [
    {
     "ename": "TileOutsideBounds",
     "evalue": "Tile 2/0/2 is outside bounds",
     "output_type": "error",
     "traceback": [
      "\u001b[0;31m---------------------------------------------------------------------------\u001b[0m",
      "\u001b[0;31mTileOutsideBounds\u001b[0m                         Traceback (most recent call last)",
      "Cell \u001b[0;32mIn[31], line 10\u001b[0m\n\u001b[1;32m      8\u001b[0m \u001b[38;5;66;03m# Run it 3 times for each zoom level\u001b[39;00m\n\u001b[1;32m      9\u001b[0m \u001b[38;5;28;01mfor\u001b[39;00m zoom \u001b[38;5;129;01min\u001b[39;00m zooms:\n\u001b[0;32m---> 10\u001b[0m     \u001b[43mpyramid_tile_test\u001b[49m\u001b[38;5;241;43m.\u001b[39;49m\u001b[43mrun_batch\u001b[49m\u001b[43m(\u001b[49m\u001b[43m{\u001b[49m\u001b[38;5;124;43m'\u001b[39;49m\u001b[38;5;124;43mzoom\u001b[39;49m\u001b[38;5;124;43m'\u001b[39;49m\u001b[43m:\u001b[49m\u001b[43m \u001b[49m\u001b[43mzoom\u001b[49m\u001b[43m}\u001b[49m\u001b[43m,\u001b[49m\u001b[43m \u001b[49m\u001b[43mbatch_size\u001b[49m\u001b[38;5;241;43m=\u001b[39;49m\u001b[43miterations\u001b[49m\u001b[43m)\u001b[49m\n\u001b[1;32m     12\u001b[0m results\u001b[38;5;241m.\u001b[39mappend(pyramid_tile_test\u001b[38;5;241m.\u001b[39mstore_results(credentials))\n",
      "File \u001b[0;32m~/tile-benchmarking/02-run-tests/test.py:68\u001b[0m, in \u001b[0;36mTest.run_batch\u001b[0;34m(self, static_args, batch_size)\u001b[0m\n\u001b[1;32m     66\u001b[0m arguments \u001b[38;5;241m=\u001b[39m \u001b[38;5;28mself\u001b[39m\u001b[38;5;241m.\u001b[39mgenerate_arguments(batch_size, \u001b[38;5;241m*\u001b[39m\u001b[38;5;241m*\u001b[39mstatic_args)\n\u001b[1;32m     67\u001b[0m \u001b[38;5;28;01mfor\u001b[39;00m i \u001b[38;5;129;01min\u001b[39;00m \u001b[38;5;28mrange\u001b[39m(\u001b[38;5;241m0\u001b[39m, batch_size):\n\u001b[0;32m---> 68\u001b[0m     time \u001b[38;5;241m=\u001b[39m \u001b[38;5;28;43mself\u001b[39;49m\u001b[38;5;241;43m.\u001b[39;49m\u001b[43mrun\u001b[49m\u001b[43m(\u001b[49m\u001b[43marguments\u001b[49m\u001b[43m[\u001b[49m\u001b[43mi\u001b[49m\u001b[43m]\u001b[49m\u001b[43m)\u001b[49m\n\u001b[1;32m     69\u001b[0m     \u001b[38;5;28mself\u001b[39m\u001b[38;5;241m.\u001b[39mtimings\u001b[38;5;241m.\u001b[39mappend([time, arguments[i]])\n\u001b[1;32m     70\u001b[0m \u001b[38;5;28;01mreturn\u001b[39;00m \u001b[38;5;28mself\u001b[39m\u001b[38;5;241m.\u001b[39mtimings\n",
      "File \u001b[0;32m~/tile-benchmarking/02-run-tests/test.py:23\u001b[0m, in \u001b[0;36mtimer_decorator.<locals>.wrapper\u001b[0;34m(self, *args, **kwargs)\u001b[0m\n\u001b[1;32m     21\u001b[0m \u001b[38;5;28;01mdef\u001b[39;00m \u001b[38;5;21mwrapper\u001b[39m(\u001b[38;5;28mself\u001b[39m, \u001b[38;5;241m*\u001b[39margs, \u001b[38;5;241m*\u001b[39m\u001b[38;5;241m*\u001b[39mkwargs):\n\u001b[1;32m     22\u001b[0m     \u001b[38;5;28;01mwith\u001b[39;00m Timer() \u001b[38;5;28;01mas\u001b[39;00m t:\n\u001b[0;32m---> 23\u001b[0m         \u001b[43mfunc\u001b[49m\u001b[43m(\u001b[49m\u001b[38;5;28;43mself\u001b[39;49m\u001b[43m,\u001b[49m\u001b[43m \u001b[49m\u001b[38;5;241;43m*\u001b[39;49m\u001b[43margs\u001b[49m\u001b[43m,\u001b[49m\u001b[43m \u001b[49m\u001b[38;5;241;43m*\u001b[39;49m\u001b[38;5;241;43m*\u001b[39;49m\u001b[43mkwargs\u001b[49m\u001b[43m)\u001b[49m\n\u001b[1;32m     24\u001b[0m     \u001b[38;5;28;01mreturn\u001b[39;00m \u001b[38;5;28mround\u001b[39m(t\u001b[38;5;241m.\u001b[39melapsed \u001b[38;5;241m*\u001b[39m \u001b[38;5;241m1000\u001b[39m, \u001b[38;5;241m2\u001b[39m)\n",
      "File \u001b[0;32m~/tile-benchmarking/02-run-tests/xarray_tile_test.py:51\u001b[0m, in \u001b[0;36mXarrayTileTest.run\u001b[0;34m(self, xyz_tile)\u001b[0m\n\u001b[1;32m     44\u001b[0m     group \u001b[38;5;241m=\u001b[39m \u001b[38;5;28;01mNone\u001b[39;00m\n\u001b[1;32m     45\u001b[0m \u001b[38;5;28;01mwith\u001b[39;00m ZarrReader(\n\u001b[1;32m     46\u001b[0m     \u001b[38;5;28mself\u001b[39m\u001b[38;5;241m.\u001b[39mdataset_url,\n\u001b[1;32m     47\u001b[0m     variable\u001b[38;5;241m=\u001b[39m\u001b[38;5;28mself\u001b[39m\u001b[38;5;241m.\u001b[39mvariable,\n\u001b[1;32m     48\u001b[0m     reference\u001b[38;5;241m=\u001b[39m\u001b[38;5;28mself\u001b[39m\u001b[38;5;241m.\u001b[39mreference,\n\u001b[1;32m     49\u001b[0m     group\u001b[38;5;241m=\u001b[39mgroup\n\u001b[1;32m     50\u001b[0m ) \u001b[38;5;28;01mas\u001b[39;00m src_dst:\n\u001b[0;32m---> 51\u001b[0m     image \u001b[38;5;241m=\u001b[39m \u001b[43msrc_dst\u001b[49m\u001b[38;5;241;43m.\u001b[39;49m\u001b[43mtile\u001b[49m\u001b[43m(\u001b[49m\n\u001b[1;32m     52\u001b[0m \u001b[43m        \u001b[49m\u001b[38;5;241;43m*\u001b[39;49m\u001b[43mxyz_tile\u001b[49m\u001b[43m,\u001b[49m\n\u001b[1;32m     53\u001b[0m \u001b[43m        \u001b[49m\u001b[43mtilesize\u001b[49m\u001b[38;5;241;43m=\u001b[39;49m\u001b[38;5;241;43m256\u001b[39;49m\u001b[43m,\u001b[49m\n\u001b[1;32m     54\u001b[0m \u001b[43m    \u001b[49m\u001b[43m)\u001b[49m\n",
      "File \u001b[0;32m/srv/conda/envs/tile-benchmarking/lib/python3.9/site-packages/rio_tiler/io/xarray.py:217\u001b[0m, in \u001b[0;36mXarrayReader.tile\u001b[0;34m(self, tile_x, tile_y, tile_z, tilesize, resampling_method, auto_expand)\u001b[0m\n\u001b[1;32m    202\u001b[0m \u001b[38;5;250m\u001b[39m\u001b[38;5;124;03m\"\"\"Read a Web Map tile from a dataset.\u001b[39;00m\n\u001b[1;32m    203\u001b[0m \n\u001b[1;32m    204\u001b[0m \u001b[38;5;124;03mArgs:\u001b[39;00m\n\u001b[0;32m   (...)\u001b[0m\n\u001b[1;32m    214\u001b[0m \n\u001b[1;32m    215\u001b[0m \u001b[38;5;124;03m\"\"\"\u001b[39;00m\n\u001b[1;32m    216\u001b[0m \u001b[38;5;28;01mif\u001b[39;00m \u001b[38;5;129;01mnot\u001b[39;00m \u001b[38;5;28mself\u001b[39m\u001b[38;5;241m.\u001b[39mtile_exists(tile_x, tile_y, tile_z):\n\u001b[0;32m--> 217\u001b[0m     \u001b[38;5;28;01mraise\u001b[39;00m TileOutsideBounds(\n\u001b[1;32m    218\u001b[0m         \u001b[38;5;124mf\u001b[39m\u001b[38;5;124m\"\u001b[39m\u001b[38;5;124mTile \u001b[39m\u001b[38;5;132;01m{\u001b[39;00mtile_z\u001b[38;5;132;01m}\u001b[39;00m\u001b[38;5;124m/\u001b[39m\u001b[38;5;132;01m{\u001b[39;00mtile_x\u001b[38;5;132;01m}\u001b[39;00m\u001b[38;5;124m/\u001b[39m\u001b[38;5;132;01m{\u001b[39;00mtile_y\u001b[38;5;132;01m}\u001b[39;00m\u001b[38;5;124m is outside bounds\u001b[39m\u001b[38;5;124m\"\u001b[39m\n\u001b[1;32m    219\u001b[0m     )\n\u001b[1;32m    221\u001b[0m tile_bounds \u001b[38;5;241m=\u001b[39m \u001b[38;5;28mself\u001b[39m\u001b[38;5;241m.\u001b[39mtms\u001b[38;5;241m.\u001b[39mxy_bounds(Tile(x\u001b[38;5;241m=\u001b[39mtile_x, y\u001b[38;5;241m=\u001b[39mtile_y, z\u001b[38;5;241m=\u001b[39mtile_z))\n\u001b[1;32m    223\u001b[0m \u001b[38;5;66;03m# Create source array by clipping the xarray dataset to extent of the tile.\u001b[39;00m\n",
      "\u001b[0;31mTileOutsideBounds\u001b[0m: Tile 2/0/2 is outside bounds"
     ]
    }
   ],
   "source": [
    "pyramid_tile_test = XarrayTileTest(\n",
    "    dataset_id=pyramid_dataset_id,\n",
    "    lat_extent=[-59, 89],\n",
    "    lon_extent=[-179, 179],    \n",
    "    **pyramid_dataset\n",
    ")\n",
    "\n",
    "# Run it 3 times for each zoom level\n",
    "for zoom in zooms:\n",
    "    pyramid_tile_test.run_batch({'zoom': zoom}, batch_size=iterations)\n",
    "\n",
    "results.append(pyramid_tile_test.store_results(credentials))"
   ]
  },
  {
   "cell_type": "code",
   "execution_count": null,
   "metadata": {
    "vscode": {
     "languageId": "plaintext"
    }
   },
   "outputs": [],
   "source": [
    "## Read and Plot Results"
   ]
  },
  {
   "cell_type": "code",
   "execution_count": null,
   "metadata": {
    "vscode": {
     "languageId": "plaintext"
    }
   },
   "outputs": [],
   "source": [
    "expanded_df.plot.scatter(x='zoom', y='time', by='dataset_id')"
   ]
  },
  {
   "cell_type": "code",
   "execution_count": null,
   "metadata": {
    "vscode": {
     "languageId": "plaintext"
    }
   },
   "outputs": [],
   "source": [
    "expanded_df.results.to_csv('results/05-cmip6-pyramid-results.csv')"
   ]
  }
 ],
 "metadata": {
  "kernelspec": {
   "display_name": "Python [conda env:tile-benchmarking]",
   "language": "python",
   "name": "conda-env-tile-benchmarking-py"
  },
  "language_info": {
   "codemirror_mode": {
    "name": "ipython",
    "version": 3
   },
   "file_extension": ".py",
   "mimetype": "text/x-python",
   "name": "python",
   "nbconvert_exporter": "python",
   "pygments_lexer": "ipython3",
   "version": "3.9.17"
  }
 },
 "nbformat": 4,
 "nbformat_minor": 4
}
