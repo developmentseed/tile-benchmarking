{
 "cells": [
  {
   "cell_type": "markdown",
   "metadata": {},
   "source": [
    "# Tile Generation Benchmarks for Varied Chunk Sizes\n",
    "\n",
    "## Explanation\n",
    "\n",
    "In this notebook we compare the performance of tiling artificially generated Zarr data to different chunk sizes. The CMIP6 data provides an excellent real world dataset, but is relatively low resolution. In order to study the impact of higher resolution data, we artificially generated Zarr datastores to explore the relationship between tile generation time and chunk size.\n",
    "\n",
    "## Setup"
   ]
  },
  {
   "cell_type": "code",
   "execution_count": null,
   "metadata": {
    "vscode": {
     "languageId": "plaintext"
    }
   },
   "outputs": [],
   "source": [
    "import json\n",
    "import pandas as pd\n",
    "fomr xarray_tile_test import XarrayTileTest\n",
    "import sys; sys.path.append('..')\n",
    "import helpers.eodc_hub_role as eodc_hub_role"
   ]
  },
  {
   "cell_type": "code",
   "execution_count": null,
   "metadata": {
    "vscode": {
     "languageId": "plaintext"
    }
   },
   "outputs": [],
   "source": [
    "credentials = eodc_hub_role.fetch_and_set_credentials()"
   ]
  },
  {
   "cell_type": "markdown",
   "metadata": {},
   "source": [
    "Load the fake datasets which have increasingly fine spatial resolution and thus increasingly large chunk size."
   ]
  },
  {
   "cell_type": "code",
   "execution_count": null,
   "metadata": {
    "vscode": {
     "languageId": "plaintext"
    }
   },
   "outputs": [],
   "source": [
    "# Run 3 iterations of each setting\n",
    "iterations = 3\n",
    "zooms = range(12)\n",
    "all_zarr_datasets = json.loads(open('../01-generate-datasets/fake-datasets.json').read()).items()\n",
    "zarr_datasets = list(filter(k.contains('single_chunk') for k,v in zarr_datasets.items()))"
   ]
  },
  {
   "cell_type": "markdown",
   "metadata": {},
   "source": [
    "## Run Tests"
   ]
  },
  {
   "cell_type": "code",
   "execution_count": null,
   "metadata": {
    "vscode": {
     "languageId": "plaintext"
    }
   },
   "outputs": [],
   "source": [
    "results = []\n",
    "\n",
    "for zarr_dataset_id, zarr_dataset in zarr_datasets.items():\n",
    "    zarr_tile_test = XarrayTileTest(\n",
    "        dataset_id=zarr_dataset_id,\n",
    "        **zarr_dataset\n",
    "    )\n",
    "\n",
    "    # Run it 3 times for each zoom level\n",
    "    for zoom in zooms:\n",
    "        zarr_tile_test.run_batch({'zoom': zoom}, batch_size=iterations)\n",
    "\n",
    "    results.append(zarr_tile_test.store_results(credentials))"
   ]
  },
  {
   "cell_type": "code",
   "execution_count": null,
   "metadata": {
    "vscode": {
     "languageId": "plaintext"
    }
   },
   "outputs": [],
   "source": [
    "## Read and Plot Results"
   ]
  },
  {
   "cell_type": "code",
   "execution_count": null,
   "metadata": {
    "vscode": {
     "languageId": "plaintext"
    }
   },
   "outputs": [],
   "source": [
    "see code in run-xarray-tests.ipynb"
   ]
  },
  {
   "cell_type": "code",
   "execution_count": null,
   "metadata": {
    "vscode": {
     "languageId": "plaintext"
    }
   },
   "outputs": [],
   "source": [
    "expanded_df.plot.scatter(x='chunk_size_mb', y='time', by='zoom')"
   ]
  },
  {
   "cell_type": "code",
   "execution_count": null,
   "metadata": {
    "vscode": {
     "languageId": "plaintext"
    }
   },
   "outputs": [],
   "source": [
    "expanded_df.results.to_csv('results/03-chunk-size-results.csv')"
   ]
  }
 ],
 "metadata": {
  "language_info": {
   "name": "python"
  },
  "orig_nbformat": 4
 },
 "nbformat": 4,
 "nbformat_minor": 2
}
