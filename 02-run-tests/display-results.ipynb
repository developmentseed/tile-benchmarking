{
 "cells": [
  {
   "cell_type": "code",
   "execution_count": 9,
   "id": "a6d2e858-d22f-4e58-960a-1f28e5b18112",
   "metadata": {
    "tags": []
   },
   "outputs": [],
   "source": [
    "import boto3\n",
    "import pandas as pd\n",
    "import sys; sys.path.append('..')\n",
    "import helpers.eodc_hub_role as eodc_hub_role\n",
    "\n",
    "url = 's3://nasa-eodc-data-store/test-results/20230831210827_XarrayTileTest_cmip6-kerchunk.json'\n"
   ]
  },
  {
   "cell_type": "code",
   "execution_count": 10,
   "id": "c3e048b1-2f01-46c1-a369-292244b78d25",
   "metadata": {
    "tags": []
   },
   "outputs": [],
   "source": [
    "credentials = eodc_hub_role.fetch_and_set_credentials()\n",
    "boto3_session = boto3.Session(**credentials)\n",
    "s3_client = boto3_session.client('s3')"
   ]
  },
  {
   "cell_type": "code",
   "execution_count": 12,
   "id": "c338f814-3991-42da-b90a-a2ba7c00f266",
   "metadata": {
    "tags": []
   },
   "outputs": [
    {
     "name": "stdout",
     "output_type": "stream",
     "text": [
      "download: s3://nasa-eodc-data-store/test-results/20230831210827_XarrayTileTest_cmip6-kerchunk.json to ./20230831210827_XarrayTileTest_cmip6-kerchunk.json\n"
     ]
    }
   ],
   "source": [
    "!aws s3 cp {url} ."
   ]
  },
  {
   "cell_type": "code",
   "execution_count": 17,
   "id": "6c1c92ca-aed8-43a3-8f38-7c165b4a53b3",
   "metadata": {
    "tags": []
   },
   "outputs": [],
   "source": [
    "import json\n",
    "results = json.loads(open('20230831210827_XarrayTileTest_cmip6-kerchunk.json').read())"
   ]
  },
  {
   "cell_type": "code",
   "execution_count": 37,
   "id": "c9db2049-185b-4ebf-862c-6519a590ac70",
   "metadata": {
    "tags": []
   },
   "outputs": [
    {
     "data": {
      "text/html": [
       "<div>\n",
       "<style scoped>\n",
       "    .dataframe tbody tr th:only-of-type {\n",
       "        vertical-align: middle;\n",
       "    }\n",
       "\n",
       "    .dataframe tbody tr th {\n",
       "        vertical-align: top;\n",
       "    }\n",
       "\n",
       "    .dataframe thead th {\n",
       "        text-align: right;\n",
       "    }\n",
       "</style>\n",
       "<table border=\"1\" class=\"dataframe\">\n",
       "  <thead>\n",
       "    <tr style=\"text-align: right;\">\n",
       "      <th></th>\n",
       "      <th>0</th>\n",
       "    </tr>\n",
       "  </thead>\n",
       "  <tbody>\n",
       "    <tr>\n",
       "      <th>name</th>\n",
       "      <td>XarrayTileTest</td>\n",
       "    </tr>\n",
       "    <tr>\n",
       "      <th>dataset_id</th>\n",
       "      <td>cmip6-kerchunk</td>\n",
       "    </tr>\n",
       "    <tr>\n",
       "      <th>dataset_url</th>\n",
       "      <td>s3://nasa-eodc-data-store/test-data/cmip6-kerc...</td>\n",
       "    </tr>\n",
       "    <tr>\n",
       "      <th>niters</th>\n",
       "      <td>1</td>\n",
       "    </tr>\n",
       "    <tr>\n",
       "      <th>variable</th>\n",
       "      <td>tas</td>\n",
       "    </tr>\n",
       "    <tr>\n",
       "      <th>extra_args</th>\n",
       "      <td>{'reference': True}</td>\n",
       "    </tr>\n",
       "    <tr>\n",
       "      <th>timings</th>\n",
       "      <td>[[331.1, [0, 0, 0]]]</td>\n",
       "    </tr>\n",
       "    <tr>\n",
       "      <th>reference</th>\n",
       "      <td>True</td>\n",
       "    </tr>\n",
       "    <tr>\n",
       "      <th>lat_extent</th>\n",
       "      <td>[-59, 89]</td>\n",
       "    </tr>\n",
       "    <tr>\n",
       "      <th>lon_extent</th>\n",
       "      <td>[-179, 179]</td>\n",
       "    </tr>\n",
       "    <tr>\n",
       "      <th>array_specs</th>\n",
       "      <td>{'number_coordinate_chunks': 3, 'tas': {'total...</td>\n",
       "    </tr>\n",
       "  </tbody>\n",
       "</table>\n",
       "</div>"
      ],
      "text/plain": [
       "                                                             0\n",
       "name                                            XarrayTileTest\n",
       "dataset_id                                      cmip6-kerchunk\n",
       "dataset_url  s3://nasa-eodc-data-store/test-data/cmip6-kerc...\n",
       "niters                                                       1\n",
       "variable                                                   tas\n",
       "extra_args                                 {'reference': True}\n",
       "timings                                   [[331.1, [0, 0, 0]]]\n",
       "reference                                                 True\n",
       "lat_extent                                           [-59, 89]\n",
       "lon_extent                                         [-179, 179]\n",
       "array_specs  {'number_coordinate_chunks': 3, 'tas': {'total..."
      ]
     },
     "execution_count": 37,
     "metadata": {},
     "output_type": "execute_result"
    }
   ],
   "source": [
    "pd.DataFrame.from_dict(results, orient='index')"
   ]
  }
 ],
 "metadata": {
  "kernelspec": {
   "display_name": "Python 3 (ipykernel)",
   "language": "python",
   "name": "python3"
  },
  "language_info": {
   "codemirror_mode": {
    "name": "ipython",
    "version": 3
   },
   "file_extension": ".py",
   "mimetype": "text/x-python",
   "name": "python",
   "nbconvert_exporter": "python",
   "pygments_lexer": "ipython3",
   "version": "3.10.12"
  }
 },
 "nbformat": 4,
 "nbformat_minor": 5
}
