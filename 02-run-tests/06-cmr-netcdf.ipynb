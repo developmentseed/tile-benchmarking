{
 "cells": [
  {
   "cell_type": "markdown",
   "metadata": {},
   "source": [
    "# Tile Generation Benchmarks using CMR\n",
    "\n",
    "## Explanation\n",
    "\n",
    "In this notebook we explore tile generation using titiler-cmr with the GPM IMERG dataset."
   ]
  },
  {
   "cell_type": "code",
   "execution_count": null,
   "metadata": {},
   "outputs": [],
   "source": [
    "import cf_xarray  # noqa\n",
    "import earthaccess\n",
    "import fsspec\n",
    "import hvplot.pandas  # noqa\n",
    "import morecantile\n",
    "import xarray as xr\n",
    "from cmr_tile_test import CMRTileTest\n",
    "\n",
    "import helpers.dataframe as dataframe_helpers\n",
    "import helpers.eodc_hub_role as eodc_hub_role"
   ]
  },
  {
   "cell_type": "code",
   "execution_count": null,
   "metadata": {},
   "outputs": [],
   "source": [
    "concept_id = \"C2723754850-GES_DISC\"\n",
    "variable = \"precipitation\"\n",
    "cmr_query = {\"temporal\": (\"2024-02-11\", \"2024-02-11\")}\n",
    "iterations = 5"
   ]
  },
  {
   "cell_type": "code",
   "execution_count": null,
   "metadata": {},
   "outputs": [],
   "source": [
    "def load_earthaccess_data(concept_id, cmr_query):\n",
    "    results = earthaccess.search_data(\n",
    "        concept_id=concept_id, cloud_hosted=True, temporal=cmr_query[\"temporal\"]\n",
    "    )\n",
    "    with fsspec.open(results[0].data_links(\"direct\")[0]) as f:\n",
    "        ds = xr.open_dataset(f)\n",
    "    return ds\n",
    "\n",
    "\n",
    "def get_resolution(ds):\n",
    "    return max(ds.lat.diff(dim=\"lat\").max().values, ds.lon.diff(dim=\"lon\").max().values)\n",
    "\n",
    "\n",
    "def get_extent(ds):\n",
    "    return {\n",
    "        \"lon_extent\": [int(ds.lon.min().values), int(ds.lon.max().values)],\n",
    "        \"lat_extent\": [\n",
    "            max(-85, int(ds.lat.min().values)),\n",
    "            min(85, int(ds.lat.max().values)),\n",
    "        ],\n",
    "    }\n",
    "\n",
    "\n",
    "def get_max_zoom_level(resolution):\n",
    "    tms = morecantile.tms.get(\"WebMercatorQuad\")\n",
    "    return tms.zoom_for_res(resolution, max_z=30, zoom_level_strategy=\"auto\")\n",
    "\n",
    "\n",
    "def generate_arguments(cmr_test, iterations, max_zoom_level):\n",
    "    arguments = []\n",
    "    zoom_levels = range(max_zoom_level)\n",
    "    for zoom in zoom_levels:\n",
    "        arguments.extend(cmr_test.generate_arguments(iterations, zoom))\n",
    "    return arguments"
   ]
  },
  {
   "cell_type": "code",
   "execution_count": null,
   "metadata": {},
   "outputs": [],
   "source": [
    "def run_cmr_tile_tests(concept_id, cmr_query, variable):\n",
    "    ds = load_earthaccess_data(concept_id, cmr_query)\n",
    "    resolution = get_resolution(ds)\n",
    "    extent = get_extent(ds)\n",
    "    max_zoom_level = get_max_zoom_level(resolution)\n",
    "    cmr_test = CMRTileTest(\n",
    "        dataset_id=concept_id,\n",
    "        lat_extent=extent[\"lat_extent\"],\n",
    "        lon_extent=extent[\"lon_extent\"],\n",
    "        cmr_query=cmr_query,\n",
    "        variable=variable,\n",
    "    )\n",
    "    arguments = generate_arguments(cmr_test, iterations, max_zoom_level)\n",
    "    cmr_test.run_batch(arguments=arguments)\n",
    "    credentials = eodc_hub_role.fetch_and_set_credentials()\n",
    "    return cmr_test.store_results(credentials)"
   ]
  },
  {
   "cell_type": "code",
   "execution_count": null,
   "metadata": {},
   "outputs": [],
   "source": [
    "cmr_test_results = []\n",
    "cmr_test_results.extend(run_cmr_tile_tests(concept_id, cmr_query, variable))"
   ]
  },
  {
   "cell_type": "markdown",
   "metadata": {},
   "source": [
    "## Load + plot results "
   ]
  },
  {
   "cell_type": "code",
   "execution_count": null,
   "metadata": {},
   "outputs": [],
   "source": [
    "credentials = eodc_hub_role.fetch_and_set_credentials()\n",
    "df = dataframe_helpers.load_all_into_dataframe(\n",
    "    credentials, cmr_test_results, use_boto3=False\n",
    ")\n",
    "df = dataframe_helpers.expand_timings(df)"
   ]
  },
  {
   "cell_type": "code",
   "execution_count": null,
   "metadata": {},
   "outputs": [],
   "source": [
    "df.hvplot.box(\n",
    "    y=\"time\",\n",
    "    by=[\"zoom\"],\n",
    "    ylabel=\"Time to tile (ms)\",\n",
    "    xlabel=\"Zoom level\",\n",
    "    legend=False,\n",
    ")"
   ]
  },
  {
   "cell_type": "code",
   "execution_count": null,
   "metadata": {},
   "outputs": [],
   "source": []
  }
 ],
 "metadata": {
  "kernelspec": {
   "display_name": "Python 3 (ipykernel)",
   "language": "python",
   "name": "python3"
  },
  "language_info": {
   "codemirror_mode": {
    "name": "ipython",
    "version": 3
   },
   "file_extension": ".py",
   "mimetype": "text/x-python",
   "name": "python",
   "nbconvert_exporter": "python",
   "pygments_lexer": "ipython3",
   "version": "3.11.9"
  }
 },
 "nbformat": 4,
 "nbformat_minor": 4
}
