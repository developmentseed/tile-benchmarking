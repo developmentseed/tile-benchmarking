{
 "cells": [
  {
   "cell_type": "markdown",
   "metadata": {},
   "source": [
    "# Tile Generation Benchmarks using CMR\n",
    "\n",
    "## Explanation\n",
    "\n",
    "In this notebook we explore tile generation using titiler-cmr with the GPM IMERG dataset."
   ]
  },
  {
   "cell_type": "markdown",
   "metadata": {},
   "source": [
    "## Setup"
   ]
  },
  {
   "cell_type": "code",
   "execution_count": null,
   "metadata": {},
   "outputs": [],
   "source": [
    "import earthaccess\n",
    "import fsspec\n",
    "import hvplot.pandas  # noqa\n",
    "import morecantile\n",
    "import xarray as xr\n",
    "from cmr_tile_test import CMRTileTest\n",
    "\n",
    "import helpers.dataframe as dataframe_helpers\n",
    "import helpers.eodc_hub_role as eodc_hub_role"
   ]
  },
  {
   "cell_type": "code",
   "execution_count": null,
   "metadata": {},
   "outputs": [],
   "source": [
    "doi = \"10.5067/GPM/IMERGDE/DAY/07\"\n",
    "concept_id = \"C2723754850-GES_DISC\"\n",
    "variable = \"precipitation\"\n",
    "cmr_query = {\"temporal\": (\"2024-02-11\", \"2024-02-11\")}"
   ]
  },
  {
   "cell_type": "markdown",
   "metadata": {},
   "source": [
    "## Determine number of zoom levels to include in the test"
   ]
  },
  {
   "cell_type": "code",
   "execution_count": null,
   "metadata": {},
   "outputs": [],
   "source": [
    "results = earthaccess.search_data(\n",
    "    concept_id=concept_id, cloud_hosted=True, temporal=cmr_query[\"temporal\"]\n",
    ")\n",
    "with fsspec.open(results[0].data_links(\"direct\")[0]) as f:\n",
    "    ds = xr.open_dataset(f, decode_cf=False)\n",
    "resolution = max(\n",
    "    ds.lat.diff(dim=\"lat\").max().values, ds.lon.diff(dim=\"lon\").max().values\n",
    ")"
   ]
  },
  {
   "cell_type": "code",
   "execution_count": null,
   "metadata": {},
   "outputs": [],
   "source": [
    "tms = morecantile.tms.get(\"WebMercatorQuad\")\n",
    "max_zoom = tms.zoom_for_res(resolution, max_z=30, zoom_level_strategy=\"auto\")\n",
    "max_zoom"
   ]
  },
  {
   "cell_type": "markdown",
   "metadata": {},
   "source": [
    "## Run test"
   ]
  },
  {
   "cell_type": "code",
   "execution_count": null,
   "metadata": {},
   "outputs": [],
   "source": [
    "cmr_test = CMRTileTest(\n",
    "    dataset_id=concept_id,\n",
    "    lat_extent=[-85, 85],\n",
    "    lon_extent=[-180, 180],\n",
    "    cmr_query=cmr_query,\n",
    "    variable=variable,\n",
    ")"
   ]
  },
  {
   "cell_type": "code",
   "execution_count": null,
   "metadata": {},
   "outputs": [],
   "source": [
    "iterations = 1\n",
    "zoom_levels = 3  # max_zoom\n",
    "zooms = range(zoom_levels)"
   ]
  },
  {
   "cell_type": "code",
   "execution_count": null,
   "metadata": {},
   "outputs": [],
   "source": [
    "print(f\"Generate indexes for {iterations} random tiles for {zoom_levels} zoom levels\")\n",
    "arguments = []\n",
    "for zoom in zooms:\n",
    "    arguments.extend(cmr_test.generate_arguments(iterations, zoom))"
   ]
  },
  {
   "cell_type": "code",
   "execution_count": null,
   "metadata": {},
   "outputs": [],
   "source": [
    "print(\"Run the tile generation tests\")\n",
    "timings = cmr_test.run_batch(arguments=arguments)"
   ]
  },
  {
   "cell_type": "markdown",
   "metadata": {},
   "source": [
    "## Store results on s3"
   ]
  },
  {
   "cell_type": "code",
   "execution_count": null,
   "metadata": {},
   "outputs": [],
   "source": [
    "credentials = eodc_hub_role.fetch_and_set_credentials()\n",
    "cmr_test_results = cmr_test.store_results(credentials)"
   ]
  },
  {
   "cell_type": "markdown",
   "metadata": {},
   "source": [
    "## Load + plot results "
   ]
  },
  {
   "cell_type": "code",
   "execution_count": null,
   "metadata": {},
   "outputs": [],
   "source": [
    "credentials = eodc_hub_role.fetch_and_set_credentials()\n",
    "df = dataframe_helpers.load_all_into_dataframe(\n",
    "    credentials, [cmr_test_results], use_boto3=False\n",
    ")\n",
    "df = dataframe_helpers.expand_timings(df)"
   ]
  },
  {
   "cell_type": "code",
   "execution_count": null,
   "metadata": {},
   "outputs": [],
   "source": [
    "df.hvplot.box(\n",
    "    y=\"time\",\n",
    "    by=[\"zoom\"],\n",
    "    ylabel=\"Time to tile (ms)\",\n",
    "    xlabel=\"Zoom level\",\n",
    "    legend=False,\n",
    ")"
   ]
  }
 ],
 "metadata": {
  "kernelspec": {
   "display_name": "notebook",
   "language": "python",
   "name": "python3"
  },
  "language_info": {
   "codemirror_mode": {
    "name": "ipython",
    "version": 3
   },
   "file_extension": ".py",
   "mimetype": "text/x-python",
   "name": "python",
   "nbconvert_exporter": "python",
   "pygments_lexer": "ipython3",
   "version": "3.11.9"
  }
 },
 "nbformat": 4,
 "nbformat_minor": 2
}
