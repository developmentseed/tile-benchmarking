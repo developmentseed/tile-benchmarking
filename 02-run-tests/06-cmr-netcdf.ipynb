{
 "cells": [
  {
   "cell_type": "markdown",
   "metadata": {},
   "source": [
    "# Tile Generation Benchmarks using CMR\n",
    "\n",
    "## Explanation\n",
    "\n",
    "In this notebook we explore tile generation using titiler-cmr with the GPM IMERG and MUR-SST datasets."
   ]
  },
  {
   "cell_type": "code",
   "execution_count": null,
   "metadata": {},
   "outputs": [],
   "source": [
    "import cf_xarray  # noqa\n",
    "import hvplot.pandas  # noqa\n",
    "from cmr_tile_test import run_cmr_tile_tests\n",
    "\n",
    "import helpers.dataframe as dataframe_helpers\n",
    "import helpers.eodc_hub_role as eodc_hub_role"
   ]
  },
  {
   "cell_type": "markdown",
   "metadata": {},
   "source": [
    "## Set parameters for benchmarks"
   ]
  },
  {
   "cell_type": "code",
   "execution_count": null,
   "metadata": {},
   "outputs": [],
   "source": [
    "gpm_imerg = {\n",
    "    \"concept_id\": \"C2723754850-GES_DISC\",\n",
    "    \"variable\": \"precipitation\",\n",
    "    \"cmr_query\": {\"temporal\": (\"2000-06-01\", \"2000-06-01\")},\n",
    "    \"rescale\": ((0, 48),),\n",
    "    \"colormap_name\": \"coolwarm\",\n",
    "    \"output_format\": \"png\",\n",
    "}\n",
    "mur_sst = {\n",
    "    \"concept_id\": \"C1996881146-POCLOUD\",\n",
    "    \"variable\": \"analysed_sst\",\n",
    "    \"cmr_query\": {\"temporal\": (\"2002-06-01\", \"2002-06-01\")},\n",
    "    \"rescale\": ((271, 305),),\n",
    "    \"colormap_name\": \"coolwarm\",\n",
    "    \"output_format\": \"png\",\n",
    "}\n",
    "iterations = 10"
   ]
  },
  {
   "cell_type": "markdown",
   "metadata": {},
   "source": [
    "## Run the tests"
   ]
  },
  {
   "cell_type": "code",
   "execution_count": null,
   "metadata": {},
   "outputs": [],
   "source": [
    "cmr_test_results = []\n",
    "cmr_test_results.append(\n",
    "    run_cmr_tile_tests(\n",
    "        gpm_imerg,\n",
    "        iterations,\n",
    "    )\n",
    ")\n",
    "cmr_test_results.append(run_cmr_tile_tests(mur_sst, iterations))"
   ]
  },
  {
   "cell_type": "markdown",
   "metadata": {},
   "source": [
    "## Load + plot results "
   ]
  },
  {
   "cell_type": "code",
   "execution_count": null,
   "metadata": {},
   "outputs": [],
   "source": [
    "credentials = eodc_hub_role.fetch_and_set_credentials()\n",
    "df = dataframe_helpers.load_all_into_dataframe(\n",
    "    credentials, cmr_test_results, use_boto3=False\n",
    ")\n",
    "df = dataframe_helpers.expand_timings(df)\n",
    "df[\"Time (s)\"] = df[\"time\"] * 1e-3"
   ]
  },
  {
   "cell_type": "code",
   "execution_count": null,
   "metadata": {},
   "outputs": [],
   "source": [
    "plt_opts = {\"width\": 1800, \"height\": 400, \"xrotation\": 90}\n",
    "df.hvplot.box(\n",
    "    y=\"Time (s)\",\n",
    "    by=[\"zoom\", \"dataset_id\"],\n",
    "    ylabel=\"Time to tile (s)\",\n",
    "    xlabel=\"Zoom level\",\n",
    "    legend=False,\n",
    ").opts(**plt_opts)"
   ]
  },
  {
   "cell_type": "code",
   "execution_count": null,
   "metadata": {},
   "outputs": [],
   "source": []
  }
 ],
 "metadata": {
  "kernelspec": {
   "display_name": "Python 3 (ipykernel)",
   "language": "python",
   "name": "python3"
  },
  "language_info": {
   "codemirror_mode": {
    "name": "ipython",
    "version": 3
   },
   "file_extension": ".py",
   "mimetype": "text/x-python",
   "name": "python",
   "nbconvert_exporter": "python",
   "pygments_lexer": "ipython3",
   "version": "3.11.9"
  }
 },
 "nbformat": 4,
 "nbformat_minor": 4
}
