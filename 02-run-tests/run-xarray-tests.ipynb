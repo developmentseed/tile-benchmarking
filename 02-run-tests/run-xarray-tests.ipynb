{
 "cells": [
  {
   "cell_type": "code",
   "execution_count": 1,
   "id": "91672129-e79a-4a5b-8a6e-b8fef9aa0954",
   "metadata": {
    "tags": []
   },
   "outputs": [],
   "source": [
    "%%capture\n",
    "!pip install rio-tiler==4.1.11 loguru"
   ]
  },
  {
   "cell_type": "markdown",
   "id": "72184dbd-cf1d-45a4-86fd-bc7c2fca6dbd",
   "metadata": {},
   "source": [
    "# Xarray Tile Testing"
   ]
  },
  {
   "cell_type": "code",
   "execution_count": 2,
   "id": "b5a6c6b5-8d37-440f-abf9-c4942376e9fe",
   "metadata": {
    "tags": []
   },
   "outputs": [],
   "source": [
    "%load_ext autoreload\n",
    "%autoreload\n",
    "from xarray_tile_test import XarrayTileTest\n",
    "import sys; sys.path.append('..')\n",
    "import helpers.eodc_hub_role as eodc_hub_role\n",
    "import warnings\n",
    "warnings.filterwarnings(\"ignore\")"
   ]
  },
  {
   "cell_type": "code",
   "execution_count": 3,
   "id": "a42c9d28-adf2-4286-b0a8-01584b0605da",
   "metadata": {
    "tags": []
   },
   "outputs": [],
   "source": [
    "credentials = eodc_hub_role.fetch_and_set_credentials()"
   ]
  },
  {
   "cell_type": "code",
   "execution_count": 5,
   "id": "dbb413c6-d13c-418d-b5d4-58cf150ec673",
   "metadata": {
    "tags": []
   },
   "outputs": [],
   "source": [
    "xarray_tile_test = XarrayTileTest(\n",
    "    dataset_id='cmip6-kerchunk',\n",
    "    dataset_url='s3://nasa-eodc-data-store/test-data/cmip6-kerchunk/combined_CMIP6_daily_GISS-E2-1-G_tas_kerchunk.json',\n",
    "    variable='tas',\n",
    "    extra_args={'reference': True},\n",
    ")"
   ]
  },
  {
   "cell_type": "code",
   "execution_count": null,
   "id": "826aa6b2-d9b8-4828-93aa-7feca677e694",
   "metadata": {},
   "outputs": [],
   "source": [
    "xarray_tile_test.array_specs"
   ]
  },
  {
   "cell_type": "code",
   "execution_count": null,
   "id": "d0ff5e3d-1bb0-4020-be54-6435cdb37536",
   "metadata": {
    "tags": []
   },
   "outputs": [],
   "source": [
    "xarray_tile_test.run_batch({'zoom': 0})"
   ]
  },
  {
   "cell_type": "code",
   "execution_count": null,
   "id": "b5986ea3-c93b-4f32-b1d2-1d1c284c69a9",
   "metadata": {
    "tags": []
   },
   "outputs": [],
   "source": [
    "xarray_tile_test.store_results(credentials)"
   ]
  },
  {
   "cell_type": "markdown",
   "id": "0668e9f1-33f1-4fdf-a128-789613f33ebe",
   "metadata": {},
   "source": [
    "## Run many tests"
   ]
  },
  {
   "cell_type": "code",
   "execution_count": null,
   "id": "5c845188-f6f5-4b40-bcf1-1a5b8d311e1a",
   "metadata": {
    "tags": []
   },
   "outputs": [],
   "source": [
    "# TODO"
   ]
  },
  {
   "cell_type": "markdown",
   "id": "936ef0bc-eaa8-4281-a4fd-9f968d13c5be",
   "metadata": {},
   "source": [
    "## Read results"
   ]
  },
  {
   "cell_type": "code",
   "execution_count": null,
   "id": "a49bd161-15de-4a4b-84ba-0c59a3515761",
   "metadata": {
    "tags": []
   },
   "outputs": [],
   "source": [
    "# TODO"
   ]
  }
 ],
 "metadata": {
  "kernelspec": {
   "display_name": "Python 3 (ipykernel)",
   "language": "python",
   "name": "python3"
  },
  "language_info": {
   "codemirror_mode": {
    "name": "ipython",
    "version": 3
   },
   "file_extension": ".py",
   "mimetype": "text/x-python",
   "name": "python",
   "nbconvert_exporter": "python",
   "pygments_lexer": "ipython3",
   "version": "3.10.12"
  }
 },
 "nbformat": 4,
 "nbformat_minor": 5
}
