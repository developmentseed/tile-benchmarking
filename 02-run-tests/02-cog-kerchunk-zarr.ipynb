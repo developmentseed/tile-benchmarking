{
 "cells": [
  {
   "cell_type": "markdown",
   "metadata": {},
   "source": [
    "# Comparing Tiling across Data Formats\n",
    "\n",
    "## Description\n",
    "\n",
    "In this notebook we compare the performance of tiling CMIP6 data stored as COG, NetCDF and Zarr. In order to tile the NetCDF, we use a kerchunk reference file. You are able to use the ZarrReader with NetCDF directly, however you cannot read more than file at once which makes it incomparable with the pgSTAC+COG and Zarr methods.\n",
    "\n",
    "## Setup"
   ]
  },
  {
   "cell_type": "code",
   "execution_count": null,
   "metadata": {
    "vscode": {
     "languageId": "plaintext"
    }
   },
   "outputs": [],
   "source": [
    "import json\n",
    "import pandas as pd\n",
    "from cog_tile_test import CogTileTest\n",
    "fomr xarray_tile_test import XarrayTileTest\n",
    "import sys; sys.path.append('..')\n",
    "import helpers.eodc_hub_role as eodc_hub_role"
   ]
  },
  {
   "cell_type": "code",
   "execution_count": null,
   "metadata": {
    "vscode": {
     "languageId": "plaintext"
    }
   },
   "outputs": [],
   "source": [
    "credentials = eodc_hub_role.fetch_and_set_credentials()"
   ]
  },
  {
   "cell_type": "markdown",
   "metadata": {},
   "source": [
    "Below we only load the CMIP6 Zarr dataset which has the same chunk structure as the original NetCDF data."
   ]
  },
  {
   "cell_type": "code",
   "execution_count": null,
   "metadata": {
    "vscode": {
     "languageId": "plaintext"
    }
   },
   "outputs": [],
   "source": [
    "# Run 3 iterations of each setting\n",
    "iterations = 3\n",
    "zooms = range(12)\n",
    "cog_dataset_id, cog_dataset = json.loads(open('../01-generate-datasets/cog-datasets.json').read()).items()\n",
    "kerchunk_dataset_id, kerchunk_dataset = json.loads(open('../01-generate-datasets/cmip6-kerchunk-dataset.json').read()).items()\n",
    "zarr_datasets = json.loads(open('../01-generate-datasets/cmip6-zarr-datasets.json').read()).items()\n",
    "# Filter for \n",
    "zarr_dataset_dict = list(filter(k.contains('600_1440_1') for k,v in zarr_datasets.items()))[0]\n",
    "zarr_dataset_id, zarr_dataset = zarr_dataset_dict.items()"
   ]
  },
  {
   "cell_type": "markdown",
   "metadata": {},
   "source": [
    "## Run Tests\n",
    "\n",
    "### COG Tests"
   ]
  },
  {
   "cell_type": "code",
   "execution_count": null,
   "metadata": {
    "vscode": {
     "languageId": "plaintext"
    }
   },
   "outputs": [],
   "source": [
    "# Based on our findings in 01-cog-gdal-tests we run these tests with set_gdal_vars to True.\n",
    "cog_tile_test = CogTileTest(\n",
    "    dataset_id=dataset_id,\n",
    "    extra_args={\n",
    "        'query': dataset['example_query'],\n",
    "        'set_gdal_vars': True\n",
    "    }\n",
    ")\n",
    "\n",
    "# Run it 3 times for each zoom level\n",
    "for zoom in zooms:\n",
    "    cog_tile_test.run_batch({'zoom': zoom}, batch_size=iterations)\n",
    "\n",
    "cog_results = cog_tile_test_set.store_results(credentials)"
   ]
  },
  {
   "cell_type": "markdown",
   "metadata": {},
   "source": [
    "### Kerchunk Tests"
   ]
  },
  {
   "cell_type": "code",
   "execution_count": null,
   "metadata": {
    "vscode": {
     "languageId": "plaintext"
    }
   },
   "outputs": [],
   "source": [
    "kerchunk_tile_test = XarrayTileTest(\n",
    "    dataset_id=kerchunk_dataset_id,\n",
    "    *kerchunk_dataset\n",
    ")\n",
    "\n",
    "# Run it 3 times for each zoom level\n",
    "for zoom in zooms:\n",
    "    kerchunk_tile_test.run_batch({'zoom': zoom}, batch_size=iterations)\n",
    "\n",
    "kerchunk_results = kerchunk_tile_test_set.store_results(credentials)"
   ]
  },
  {
   "cell_type": "code",
   "execution_count": null,
   "metadata": {
    "vscode": {
     "languageId": "plaintext"
    }
   },
   "outputs": [],
   "source": [
    "zarr_tile_test = XarrayTileTest(\n",
    "    dataset_id=zarr_dataset_id,\n",
    "    *zarr_dataset\n",
    ")\n",
    "\n",
    "# Run it 3 times for each zoom level\n",
    "for zoom in zooms:\n",
    "    zarr_tile_test.run_batch({'zoom': zoom}, batch_size=iterations)\n",
    "\n",
    "zarr_results = zarr_tile_test_set.store_results(credentials)"
   ]
  },
  {
   "cell_type": "code",
   "execution_count": null,
   "metadata": {
    "vscode": {
     "languageId": "plaintext"
    }
   },
   "outputs": [],
   "source": [
    "## Read and Plot Results"
   ]
  },
  {
   "cell_type": "code",
   "execution_count": null,
   "metadata": {
    "vscode": {
     "languageId": "plaintext"
    }
   },
   "outputs": [],
   "source": [
    "see code in run-xarray-tests.ipynb"
   ]
  },
  {
   "cell_type": "code",
   "execution_count": null,
   "metadata": {
    "vscode": {
     "languageId": "plaintext"
    }
   },
   "outputs": [],
   "source": [
    "expanded_df.plot.scatter(x='zoom', y='time', by='dataset_id')"
   ]
  },
  {
   "cell_type": "code",
   "execution_count": null,
   "metadata": {
    "vscode": {
     "languageId": "plaintext"
    }
   },
   "outputs": [],
   "source": [
    "expanded_df.results.to_csv('results/cog-kerchunk-zarr-results.csv')"
   ]
  }
 ],
 "metadata": {
  "language_info": {
   "name": "python"
  },
  "orig_nbformat": 4
 },
 "nbformat": 4,
 "nbformat_minor": 2
}
