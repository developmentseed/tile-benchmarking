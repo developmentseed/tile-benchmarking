{
 "cells": [
  {
   "cell_type": "code",
   "execution_count": 1,
   "id": "91672129-e79a-4a5b-8a6e-b8fef9aa0954",
   "metadata": {
    "tags": []
   },
   "outputs": [],
   "source": [
    "# %%capture\n",
    "# !pip install rio-tiler==4.1.11 loguru"
   ]
  },
  {
   "cell_type": "code",
   "execution_count": 10,
   "id": "b5a6c6b5-8d37-440f-abf9-c4942376e9fe",
   "metadata": {
    "tags": []
   },
   "outputs": [
    {
     "name": "stdout",
     "output_type": "stream",
     "text": [
      "The autoreload extension is already loaded. To reload it, use:\n",
      "  %reload_ext autoreload\n"
     ]
    }
   ],
   "source": [
    "%load_ext autoreload\n",
    "%autoreload\n",
    "from tile_test import TileTest\n",
    "import sys; sys.path.append('..')\n",
    "import helpers.eodc_hub_role as eodc_hub_role"
   ]
  },
  {
   "cell_type": "code",
   "execution_count": 3,
   "id": "a42c9d28-adf2-4286-b0a8-01584b0605da",
   "metadata": {
    "tags": []
   },
   "outputs": [],
   "source": [
    "credentials = eodc_hub_role.fetch_and_set_credentials()"
   ]
  },
  {
   "cell_type": "code",
   "execution_count": 4,
   "id": "dbb413c6-d13c-418d-b5d4-58cf150ec673",
   "metadata": {
    "tags": []
   },
   "outputs": [
    {
     "name": "stderr",
     "output_type": "stream",
     "text": [
      "/home/jovyan/tile-benchmarking/02-run-tests/../titiler_xarray/titiler/xarray/reader.py:45: UserWarning: Variable(s) referenced in cell_measures not in variables: ['areacella']\n",
      "  return xarray.open_dataset(src_path, **xr_open_args)\n"
     ]
    }
   ],
   "source": [
    "tile_test = TileTest(\n",
    "    dataset_id='cmip6-kerchunk',\n",
    "    dataset_url='s3://nasa-eodc-data-store/test-data/cmip6-kerchunk/combined_CMIP6_daily_GISS-E2-1-G_tas_kerchunk.json',\n",
    "    variable='tas',\n",
    "    extra_dataset_info={'reference': True},\n",
    ")"
   ]
  },
  {
   "cell_type": "code",
   "execution_count": 5,
   "id": "826aa6b2-d9b8-4828-93aa-7feca677e694",
   "metadata": {},
   "outputs": [
    {
     "data": {
      "text/plain": [
       "{'number_coordinate_chunks': 3,\n",
       " 'tas': {'total_array_size': 2406.005859375,\n",
       "  'chunks': {'chunks': (1, 600, 1440),\n",
       "   'dtype': 'float32',\n",
       "   'chunk_size_mb': 3.2958984375,\n",
       "   'compression': 'Zlib(level=5)',\n",
       "   'number_of_chunks': 730}}}"
      ]
     },
     "execution_count": 5,
     "metadata": {},
     "output_type": "execute_result"
    }
   ],
   "source": [
    "tile_test.array_specs"
   ]
  },
  {
   "cell_type": "code",
   "execution_count": 6,
   "id": "d0ff5e3d-1bb0-4020-be54-6435cdb37536",
   "metadata": {
    "tags": []
   },
   "outputs": [
    {
     "name": "stderr",
     "output_type": "stream",
     "text": [
      "/home/jovyan/tile-benchmarking/02-run-tests/../titiler_xarray/titiler/xarray/reader.py:45: UserWarning: Variable(s) referenced in cell_measures not in variables: ['areacella']\n",
      "  return xarray.open_dataset(src_path, **xr_open_args)\n"
     ]
    }
   ],
   "source": [
    "tile_test.run_batch({'zoom': 0})"
   ]
  },
  {
   "cell_type": "code",
   "execution_count": 11,
   "id": "b5986ea3-c93b-4f32-b1d2-1d1c284c69a9",
   "metadata": {
    "tags": []
   },
   "outputs": [
    {
     "name": "stdout",
     "output_type": "stream",
     "text": [
      "Wrote instance data to s3://nasa-eodc-data-store/test-results/20230831012412_TileTest_cmip6-kerchunk.json\n"
     ]
    }
   ],
   "source": [
    "tile_test.store_results(credentials)"
   ]
  }
 ],
 "metadata": {
  "kernelspec": {
   "display_name": "Python 3 (ipykernel)",
   "language": "python",
   "name": "python3"
  },
  "language_info": {
   "codemirror_mode": {
    "name": "ipython",
    "version": 3
   },
   "file_extension": ".py",
   "mimetype": "text/x-python",
   "name": "python",
   "nbconvert_exporter": "python",
   "pygments_lexer": "ipython3",
   "version": "3.10.12"
  }
 },
 "nbformat": 4,
 "nbformat_minor": 5
}
