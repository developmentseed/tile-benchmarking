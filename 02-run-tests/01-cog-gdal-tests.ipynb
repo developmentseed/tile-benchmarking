{
 "cells": [
  {
   "cell_type": "markdown",
   "metadata": {},
   "source": [
    "# COG GDAL ENV Var Tests\n",
    "\n",
    "## Explanation\n",
    "\n",
    "In this notebook we demonstrate the importance of using GDAL ENV variables.\n",
    "\n",
    "GDAL environment variables are an important factor to delivering performant tiling using rasterio.\n",
    "\n",
    "These GDAL variables are documented here https://developmentseed.org/titiler/advanced/performance_tuning/. Those comments are also in cog_tile_test.py.\n",
    "\n",
    "We run 3 iterations of generating tiles from zoom 0 to 12 for tiling when GDAL environment variables are set and when they are unset and display the results."
   ]
  },
  {
   "cell_type": "markdown",
   "metadata": {},
   "source": [
    "## Setup"
   ]
  },
  {
   "cell_type": "code",
   "execution_count": null,
   "metadata": {
    "vscode": {
     "languageId": "plaintext"
    }
   },
   "outputs": [],
   "source": [
    "import json\n",
    "import pandas as pd\n",
    "from cog_tile_test import CogTileTest\n",
    "\n",
    "import sys; sys.path.append('..')\n",
    "import helpers.eodc_hub_role as eodc_hub_role"
   ]
  },
  {
   "cell_type": "code",
   "execution_count": null,
   "metadata": {
    "vscode": {
     "languageId": "plaintext"
    }
   },
   "outputs": [],
   "source": [
    "credentials = eodc_hub_role.fetch_and_set_credentials()"
   ]
  },
  {
   "cell_type": "code",
   "execution_count": null,
   "metadata": {
    "vscode": {
     "languageId": "plaintext"
    }
   },
   "outputs": [],
   "source": [
    "# Run 3 iterations of each setting\n",
    "iterations = 3\n",
    "zooms = range(12)\n",
    "dataset_id, dataset = json.loads(open('../01-generate-datasets/cog-datasets.json').read()).items()\n"
   ]
  },
  {
   "cell_type": "markdown",
   "metadata": {},
   "source": [
    "## Run tests"
   ]
  },
  {
   "cell_type": "code",
   "execution_count": null,
   "metadata": {
    "vscode": {
     "languageId": "plaintext"
    }
   },
   "outputs": [],
   "source": [
    "\n",
    "# Create a test with gdal vars unset\n",
    "cog_tile_test_unset = CogTileTest(\n",
    "    dataset_id=dataset_id,\n",
    "    extra_args={\n",
    "        'query': dataset['example_query'],\n",
    "        'set_gdal_vars': False\n",
    "    }\n",
    ")\n",
    "\n",
    "# Run it 3 times for each zoom level\n",
    "for zoom in zooms:\n",
    "    cog_tile_test_unset.run_batch({'zoom': zoom}, batch_size=iterations)\n",
    "\n",
    "unset_results = cog_tile_test_unset.store_results(credentials)\n"
   ]
  },
  {
   "cell_type": "code",
   "execution_count": null,
   "metadata": {
    "vscode": {
     "languageId": "plaintext"
    }
   },
   "outputs": [],
   "source": [
    "# Create a test with gdal vars SET\n",
    "cog_tile_test_set = CogTileTest(\n",
    "    dataset_id=dataset_id,\n",
    "    extra_args={\n",
    "        'query': dataset['example_query'],\n",
    "        'set_gdal_vars': True\n",
    "    }\n",
    ")\n",
    "\n",
    "# Run it 3 times for each zoom level\n",
    "for zoom in zooms:\n",
    "    cog_tile_test_set.run_batch({'zoom': zoom}, batch_size=iterations)\n",
    "\n",
    "set_results = cog_tile_test_set.store_results(credentials)"
   ]
  },
  {
   "cell_type": "markdown",
   "metadata": {},
   "source": [
    "# Read + Plot results "
   ]
  },
  {
   "cell_type": "code",
   "execution_count": null,
   "metadata": {
    "vscode": {
     "languageId": "plaintext"
    }
   },
   "outputs": [],
   "source": [
    "# see code in run-xarray-tests.ipynb"
   ]
  },
  {
   "cell_type": "code",
   "execution_count": null,
   "metadata": {
    "vscode": {
     "languageId": "plaintext"
    }
   },
   "outputs": [],
   "source": [
    "expanded_df.plot.scatter(x='zoom', y='time', by='gdal_vars_set')"
   ]
  },
  {
   "cell_type": "code",
   "execution_count": null,
   "metadata": {
    "vscode": {
     "languageId": "plaintext"
    }
   },
   "outputs": [],
   "source": [
    "expanded_df.results.to_csv('results/cog-gdal-results.csv')"
   ]
  }
 ],
 "metadata": {
  "language_info": {
   "name": "python"
  },
  "orig_nbformat": 4
 },
 "nbformat": 4,
 "nbformat_minor": 2
}
