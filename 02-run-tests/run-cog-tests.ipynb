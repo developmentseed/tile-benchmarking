{
 "cells": [
  {
   "cell_type": "markdown",
   "id": "72184dbd-cf1d-45a4-86fd-bc7c2fca6dbd",
   "metadata": {},
   "source": [
    "# COG Tile Testing"
   ]
  },
  {
   "cell_type": "code",
   "execution_count": 67,
   "id": "b5a6c6b5-8d37-440f-abf9-c4942376e9fe",
   "metadata": {
    "tags": []
   },
   "outputs": [
    {
     "name": "stdout",
     "output_type": "stream",
     "text": [
      "The autoreload extension is already loaded. To reload it, use:\n",
      "  %reload_ext autoreload\n"
     ]
    }
   ],
   "source": [
    "import json\n",
    "from cog_tile_test import CogTileTest\n",
    "import warnings\n",
    "warnings.filterwarnings(\"ignore\")\n",
    "import sys; sys.path.append('..')\n",
    "import helpers.eodc_hub_role as eodc_hub_role"
   ]
  },
  {
   "cell_type": "code",
   "execution_count": 15,
   "id": "efdc94aa-b426-4664-8bed-a7926f638449",
   "metadata": {
    "tags": []
   },
   "outputs": [],
   "source": [
    "credentials = eodc_hub_role.fetch_and_set_credentials()"
   ]
  },
  {
   "cell_type": "code",
   "execution_count": 68,
   "id": "dbb413c6-d13c-418d-b5d4-58cf150ec673",
   "metadata": {
    "tags": []
   },
   "outputs": [
    {
     "name": "stdout",
     "output_type": "stream",
     "text": [
      "Caught exception: An error occurred (InvalidPermission.Duplicate) when calling the AuthorizeSecurityGroupIngress operation: the specified rule \"peer: 54.202.235.63/32, TCP, from port: 5432, to port: 5432, ALLOW\" already exists\n",
      "Connected to database\n"
     ]
    }
   ],
   "source": [
    "datasets = json.loads(open('../01-generate-datasets/cog-datasets.json').read())\n",
    "first_dataset = list(datasets.items())[0]\n",
    "dataset_id, example_query = first_dataset[0], first_dataset[1]['example_query']\n",
    "cog_tile_test = CogTileTest(\n",
    "    dataset_id=dataset_id,\n",
    "    extra_args={\n",
    "        'query': example_query,\n",
    "        'credentials': credentials,\n",
    "        'set_gdal_vars': True\n",
    "    },\n",
    ")\n"
   ]
  },
  {
   "cell_type": "code",
   "execution_count": 69,
   "id": "d0ff5e3d-1bb0-4020-be54-6435cdb37536",
   "metadata": {
    "tags": []
   },
   "outputs": [],
   "source": [
    "cog_tile_test.run_batch({'zoom': 0})"
   ]
  },
  {
   "cell_type": "code",
   "execution_count": 70,
   "id": "13d4a20a-05f7-480f-a0d1-36e8137bac62",
   "metadata": {
    "tags": []
   },
   "outputs": [
    {
     "data": {
      "text/plain": [
       "[[81.54, (0, 0, 0)]]"
      ]
     },
     "execution_count": 70,
     "metadata": {},
     "output_type": "execute_result"
    }
   ],
   "source": [
    "cog_tile_test.timings"
   ]
  },
  {
   "cell_type": "code",
   "execution_count": 71,
   "id": "4585f126-8111-442b-a773-e6da04df9e3b",
   "metadata": {
    "tags": []
   },
   "outputs": [
    {
     "data": {
      "text/plain": [
       "{'name': 'CogTileTest',\n",
       " 'dataset_id': 'CMIP6_daily_GISS-E2-1-G_tas',\n",
       " 'dataset_url': None,\n",
       " 'niters': 1,\n",
       " 'bucket': 'nasa-eodc-data-store',\n",
       " 'results_directory': 'test-results',\n",
       " 'variable': None,\n",
       " 'extra_args': {'query': {'collections': ['CMIP6_daily_GISS-E2-1-G_tas'],\n",
       "   'filter': {'op': 't_intersects',\n",
       "    'args': [{'property': 'datetime'},\n",
       "     {'interval': ['1950-04-01T00:00:00Z']}]},\n",
       "   'filter-lang': 'cql2-json'},\n",
       "  'set_gdal_vars': True},\n",
       " 'timings': [[81.54, (0, 0, 0)]],\n",
       " 'pool': <psycopg_pool.pool.ConnectionPool 'pool-11' at 0x7f70e939e170>,\n",
       " 'set_gdal_vars': True,\n",
       " 'query': {'collections': ['CMIP6_daily_GISS-E2-1-G_tas'],\n",
       "  'filter': {'op': 't_intersects',\n",
       "   'args': [{'property': 'datetime'}, {'interval': ['1950-04-01T00:00:00Z']}]},\n",
       "  'filter-lang': 'cql2-json'},\n",
       " 'lat_extent': [-90, 90],\n",
       " 'lon_extent': [-180, 180]}"
      ]
     },
     "execution_count": 71,
     "metadata": {},
     "output_type": "execute_result"
    }
   ],
   "source": [
    "cog_tile_test.__dict__"
   ]
  },
  {
   "cell_type": "code",
   "execution_count": 72,
   "id": "b5986ea3-c93b-4f32-b1d2-1d1c284c69a9",
   "metadata": {
    "tags": []
   },
   "outputs": [
    {
     "name": "stdout",
     "output_type": "stream",
     "text": [
      "Wrote instance data to s3://nasa-eodc-data-store/test-results/20230831174754_CogTileTest_CMIP6_daily_GISS-E2-1-G_tas.json\n"
     ]
    }
   ],
   "source": [
    "cog_tile_test.store_results(credentials)"
   ]
  },
  {
   "cell_type": "markdown",
   "id": "0668e9f1-33f1-4fdf-a128-789613f33ebe",
   "metadata": {},
   "source": [
    "## Run many tests"
   ]
  },
  {
   "cell_type": "code",
   "execution_count": null,
   "id": "5c845188-f6f5-4b40-bcf1-1a5b8d311e1a",
   "metadata": {
    "tags": []
   },
   "outputs": [],
   "source": [
    "# TODO"
   ]
  },
  {
   "cell_type": "markdown",
   "id": "936ef0bc-eaa8-4281-a4fd-9f968d13c5be",
   "metadata": {},
   "source": [
    "## Read results"
   ]
  },
  {
   "cell_type": "code",
   "execution_count": null,
   "id": "a49bd161-15de-4a4b-84ba-0c59a3515761",
   "metadata": {
    "tags": []
   },
   "outputs": [],
   "source": [
    "# TODO"
   ]
  }
 ],
 "metadata": {
  "kernelspec": {
   "display_name": "Python 3 (ipykernel)",
   "language": "python",
   "name": "python3"
  },
  "language_info": {
   "codemirror_mode": {
    "name": "ipython",
    "version": 3
   },
   "file_extension": ".py",
   "mimetype": "text/x-python",
   "name": "python",
   "nbconvert_exporter": "python",
   "pygments_lexer": "ipython3",
   "version": "3.10.12"
  }
 },
 "nbformat": 4,
 "nbformat_minor": 5
}
