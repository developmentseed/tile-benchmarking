{
 "cells": [
  {
   "cell_type": "code",
   "execution_count": 2,
   "id": "ffa11dcf-21ee-44b1-b085-5ffee5201d8b",
   "metadata": {
    "tags": []
   },
   "outputs": [],
   "source": [
    "import json\n",
    "import os\n",
    "\n",
    "def merge_json(directory_path, output_filename='all-datasets.json'):\n",
    "    merged_data_object = {}\n",
    "    \n",
    "    for filename in os.listdir(directory_path):\n",
    "        if filename.endswith('.json') and filename != output_filename:\n",
    "            file_path = os.path.join(directory_path, filename)\n",
    "\n",
    "            with open(file_path, 'r') as f:\n",
    "                data = json.load(f)\n",
    "                \n",
    "                if isinstance(data, dict):\n",
    "                    merged_data_object.update(data)\n",
    "\n",
    "    with open(output_filename, 'w') as f:\n",
    "        json.dump(merged_data_object, f, indent=4)\n",
    "        f.close()\n",
    "\n",
    "# Use the function\n",
    "merge_json('../01-generate-datasets/')"
   ]
  },
  {
   "cell_type": "code",
   "execution_count": null,
   "id": "bf714b60-6493-4904-85d5-03ab0c128cfa",
   "metadata": {},
   "outputs": [],
   "source": []
  }
 ],
 "metadata": {
  "kernelspec": {
   "display_name": "Python 3 (ipykernel)",
   "language": "python",
   "name": "python3"
  },
  "language_info": {
   "codemirror_mode": {
    "name": "ipython",
    "version": 3
   },
   "file_extension": ".py",
   "mimetype": "text/x-python",
   "name": "python",
   "nbconvert_exporter": "python",
   "pygments_lexer": "ipython3",
   "version": "3.10.12"
  }
 },
 "nbformat": 4,
 "nbformat_minor": 5
}
