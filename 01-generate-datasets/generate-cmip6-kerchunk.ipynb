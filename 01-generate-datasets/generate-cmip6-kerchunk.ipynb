{
 "cells": [
  {
   "cell_type": "markdown",
   "id": "98a2bdcc-0ff4-4d05-a92b-403ae87844aa",
   "metadata": {},
   "source": [
    "# Generate Kerchunk Reference from CMIP6 NetCDF files\n",
    "\n",
    "This notebook demonstrates how to create a kerchunk reference from NetCDF files on S3."
   ]
  },
  {
   "cell_type": "code",
   "execution_count": 1,
   "id": "9f7250a6",
   "metadata": {},
   "outputs": [],
   "source": [
    "from tempfile import TemporaryDirectory\n",
    "import boto3\n",
    "import fsspec\n",
    "import os\n",
    "import ujson\n",
    "import xarray as xr\n",
    "from kerchunk.combine import MultiZarrToZarr\n",
    "from kerchunk.hdf import SingleHdf5ToZarr\n",
    "from typing import Dict\n",
    "import sys; sys.path.append('..')\n",
    "import helpers.eodc_hub_role as eodc_hub_role"
   ]
  },
  {
   "cell_type": "code",
   "execution_count": 2,
   "id": "c8b527e1-b054-4e05-a9b1-b61a7cba4a41",
   "metadata": {
    "tags": []
   },
   "outputs": [],
   "source": [
    "credentials = eodc_hub_role.fetch_and_set_credentials()"
   ]
  },
  {
   "cell_type": "code",
   "execution_count": 3,
   "id": "b5cfd5b9",
   "metadata": {
    "tags": [
     "parameters"
    ]
   },
   "outputs": [],
   "source": [
    "# Specify the CMIP collection to use (daily or monthly)\n",
    "storage_location = \"remote\"\n",
    "model = \"GISS-E2-1-G\"\n",
    "variable = \"tas\"\n",
    "anon = True\n",
    "s3_path = f\"s3://nex-gddp-cmip6/NEX-GDDP-CMIP6/{model}/historical/r1i1p1*/{variable}/*\""
   ]
  },
  {
   "cell_type": "code",
   "execution_count": 4,
   "id": "c7879ad9",
   "metadata": {},
   "outputs": [],
   "source": [
    "# Initiate fsspec filesystems for reading and writing\n",
    "fs_read = fsspec.filesystem(\"s3\", anon=anon, skip_instance_cache=False)\n",
    "fs_write = fsspec.filesystem(\"\")"
   ]
  },
  {
   "cell_type": "code",
   "execution_count": 5,
   "id": "6a799e53",
   "metadata": {},
   "outputs": [
    {
     "name": "stdout",
     "output_type": "stream",
     "text": [
      "65 discovered from s3://nex-gddp-cmip6/NEX-GDDP-CMIP6/GISS-E2-1-G/historical/r1i1p1*/tas/*\n"
     ]
    }
   ],
   "source": [
    "# Retrieve list of available months\n",
    "files_paths = fs_read.glob(s3_path)\n",
    "print(f\"{len(files_paths)} discovered from {s3_path}\")"
   ]
  },
  {
   "cell_type": "code",
   "execution_count": 6,
   "id": "667f134d",
   "metadata": {},
   "outputs": [],
   "source": [
    "subset_files = sorted([\"s3://\" + f for f in files_paths if \"1950.nc\" in f or \"1951.nc\" in f])"
   ]
  },
  {
   "cell_type": "code",
   "execution_count": 7,
   "id": "f9a11b9d",
   "metadata": {},
   "outputs": [
    {
     "name": "stdout",
     "output_type": "stream",
     "text": [
      "2 file paths were retrieved.\n"
     ]
    },
    {
     "data": {
      "text/plain": [
       "['s3://nex-gddp-cmip6/NEX-GDDP-CMIP6/GISS-E2-1-G/historical/r1i1p1f2/tas/tas_day_GISS-E2-1-G_historical_r1i1p1f2_gn_1950.nc',\n",
       " 's3://nex-gddp-cmip6/NEX-GDDP-CMIP6/GISS-E2-1-G/historical/r1i1p1f2/tas/tas_day_GISS-E2-1-G_historical_r1i1p1f2_gn_1951.nc']"
      ]
     },
     "execution_count": 7,
     "metadata": {},
     "output_type": "execute_result"
    }
   ],
   "source": [
    "print(f\"{len(subset_files)} file paths were retrieved.\")\n",
    "subset_files"
   ]
  },
  {
   "cell_type": "code",
   "execution_count": 8,
   "id": "02515b3e",
   "metadata": {},
   "outputs": [],
   "source": [
    "so = dict(mode=\"rb\", anon=anon, default_fill_cache=False, default_cache_type=\"first\")"
   ]
  },
  {
   "cell_type": "code",
   "execution_count": 9,
   "id": "f3d06adf",
   "metadata": {
    "lines_to_next_cell": 1
   },
   "outputs": [
    {
     "name": "stdout",
     "output_type": "stream",
     "text": [
      "Writing single file references to /tmp/tmpo2l758_l\n"
     ]
    }
   ],
   "source": [
    "# We are creating a temporary directory to store the .json reference files\n",
    "# Alternately, you could write these to cloud storage.\n",
    "td = TemporaryDirectory()\n",
    "temp_dir = td.name\n",
    "print(f\"Writing single file references to {temp_dir}\")"
   ]
  },
  {
   "cell_type": "code",
   "execution_count": 10,
   "id": "b046c17c",
   "metadata": {},
   "outputs": [],
   "source": [
    "# Use Kerchunk's `SingleHdf5ToZarr` method to create a `Kerchunk` index from a NetCDF file.\n",
    "def generate_json_reference(u, temp_dir: str):\n",
    "    with fs_read.open(u, **so) as infile:\n",
    "        h5chunks = SingleHdf5ToZarr(infile, u, inline_threshold=300)\n",
    "        fname = u.split(\"/\")[-1].strip(\".nc\")\n",
    "        outf = os.path.join(temp_dir, f\"{fname}.json\")\n",
    "        with open(outf, \"wb\") as f:\n",
    "            f.write(ujson.dumps(h5chunks.translate()).encode())\n",
    "        return outf"
   ]
  },
  {
   "cell_type": "code",
   "execution_count": 11,
   "id": "87d29770",
   "metadata": {},
   "outputs": [],
   "source": [
    "# Iterate through filelist to generate Kerchunked files. Good use for `Dask`\n",
    "output_files = []\n",
    "for single_file in subset_files:\n",
    "    out_file = generate_json_reference(single_file, temp_dir)\n",
    "    output_files.append(out_file)"
   ]
  },
  {
   "cell_type": "code",
   "execution_count": 12,
   "id": "e22ec232",
   "metadata": {},
   "outputs": [],
   "source": [
    "# combine individual references into single consolidated reference\n",
    "mzz = MultiZarrToZarr(\n",
    "    output_files,\n",
    "    remote_protocol='s3',\n",
    "    remote_options={'anon': anon},\n",
    "    concat_dims=['time'],\n",
    "    coo_map={\"time\": \"cf:time\"},\n",
    "    inline_threshold=0\n",
    ")"
   ]
  },
  {
   "cell_type": "code",
   "execution_count": 13,
   "id": "71f47dad",
   "metadata": {},
   "outputs": [],
   "source": [
    "multi_kerchunk = mzz.translate()"
   ]
  },
  {
   "cell_type": "code",
   "execution_count": 14,
   "id": "0a0f632f",
   "metadata": {},
   "outputs": [
    {
     "name": "stdout",
     "output_type": "stream",
     "text": [
      "Writing combined kerchunk reference file /tmp/tmpo2l758_l/combined_CMIP6_daily_GISS-E2-1-G_tas_kerchunk.json\n"
     ]
    }
   ],
   "source": [
    "# Write kerchunk .json record\n",
    "output_fname = f\"combined_CMIP6_daily_{model}_{variable}_kerchunk.json\"\n",
    "output_location = os.path.join(temp_dir, output_fname)\n",
    "with open(f\"{output_location}\", \"wb\") as f:\n",
    "    print(f\"Writing combined kerchunk reference file {output_location}\")\n",
    "    f.write(ujson.dumps(multi_kerchunk).encode())"
   ]
  },
  {
   "cell_type": "code",
   "execution_count": 15,
   "id": "579d139d",
   "metadata": {},
   "outputs": [],
   "source": [
    "# open dataset as zarr object using fsspec reference file system and Xarray\n",
    "fs = fsspec.filesystem(\n",
    "    \"reference\", fo=multi_kerchunk, remote_protocol=\"s3\", remote_options={\"anon\": anon}\n",
    ")\n",
    "m = fs.get_mapper(\"\")"
   ]
  },
  {
   "cell_type": "code",
   "execution_count": 16,
   "id": "ac76c0c0",
   "metadata": {},
   "outputs": [
    {
     "name": "stdout",
     "output_type": "stream",
     "text": [
      "<xarray.Dataset>\n",
      "Dimensions:  (lat: 600, lon: 1440, time: 730)\n",
      "Coordinates:\n",
      "  * lat      (lat) float64 -59.88 -59.62 -59.38 -59.12 ... 89.38 89.62 89.88\n",
      "  * lon      (lon) float64 0.125 0.375 0.625 0.875 ... 359.1 359.4 359.6 359.9\n",
      "  * time     (time) object 1950-01-01 12:00:00 ... 1951-12-31 12:00:00\n",
      "Data variables:\n",
      "    tas      (time, lat, lon) float32 ...\n",
      "Attributes: (12/23)\n",
      "    Conventions:           CF-1.7\n",
      "    activity:              NEX-GDDP-CMIP6\n",
      "    cmip6_institution_id:  NASA-GISS\n",
      "    cmip6_license:         CC-BY-SA 4.0\n",
      "    cmip6_source_id:       GISS-E2-1-G\n",
      "    contact:               Dr. Rama Nemani: rama.nemani@nasa.gov, Dr. Bridget...\n",
      "    ...                    ...\n",
      "    scenario:              historical\n",
      "    source:                BCSD\n",
      "    title:                 GISS-E2-1-G, r1i1p1f2, historical, global downscal...\n",
      "    tracking_id:           25d6baa3-0404-4eba-a3f1-afddbf69d4cc\n",
      "    variant_label:         r1i1p1f2\n",
      "    version:               1.0\n"
     ]
    }
   ],
   "source": [
    "# Check the data\n",
    "ds = xr.open_dataset(m, engine=\"zarr\", backend_kwargs=dict(consolidated=False))\n",
    "print(ds)"
   ]
  },
  {
   "cell_type": "code",
   "execution_count": 17,
   "id": "3af3089a",
   "metadata": {
    "tags": []
   },
   "outputs": [
    {
     "name": "stdout",
     "output_type": "stream",
     "text": [
      "Response uploading combined_CMIP6_daily_GISS-E2-1-G_tas_kerchunk.json to nasa-eodc-data-store was None.\n"
     ]
    }
   ],
   "source": [
    "bucket_name = 'nasa-eodc-data-store'\n",
    "s3 = boto3.client(\n",
    "    's3',\n",
    "    aws_access_key_id=credentials['AccessKeyId'],\n",
    "    aws_secret_access_key=credentials['SecretAccessKey'],\n",
    "    aws_session_token=credentials['SessionToken']\n",
    ")\n",
    "response = s3.upload_file(output_location, bucket_name, f'test-data/cmip6-kerchunk/{output_fname}')\n",
    "print(f\"Response uploading {output_fname} to {bucket_name} was {response}.\")"
   ]
  }
 ],
 "metadata": {
  "jupytext": {
   "cell_metadata_filter": "-all",
   "formats": "ipynb,py",
   "main_language": "python"
  },
  "kernelspec": {
   "display_name": "Python 3 (ipykernel)",
   "language": "python",
   "name": "python3"
  },
  "language_info": {
   "codemirror_mode": {
    "name": "ipython",
    "version": 3
   },
   "file_extension": ".py",
   "mimetype": "text/x-python",
   "name": "python",
   "nbconvert_exporter": "python",
   "pygments_lexer": "ipython3",
   "version": "3.10.12"
  }
 },
 "nbformat": 4,
 "nbformat_minor": 5
}
